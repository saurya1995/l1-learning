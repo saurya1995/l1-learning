{
 "cells": [
  {
   "cell_type": "markdown",
   "metadata": {
    "id": "8nB5hRaxr_MJ"
   },
   "source": [
    "## Labels suggestions for Incidents\n",
    "\n",
    "While creating incidents (Bugs/Epics). It is recommended and is considered a good practice to attach labels to the incidents as fetching them later becomes easy. Through this model the incident creator will be given suggestions about the label which can be attached.\n",
    "  \n",
    "Approach which I use is:\n",
    "1. TFIDF with logistic regression and binary relevance\n",
    "2. BERT for finding semantic embeddings\n"
   ]
  },
  {
   "cell_type": "code",
   "execution_count": 101,
   "metadata": {
    "colab": {
     "base_uri": "https://localhost:8080/"
    },
    "id": "aYiO-ktNr_MQ",
    "outputId": "451dd5fc-66ee-4750-8b83-8981057a34c7"
   },
   "outputs": [
    {
     "name": "stdout",
     "output_type": "stream",
     "text": [
      "Requirement already up-to-date: sentence-transformers in /usr/local/lib/python3.7/dist-packages (2.0.0)\n",
      "Requirement already satisfied, skipping upgrade: torchvision in /usr/local/lib/python3.7/dist-packages (from sentence-transformers) (0.10.0+cu102)\n",
      "Requirement already satisfied, skipping upgrade: tqdm in /usr/local/lib/python3.7/dist-packages (from sentence-transformers) (4.41.1)\n",
      "Requirement already satisfied, skipping upgrade: sentencepiece in /usr/local/lib/python3.7/dist-packages (from sentence-transformers) (0.1.96)\n",
      "Requirement already satisfied, skipping upgrade: torch>=1.6.0 in /usr/local/lib/python3.7/dist-packages (from sentence-transformers) (1.9.0+cu102)\n",
      "Requirement already satisfied, skipping upgrade: scikit-learn in /usr/local/lib/python3.7/dist-packages (from sentence-transformers) (0.22.2.post1)\n",
      "Requirement already satisfied, skipping upgrade: numpy in /usr/local/lib/python3.7/dist-packages (from sentence-transformers) (1.19.5)\n",
      "Requirement already satisfied, skipping upgrade: scipy in /usr/local/lib/python3.7/dist-packages (from sentence-transformers) (1.4.1)\n",
      "Requirement already satisfied, skipping upgrade: nltk in /usr/local/lib/python3.7/dist-packages (from sentence-transformers) (3.2.5)\n",
      "Requirement already satisfied, skipping upgrade: huggingface-hub in /usr/local/lib/python3.7/dist-packages (from sentence-transformers) (0.0.13)\n",
      "Requirement already satisfied, skipping upgrade: transformers<5.0.0,>=4.6.0 in /usr/local/lib/python3.7/dist-packages (from sentence-transformers) (4.8.2)\n",
      "Requirement already satisfied, skipping upgrade: pillow>=5.3.0 in /usr/local/lib/python3.7/dist-packages (from torchvision->sentence-transformers) (7.1.2)\n",
      "Requirement already satisfied, skipping upgrade: typing-extensions in /usr/local/lib/python3.7/dist-packages (from torch>=1.6.0->sentence-transformers) (3.7.4.3)\n",
      "Requirement already satisfied, skipping upgrade: joblib>=0.11 in /usr/local/lib/python3.7/dist-packages (from scikit-learn->sentence-transformers) (1.0.1)\n",
      "Requirement already satisfied, skipping upgrade: six in /usr/local/lib/python3.7/dist-packages (from nltk->sentence-transformers) (1.15.0)\n",
      "Requirement already satisfied, skipping upgrade: requests in /usr/local/lib/python3.7/dist-packages (from huggingface-hub->sentence-transformers) (2.23.0)\n",
      "Requirement already satisfied, skipping upgrade: filelock in /usr/local/lib/python3.7/dist-packages (from huggingface-hub->sentence-transformers) (3.0.12)\n",
      "Requirement already satisfied, skipping upgrade: importlib-metadata; python_version < \"3.8\" in /usr/local/lib/python3.7/dist-packages (from huggingface-hub->sentence-transformers) (4.5.0)\n",
      "Requirement already satisfied, skipping upgrade: packaging>=20.9 in /usr/local/lib/python3.7/dist-packages (from huggingface-hub->sentence-transformers) (20.9)\n",
      "Requirement already satisfied, skipping upgrade: sacremoses in /usr/local/lib/python3.7/dist-packages (from transformers<5.0.0,>=4.6.0->sentence-transformers) (0.0.45)\n",
      "Requirement already satisfied, skipping upgrade: pyyaml in /usr/local/lib/python3.7/dist-packages (from transformers<5.0.0,>=4.6.0->sentence-transformers) (3.13)\n",
      "Requirement already satisfied, skipping upgrade: regex!=2019.12.17 in /usr/local/lib/python3.7/dist-packages (from transformers<5.0.0,>=4.6.0->sentence-transformers) (2019.12.20)\n",
      "Requirement already satisfied, skipping upgrade: tokenizers<0.11,>=0.10.1 in /usr/local/lib/python3.7/dist-packages (from transformers<5.0.0,>=4.6.0->sentence-transformers) (0.10.3)\n",
      "Requirement already satisfied, skipping upgrade: chardet<4,>=3.0.2 in /usr/local/lib/python3.7/dist-packages (from requests->huggingface-hub->sentence-transformers) (3.0.4)\n",
      "Requirement already satisfied, skipping upgrade: certifi>=2017.4.17 in /usr/local/lib/python3.7/dist-packages (from requests->huggingface-hub->sentence-transformers) (2021.5.30)\n",
      "Requirement already satisfied, skipping upgrade: urllib3!=1.25.0,!=1.25.1,<1.26,>=1.21.1 in /usr/local/lib/python3.7/dist-packages (from requests->huggingface-hub->sentence-transformers) (1.24.3)\n",
      "Requirement already satisfied, skipping upgrade: idna<3,>=2.5 in /usr/local/lib/python3.7/dist-packages (from requests->huggingface-hub->sentence-transformers) (2.10)\n",
      "Requirement already satisfied, skipping upgrade: zipp>=0.5 in /usr/local/lib/python3.7/dist-packages (from importlib-metadata; python_version < \"3.8\"->huggingface-hub->sentence-transformers) (3.4.1)\n",
      "Requirement already satisfied, skipping upgrade: pyparsing>=2.0.2 in /usr/local/lib/python3.7/dist-packages (from packaging>=20.9->huggingface-hub->sentence-transformers) (2.4.7)\n",
      "Requirement already satisfied, skipping upgrade: click in /usr/local/lib/python3.7/dist-packages (from sacremoses->transformers<5.0.0,>=4.6.0->sentence-transformers) (7.1.2)\n"
     ]
    }
   ],
   "source": [
    "import numpy as np\n",
    "import pandas as pd\n",
    "import matplotlib.pyplot as plt\n",
    "import time\n",
    "import re\n",
    "import pickle\n",
    "import warnings; warnings.simplefilter('ignore')\n",
    "from sklearn.utils import shuffle\n",
    "from sklearn.feature_extraction.text import CountVectorizer, TfidfVectorizer\n",
    "from sklearn.model_selection import train_test_split\n",
    "from sklearn.utils.class_weight import compute_sample_weight\n",
    "from sklearn.linear_model import LogisticRegression, LogisticRegressionCV \n",
    "from sklearn.metrics import accuracy_score, precision_score, recall_score, f1_score\n",
    "from sklearn.multiclass import OneVsRestClassifier\n",
    "from sklearn.naive_bayes import GaussianNB\n",
    "import gensim\n",
    "import tensorflow as tf\n",
    "from tensorflow.keras.preprocessing.text import Tokenizer\n",
    "from tensorflow.keras.preprocessing.sequence import pad_sequences\n",
    "import seaborn as sns\n",
    "from wordcloud import WordCloud\n",
    "!pip install -U sentence-transformers\n",
    "from sentence_transformers import SentenceTransformer, util\n",
    "from sentence_transformers import models, losses\n",
    "from tqdm import tqdm\n",
    "from sklearn.metrics.pairwise import cosine_similarity\n"
   ]
  },
  {
   "cell_type": "code",
   "execution_count": 87,
   "metadata": {
    "colab": {
     "base_uri": "https://localhost:8080/"
    },
    "id": "kH9AV9hHtwJy",
    "outputId": "0751f3cb-6d23-4cb8-f8c2-40ba8780e3ce"
   },
   "outputs": [
    {
     "name": "stdout",
     "output_type": "stream",
     "text": [
      "Drive already mounted at /content/drive; to attempt to forcibly remount, call drive.mount(\"/content/drive\", force_remount=True).\n"
     ]
    }
   ],
   "source": [
    "from google.colab import drive\n",
    "drive.mount('/content/drive')"
   ]
  },
  {
   "cell_type": "markdown",
   "metadata": {
    "id": "fKDnwOUMr_MX"
   },
   "source": [
    "## Loading StackOverflow Question Data and Jira Data"
   ]
  },
  {
   "cell_type": "code",
   "execution_count": 113,
   "metadata": {
    "colab": {
     "base_uri": "https://localhost:8080/",
     "height": 357
    },
    "id": "QMv8jl0pr_MZ",
    "outputId": "3f51ed41-546e-4e0c-88e0-99373c78e77b"
   },
   "outputs": [
    {
     "data": {
      "text/html": [
       "<div>\n",
       "<style scoped>\n",
       "    .dataframe tbody tr th:only-of-type {\n",
       "        vertical-align: middle;\n",
       "    }\n",
       "\n",
       "    .dataframe tbody tr th {\n",
       "        vertical-align: top;\n",
       "    }\n",
       "\n",
       "    .dataframe thead th {\n",
       "        text-align: right;\n",
       "    }\n",
       "</style>\n",
       "<table border=\"1\" class=\"dataframe\">\n",
       "  <thead>\n",
       "    <tr style=\"text-align: right;\">\n",
       "      <th></th>\n",
       "      <th>questions</th>\n",
       "      <th>tags</th>\n",
       "    </tr>\n",
       "  </thead>\n",
       "  <tbody>\n",
       "    <tr>\n",
       "      <th>0</th>\n",
       "      <td>How to display jalali date in to view in Codei...</td>\n",
       "      <td>php,codeigniter,date,gregorian-calendar</td>\n",
       "    </tr>\n",
       "    <tr>\n",
       "      <th>1</th>\n",
       "      <td>Automate creating of sales order in Zoho Books</td>\n",
       "      <td>python-3.x,zohobooks</td>\n",
       "    </tr>\n",
       "    <tr>\n",
       "      <th>2</th>\n",
       "      <td>java jar error for spring boot applicaton</td>\n",
       "      <td>java,spring,spring-boot</td>\n",
       "    </tr>\n",
       "    <tr>\n",
       "      <th>3</th>\n",
       "      <td>Not able to run UnfoldingMap library</td>\n",
       "      <td>java,eclipse,dictionary,core,unfoldingmap</td>\n",
       "    </tr>\n",
       "    <tr>\n",
       "      <th>4</th>\n",
       "      <td>Serverless Graphql Lambda hard to understand t...</td>\n",
       "      <td>typescript,webpack,error-handling,graphql,serv...</td>\n",
       "    </tr>\n",
       "    <tr>\n",
       "      <th>5</th>\n",
       "      <td>Dictionary data structure in React JS</td>\n",
       "      <td>reactjs</td>\n",
       "    </tr>\n",
       "    <tr>\n",
       "      <th>6</th>\n",
       "      <td>applying CSS for particular td tag in a column</td>\n",
       "      <td>html,css</td>\n",
       "    </tr>\n",
       "    <tr>\n",
       "      <th>7</th>\n",
       "      <td>Can anybody tell me the regex that matches twe...</td>\n",
       "      <td>python-3.x,regex,nlp</td>\n",
       "    </tr>\n",
       "    <tr>\n",
       "      <th>8</th>\n",
       "      <td>How to check whether an image is labelled or not?</td>\n",
       "      <td>labeling</td>\n",
       "    </tr>\n",
       "    <tr>\n",
       "      <th>9</th>\n",
       "      <td>kubernates networking python server in tomcat ...</td>\n",
       "      <td>python,docker,kubernetes,port,netstat</td>\n",
       "    </tr>\n",
       "  </tbody>\n",
       "</table>\n",
       "</div>"
      ],
      "text/plain": [
       "                                           questions                                               tags\n",
       "0  How to display jalali date in to view in Codei...            php,codeigniter,date,gregorian-calendar\n",
       "1     Automate creating of sales order in Zoho Books                               python-3.x,zohobooks\n",
       "2          java jar error for spring boot applicaton                            java,spring,spring-boot\n",
       "3               Not able to run UnfoldingMap library          java,eclipse,dictionary,core,unfoldingmap\n",
       "4  Serverless Graphql Lambda hard to understand t...  typescript,webpack,error-handling,graphql,serv...\n",
       "5              Dictionary data structure in React JS                                            reactjs\n",
       "6     applying CSS for particular td tag in a column                                           html,css\n",
       "7  Can anybody tell me the regex that matches twe...                               python-3.x,regex,nlp\n",
       "8  How to check whether an image is labelled or not?                                           labeling\n",
       "9  kubernates networking python server in tomcat ...              python,docker,kubernetes,port,netstat"
      ]
     },
     "execution_count": 113,
     "metadata": {
      "tags": []
     },
     "output_type": "execute_result"
    }
   ],
   "source": [
    "# Reading Stackoverflow dataset and Jira dataset\n",
    "df = pd.read_csv('/content/drive/MyDrive/Colab_Notebooks/questions.csv', usecols=['questions', 'tags'])\n",
    "jira_data=pd.read_csv('/content/drive/MyDrive/Colab_Notebooks/jira_data/jira_dataset_prediction.csv')\n",
    "df.head(10)"
   ]
  },
  {
   "cell_type": "markdown",
   "metadata": {
    "id": "c0fiaZlWr_Mb"
   },
   "source": [
    "Amount of data (Dataframe Size)"
   ]
  },
  {
   "cell_type": "code",
   "execution_count": 115,
   "metadata": {
    "colab": {
     "base_uri": "https://localhost:8080/"
    },
    "id": "Db52HtzJr_Mb",
    "outputId": "a42cceef-f336-432b-88d6-3fc92f07e441"
   },
   "outputs": [
    {
     "name": "stdout",
     "output_type": "stream",
     "text": [
      "(529804, 2)\n"
     ]
    }
   ],
   "source": [
    "print(df.shape)\n",
    "jira_df = jira_data.filter(['Summary','Description','Assignee','Tags'])\n",
    "jira_df[\"Description\"].fillna(jira_df['Summary'], inplace = True)"
   ]
  },
  {
   "cell_type": "markdown",
   "metadata": {
    "id": "Q2QbQXvFr_Md"
   },
   "source": [
    "### Data cleaning"
   ]
  },
  {
   "cell_type": "code",
   "execution_count": 90,
   "metadata": {
    "id": "6P4RWlILr_Mf"
   },
   "outputs": [],
   "source": [
    "df = df.dropna()\n",
    "df.rename(columns = {'questions':'title'}, inplace = True)"
   ]
  },
  {
   "cell_type": "markdown",
   "metadata": {
    "id": "wHf0dmbzr_Ml"
   },
   "source": [
    "### Clean title\n",
    "\n",
    "For Text Classification, the Title is cleaned by only allowing keeping of Alphabets, Numbers and few other relevant symbols in the quesiton title. In the next step, Tokenization will only keep up words based on spaces. "
   ]
  },
  {
   "cell_type": "code",
   "execution_count": 91,
   "metadata": {
    "colab": {
     "base_uri": "https://localhost:8080/",
     "height": 357
    },
    "id": "DmIYOoLJr_Mm",
    "outputId": "bf84e053-092b-43a5-b277-9431d44947d2"
   },
   "outputs": [
    {
     "data": {
      "text/html": [
       "<div>\n",
       "<style scoped>\n",
       "    .dataframe tbody tr th:only-of-type {\n",
       "        vertical-align: middle;\n",
       "    }\n",
       "\n",
       "    .dataframe tbody tr th {\n",
       "        vertical-align: top;\n",
       "    }\n",
       "\n",
       "    .dataframe thead th {\n",
       "        text-align: right;\n",
       "    }\n",
       "</style>\n",
       "<table border=\"1\" class=\"dataframe\">\n",
       "  <thead>\n",
       "    <tr style=\"text-align: right;\">\n",
       "      <th></th>\n",
       "      <th>title</th>\n",
       "      <th>tags</th>\n",
       "    </tr>\n",
       "  </thead>\n",
       "  <tbody>\n",
       "    <tr>\n",
       "      <th>0</th>\n",
       "      <td>how to display jalali date in to view in codei...</td>\n",
       "      <td>php,codeigniter,date,gregorian-calendar</td>\n",
       "    </tr>\n",
       "    <tr>\n",
       "      <th>1</th>\n",
       "      <td>automate creating of sales order in zoho books</td>\n",
       "      <td>python-3.x,zohobooks</td>\n",
       "    </tr>\n",
       "    <tr>\n",
       "      <th>2</th>\n",
       "      <td>java jar error for spring boot applicaton</td>\n",
       "      <td>java,spring,spring-boot</td>\n",
       "    </tr>\n",
       "    <tr>\n",
       "      <th>3</th>\n",
       "      <td>not able to run unfoldingmap library</td>\n",
       "      <td>java,eclipse,dictionary,core,unfoldingmap</td>\n",
       "    </tr>\n",
       "    <tr>\n",
       "      <th>4</th>\n",
       "      <td>serverless graphql lambda hard to understand t...</td>\n",
       "      <td>typescript,webpack,error-handling,graphql,serv...</td>\n",
       "    </tr>\n",
       "    <tr>\n",
       "      <th>5</th>\n",
       "      <td>dictionary data structure in react js</td>\n",
       "      <td>reactjs</td>\n",
       "    </tr>\n",
       "    <tr>\n",
       "      <th>6</th>\n",
       "      <td>applying css for particular td tag in a column</td>\n",
       "      <td>html,css</td>\n",
       "    </tr>\n",
       "    <tr>\n",
       "      <th>7</th>\n",
       "      <td>can anybody tell me the regex that matches twe...</td>\n",
       "      <td>python-3.x,regex,nlp</td>\n",
       "    </tr>\n",
       "    <tr>\n",
       "      <th>8</th>\n",
       "      <td>how to check whether an image is labelled or not</td>\n",
       "      <td>labeling</td>\n",
       "    </tr>\n",
       "    <tr>\n",
       "      <th>9</th>\n",
       "      <td>kubernates networking python server in tomcat ...</td>\n",
       "      <td>python,docker,kubernetes,port,netstat</td>\n",
       "    </tr>\n",
       "  </tbody>\n",
       "</table>\n",
       "</div>"
      ],
      "text/plain": [
       "                                               title                                               tags\n",
       "0  how to display jalali date in to view in codei...            php,codeigniter,date,gregorian-calendar\n",
       "1     automate creating of sales order in zoho books                               python-3.x,zohobooks\n",
       "2          java jar error for spring boot applicaton                            java,spring,spring-boot\n",
       "3               not able to run unfoldingmap library          java,eclipse,dictionary,core,unfoldingmap\n",
       "4  serverless graphql lambda hard to understand t...  typescript,webpack,error-handling,graphql,serv...\n",
       "5              dictionary data structure in react js                                            reactjs\n",
       "6     applying css for particular td tag in a column                                           html,css\n",
       "7  can anybody tell me the regex that matches twe...                               python-3.x,regex,nlp\n",
       "8  how to check whether an image is labelled or not                                            labeling\n",
       "9  kubernates networking python server in tomcat ...              python,docker,kubernetes,port,netstat"
      ]
     },
     "execution_count": 91,
     "metadata": {
      "tags": []
     },
     "output_type": "execute_result"
    }
   ],
   "source": [
    "def clean_text(text):\n",
    "    text = str(text)\n",
    "    text = re.sub(r\"[^a-zA-Z0-9#+-]\", \" \", text.lower())\n",
    "    return text\n",
    "\n",
    "df['title'] = df['title'].apply(clean_text)\n",
    "df.head(10)"
   ]
  },
  {
   "cell_type": "markdown",
   "metadata": {
    "id": "wnUZtQt2r_Mo"
   },
   "source": [
    "## Exploration \n",
    "\n",
    "Basic exploration over here. Trying to look at things like the number of words in vocabulary, number of tags, and variation of number of tags in questions. "
   ]
  },
  {
   "cell_type": "code",
   "execution_count": 92,
   "metadata": {
    "id": "gfBWwbcjr_Mp"
   },
   "outputs": [],
   "source": [
    "#Convert dataset to list\n",
    "questions = df['title'].tolist()\n",
    "tags = df['tags'].tolist()"
   ]
  },
  {
   "cell_type": "markdown",
   "metadata": {
    "id": "NivGPxcdr_Mp"
   },
   "source": [
    "### Number of words in the vocabulary"
   ]
  },
  {
   "cell_type": "code",
   "execution_count": 93,
   "metadata": {
    "colab": {
     "base_uri": "https://localhost:8080/"
    },
    "id": "NRvvLsxyr_Mq",
    "outputId": "dbc73c28-e05e-4a55-cda3-a8dd5f038cc5"
   },
   "outputs": [
    {
     "name": "stdout",
     "output_type": "stream",
     "text": [
      "The total number of words in the data is:  5405579\n",
      "The number of words in the vocabulary is:  111750\n"
     ]
    }
   ],
   "source": [
    "print('The total number of words in the data is: ', sum([len(text.split()) for text in questions]))\n",
    "\n",
    "def tokenize_question(text):\n",
    "    return text.split()\n",
    "\n",
    "question_vect = CountVectorizer(tokenizer=tokenize_question)\n",
    "question_vect.fit(questions)\n",
    "\n",
    "print('The number of words in the vocabulary is: ', len(question_vect.vocabulary_))"
   ]
  },
  {
   "cell_type": "markdown",
   "metadata": {
    "id": "7KbT1xs-r_Mr"
   },
   "source": [
    "### Total Category of Tags"
   ]
  },
  {
   "cell_type": "code",
   "execution_count": 94,
   "metadata": {
    "colab": {
     "base_uri": "https://localhost:8080/"
    },
    "id": "0ESMhBiNr_Mr",
    "outputId": "1fb2cec1-39ab-48f5-9088-cb6b417a54f4"
   },
   "outputs": [
    {
     "name": "stdout",
     "output_type": "stream",
     "text": [
      "The total number of tags is:  33332\n"
     ]
    }
   ],
   "source": [
    "def tokenize_tags(text):\n",
    "    return text.split(',')\n",
    "\n",
    "tags_vect = CountVectorizer(tokenizer=tokenize_tags)\n",
    "tags_vect.fit(tags)\n",
    "\n",
    "print('The total number of tags is: ', len(tags_vect.vocabulary_))"
   ]
  },
  {
   "cell_type": "markdown",
   "metadata": {
    "id": "geTg2Thlr_Ms"
   },
   "source": [
    "### Converting Tag Labels to vectorized tokens.\n",
    "\n",
    "There are too many tags to predict. In our model we will only look at the top 100 tags and save the result"
   ]
  },
  {
   "cell_type": "code",
   "execution_count": 95,
   "metadata": {
    "colab": {
     "base_uri": "https://localhost:8080/"
    },
    "id": "vLEY68Nlr_Mw",
    "outputId": "4dffbb74-2e8b-4066-8f78-1d824c1d4ff0"
   },
   "outputs": [
    {
     "name": "stdout",
     "output_type": "stream",
     "text": [
      "Number of tags:  100\n",
      "The list of tags with frequency is: \n",
      "{'.net': 3777, '.net-core': 2131, 'ajax': 2412, 'algorithm': 2144, 'amazon-web-services': 6529, 'android': 20113, 'android-studio': 3205, 'angular': 10146, 'apache-spark': 2669, 'api': 4273, 'arrays': 9132, 'asp.net': 2686, 'asp.net-core': 3787, 'azure': 4487, 'bash': 2774, 'c': 7983, 'c#': 21718, 'c++': 14385, 'css': 15275, 'csv': 2169, 'dart': 5270, 'database': 3705, 'dataframe': 7009, 'dictionary': 2321, 'discord': 2171, 'discord.py': 1952, 'django': 9860, 'docker': 5983, 'excel': 6675, 'express': 3732, 'firebase': 5930, 'flask': 2501, 'flutter': 11605, 'for-loop': 2148, 'function': 3036, 'ggplot2': 1943, 'git': 3308, 'github': 1936, 'go': 2089, 'google-apps-script': 2146, 'google-cloud-firestore': 2568, 'google-cloud-platform': 2104, 'google-sheets': 2562, 'html': 22563, 'image': 1985, 'ios': 7924, 'java': 30188, 'javascript': 58702, 'jquery': 7920, 'json': 7690, 'keras': 2469, 'kotlin': 4837, 'kubernetes': 2956, 'laravel': 7409, 'linux': 4772, 'list': 4211, 'loops': 2590, 'machine-learning': 2505, 'macos': 2677, 'matplotlib': 2878, 'mongodb': 5315, 'mongoose': 2045, 'multithreading': 1989, 'mysql': 8874, 'node.js': 17350, 'npm': 2174, 'numpy': 4067, 'oracle': 2744, 'pandas': 13004, 'php': 17988, 'postgresql': 5381, 'powershell': 3190, 'python': 81665, 'python-3.x': 15755, 'r': 15719, 'react-native': 7177, 'reactjs': 25686, 'regex': 3619, 'ruby-on-rails': 2610, 'selenium': 3618, 'spring': 4502, 'spring-boot': 6322, 'sql': 12238, 'sql-server': 5283, 'string': 3218, 'swift': 8512, 'swiftui': 2927, 'tensorflow': 4171, 'tkinter': 2336, 'typescript': 9459, 'unity3d': 2263, 'vba': 4583, 'visual-studio': 2425, 'visual-studio-code': 3390, 'vue.js': 5939, 'web-scraping': 2170, 'windows': 3210, 'wordpress': 5380, 'xcode': 2447, 'xml': 2683}\n"
     ]
    }
   ],
   "source": [
    "max_tags = 100\n",
    "\n",
    "def tokenize_tags(text):\n",
    "    return text.split(',')\n",
    "\n",
    "tags_vect = CountVectorizer(tokenizer=tokenize_tags, max_features=max_tags)\n",
    "tags = tags_vect.fit_transform(tags)\n",
    "tags = tags.toarray()\n",
    "print('Number of tags: ', len(tags_vect.vocabulary_))\n",
    "\n",
    "tags_token = tags_vect.get_feature_names()\n",
    "tag_frequency = tags.sum(axis=0)\n",
    "print('The list of tags with frequency is: ')\n",
    "print(dict(zip(tags_token, tag_frequency)))"
   ]
  },
  {
   "cell_type": "markdown",
   "metadata": {
    "id": "0OZ4HVhIr_M0"
   },
   "source": [
    "### Data Analysis"
   ]
  },
  {
   "cell_type": "code",
   "execution_count": 96,
   "metadata": {
    "colab": {
     "base_uri": "https://localhost:8080/"
    },
    "id": "asgsz4COr_M1",
    "outputId": "3fd7e49a-2a8a-447f-8639-5d647f090abc"
   },
   "outputs": [
    {
     "name": "stdout",
     "output_type": "stream",
     "text": [
      "         Tags  Frequency\n",
      "0      python      81665\n",
      "1  javascript      58702\n",
      "2        java      30188\n",
      "3     reactjs      25686\n",
      "4        html      22563\n",
      "5          c#      21718\n",
      "6     android      20113\n",
      "7         php      17988\n",
      "8     node.js      17350\n",
      "9  python-3.x      15755\n"
     ]
    }
   ],
   "source": [
    "tag_count = [[x[0],x[1]] for x in zip(tags_token, tag_frequency)]\n",
    "tag_count = sorted(tag_count, key = lambda x: x[1], reverse=True)\n",
    "count_df = pd.DataFrame(data = tag_count)\n",
    "count_df.rename(columns = {0:'Tags',1:'Frequency'}, inplace = True)\n",
    "print(count_df.head(10))"
   ]
  },
  {
   "cell_type": "code",
   "execution_count": null,
   "metadata": {
    "colab": {
     "base_uri": "https://localhost:8080/",
     "height": 412
    },
    "id": "Xdkqo9EDEZo7",
    "outputId": "cc155854-aece-49e6-c531-5480609a2046"
   },
   "outputs": [
    {
     "data": {
      "image/png": "[encoded data removed]",
      "text/plain": [
       "<Figure size 1080x360 with 1 Axes>"
      ]
     },
     "metadata": {
      "needs_background": "light",
      "tags": []
     },
     "output_type": "display_data"
    }
   ],
   "source": [
    "# Top 15 Frequent Tags with their frequency\n",
    "axes = count_df.head(15).plot(x = 'Tags', y = 'Frequency', kind = 'bar', figsize = (15, 5), fontsize = 15, grid = True)\n",
    "plt.xlabel(\"\")\n",
    "plt.ylabel(\"Frequency\", fontsize = 20)\n",
    "plt.title(\"Top 15 Frequent Tags\", fontsize = 20)\n",
    "cnt = 0\n",
    "for i in axes.patches:\n",
    "    axes.text(i.get_x(), i.get_height()+2000, count_df.head(15)['Tags'][cnt], fontsize=12, color='black')\n",
    "    cnt +=1"
   ]
  },
  {
   "cell_type": "markdown",
   "metadata": {
    "id": "RjNljcy4r_M2"
   },
   "source": [
    "### Number of Tags per Question Histogram"
   ]
  },
  {
   "cell_type": "code",
   "execution_count": null,
   "metadata": {
    "colab": {
     "base_uri": "https://localhost:8080/",
     "height": 296
    },
    "id": "H70DYG2nr_M4",
    "outputId": "bf2ced43-ca0a-4ea2-b39e-e85d6a5526c6"
   },
   "outputs": [
    {
     "data": {
      "text/plain": [
       "Text(0, 0.5, 'Number of title')"
      ]
     },
     "execution_count": 18,
     "metadata": {
      "tags": []
     },
     "output_type": "execute_result"
    },
    {
     "data": {
      "image/png": "[encoded data removed]",
      "text/plain": [
       "<Figure size 432x288 with 1 Axes>"
      ]
     },
     "metadata": {
      "needs_background": "light",
      "tags": []
     },
     "output_type": "display_data"
    }
   ],
   "source": [
    "import seaborn as sns\n",
    "plt.hist(tags.sum(axis=1),color=sns.xkcd_rgb['greenish cyan'])\n",
    "plt.xlabel('Number of tags for a title')\n",
    "plt.ylabel('Number of title')"
   ]
  },
  {
   "cell_type": "code",
   "execution_count": null,
   "metadata": {
    "colab": {
     "base_uri": "https://localhost:8080/",
     "height": 391
    },
    "id": "Q7Gc-KjR0rye",
    "outputId": "306a7222-e71f-4806-8e92-57c8680df049"
   },
   "outputs": [
    {
     "data": {
      "image/png": "[encoded data removed]",
      "text/plain": [
       "<Figure size 720x360 with 1 Axes>"
      ]
     },
     "metadata": {
      "needs_background": "light",
      "tags": []
     },
     "output_type": "display_data"
    }
   ],
   "source": [
    "# Word Web for the Tags Frequency\n",
    "tup = dict(tag_count)\n",
    "wordcloud = WordCloud( background_color='white',width=1600,height=800,).generate_from_frequencies(tup)\n",
    "fig = plt.figure(figsize=(10,5))\n",
    "plt.imshow(wordcloud)\n",
    "plt.tight_layout(pad=0)\n",
    "plt.show()"
   ]
  },
  {
   "cell_type": "markdown",
   "metadata": {
    "id": "HtsVNpS2r_M7"
   },
   "source": [
    "## Split data into train, validation and test set\n",
    "\n",
    "Splitting data into 80, 20, 20"
   ]
  },
  {
   "cell_type": "code",
   "execution_count": 97,
   "metadata": {
    "id": "Lqh4iNPxr_M-"
   },
   "outputs": [],
   "source": [
    "X_train, X_test, y_train, y_test = train_test_split(questions, tags, \n",
    "                                                    test_size=0.2, \n",
    "                                                    random_state=random_state)\n",
    "\n",
    "X_val, X_test, y_val, y_test = train_test_split(X_test, y_test, \n",
    "                                                    test_size=0.5, \n",
    "                                                    random_state=random_state)"
   ]
  },
  {
   "cell_type": "markdown",
   "metadata": {
    "id": "dv-Fp6Y7r_NB"
   },
   "source": [
    "## Evaluation metrics\n",
    " "
   ]
  },
  {
   "cell_type": "code",
   "execution_count": 98,
   "metadata": {
    "id": "ddQE7bsfr_NG"
   },
   "outputs": [],
   "source": [
    "def eval_metrics(y_test, y_predicted, print_metrics=True):\n",
    "    \n",
    "    accuracy = accuracy_score(y_test, y_predicted)\n",
    "    precision = precision_score(y_test, y_predicted, average='weighted')\n",
    "    recall = recall_score(y_test, y_predicted, average='weighted')\n",
    "    f1 = f1_score(y_test, y_predicted, average='weighted')\n",
    "    \n",
    "    if print_metrics:\n",
    "        print(\"f1: %.3f - precision: %.3f - recall: %.3f - accuracy: %.3f\" % (\n",
    "            f1, precision, recall, accuracy))\n",
    "    return f1, precision, recall, accuracy"
   ]
  },
  {
   "cell_type": "markdown",
   "metadata": {
    "id": "77opxryOr_NI"
   },
   "source": [
    "# TFIDF on Bag of Words with SGD and logistic regression"
   ]
  },
  {
   "cell_type": "markdown",
   "metadata": {
    "id": "GD7zqT4_r_NJ"
   },
   "source": [
    "### TFIDF on bag of words embedding\n",
    "\n",
    "The Questions are first coverted into into Bag of Words embedding. The idea here is that we want to find the association with the kind of words which appear for a particular tag. \n",
    "\n",
    "On top of the bag of words embedding, we apply TF-IDF score (Term Frequency, Inverse Document Frequency). TF-IDF weighs the words to reduce effect of common words appearing too frequently which act as noise."
   ]
  },
  {
   "cell_type": "code",
   "execution_count": 99,
   "metadata": {
    "colab": {
     "base_uri": "https://localhost:8080/"
    },
    "id": "KLu1OkYkr_NL",
    "outputId": "a0b2aa6e-e142-4cea-cc2d-9392175f6cd4"
   },
   "outputs": [
    {
     "name": "stdout",
     "output_type": "stream",
     "text": [
      "The number of words in the vocabulary is:  21511\n"
     ]
    }
   ],
   "source": [
    "def tokenize_question(text):\n",
    "    return text.split()\n",
    "\n",
    "tfidf_vect = TfidfVectorizer(tokenizer=tokenize_question,\n",
    "                               stop_words='english',\n",
    "                               min_df=4,\n",
    "                               max_df=0.5)\n",
    "\n",
    "X_train_tfidf = tfidf_vect.fit_transform(X_train)\n",
    "X_test_tfidf = tfidf_vect.transform(X_test)\n",
    "print('The number of words in the vocabulary is: ', len(tfidf_vect.vocabulary_))"
   ]
  },
  {
   "cell_type": "markdown",
   "metadata": {
    "id": "xBVy28XmlLv8"
   },
   "source": [
    "SGD Model "
   ]
  },
  {
   "cell_type": "code",
   "execution_count": null,
   "metadata": {
    "id": "8DtpAMK9hTU5"
   },
   "outputs": [],
   "source": [
    "# Importing SGD classifier\n",
    "from sklearn import linear_model\n",
    "sgd = linear_model.SGDClassifier()\n",
    "clf = OneVsRestClassifier(sgd)\n",
    "clf.fit(X_train_tfidf, y_train)\n"
   ]
  },
  {
   "cell_type": "markdown",
   "metadata": {
    "id": "iC_s_ZvIlxv4"
   },
   "source": [
    "Training the SGD Model"
   ]
  },
  {
   "cell_type": "code",
   "execution_count": null,
   "metadata": {
    "colab": {
     "base_uri": "https://localhost:8080/"
    },
    "id": "gSYCBz82kErW",
    "outputId": "233e2fa7-97e0-4fed-a37f-d6c66c80821e"
   },
   "outputs": [
    {
     "name": "stdout",
     "output_type": "stream",
     "text": [
      "Train score\n",
      "f1: 0.451 - precision: 0.753 - recall: 0.340 - accuracy: 0.339\n"
     ]
    },
    {
     "data": {
      "text/plain": [
       "(0.45060756826886644,\n",
       " 0.7534052177132462,\n",
       " 0.3395613021463247,\n",
       " 0.33869616815660514)"
      ]
     },
     "execution_count": 44,
     "metadata": {
      "tags": []
     },
     "output_type": "execute_result"
    }
   ],
   "source": [
    "print('Train score')\n",
    "y_train_clf_predict = clf.predict(X_train_tfidf)\n",
    "eval_metrics(y_train, y_train_clf_predict)"
   ]
  },
  {
   "cell_type": "markdown",
   "metadata": {
    "id": "SDhnxqZol4JX"
   },
   "source": [
    "Testing SGD Model"
   ]
  },
  {
   "cell_type": "code",
   "execution_count": null,
   "metadata": {
    "colab": {
     "base_uri": "https://localhost:8080/"
    },
    "id": "OXkmrlKakXKU",
    "outputId": "2e668e71-b2d8-4d45-feeb-44fe58e2548c"
   },
   "outputs": [
    {
     "name": "stdout",
     "output_type": "stream",
     "text": [
      "Test score\n",
      "f1: 0.449 - precision: 0.748 - recall: 0.339 - accuracy: 0.337\n"
     ]
    },
    {
     "data": {
      "text/plain": [
       "(0.44863544961656016,\n",
       " 0.7481925132565803,\n",
       " 0.338714689074722,\n",
       " 0.33685660897302805)"
      ]
     },
     "execution_count": 45,
     "metadata": {
      "tags": []
     },
     "output_type": "execute_result"
    }
   ],
   "source": [
    "print('Test score')\n",
    "y_test_clf_predict = clf.predict(X_test_tfidf)\n",
    "eval_metrics(y_test, y_test_clf_predict)"
   ]
  },
  {
   "cell_type": "markdown",
   "metadata": {
    "id": "MtvBplbvr_NN"
   },
   "source": [
    "# Classification Model\n",
    "\n",
    "Recommending Tags to an incident is a multi-label classification problem. So we are using one vs rest classifier on top of logistic regression. "
   ]
  },
  {
   "cell_type": "code",
   "execution_count": null,
   "metadata": {
    "colab": {
     "base_uri": "https://localhost:8080/"
    },
    "id": "B4gICFwvr_NQ",
    "outputId": "15b3f3a1-2cd9-47d0-9a00-ab1bd5f3970a"
   },
   "outputs": [
    {
     "name": "stdout",
     "output_type": "stream",
     "text": [
      "CPU times: user 10min 47s, sys: 11min 40s, total: 22min 28s\n",
      "Wall time: 11min 26s\n"
     ]
    }
   ],
   "source": [
    "#Estimated time to run ~15min\n",
    "%%time\n",
    "tfidf_log_clf = OneVsRestClassifier(LogisticRegression())\n",
    "\n",
    "tfidf_log_clf.fit(X_train_tfidf, y_train)\n",
    "\n"
   ]
  },
  {
   "cell_type": "markdown",
   "metadata": {
    "id": "NdScjMBfr_NS"
   },
   "source": [
    "### Train evaluation metrics"
   ]
  },
  {
   "cell_type": "code",
   "execution_count": null,
   "metadata": {
    "colab": {
     "base_uri": "https://localhost:8080/"
    },
    "id": "He9WlmQKr_NT",
    "outputId": "e3885c12-2248-4075-9414-9ead0b919a95"
   },
   "outputs": [
    {
     "name": "stdout",
     "output_type": "stream",
     "text": [
      "Train score\n",
      "f1: 0.549 - precision: 0.789 - recall: 0.434 - accuracy: 0.382\n"
     ]
    },
    {
     "data": {
      "text/plain": [
       "(0.549114600396543, 0.789068706573853, 0.43358218257403996, 0.3820589227614942)"
      ]
     },
     "execution_count": 22,
     "metadata": {
      "tags": []
     },
     "output_type": "execute_result"
    }
   ],
   "source": [
    "print('Train score')\n",
    "y_train_tfidf_predict = tfidf_log_clf.predict(X_train_tfidf)\n",
    "eval_metrics(y_train, y_train_tfidf_predict)"
   ]
  },
  {
   "cell_type": "markdown",
   "metadata": {
    "id": "__6aVd60r_NU"
   },
   "source": [
    "### Results\n",
    "\n",
    "Performance on the Test data"
   ]
  },
  {
   "cell_type": "code",
   "execution_count": null,
   "metadata": {
    "colab": {
     "base_uri": "https://localhost:8080/"
    },
    "id": "JAayMF1Ar_NV",
    "outputId": "9576551c-9c4c-4fed-8799-da5e6f727fe1"
   },
   "outputs": [
    {
     "name": "stdout",
     "output_type": "stream",
     "text": [
      "Test score\n",
      "f1: 0.528 - precision: 0.761 - recall: 0.416 - accuracy: 0.364\n"
     ]
    },
    {
     "data": {
      "text/plain": [
       "(0.5278847230539101,\n",
       " 0.7612356429645453,\n",
       " 0.41577390200078357,\n",
       " 0.3639417904531813)"
      ]
     },
     "execution_count": 23,
     "metadata": {
      "tags": []
     },
     "output_type": "execute_result"
    }
   ],
   "source": [
    "print('Test score')\n",
    "y_test_tfidf_predict = tfidf_log_clf.predict(X_test_tfidf)\n",
    "eval_metrics(y_test, y_test_tfidf_predict)"
   ]
  },
  {
   "cell_type": "code",
   "execution_count": null,
   "metadata": {
    "colab": {
     "base_uri": "https://localhost:8080/"
    },
    "id": "Xunyp8LzWnVH",
    "outputId": "d8810689-eca4-41d9-c083-182ccff38feb"
   },
   "outputs": [
    {
     "name": "stdout",
     "output_type": "stream",
     "text": [
      "Test score\n",
      "f1: 0.528 - precision: 0.760 - recall: 0.416 - accuracy: 0.341\n",
      "Question:  svg images are not inserted in pdf while generating a pdf from html using itex7 html2pdf plugin\n",
      "Tags:  ['dart']\n"
     ]
    }
   ],
   "source": [
    "#Prediction on Stack overflow data\n",
    "n_examples = 20\n",
    "thres = 0.2\n",
    "\n",
    "print('Test score')\n",
    "y_test_tfidf_predict = model.predict(X_test_tfidf)\n",
    "eval_metrics(y_test, y_test_tfidf_predict)\n",
    "\n",
    "preds = y_test_tfidf_predict[:n_examples,:]>thres\n",
    "\n",
    "print('Title: ', X_test[20])\n",
    "print('Tags: ', [tags_token[20] for i in np.where(preds[i,:] == 1)[0].tolist()])"
   ]
  },
  {
   "cell_type": "markdown",
   "metadata": {
    "id": "d4UgHLAMjVc6"
   },
   "source": [
    "Saving Model as pickle file"
   ]
  },
  {
   "cell_type": "code",
   "execution_count": null,
   "metadata": {
    "id": "ZsDbpRjRxybw"
   },
   "outputs": [],
   "source": [
    "# save tfidf model --This is done so that we don't need to train the model again--\n",
    "with open('tfidf_log_clf','wb') as f:\n",
    "  pickle.dump(tfidf_log_clf,f) "
   ]
  },
  {
   "cell_type": "code",
   "execution_count": 116,
   "metadata": {
    "colab": {
     "base_uri": "https://localhost:8080/",
     "height": 282
    },
    "id": "A_6XFPhwi-la",
    "outputId": "6fc32d56-e6c3-4947-9671-9827b3e79796"
   },
   "outputs": [
    {
     "data": {
      "text/html": [
       "<div>\n",
       "<style scoped>\n",
       "    .dataframe tbody tr th:only-of-type {\n",
       "        vertical-align: middle;\n",
       "    }\n",
       "\n",
       "    .dataframe tbody tr th {\n",
       "        vertical-align: top;\n",
       "    }\n",
       "\n",
       "    .dataframe thead th {\n",
       "        text-align: right;\n",
       "    }\n",
       "</style>\n",
       "<table border=\"1\" class=\"dataframe\">\n",
       "  <thead>\n",
       "    <tr style=\"text-align: right;\">\n",
       "      <th></th>\n",
       "      <th>Summary</th>\n",
       "      <th>Tags</th>\n",
       "      <th>Issue key</th>\n",
       "      <th>Issue id</th>\n",
       "      <th>Parent id</th>\n",
       "      <th>Issue Type</th>\n",
       "      <th>Status</th>\n",
       "      <th>Project key</th>\n",
       "      <th>Project name</th>\n",
       "      <th>Project type</th>\n",
       "      <th>Project lead</th>\n",
       "      <th>Project description</th>\n",
       "      <th>Project url</th>\n",
       "      <th>Priority</th>\n",
       "      <th>Resolution</th>\n",
       "      <th>Assignee</th>\n",
       "      <th>Reporter</th>\n",
       "      <th>Creator</th>\n",
       "      <th>Created</th>\n",
       "      <th>Updated</th>\n",
       "      <th>Last Viewed</th>\n",
       "      <th>Resolved</th>\n",
       "      <th>Due Date</th>\n",
       "      <th>Votes</th>\n",
       "      <th>Labels</th>\n",
       "      <th>Description</th>\n",
       "      <th>Environment</th>\n",
       "      <th>Watchers</th>\n",
       "      <th>Watchers.1</th>\n",
       "      <th>Log Work</th>\n",
       "      <th>Log Work.1</th>\n",
       "      <th>Original Estimate</th>\n",
       "      <th>Remaining Estimate</th>\n",
       "      <th>Time Spent</th>\n",
       "      <th>Work Ratio</th>\n",
       "      <th>Σ Original Estimate</th>\n",
       "      <th>Σ Remaining Estimate</th>\n",
       "      <th>Σ Time Spent</th>\n",
       "      <th>Security Level</th>\n",
       "      <th>Inward issue link (Cloners)</th>\n",
       "      <th>Inward issue link (Cloners).1</th>\n",
       "      <th>Outward issue link (Cloners)</th>\n",
       "      <th>Inward issue link (Relates)</th>\n",
       "      <th>Inward issue link (Relates).1</th>\n",
       "      <th>Inward issue link (Relates).2</th>\n",
       "      <th>Outward issue link (Relates)</th>\n",
       "      <th>Outward issue link (Relates).1</th>\n",
       "      <th>Outward issue link (Relates).2</th>\n",
       "      <th>Outward issue link (Relates).3</th>\n",
       "      <th>Custom field (Epic Color)</th>\n",
       "      <th>Custom field (Epic Link)</th>\n",
       "      <th>Custom field (Epic Name)</th>\n",
       "      <th>Custom field (Epic Status)</th>\n",
       "      <th>Custom field (Rank)</th>\n",
       "      <th>Sprint</th>\n",
       "      <th>Sprint.1</th>\n",
       "      <th>Custom field (Story Points)</th>\n",
       "      <th>Comment</th>\n",
       "      <th>Comment.1</th>\n",
       "    </tr>\n",
       "  </thead>\n",
       "  <tbody>\n",
       "    <tr>\n",
       "      <th>0</th>\n",
       "      <td>Help other team with classification model</td>\n",
       "      <td>classification, machine learning, development,...</td>\n",
       "      <td>PITL1-141</td>\n",
       "      <td>11693</td>\n",
       "      <td>NaN</td>\n",
       "      <td>Task</td>\n",
       "      <td>Done</td>\n",
       "      <td>PITL1</td>\n",
       "      <td>Team L1 – Learning From Heterogeneous Develope...</td>\n",
       "      <td>software</td>\n",
       "      <td>nikanmog</td>\n",
       "      <td>NaN</td>\n",
       "      <td>NaN</td>\n",
       "      <td>Medium</td>\n",
       "      <td>Done</td>\n",
       "      <td>zhiyiniu</td>\n",
       "      <td>nikanmog</td>\n",
       "      <td>nikanmog</td>\n",
       "      <td>6/26/2021 14:42</td>\n",
       "      <td>6/28/2021 18:10</td>\n",
       "      <td>6/28/2021 23:42</td>\n",
       "      <td>6/28/2021 18:10</td>\n",
       "      <td>NaN</td>\n",
       "      <td>0</td>\n",
       "      <td>NaN</td>\n",
       "      <td>NaN</td>\n",
       "      <td>NaN</td>\n",
       "      <td>nikanmog</td>\n",
       "      <td>NaN</td>\n",
       "      <td>NaN</td>\n",
       "      <td>NaN</td>\n",
       "      <td>NaN</td>\n",
       "      <td>NaN</td>\n",
       "      <td>NaN</td>\n",
       "      <td>NaN</td>\n",
       "      <td>NaN</td>\n",
       "      <td>NaN</td>\n",
       "      <td>NaN</td>\n",
       "      <td>NaN</td>\n",
       "      <td>NaN</td>\n",
       "      <td>NaN</td>\n",
       "      <td>NaN</td>\n",
       "      <td>NaN</td>\n",
       "      <td>NaN</td>\n",
       "      <td>NaN</td>\n",
       "      <td>NaN</td>\n",
       "      <td>NaN</td>\n",
       "      <td>NaN</td>\n",
       "      <td>NaN</td>\n",
       "      <td>NaN</td>\n",
       "      <td>NaN</td>\n",
       "      <td>NaN</td>\n",
       "      <td>NaN</td>\n",
       "      <td>0|i004by:</td>\n",
       "      <td>Sprint 3 - Week 2</td>\n",
       "      <td>NaN</td>\n",
       "      <td>NaN</td>\n",
       "      <td>NaN</td>\n",
       "      <td>NaN</td>\n",
       "    </tr>\n",
       "    <tr>\n",
       "      <th>1</th>\n",
       "      <td>Create json for chord graph</td>\n",
       "      <td>json,  web app, front end</td>\n",
       "      <td>PITL1-140</td>\n",
       "      <td>11692</td>\n",
       "      <td>NaN</td>\n",
       "      <td>Task</td>\n",
       "      <td>Open</td>\n",
       "      <td>PITL1</td>\n",
       "      <td>Team L1 – Learning From Heterogeneous Develope...</td>\n",
       "      <td>software</td>\n",
       "      <td>nikanmog</td>\n",
       "      <td>NaN</td>\n",
       "      <td>NaN</td>\n",
       "      <td>Medium</td>\n",
       "      <td>NaN</td>\n",
       "      <td>ga65hif</td>\n",
       "      <td>nikanmog</td>\n",
       "      <td>nikanmog</td>\n",
       "      <td>6/26/2021 14:41</td>\n",
       "      <td>6/26/2021 14:41</td>\n",
       "      <td>6/28/2021 23:44</td>\n",
       "      <td>NaN</td>\n",
       "      <td>NaN</td>\n",
       "      <td>0</td>\n",
       "      <td>NaN</td>\n",
       "      <td>NaN</td>\n",
       "      <td>NaN</td>\n",
       "      <td>nikanmog</td>\n",
       "      <td>NaN</td>\n",
       "      <td>NaN</td>\n",
       "      <td>NaN</td>\n",
       "      <td>NaN</td>\n",
       "      <td>NaN</td>\n",
       "      <td>NaN</td>\n",
       "      <td>NaN</td>\n",
       "      <td>NaN</td>\n",
       "      <td>NaN</td>\n",
       "      <td>NaN</td>\n",
       "      <td>NaN</td>\n",
       "      <td>NaN</td>\n",
       "      <td>NaN</td>\n",
       "      <td>NaN</td>\n",
       "      <td>NaN</td>\n",
       "      <td>NaN</td>\n",
       "      <td>NaN</td>\n",
       "      <td>NaN</td>\n",
       "      <td>NaN</td>\n",
       "      <td>NaN</td>\n",
       "      <td>NaN</td>\n",
       "      <td>NaN</td>\n",
       "      <td>NaN</td>\n",
       "      <td>NaN</td>\n",
       "      <td>NaN</td>\n",
       "      <td>0|i004bx:</td>\n",
       "      <td>Sprint 3 - Week 2</td>\n",
       "      <td>NaN</td>\n",
       "      <td>NaN</td>\n",
       "      <td>NaN</td>\n",
       "      <td>NaN</td>\n",
       "    </tr>\n",
       "  </tbody>\n",
       "</table>\n",
       "</div>"
      ],
      "text/plain": [
       "                                     Summary  ... Comment.1\n",
       "0  Help other team with classification model  ...       NaN\n",
       "1                Create json for chord graph  ...       NaN\n",
       "\n",
       "[2 rows x 59 columns]"
      ]
     },
     "execution_count": 116,
     "metadata": {
      "tags": []
     },
     "output_type": "execute_result"
    }
   ],
   "source": [
    "# Jira dataset analysis\n",
    "jira_data.head(2)"
   ]
  },
  {
   "cell_type": "code",
   "execution_count": 127,
   "metadata": {
    "colab": {
     "base_uri": "https://localhost:8080/",
     "height": 172
    },
    "id": "Fr-TucIpj3VZ",
    "outputId": "d2b0c11b-4c10-4225-a63b-2f0cc018abdf"
   },
   "outputs": [
    {
     "data": {
      "text/html": [
       "<div>\n",
       "<style scoped>\n",
       "    .dataframe tbody tr th:only-of-type {\n",
       "        vertical-align: middle;\n",
       "    }\n",
       "\n",
       "    .dataframe tbody tr th {\n",
       "        vertical-align: top;\n",
       "    }\n",
       "\n",
       "    .dataframe thead th {\n",
       "        text-align: right;\n",
       "    }\n",
       "</style>\n",
       "<table border=\"1\" class=\"dataframe\">\n",
       "  <thead>\n",
       "    <tr style=\"text-align: right;\">\n",
       "      <th></th>\n",
       "      <th>Description</th>\n",
       "    </tr>\n",
       "  </thead>\n",
       "  <tbody>\n",
       "    <tr>\n",
       "      <th>0</th>\n",
       "      <td>Help other team with classification model</td>\n",
       "    </tr>\n",
       "    <tr>\n",
       "      <th>1</th>\n",
       "      <td>Create json for chord graph</td>\n",
       "    </tr>\n",
       "    <tr>\n",
       "      <th>2</th>\n",
       "      <td>Getting analysis result in json</td>\n",
       "    </tr>\n",
       "    <tr>\n",
       "      <th>3</th>\n",
       "      <td>Finding a proper graph to display output</td>\n",
       "    </tr>\n",
       "  </tbody>\n",
       "</table>\n",
       "</div>"
      ],
      "text/plain": [
       "                                 Description\n",
       "0  Help other team with classification model\n",
       "1                Create json for chord graph\n",
       "2           Getting analysis result in json \n",
       "3   Finding a proper graph to display output"
      ]
     },
     "execution_count": 127,
     "metadata": {
      "tags": []
     },
     "output_type": "execute_result"
    }
   ],
   "source": [
    "#Load model tfidf\n",
    "model_path = open('/content/drive/MyDrive/Colab_Notebooks/tfidf_log_clf', 'rb')     \n",
    "model = pickle.load(model_path)\n",
    "\n",
    "jira_desc_df = jira_df.filter(['Description'])\n",
    "jira_description = jira_desc_df['Description'].tolist()\n",
    "jiradf = tfidf_vect.transform(jira_description)\n",
    "jira_prediction = model.predict(jiradf)\n",
    "\n",
    "jira_desc_df.head(4)"
   ]
  },
  {
   "cell_type": "code",
   "execution_count": 137,
   "metadata": {
    "colab": {
     "base_uri": "https://localhost:8080/"
    },
    "id": "bQMnsuaZ-L6y",
    "outputId": "e7abf281-ca8e-4886-8df2-8add92a796f0"
   },
   "outputs": [
    {
     "name": "stdout",
     "output_type": "stream",
     "text": [
      "Summary:  Getting analysis result in json \n",
      "Tags:  ['json']\n"
     ]
    }
   ],
   "source": [
    "# Printing predicted result\n",
    "no_examples = 3\n",
    "thres = 0.25\n",
    "\n",
    "preds = jira_prediction[:no_examples,:]>thres\n",
    "\n",
    "print('Summary: ', jira_description[2])\n",
    "print('Tags: ', [tags_token[i] for i in np.where(preds[2,:] == 1)[0].tolist()])"
   ]
  },
  {
   "cell_type": "code",
   "execution_count": 143,
   "metadata": {
    "id": "7doOT3ouDldu"
   },
   "outputs": [],
   "source": [
    "# Adding the predited result to a list\n",
    "total_incidents = len(jira_description)\n",
    "thres = 0.25\n",
    "\n",
    "preds = jira_prediction[:total_incidents,:]>thres\n",
    "predicted_result_list=[]\n",
    "for i in range(total_incidents):\n",
    "    predicted_result_list.append([tags_token[i] for i in np.where(preds[i,:] == 1)[0].tolist()])"
   ]
  },
  {
   "cell_type": "markdown",
   "metadata": {
    "id": "TA6_-62Zr_Nh"
   },
   "source": [
    "### Importance words\n",
    "\n",
    "Lets inspect at some of the important words that the classifer considered in making the recommendation. \n",
    "\n",
    "The most common words are actually the tags in the problem. This makes sense because most of the tag will be as a word in the title. "
   ]
  },
  {
   "cell_type": "code",
   "execution_count": 118,
   "metadata": {
    "colab": {
     "base_uri": "https://localhost:8080/",
     "height": 203
    },
    "id": "Tt6qLhFVr_Nh",
    "outputId": "b56756b7-8467-464f-fe12-c03a678ceb8b"
   },
   "outputs": [
    {
     "data": {
      "text/html": [
       "<div>\n",
       "<style scoped>\n",
       "    .dataframe tbody tr th:only-of-type {\n",
       "        vertical-align: middle;\n",
       "    }\n",
       "\n",
       "    .dataframe tbody tr th {\n",
       "        vertical-align: top;\n",
       "    }\n",
       "\n",
       "    .dataframe thead th {\n",
       "        text-align: right;\n",
       "    }\n",
       "</style>\n",
       "<table border=\"1\" class=\"dataframe\">\n",
       "  <thead>\n",
       "    <tr style=\"text-align: right;\">\n",
       "      <th></th>\n",
       "      <th>feature</th>\n",
       "      <th>importances</th>\n",
       "      <th>cum_imp</th>\n",
       "    </tr>\n",
       "  </thead>\n",
       "  <tbody>\n",
       "    <tr>\n",
       "      <th>0</th>\n",
       "      <td>python</td>\n",
       "      <td>1.000000</td>\n",
       "      <td>0.044677</td>\n",
       "    </tr>\n",
       "    <tr>\n",
       "      <th>1</th>\n",
       "      <td>react</td>\n",
       "      <td>0.946121</td>\n",
       "      <td>0.086947</td>\n",
       "    </tr>\n",
       "    <tr>\n",
       "      <th>2</th>\n",
       "      <td>flutter</td>\n",
       "      <td>0.890488</td>\n",
       "      <td>0.126732</td>\n",
       "    </tr>\n",
       "    <tr>\n",
       "      <th>3</th>\n",
       "      <td>r</td>\n",
       "      <td>0.869649</td>\n",
       "      <td>0.165585</td>\n",
       "    </tr>\n",
       "    <tr>\n",
       "      <th>4</th>\n",
       "      <td>django</td>\n",
       "      <td>0.860471</td>\n",
       "      <td>0.204029</td>\n",
       "    </tr>\n",
       "  </tbody>\n",
       "</table>\n",
       "</div>"
      ],
      "text/plain": [
       "   feature  importances   cum_imp\n",
       "0   python     1.000000  0.044677\n",
       "1    react     0.946121  0.086947\n",
       "2  flutter     0.890488  0.126732\n",
       "3        r     0.869649  0.165585\n",
       "4   django     0.860471  0.204029"
      ]
     },
     "execution_count": 118,
     "metadata": {
      "tags": []
     },
     "output_type": "execute_result"
    }
   ],
   "source": [
    "importances = importances = model.estimators_[0].coef_[0]\n",
    "for i in range(1,len(model.estimators_)):\n",
    "    importances += model.estimators_[i].coef_[0]\n",
    "\n",
    "importances = importances/sum(importances)\n",
    "    \n",
    "feature_imps = {'importances':importances, 'feature':tfidf_vect.get_feature_names()}\n",
    "feature_imps = pd.DataFrame(feature_imps)\n",
    "feature_imps = feature_imps.sort_values('importances', ascending=False)\n",
    "feature_imps['cum_imp'] = feature_imps['importances'].cumsum()\n",
    "feature_imps['importances'] = feature_imps['importances']/feature_imps['importances'].max()\n",
    "feature_imps = feature_imps.reset_index(drop=True)\n",
    "feature_imps['no_features'] = feature_imps.index + 1\n",
    "feature_imps[['feature', 'importances', 'cum_imp']].head(5)"
   ]
  },
  {
   "cell_type": "code",
   "execution_count": 119,
   "metadata": {
    "colab": {
     "base_uri": "https://localhost:8080/"
    },
    "id": "8_nuUIoOjyW8",
    "outputId": "8aed14e1-c0d3-491b-81f3-e44825f4a287"
   },
   "outputs": [
    {
     "name": "stdout",
     "output_type": "stream",
     "text": [
      "Implement spider web visual in web app\n"
     ]
    }
   ],
   "source": [
    "# Using a Description as a sample query i.e assigned incident\n",
    "query = jira_df['Description'][23]\n",
    "documents=[]\n",
    "for i in range(0,len(jira_df['Description'])):\n",
    "  documents.append(jira_df['Description'][i])\n",
    "print(query)\n",
    "\n",
    "# Using a Summary as a sample query i.e assigned incident\n",
    "summary_query = jira_df['Summary'][23]\n",
    "summarys=[]\n",
    "for i in range(0,len(jira_df['Summary'])):\n",
    "  summarys.append(jira_df['Summary'][i])"
   ]
  },
  {
   "cell_type": "markdown",
   "metadata": {
    "id": "ExhIX7rqE-tv"
   },
   "source": [
    "# BERT Model Selection and Initialization"
   ]
  },
  {
   "cell_type": "code",
   "execution_count": 17,
   "metadata": {
    "colab": {
     "base_uri": "https://localhost:8080/",
     "height": 651,
     "referenced_widgets": [
      "e4850eb74c74429884aa090d54f5cf1e",
      "b382468767974d288358b8aa5e94dd92",
      "03d5e9650d7d48d286501509eacb60ea",
      "acb16cd9830340b4b27edebc45b3de77",
      "c8aa396214fe43a7b474e4175be92156",
      "941c292f7faa4d22a55d198bdb728c76",
      "eb43ee3da1bc49b2aba9cb6bee948880",
      "511142e31c124956ae1180623395f739",
      "084c9e88797f4719b173a991dc91c68b",
      "6b21d1d26e6244aaaf6464a13c27df3d",
      "9db6b09243d94083bc2c180341f62a78",
      "7231fa8d453c49f4af993223b43d7cc8",
      "91e040993c0c48979780c18403917e9c",
      "c663c5354141405b9f810339bc94e348",
      "4265d68ce48549eab960c9dbd8a285cd",
      "fb6ce3776ab64209910bd4fa95d25756",
      "e3a732aa5883425e9c0192262c03fb43",
      "3b491af754eb48ecb66dc3b3de968f80",
      "879f5c0ffa5e44619b8cd67b2b460f21",
      "786ee299d18c4caeb341be72d01e176c",
      "e39f4109729e44b68a29c616d5be488e",
      "5d90c42e5ae14090a685b2e9b1f0b81c",
      "fe8237ff3c7d45589889b8cd78861239",
      "ecfc0d8589fc4f4db5c69b589456b70c",
      "638575065b3a44e8bf81465e40ed9c07",
      "f07f6c879c4641ceaddfb90f0bbe91c1",
      "d12d615274bf44f4a438c1406cc3147d",
      "cf838513752b4eb7b5b9eb36c4e6b821",
      "51b74f086a874b9f91bbf9f15c4e2dfb",
      "f226f700b95c4451921ec74f76117a80",
      "a3143a31af014683b3b9b1714ff9b41c",
      "4d107e8002ab4e319fc32accd4534bcb",
      "c40f08fdf106422a99611c21c8d030f5",
      "2a8dc5497d9a478ca02d64eaa0808083",
      "bc29373e26204285b50e76eff60453e6",
      "441f785d94eb47c7b04663edded79dbd",
      "5f07116c1eac4dbc835dc983a8be6bb9",
      "0699543b27de45d59097b212b3533273",
      "f6634d1bfc2c4999af0ab36f50619830",
      "6512169a36254b319bd201bd6ef5c2e2",
      "7d99780b04f94900a9cf03c4179f5ff3",
      "45b9ad5d343b4ea8b7d75cf890d7668b",
      "dacedf377a214bdfb0c8ed2c084f4192",
      "44a67c183c104d408d96e8d93eba7343",
      "8c743de1e96649be8e6ad98471cee960",
      "53ddcdcfd016415cac8dc88905cb319b",
      "cd94a8d247e84ec7a0dfd57a9773cb71",
      "c77e3f36d9d1433380bb6eb5db6ce72e",
      "e5aabd37be8842bd9bf1f97c4f327dd2",
      "027461dbf7024c7bb76276a434a3749b",
      "23edb2845a454b5e9eebc9e163dd9d46",
      "fc15badcde224200bb35146ffed0c837",
      "f2d5578f4e65448b8106de260d377eee",
      "b6367112aa1d4c7b949583247b7cabc1",
      "1554ac60ae484620a19e1d2967cba968",
      "abe489cd15c44d13b6e647eefc0d5bf1",
      "bdf39f721396459097ed0f93d29fd78f",
      "15fbc07b40854216a8b9a5381dd355e3",
      "aeaa8c71112f422f8a0062c75ce20afd",
      "de7d3ba32f6c4dbb8acd70164a9122f3",
      "b284267f3c8d490a917cc89ee4daf09a",
      "defd7cf283554f9699c04b706c8d57fa",
      "5cf7bafa756c4e93ab70a4bacf248f18",
      "074628d39500495c908eab0bf43fbcea",
      "f2e686b604574e2aa71024cd62fd7b1c",
      "c7745df7016b44e8bab0c3e6fe7ed061",
      "8667655cdee84514a84e27ae494d36f3",
      "5bfd254f96be448faecfa224c9983b89",
      "0b612c8e19e44a71bf04148467dc32af",
      "2615a85ec0c94388aae3a9a22ead5ff5",
      "28cdeddee1914c558e321ebac41568dc",
      "e30f95baf8654150b766e97ab9ee217d",
      "7250d14892ce46f1b4a4a8a8b4f04e2f",
      "a1ffdc2ce20b40f18bde1ed11d0de2df",
      "3b366b9125b24f7b8cf6fbcabcf5bed5",
      "ae2e80d2ff744b28adaf8bb3197d2c68",
      "c6c7a6f5033b4c57b5bb21d6bed48fef",
      "2cb4688f8ec74f9ca885ba1355fce5e5",
      "bdb02d14884a4bd2958d72a9d7394976",
      "375a2b79ee9b47a1b8c25106a1d72b33",
      "b1580a658798425db2ed9a513e6ae3cf",
      "b6c22249ceb844019d817e26a4a3687b",
      "cdf1656732844629a30ea96f95240334",
      "5c909d47bdae4bd2beadde574ceed561",
      "2c48a4a72e2145f98bd406f2b8bf0a9d",
      "89e9cd47c6044cb59ff3c28f1ee0bc64",
      "37bca2cb6f8d4161bfe46c655c184d3d",
      "11fbe7a9696e4f15becec89b1c09391a",
      "e98a073f9cce4595bbe9dc037c4a7064",
      "971188ff4f74431e909997a74b6ab6fe",
      "1cca2c161e3540e68e91b96f6b9cc9da",
      "c9d55534a75940a8a615ee0802d62249",
      "a0a51c1693a04813addde6170caf88f4",
      "381bda2b3d224fecbabd380fcebff16f",
      "60babf09f04a408dbc7c8f65b507e652",
      "7986f1cda23147a4b6712cf7d3e3a8f0",
      "66574420f2fe4abc88fd517d212f22c0",
      "2d2672840cc6410d927f7ae4827a38d6",
      "db349f79fec04dc99ce12193990fe346",
      "fd934cdafd71456989a11cca5db35d43",
      "a5f568df10904081b987978b9b30940c",
      "dc37326dbf874ffa8d059df6a24c6e61",
      "e40d1d31db4947c581f3c4af3841ebbd",
      "531ae41ff9d846fda44667bcccb8cc29"
     ]
    },
    "id": "Jw_U11uQj7Np",
    "outputId": "65b12b23-4be0-4072-81d8-fd750b63044a"
   },
   "outputs": [
    {
     "data": {
      "application/vnd.jupyter.widget-view+json": {
       "model_id": "e4850eb74c74429884aa090d54f5cf1e",
       "version_major": 2,
       "version_minor": 0
      },
      "text/plain": [
       "HBox(children=(FloatProgress(value=0.0, description='Downloading', max=1093.0, style=ProgressStyle(description…"
      ]
     },
     "metadata": {
      "tags": []
     },
     "output_type": "display_data"
    },
    {
     "name": "stdout",
     "output_type": "stream",
     "text": [
      "\n"
     ]
    },
    {
     "data": {
      "application/vnd.jupyter.widget-view+json": {
       "model_id": "084c9e88797f4719b173a991dc91c68b",
       "version_major": 2,
       "version_minor": 0
      },
      "text/plain": [
       "HBox(children=(FloatProgress(value=0.0, description='Downloading', max=3660.0, style=ProgressStyle(description…"
      ]
     },
     "metadata": {
      "tags": []
     },
     "output_type": "display_data"
    },
    {
     "name": "stdout",
     "output_type": "stream",
     "text": [
      "\n"
     ]
    },
    {
     "data": {
      "application/vnd.jupyter.widget-view+json": {
       "model_id": "e3a732aa5883425e9c0192262c03fb43",
       "version_major": 2,
       "version_minor": 0
      },
      "text/plain": [
       "HBox(children=(FloatProgress(value=0.0, description='Downloading', max=675.0, style=ProgressStyle(description_…"
      ]
     },
     "metadata": {
      "tags": []
     },
     "output_type": "display_data"
    },
    {
     "name": "stdout",
     "output_type": "stream",
     "text": [
      "\n"
     ]
    },
    {
     "data": {
      "application/vnd.jupyter.widget-view+json": {
       "model_id": "638575065b3a44e8bf81465e40ed9c07",
       "version_major": 2,
       "version_minor": 0
      },
      "text/plain": [
       "HBox(children=(FloatProgress(value=0.0, description='Downloading', max=122.0, style=ProgressStyle(description_…"
      ]
     },
     "metadata": {
      "tags": []
     },
     "output_type": "display_data"
    },
    {
     "name": "stdout",
     "output_type": "stream",
     "text": [
      "\n"
     ]
    },
    {
     "data": {
      "application/vnd.jupyter.widget-view+json": {
       "model_id": "c40f08fdf106422a99611c21c8d030f5",
       "version_major": 2,
       "version_minor": 0
      },
      "text/plain": [
       "HBox(children=(FloatProgress(value=0.0, description='Downloading', max=456356.0, style=ProgressStyle(descripti…"
      ]
     },
     "metadata": {
      "tags": []
     },
     "output_type": "display_data"
    },
    {
     "name": "stdout",
     "output_type": "stream",
     "text": [
      "\n"
     ]
    },
    {
     "data": {
      "application/vnd.jupyter.widget-view+json": {
       "model_id": "7d99780b04f94900a9cf03c4179f5ff3",
       "version_major": 2,
       "version_minor": 0
      },
      "text/plain": [
       "HBox(children=(FloatProgress(value=0.0, description='Downloading', max=229.0, style=ProgressStyle(description_…"
      ]
     },
     "metadata": {
      "tags": []
     },
     "output_type": "display_data"
    },
    {
     "name": "stdout",
     "output_type": "stream",
     "text": [
      "\n"
     ]
    },
    {
     "data": {
      "application/vnd.jupyter.widget-view+json": {
       "model_id": "e5aabd37be8842bd9bf1f97c4f327dd2",
       "version_major": 2,
       "version_minor": 0
      },
      "text/plain": [
       "HBox(children=(FloatProgress(value=0.0, description='Downloading', max=498661169.0, style=ProgressStyle(descri…"
      ]
     },
     "metadata": {
      "tags": []
     },
     "output_type": "display_data"
    },
    {
     "name": "stdout",
     "output_type": "stream",
     "text": [
      "\n"
     ]
    },
    {
     "data": {
      "application/vnd.jupyter.widget-view+json": {
       "model_id": "bdf39f721396459097ed0f93d29fd78f",
       "version_major": 2,
       "version_minor": 0
      },
      "text/plain": [
       "HBox(children=(FloatProgress(value=0.0, description='Downloading', max=52.0, style=ProgressStyle(description_w…"
      ]
     },
     "metadata": {
      "tags": []
     },
     "output_type": "display_data"
    },
    {
     "name": "stdout",
     "output_type": "stream",
     "text": [
      "\n"
     ]
    },
    {
     "data": {
      "application/vnd.jupyter.widget-view+json": {
       "model_id": "f2e686b604574e2aa71024cd62fd7b1c",
       "version_major": 2,
       "version_minor": 0
      },
      "text/plain": [
       "HBox(children=(FloatProgress(value=0.0, description='Downloading', max=239.0, style=ProgressStyle(description_…"
      ]
     },
     "metadata": {
      "tags": []
     },
     "output_type": "display_data"
    },
    {
     "name": "stdout",
     "output_type": "stream",
     "text": [
      "\n"
     ]
    },
    {
     "data": {
      "application/vnd.jupyter.widget-view+json": {
       "model_id": "7250d14892ce46f1b4a4a8a8b4f04e2f",
       "version_major": 2,
       "version_minor": 0
      },
      "text/plain": [
       "HBox(children=(FloatProgress(value=0.0, description='Downloading', max=1355881.0, style=ProgressStyle(descript…"
      ]
     },
     "metadata": {
      "tags": []
     },
     "output_type": "display_data"
    },
    {
     "name": "stdout",
     "output_type": "stream",
     "text": [
      "\n"
     ]
    },
    {
     "data": {
      "application/vnd.jupyter.widget-view+json": {
       "model_id": "b1580a658798425db2ed9a513e6ae3cf",
       "version_major": 2,
       "version_minor": 0
      },
      "text/plain": [
       "HBox(children=(FloatProgress(value=0.0, description='Downloading', max=1111.0, style=ProgressStyle(description…"
      ]
     },
     "metadata": {
      "tags": []
     },
     "output_type": "display_data"
    },
    {
     "name": "stdout",
     "output_type": "stream",
     "text": [
      "\n"
     ]
    },
    {
     "data": {
      "application/vnd.jupyter.widget-view+json": {
       "model_id": "e98a073f9cce4595bbe9dc037c4a7064",
       "version_major": 2,
       "version_minor": 0
      },
      "text/plain": [
       "HBox(children=(FloatProgress(value=0.0, description='Downloading', max=798293.0, style=ProgressStyle(descripti…"
      ]
     },
     "metadata": {
      "tags": []
     },
     "output_type": "display_data"
    },
    {
     "name": "stdout",
     "output_type": "stream",
     "text": [
      "\n"
     ]
    },
    {
     "data": {
      "application/vnd.jupyter.widget-view+json": {
       "model_id": "66574420f2fe4abc88fd517d212f22c0",
       "version_major": 2,
       "version_minor": 0
      },
      "text/plain": [
       "HBox(children=(FloatProgress(value=0.0, description='Downloading', max=190.0, style=ProgressStyle(description_…"
      ]
     },
     "metadata": {
      "tags": []
     },
     "output_type": "display_data"
    },
    {
     "name": "stdout",
     "output_type": "stream",
     "text": [
      "\n"
     ]
    }
   ],
   "source": [
    "# Loading BERT Model\n",
    "model = SentenceTransformer('stsb-roberta-base-v2')"
   ]
  },
  {
   "cell_type": "code",
   "execution_count": 18,
   "metadata": {
    "colab": {
     "base_uri": "https://localhost:8080/",
     "height": 114,
     "referenced_widgets": [
      "bd9be5ada9724c068a5cf4e734c29f9b",
      "510f8a3c345040718d7ff071efa4b993",
      "f0c0068d3306433f8b4dc6d3f84c05e6",
      "bb2b3f8b3a5746a5a2fec2385e90ce1e",
      "53d97c0839ca4c309dbf0d09ae043767",
      "3e7555ffc0d448969366a91e728a22c7",
      "1f1f0b3789d54fb3801114c3e789a5bb",
      "b994d62b4aec43b6ab53fbff177d7c6f",
      "e7a21395b86549de97d379702fc7e51b",
      "0ae9d22268e8456f8694c252a837355d",
      "e53001559ff841db8eb8968cb7a63002",
      "cf67d82308004718b9c2106cfabd6884",
      "e6b2e17d17734809a7c23fa05bd30834",
      "7db2eca174e74b82ad0723d116a94f7a",
      "c252e2c291db436bb230780a797b2c7a",
      "5d82f8bcf4ea4b70b1fd5dfefcc60b90"
     ]
    },
    "id": "5Fwho7WGj-gl",
    "outputId": "4c0bd358-1cb7-41fc-d3a9-5381ccfb1f03"
   },
   "outputs": [
    {
     "data": {
      "application/vnd.jupyter.widget-view+json": {
       "model_id": "bd9be5ada9724c068a5cf4e734c29f9b",
       "version_major": 2,
       "version_minor": 0
      },
      "text/plain": [
       "HBox(children=(FloatProgress(value=0.0, description='Batches', max=1.0, style=ProgressStyle(description_width=…"
      ]
     },
     "metadata": {
      "tags": []
     },
     "output_type": "display_data"
    },
    {
     "name": "stdout",
     "output_type": "stream",
     "text": [
      "\n"
     ]
    },
    {
     "data": {
      "application/vnd.jupyter.widget-view+json": {
       "model_id": "e7a21395b86549de97d379702fc7e51b",
       "version_major": 2,
       "version_minor": 0
      },
      "text/plain": [
       "HBox(children=(FloatProgress(value=0.0, description='Batches', max=1.0, style=ProgressStyle(description_width=…"
      ]
     },
     "metadata": {
      "tags": []
     },
     "output_type": "display_data"
    },
    {
     "name": "stdout",
     "output_type": "stream",
     "text": [
      "\n"
     ]
    }
   ],
   "source": [
    "#Converting the incidents description text to contextual embeddings\n",
    "query_embedding = model.encode(query, batch_size = 1, show_progress_bar = True)\n",
    "#text_embeddings = model.encode(df['Description'], batch_size = len(documents), show_progress_bar = True)\n",
    "text_embeddings = model.encode(documents, batch_size = len(documents), show_progress_bar = True)"
   ]
  },
  {
   "cell_type": "code",
   "execution_count": 19,
   "metadata": {
    "colab": {
     "base_uri": "https://localhost:8080/",
     "height": 114,
     "referenced_widgets": [
      "52653d97aa8b4e7b879b9ddec95d6f23",
      "6bc10673ee8247dca4e00067d75e0db4",
      "69741ae9faa040dda56320a6193b4278",
      "b42b6246c8b04fe98ddbc9ec4c83b07d",
      "b84307cda4c445b4816287d2c157605e",
      "a829334c1eeb4b59abc7cbb52950c529",
      "ad732fdfb3aa4d27ab1cdf423178f72e",
      "cb44ab6424cf452cad0b63bece2bd98f",
      "52a1a7beb32142bdbd1bde8d04040f11",
      "8549882ea268438ab560dc21bbc15507",
      "56a37fdcdede43e09307878fb354af1a",
      "5e0bd74ab6864c0590d78b9c956b1c80",
      "876a2295b8344789ae18c5221bfbed8b",
      "c89b93b7ce6542d6a997d2ce8640ac31",
      "2e6cddc524db45a8b85c4230db8ff5e6",
      "ec5947cca28c4480afcdf2df5acb8008"
     ]
    },
    "id": "z6foDT9jj_Or",
    "outputId": "fb088478-9b3e-4738-e42b-37e4f2b7502a"
   },
   "outputs": [
    {
     "data": {
      "application/vnd.jupyter.widget-view+json": {
       "model_id": "52653d97aa8b4e7b879b9ddec95d6f23",
       "version_major": 2,
       "version_minor": 0
      },
      "text/plain": [
       "HBox(children=(FloatProgress(value=0.0, description='Batches', max=1.0, style=ProgressStyle(description_width=…"
      ]
     },
     "metadata": {
      "tags": []
     },
     "output_type": "display_data"
    },
    {
     "name": "stdout",
     "output_type": "stream",
     "text": [
      "\n"
     ]
    },
    {
     "data": {
      "application/vnd.jupyter.widget-view+json": {
       "model_id": "52a1a7beb32142bdbd1bde8d04040f11",
       "version_major": 2,
       "version_minor": 0
      },
      "text/plain": [
       "HBox(children=(FloatProgress(value=0.0, description='Batches', max=1.0, style=ProgressStyle(description_width=…"
      ]
     },
     "metadata": {
      "tags": []
     },
     "output_type": "display_data"
    },
    {
     "name": "stdout",
     "output_type": "stream",
     "text": [
      "\n"
     ]
    }
   ],
   "source": [
    "#Converting the incidents summary text to contextual embeddings\n",
    "summary_query_embedding = model.encode(summary_query, batch_size = 1, show_progress_bar = True)\n",
    "#text_embeddings = model.encode(df['Summary'], batch_size = len(documents), show_progress_bar = True)\n",
    "summary_text_embeddings = model.encode(summarys, batch_size = len(documents), show_progress_bar = True)"
   ]
  },
  {
   "cell_type": "markdown",
   "metadata": {
    "id": "pEaHgG05FPRk"
   },
   "source": [
    "# Computing Similarity of Incidents and Tags Prediction"
   ]
  },
  {
   "cell_type": "code",
   "execution_count": 142,
   "metadata": {
    "colab": {
     "base_uri": "https://localhost:8080/"
    },
    "id": "Nf-u2gASkGTF",
    "outputId": "cfb82526-2b01-4de0-bb2f-56bce9c77d16"
   },
   "outputs": [
    {
     "name": "stdout",
     "output_type": "stream",
     "text": [
      "Sentence: Implement spider web visual in web app \n",
      "\n",
      "{'json'}\n"
     ]
    }
   ],
   "source": [
    "# Compute similarity scores of the incidents with respect to description \n",
    "cos_scores = util.pytorch_cos_sim(query_embedding, text_embeddings)[0]\n",
    "# Top_k results to return\n",
    "top_k=2\n",
    "\n",
    "# Compute similarity scores of the incidents with respect to summary \n",
    "cos_scores_summary = util.pytorch_cos_sim(summary_query_embedding, summary_text_embeddings)[0]\n",
    "\n",
    "#Merge both the description scores and summary scores\n",
    "total_scores=(0.65)*cos_scores+(0.35)*cos_scores_summary\n",
    "\n",
    "# Sort the results in decreasing order and get the first top_k result\n",
    "top_results = np.argpartition(-total_scores, range(top_k))[1:top_k+1]\n",
    "print(\"Sentence:\", query, \"\\n\")\n",
    "tag_set=set()\n",
    "tags_set.update(predicted_result_list[23])\n",
    "for idx in top_results[1:top_k+1]:\n",
    "    tag_set.update(set(str(jira_df['Tags'][int(idx)]).split(',')))\n",
    "print(tag_set)"
   ]
  },
  {
   "cell_type": "code",
   "execution_count": 144,
   "metadata": {
    "id": "c3H882yPxh6j"
   },
   "outputs": [],
   "source": [
    "#Predicting aggregated response for all Jira incidents\n",
    "\n",
    "aggregate_result=[]\n",
    "for i in range(len(documents)):\n",
    "  desc_cos_scores = util.pytorch_cos_sim(text_embeddings[i], text_embeddings)[0]\n",
    "  # Compute similarity scores of the incidents with respect to summary \n",
    "  cos_scores_summary = util.pytorch_cos_sim(summary_text_embeddings[i], summary_text_embeddings)[0]\n",
    "\n",
    "  #Merge both the description scores and summary scores\n",
    "  cos_scores=(0.65)*desc_cos_scores+(0.35)*cos_scores_summary\n",
    "  top_k=2\n",
    "\n",
    "  top_results = np.argpartition(-cos_scores, range(top_k))[1:top_k+1]\n",
    "  tags_result=[]\n",
    "  tags_set=set()\n",
    "  # Merging results of the tfidf-logistic regression model\n",
    "  tags_set.update(predicted_result_list[i])\n",
    "  for idx in top_results[0:top_k]:\n",
    "      tags_set.update(set(str(jira_df['Tags'][int(idx)]).split(',')))\n",
    "  tags_result.append({\n",
    "      \"assignee\":str(jira_df['Assignee'][int(i)]),\n",
    "      \"summary\":str(jira_df['Summary'][int(i)]),\n",
    "      \"tags\":str(tags_set)\n",
    "  })\n",
    "  aggregate_result.append(tags_result)"
   ]
  },
  {
   "cell_type": "code",
   "execution_count": 68,
   "metadata": {
    "colab": {
     "base_uri": "https://localhost:8080/"
    },
    "id": "YPOflBSFy1pg",
    "outputId": "d21df1c3-5ddf-4dd3-d2ba-69d30e87d61b"
   },
   "outputs": [
    {
     "name": "stdout",
     "output_type": "stream",
     "text": [
      "[[{'assignee': 'zhiyiniu', 'summary': 'Help other team with classification model', 'tags': \"{' development', 'json', ' machine learning', ' python', 'classification'}\"}], [{'assignee': 'ga65hif', 'summary': 'Create json for chord graph', 'tags': \"{'json', ' development', ' machine learning', 'R', ' python', 'classification'}\"}], [{'assignee': 'zhiyiniu', 'summary': 'Getting analysis result in json ', 'tags': \"{'json', ' machine learning', 'R', 'classification', '  web app', ' visualization', ' development', ' python', ' front end'}\"}], [{'assignee': 'zhiyiniu', 'summary': 'Finding a proper graph to display output', 'tags': \"{' front end', 'json', '  web app'}\"}], [{'assignee': 'zhiyiniu', 'summary': 'Counting lines of code changes per person', 'tags': \"{' python', ' development', 'json', 'machine learning'}\"}], [{'assignee': 'zhiyiniu', 'summary': 'Analysing sentiment score of commit messages', 'tags': \"{'python', 'json', 'development'}\"}], [{'assignee': 'zhiyiniu', 'summary': 'Classifying commit messages by using Classification Model', 'tags': \"{' development', 'json', ' machine learning', 'R', ' python', 'classification'}\"}], [{'assignee': 'zhiyiniu', 'summary': 'Gathering commit messages from open sources', 'tags': \"{'python', ' development', 'json', 'machine learning'}\"}], [{'assignee': 'zhiyiniu', 'summary': 'Developer Performance: lines of code changes & sentiment analysis ', 'tags': \"{' visualization', ' development', 'json', 'R', 'machine learning', ' python'}\"}], [{'assignee': 'ga65hif', 'summary': 'Inital prototype regarding developer recommendation analysis', 'tags': \"{' development', 'json', 'machine learning', 'R', ' python'}\"}], [{'assignee': 'nikanmog', 'summary': 'Analyze Developer recommendation model output', 'tags': \"{' visualization', ' development', 'json', 'R', 'machine learning', ' python'}\"}], [{'assignee': 'ga65hif', 'summary': 'Add blacklist funcitonality to commit entropy analysis', 'tags': \"{' development', 'json', 'R', 'machine learning', 'git', ' python'}\"}], [{'assignee': 'nikanmog', 'summary': 'Add chord insight for synergies to web app', 'tags': \"{' visualization', 'json', ' front end', '  web app'}\"}], [{'assignee': 'saurypande', 'summary': 'Create a metric that shows developer synergies', 'tags': \"{' visualization', 'json', ' front end', '  web app'}\"}], [{'assignee': 'saurypande', 'summary': 'Predicted Result Formatting', 'tags': \"{' development', 'json', 'machine learning', 'R', ' python'}\"}], [{'assignee': 'saurypande', 'summary': 'Find metrics to evaluate the model performance', 'tags': \"{' development', 'json', 'R', 'machine learning', 'visualization', 'git', ' python'}\"}], [{'assignee': 'saurypande', 'summary': 'Data Preprocessing and Feature Selection', 'tags': \"{' python', ' development', 'json', 'machine learning'}\"}], [{'assignee': 'saurypande', 'summary': 'Prepare labelled data set suitable for this task', 'tags': \"{' python', ' development', 'json', 'machine learning'}\"}], [{'assignee': 'saurypande', 'summary': 'Create and finalize a model that would be suitable for this task', 'tags': \"{'confluence', ' report', 'json'}\"}], [{'assignee': 'saurypande', 'summary': 'Create Confluence page with your research ', 'tags': \"{'confluence', 'json'}\"}], [{'assignee': 'nikanmog', 'summary': 'Change Developer recommendation visual to bar chart', 'tags': \"{' visualization', 'json', ' front end', '  web app'}\"}], [{'assignee': 'saurypande', 'summary': 'Recommendation of relevant Label Tags for the created incident', 'tags': \"{' visualization', 'json', ' front end', '  web app'}\"}], [{'assignee': 'saurypande', 'summary': 'Suggested developers as JSON response', 'tags': \"{' development', 'json', 'machine learning', 'R', ' python'}\"}], [{'assignee': 'nikanmog', 'summary': 'Implement spider web visual in web app', 'tags': \"{' visualization', 'json', ' front end', '  web app'}\"}], [{'assignee': 'zhiyiniu', 'summary': 'Create confluence page for a new epic/ use case that you would like to work on in the next sprint (until Friday 09.06.21)', 'tags': \"{'confluence', 'json'}\"}], [{'assignee': 'saurypande', 'summary': 'Create confluence page for a new epic/ use case that you would like to work on in the next sprint (until Friday 09.06.21)', 'tags': \"{'confluence', 'json'}\"}], [{'assignee': 'ga65hif', 'summary': 'Create confluence page for a new epic/ use case that you would like to work on in the next sprint (until Friday 09.06.21)', 'tags': \"{'confluence', 'json'}\"}], [{'assignee': 'nikanmog', 'summary': 'Implement overseer api in web app', 'tags': \"{' visualization', 'json', ' front end', '  web app'}\"}], [{'assignee': 'nikanmog', 'summary': 'Prepare powerpoint for presentation 2', 'tags': \"{'confluence', ' report', 'json'}\"}], [{'assignee': 'nikanmog', 'summary': 'Create Sprint 2 submission', 'tags': \"{'confluence', ' report', 'json'}\"}], [{'assignee': 'saurypande', 'summary': 'Add confluence page for presentation for all models you created this sprint', 'tags': \"{'confluence', 'json'}\"}], [{'assignee': 'ga65hif', 'summary': 'Add confluence page for presentation for all models you created this sprint', 'tags': \"{'confluence', 'json'}\"}], [{'assignee': 'zhiyiniu', 'summary': 'Add confluence page for presentation for all models you created this sprint', 'tags': \"{'confluence', 'json'}\"}], [{'assignee': 'ga65hif', 'summary': 'Change output from real name to username', 'tags': \"{' visualization', 'json', ' front end', '  web app'}\"}], [{'assignee': 'nikanmog', 'summary': 'Add mapping of username', 'tags': \"{' visualization', 'json', ' front end', '  web app'}\"}], [{'assignee': 'ga65hif', 'summary': 'Create Initial prototype', 'tags': \"{' python', ' development', 'json', 'machine learning'}\"}], [{'assignee': 'ga65hif', 'summary': 'Getting usable data out of a git repository', 'tags': \"{' python', ' development', 'json', 'machine learning'}\"}], [{'assignee': 'saurypande', 'summary': 'Predicted Result Formatting', 'tags': \"{' visualization', 'json', ' front end', '  web app'}\"}], [{'assignee': 'ga65hif', 'summary': 'Estimate commit entropy', 'tags': \"{' python', ' development', 'json', 'machine learning'}\"}], [{'assignee': 'saurypande', 'summary': 'Find Metrics to evaluate model performance', 'tags': \"{' development', 'json', 'machine learning', 'R', ' python'}\"}], [{'assignee': 'saurypande', 'summary': 'Data Preprocessing and Feature Selection', 'tags': \"{' python', ' development', 'json', 'machine learning'}\"}], [{'assignee': 'saurypande', 'summary': 'Create labelled data set suitable for the task of estimating response time of an incident', 'tags': \"{' development', 'json', 'machine learning', 'R', ' python'}\"}], [{'assignee': 'saurypande', 'summary': 'Research about models suitable for the task of estimating resolve time for incidents ', 'tags': \"{' development', 'json', 'machine learning', 'R', ' python'}\"}], [{'assignee': 'zhiyiniu', 'summary': 'Add variance to sentiment export (for box plot)', 'tags': \"{' visualization', 'json', ' front end', '  web app'}\"}], [{'assignee': 'nikanmog', 'summary': 'Handle editing user data in front and backend', 'tags': \"{' visualization', 'json', ' front end', '  web app'}\"}], [{'assignee': 'nikanmog', 'summary': 'Create submissions for weekly report', 'tags': \"{'confluence', ' report', 'json'}\"}], [{'assignee': 'saurypande', 'summary': 'Have a model ready to present before our next meeting on Friday', 'tags': \"{' visualization', ' development', 'json', 'R', 'machine learning', ' python'}\"}], [{'assignee': 'ga65hif', 'summary': 'Have a model ready to present before our next meeting on Friday', 'tags': \"{' visualization', ' development', 'json', 'R', 'machine learning', ' python'}\"}], [{'assignee': 'ga65hif', 'summary': 'Have a model ready to present before our next meeting on Friday', 'tags': \"{' visualization', ' development', 'json', 'R', 'machine learning', ' python'}\"}], [{'assignee': 'zhiyiniu', 'summary': 'Have a model ready to present before our next meeting on Friday', 'tags': \"{' visualization', ' development', 'json', 'R', 'machine learning', ' python'}\"}], [{'assignee': 'zhiyiniu', 'summary': 'Create Confluence page with model description & your research + ideas', 'tags': \"{'confluence', 'json'}\"}], [{'assignee': 'saurypande', 'summary': 'Network graph with developer synergies', 'tags': \"{' visualization', 'json', ' front end', '  web app'}\"}], [{'assignee': 'nikanmog', 'summary': 'Create forms for profile page', 'tags': \"{' visualization', 'json', ' front end', '  web app'}\"}], [{'assignee': 'saurypande', 'summary': 'Create Confluence page with model description & your research + ideas', 'tags': \"{'confluence', 'json'}\"}], [{'assignee': 'ga65hif', 'summary': 'Create Confluence page with model description & your research + ideas', 'tags': \"{'confluence', 'json'}\"}], [{'assignee': 'ga65hif', 'summary': 'Create Confluence page with model description & your research + ideas', 'tags': \"{'confluence', 'json'}\"}], [{'assignee': 'ga65hif', 'summary': 'Git data: Bug detection or similar ml use case (use kaggle dataset)', 'tags': \"{' python', ' development', 'json', 'machine learning'}\"}], [{'assignee': 'ga65hif', 'summary': 'GitHub: Predict developer skill (e.g. skill defined as stars/ followers on GitHub), by looking at developer commits or pull requests, issues etc', 'tags': \"{' python', ' development', 'json', 'machine learning'}\"}], [{'assignee': 'zhiyiniu', 'summary': 'Developer performance: coding time prediction', 'tags': \"{' development', 'json', 'machine learning', 'R', ' python'}\"}], [{'assignee': 'nikanmog', 'summary': 'Profile Page for webapp', 'tags': \"{' visualization', 'json', ' front end', '  web app'}\"}], [{'assignee': 'nikanmog', 'summary': 'Web - More visuals on insights, team level insights', 'tags': \"{' visualization', 'json', ' front end', '  web app'}\"}], [{'assignee': 'ga65hif', 'summary': 'Change time to cyclical representation', 'tags': \"{' development', 'json', 'machine learning', 'R', ' python'}\"}], [{'assignee': 'ga65hif', 'summary': 'Create working prototype', 'tags': \"{' visualization', 'json', ' front end', '  web app'}\"}], [{'assignee': 'zhiyiniu', 'summary': 'Remove tags in slack data before training (<Hashcode> tags) to improve accuracy', 'tags': \"{' python', ' development', 'json', 'machine learning'}\"}], [{'assignee': 'nikanmog', 'summary': 'Create Responsiveness Visual', 'tags': \"{' visualization', 'json', ' front end', '  web app'}\"}], [{'assignee': 'nikanmog', 'summary': 'Create Jira Visual', 'tags': \"{' visualization', 'json', ' front end', '  web app'}\"}], [{'assignee': 'nikanmog', 'summary': 'Create Sentiment Visual', 'tags': \"{' visualization', 'json', ' front end', '  web app'}\"}], [{'assignee': 'nikanmog', 'summary': 'Create Insights Dashboard for all visuals', 'tags': \"{'json', ' front end', 'backend', 'react', ' web app'}\"}], [{'assignee': 'nikanmog', 'summary': 'Create Backend to store access log', 'tags': \"{'json', ' front end', 'backend', 'react', ' web app'}\"}], [{'assignee': 'nikanmog', 'summary': 'Fully implement a secure authentication flow', 'tags': \"{'json', ' front end', 'backend', 'react', ' web app'}\"}], [{'assignee': 'nikanmog', 'summary': 'Fully implement a secure authentication flow', 'tags': \"{'json', ' front end', 'backend', 'react', ' web app'}\"}], [{'assignee': 'nikanmog', 'summary': 'Create Backend to store access log', 'tags': \"{'json', ' front end', 'backend', 'react', ' web app'}\"}], [{'assignee': 'nikanmog', 'summary': 'Create Insights Dashboard for all visuals', 'tags': \"{'json', ' front end', 'backend', 'react', ' web app'}\"}], [{'assignee': 'saurypande', 'summary': 'Send a detailed progress update until Monday 1pm to slack (bullet points & screenshots) I will use this for our progress submission to valentin', 'tags': \"{'confluence', ' report', 'json'}\"}], [{'assignee': 'zhiyiniu', 'summary': 'Send a detailed progress update until Monday 1pm to slack (bullet points & screenshots) I will use this for our progress submission to valentin', 'tags': \"{'confluence', ' report', 'json'}\"}], [{'assignee': 'ga65hif', 'summary': 'Send a detailed progress update until Monday 1pm to slack (bullet points & screenshots) I will use this for our progress submission to valentin', 'tags': \"{'confluence', ' report', 'json'}\"}], [{'assignee': 'ga65hif', 'summary': 'Prepare your part of the presentation (explaining your confluence page with model details)', 'tags': \"{'confluence', ' report', 'json'}\"}], [{'assignee': 'zhiyiniu', 'summary': 'Prepare your part of the presentation (explaining your confluence page with model details)', 'tags': \"{'confluence', ' report', 'json'}\"}], [{'assignee': 'saurypande', 'summary': 'Prepare your part of the presentation (explaining your confluence page with model details)', 'tags': \"{'confluence', ' report', 'json'}\"}], [{'assignee': 'saurypande', 'summary': 'Create 2 Confluence pages, describing your research, the models you worked on etc. (see other team spaces for reference)', 'tags': \"{'confluence', ' report', 'json'}\"}], [{'assignee': 'ga65hif', 'summary': 'Create 2 Confluence pages, describing your research, the models you worked on etc. (see other team spaces for reference)', 'tags': \"{'confluence', ' report', 'json'}\"}], [{'assignee': 'zhiyiniu', 'summary': 'Create 2 Confluence pages, describing your research, the models you worked on etc. (see other team spaces for reference)', 'tags': \"{'confluence', ' report', 'json'}\"}], [{'assignee': 'nikanmog', 'summary': 'Create confluence pages for our meetings', 'tags': \"{'confluence', 'json'}\"}], [{'assignee': 'nikanmog', 'summary': 'Prepare sprint review (add screenshots of analysis this time)', 'tags': \"{'confluence', ' report', 'json'}\"}], [{'assignee': 'zhiyiniu', 'summary': 'Write personal reflection report', 'tags': \"{'confluence', ' report', 'json'}\"}], [{'assignee': 'saurypande', 'summary': 'Write personal reflection report', 'tags': \"{'confluence', ' report', 'json'}\"}], [{'assignee': 'ga65hif', 'summary': 'Write personal reflection report', 'tags': \"{'confluence', ' report', 'json'}\"}], [{'assignee': 'nikanmog', 'summary': 'Write personal reflection report', 'tags': \"{'confluence', ' report', 'json'}\"}], [{'assignee': 'nikanmog', 'summary': 'Create bi weekly submission', 'tags': \"{'confluence', 'json'}\"}], [{'assignee': 'nikanmog', 'summary': 'Create PowerPoint with title, outline and discussion slide for presentation', 'tags': \"{'presentation', 'json'}\"}], [{'assignee': 'saurypande', 'summary': 'Generate static output with model predictions (as discussed)', 'tags': \"{' development', 'json', 'machine learning', 'R', ' python'}\"}], [{'assignee': 'saurypande', 'summary': 'Analysis of Jira data and use NLP model to find similar incidents to a newly created incident', 'tags': \"{' python', ' development', 'json', 'machine learning'}\"}], [{'assignee': 'saurypande', 'summary': 'Use NLP models to suggest developers who has worked on similar incidents. ', 'tags': \"{' NLP', ' development', 'json', 'machine learning', ' python'}\"}], [{'assignee': 'ga65hif', 'summary': 'Estimated response time (for slack messages)', 'tags': \"{' development', 'json', 'machine learning', 'R', ' python'}\"}], [{'assignee': 'nikanmog', 'summary': 'Start on implementing backend integration for privacy controls', 'tags': \"{' visualization', 'json', ' front end', '  web app'}\"}], [{'assignee': 'nikanmog', 'summary': 'Create access log table (frontend)', 'tags': \"{' visualization', 'json', ' front end', 'backend', ' web app'}\"}], [{'assignee': 'nikanmog', 'summary': 'Create privacy dashboard controls (frontend)', 'tags': \"{' visualization', 'json', ' front end', '  web app'}\"}], [{'assignee': 'nikanmog', 'summary': 'Create view for privacy dashboard', 'tags': \"{' visualization', 'json', ' front end', '  web app'}\"}], [{'assignee': 'nikanmog', 'summary': \"Short status update (ideally bullet points) with your progress delta/ the work you've done in this week, issues you ran into\", 'tags': \"{'confluence', ' report', 'json'}\"}], [{'assignee': 'saurypande', 'summary': \"Short status update (ideally bullet points) with your progress delta/ the work you've done in this week, issues you ran into\", 'tags': \"{'confluence', ' report', 'json'}\"}], [{'assignee': 'ga65hif', 'summary': \"Short status update (ideally bullet points) with your progress delta/ the work you've done in this week, issues you ran into\", 'tags': \"{'confluence', ' report', 'json'}\"}], [{'assignee': 'zhiyiniu', 'summary': \"Short status update (ideally bullet points) with your progress delta/ the work you've done in this week, issues you ran into\", 'tags': \"{'confluence', ' report', 'json'}\"}], [{'assignee': 'saurypande', 'summary': '1 Page of documentation for all models you create (in confluence!) the docs should contain instructions to replicate the model and information on the model, e.g. type, accuracy(create a small, representative labelled test dataset if needed)', 'tags': \"{'confluence', ' report', 'json'}\"}], [{'assignee': 'ga65hif', 'summary': '1 Page of documentation for all models you create (in confluence!) the docs should contain instructions to replicate the model and information on the model, e.g. type, accuracy(create a small, representative labelled test dataset if needed)', 'tags': \"{'confluence', ' report', 'json'}\"}], [{'assignee': 'zhiyiniu', 'summary': '1 Page of documentation for all models you create (in confluence!) the docs should contain instructions to replicate the model and information on the model, e.g. type, accuracy(create a small, representative labelled test dataset if needed)', 'tags': \"{'confluence', ' report', 'json'}\"}], [{'assignee': 'zhiyiniu', 'summary': 'Deliver a json with the insights generated from your model and one developer username column Deadline: Monday 23:59', 'tags': \"{' visualization', 'json', ' front end', '  web app'}\"}], [{'assignee': 'saurypande', 'summary': 'Deliver a csv with the insights generated from your model and one developer username column Deadline: Monday 23:59', 'tags': \"{' visualization', 'json', ' front end', '  web app'}\"}], [{'assignee': 'ga65hif', 'summary': 'Deliver a json with the insights generated from your model and one developer username column Deadline: Monday 23:59', 'tags': \"{' visualization', 'json', ' front end', '  web app'}\"}], [{'assignee': 'zhiyiniu', 'summary': \"Choose or create another epic for this week's sprint\", 'tags': \"{'confluence', ' report', 'json'}\"}], [{'assignee': 'saurypande', 'summary': \"Choose or create another epic for this week's sprint\", 'tags': \"{'confluence', ' report', 'json'}\"}], [{'assignee': 'ga65hif', 'summary': \"Choose or create another epic for this week's sprint\", 'tags': \"{'confluence', ' report', 'json'}\"}], [{'assignee': 'nikanmog', 'summary': \"Choose or create another epic for this week's sprint\", 'tags': \"{'confluence', ' report', 'json'}\"}], [{'assignee': 'zhiyiniu', 'summary': 'Get training data, learn & setup jupyter notebook & transform training data', 'tags': \"{' python', ' development', 'json', 'machine learning'}\"}], [{'assignee': 'saurypande', 'summary': 'Get training data, learn & setup jupyter notebook & transform training data', 'tags': \"{' python', ' development', 'json', 'machine learning'}\"}], [{'assignee': 'ga65hif', 'summary': 'Get training data, learn & setup jupyter notebook & transform training data', 'tags': \"{' python', ' development', 'json', 'machine learning'}\"}], [{'assignee': 'nikanmog', 'summary': 'Setup git repo with git lfs, jupyter notebooks & folder structure', 'tags': \"{' development', 'json', 'R', 'machine learning', 'git', ' python'}\"}], [{'assignee': 'nikanmog', 'summary': 'Deploy webapp', 'tags': \"{' visualization', 'json', ' front end', '  web app'}\"}], [{'assignee': 'nikanmog', 'summary': 'Create simple webapp', 'tags': \"{' visualization', 'json', ' front end', '  web app'}\"}], [{'assignee': 'nikanmog', 'summary': 'Deploy Webapp', 'tags': \"{' visualization', 'json', ' front end', '  web app'}\"}], [{'assignee': 'saurypande', 'summary': 'Fetching related incidents/bugs similar to a new assigned incident', 'tags': \"{' NLP', ' development', 'json', 'machine learning', ' python'}\"}], [{'assignee': 'saurypande', 'summary': 'Jira - While developing, if the developer is blocked by some problems, suggest the people who will be most helpful to find solutions', 'tags': \"{' NLP', ' development', 'json', 'machine learning', ' python'}\"}], [{'assignee': 'zhiyiniu', 'summary': 'Check code cleanness and if it is understandable for others', 'tags': \"{' python', ' development', 'json', 'machine learning'}\"}], [{'assignee': 'zhiyiniu', 'summary': 'Detect the quality of the code, especially the dangerous lines of code', 'tags': \"{'confluence', ' report', 'json'}\"}], [{'assignee': 'saurypande', 'summary': 'Estimate incident delivery time based on other incidents', 'tags': \"{' development', 'json', 'machine learning', 'R', ' python'}\"}], [{'assignee': 'saurypande', 'summary': 'Jira - Recommendation System: Finding developers who has previously worked on related incidents/bugs', 'tags': \"{' NLP', ' development', 'json', 'machine learning', ' python'}\"}], [{'assignee': 'nikanmog', 'summary': 'Make use of ML and analyze an individual performance', 'tags': \"{' development', 'json', 'R', 'machine learning', 'visualization', 'git', ' python'}\"}], [{'assignee': 'ga65hif', 'summary': 'Estimate difficulty of task', 'tags': \"{' NLP', ' development', 'json', 'machine learning', ' python'}\"}], [{'assignee': 'ga65hif', 'summary': 'Detecting lines of code that may need additional review', 'tags': \"{' python', ' development', 'json', 'machine learning'}\"}], [{'assignee': 'ga65hif', 'summary': 'Detect false attribution', 'tags': \"{' python', ' development', 'json', 'machine learning'}\"}], [{'assignee': 'ga65hif', 'summary': 'Jira - Detect which task take very long and potentially hold up other tasks and project progress', 'tags': \"{' python', ' development', 'json', 'machine learning'}\"}], [{'assignee': 'nikanmog', 'summary': 'Jira & Git - Detect developer workload & overtime by analyzing commit times and how long jira tasks are open before finished', 'tags': \"{' python', ' development', 'json', 'machine learning'}\"}], [{'assignee': 'nikanmog', 'summary': 'Web - Dashboard where employee can block specific people/everyone from accessing their data by data type (e.g. slack, git, jira)', 'tags': \"{' visualization', 'json', ' front end', '  web app'}\"}], [{'assignee': 'nikanmog', 'summary': 'Web - Privacy Dashboard with an overview of who requested what kind of information at which time for what reason and on what level (personal/aggregated data)', 'tags': \"{' visualization', 'json', ' front end', '  web app'}\"}], [{'assignee': 'zhiyiniu', 'summary': 'Slack - Detect if developer is aggressive towards colleagues with sentiment analysis and slack', 'tags': \"{' python', ' development', 'json', 'machine learning'}\"}], [{'assignee': 'nikanmog', 'summary': 'Align ideas & create high level product mockup', 'tags': \"{' development', 'json', 'machine learning', 'R', ' python'}\"}], [{'assignee': 'zhiyiniu', 'summary': 'Create 5-10 Epics in Jira with your ideas, use cases, concepts, etc. for the project', 'tags': \"{'confluence', ' report', 'json'}\"}], [{'assignee': 'nikanmog', 'summary': 'Create 5-10 Epics in Jira with your ideas, use cases, concepts, etc. for the project', 'tags': \"{'confluence', ' report', 'json'}\"}], [{'assignee': 'saurypande', 'summary': 'Create 5-10 Epics in Jira with your ideas, use cases, concepts, etc. for the project', 'tags': \"{'confluence', ' report', 'json'}\"}], [{'assignee': 'ga65hif', 'summary': 'Create 5-10 Epics in Jira with your ideas, use cases, concepts, etc. for the project', 'tags': \"{'confluence', ' report', 'json'}\"}], [{'assignee': 'nikanmog', 'summary': 'Assign high level responsibilities', 'tags': \"{' visualization', 'json', ' front end', '  web app'}\"}], [{'assignee': 'nikanmog', 'summary': 'Research Toolchain', 'tags': \"{' development', 'json', 'R', 'machine learning', 'git', ' python'}\"}]]\n"
     ]
    }
   ],
   "source": [
    "print(aggregate_result)"
   ]
  },
  {
   "cell_type": "code",
   "execution_count": 145,
   "metadata": {
    "id": "7ZlfRxkK0i2W"
   },
   "outputs": [],
   "source": [
    "# Exporting result as JSON\n",
    "import json\n",
    "response=json.dumps(aggregate_result)\n",
    "with open(\"response.json\", \"w\") as outfile:\n",
    "    outfile.write(response)"
   ]
  }
 ],
 "metadata": {
  "accelerator": "TPU",
  "colab": {
   "name": "LabelsRecommendation.ipynb",
   "provenance": []
  },
  "kernelspec": {
   "display_name": "Python 3",
   "language": "python",
   "name": "python3"
  },
  "language_info": {
   "codemirror_mode": {
    "name": "ipython",
    "version": 3
   },
   "file_extension": ".py",
   "mimetype": "text/x-python",
   "name": "python",
   "nbconvert_exporter": "python",
   "pygments_lexer": "ipython3",
   "version": "3.7.6"
  },
  "widgets": {
   "application/vnd.jupyter.widget-state+json": {
    "027461dbf7024c7bb76276a434a3749b": {
     "model_module": "@jupyter-widgets/base",
     "model_name": "LayoutModel",
     "state": {
      "_model_module": "@jupyter-widgets/base",
      "_model_module_version": "1.2.0",
      "_model_name": "LayoutModel",
      "_view_count": null,
      "_view_module": "@jupyter-widgets/base",
      "_view_module_version": "1.2.0",
      "_view_name": "LayoutView",
      "align_content": null,
      "align_items": null,
      "align_self": null,
      "border": null,
      "bottom": null,
      "display": null,
      "flex": null,
      "flex_flow": null,
      "grid_area": null,
      "grid_auto_columns": null,
      "grid_auto_flow": null,
      "grid_auto_rows": null,
      "grid_column": null,
      "grid_gap": null,
      "grid_row": null,
      "grid_template_areas": null,
      "grid_template_columns": null,
      "grid_template_rows": null,
      "height": null,
      "justify_content": null,
      "justify_items": null,
      "left": null,
      "margin": null,
      "max_height": null,
      "max_width": null,
      "min_height": null,
      "min_width": null,
      "object_fit": null,
      "object_position": null,
      "order": null,
      "overflow": null,
      "overflow_x": null,
      "overflow_y": null,
      "padding": null,
      "right": null,
      "top": null,
      "visibility": null,
      "width": null
     }
    },
    "03d5e9650d7d48d286501509eacb60ea": {
     "model_module": "@jupyter-widgets/controls",
     "model_name": "FloatProgressModel",
     "state": {
      "_dom_classes": [],
      "_model_module": "@jupyter-widgets/controls",
      "_model_module_version": "1.5.0",
      "_model_name": "FloatProgressModel",
      "_view_count": null,
      "_view_module": "@jupyter-widgets/controls",
      "_view_module_version": "1.5.0",
      "_view_name": "ProgressView",
      "bar_style": "success",
      "description": "Downloading: 100%",
      "description_tooltip": null,
      "layout": "IPY_MODEL_941c292f7faa4d22a55d198bdb728c76",
      "max": 1093,
      "min": 0,
      "orientation": "horizontal",
      "style": "IPY_MODEL_c8aa396214fe43a7b474e4175be92156",
      "value": 1093
     }
    },
    "0699543b27de45d59097b212b3533273": {
     "model_module": "@jupyter-widgets/base",
     "model_name": "LayoutModel",
     "state": {
      "_model_module": "@jupyter-widgets/base",
      "_model_module_version": "1.2.0",
      "_model_name": "LayoutModel",
      "_view_count": null,
      "_view_module": "@jupyter-widgets/base",
      "_view_module_version": "1.2.0",
      "_view_name": "LayoutView",
      "align_content": null,
      "align_items": null,
      "align_self": null,
      "border": null,
      "bottom": null,
      "display": null,
      "flex": null,
      "flex_flow": null,
      "grid_area": null,
      "grid_auto_columns": null,
      "grid_auto_flow": null,
      "grid_auto_rows": null,
      "grid_column": null,
      "grid_gap": null,
      "grid_row": null,
      "grid_template_areas": null,
      "grid_template_columns": null,
      "grid_template_rows": null,
      "height": null,
      "justify_content": null,
      "justify_items": null,
      "left": null,
      "margin": null,
      "max_height": null,
      "max_width": null,
      "min_height": null,
      "min_width": null,
      "object_fit": null,
      "object_position": null,
      "order": null,
      "overflow": null,
      "overflow_x": null,
      "overflow_y": null,
      "padding": null,
      "right": null,
      "top": null,
      "visibility": null,
      "width": null
     }
    },
    "074628d39500495c908eab0bf43fbcea": {
     "model_module": "@jupyter-widgets/base",
     "model_name": "LayoutModel",
     "state": {
      "_model_module": "@jupyter-widgets/base",
      "_model_module_version": "1.2.0",
      "_model_name": "LayoutModel",
      "_view_count": null,
      "_view_module": "@jupyter-widgets/base",
      "_view_module_version": "1.2.0",
      "_view_name": "LayoutView",
      "align_content": null,
      "align_items": null,
      "align_self": null,
      "border": null,
      "bottom": null,
      "display": null,
      "flex": null,
      "flex_flow": null,
      "grid_area": null,
      "grid_auto_columns": null,
      "grid_auto_flow": null,
      "grid_auto_rows": null,
      "grid_column": null,
      "grid_gap": null,
      "grid_row": null,
      "grid_template_areas": null,
      "grid_template_columns": null,
      "grid_template_rows": null,
      "height": null,
      "justify_content": null,
      "justify_items": null,
      "left": null,
      "margin": null,
      "max_height": null,
      "max_width": null,
      "min_height": null,
      "min_width": null,
      "object_fit": null,
      "object_position": null,
      "order": null,
      "overflow": null,
      "overflow_x": null,
      "overflow_y": null,
      "padding": null,
      "right": null,
      "top": null,
      "visibility": null,
      "width": null
     }
    },
    "084c9e88797f4719b173a991dc91c68b": {
     "model_module": "@jupyter-widgets/controls",
     "model_name": "HBoxModel",
     "state": {
      "_dom_classes": [],
      "_model_module": "@jupyter-widgets/controls",
      "_model_module_version": "1.5.0",
      "_model_name": "HBoxModel",
      "_view_count": null,
      "_view_module": "@jupyter-widgets/controls",
      "_view_module_version": "1.5.0",
      "_view_name": "HBoxView",
      "box_style": "",
      "children": [
       "IPY_MODEL_9db6b09243d94083bc2c180341f62a78",
       "IPY_MODEL_7231fa8d453c49f4af993223b43d7cc8"
      ],
      "layout": "IPY_MODEL_6b21d1d26e6244aaaf6464a13c27df3d"
     }
    },
    "0ae9d22268e8456f8694c252a837355d": {
     "model_module": "@jupyter-widgets/base",
     "model_name": "LayoutModel",
     "state": {
      "_model_module": "@jupyter-widgets/base",
      "_model_module_version": "1.2.0",
      "_model_name": "LayoutModel",
      "_view_count": null,
      "_view_module": "@jupyter-widgets/base",
      "_view_module_version": "1.2.0",
      "_view_name": "LayoutView",
      "align_content": null,
      "align_items": null,
      "align_self": null,
      "border": null,
      "bottom": null,
      "display": null,
      "flex": null,
      "flex_flow": null,
      "grid_area": null,
      "grid_auto_columns": null,
      "grid_auto_flow": null,
      "grid_auto_rows": null,
      "grid_column": null,
      "grid_gap": null,
      "grid_row": null,
      "grid_template_areas": null,
      "grid_template_columns": null,
      "grid_template_rows": null,
      "height": null,
      "justify_content": null,
      "justify_items": null,
      "left": null,
      "margin": null,
      "max_height": null,
      "max_width": null,
      "min_height": null,
      "min_width": null,
      "object_fit": null,
      "object_position": null,
      "order": null,
      "overflow": null,
      "overflow_x": null,
      "overflow_y": null,
      "padding": null,
      "right": null,
      "top": null,
      "visibility": null,
      "width": null
     }
    },
    "0b612c8e19e44a71bf04148467dc32af": {
     "model_module": "@jupyter-widgets/controls",
     "model_name": "ProgressStyleModel",
     "state": {
      "_model_module": "@jupyter-widgets/controls",
      "_model_module_version": "1.5.0",
      "_model_name": "ProgressStyleModel",
      "_view_count": null,
      "_view_module": "@jupyter-widgets/base",
      "_view_module_version": "1.2.0",
      "_view_name": "StyleView",
      "bar_color": null,
      "description_width": "initial"
     }
    },
    "11fbe7a9696e4f15becec89b1c09391a": {
     "model_module": "@jupyter-widgets/base",
     "model_name": "LayoutModel",
     "state": {
      "_model_module": "@jupyter-widgets/base",
      "_model_module_version": "1.2.0",
      "_model_name": "LayoutModel",
      "_view_count": null,
      "_view_module": "@jupyter-widgets/base",
      "_view_module_version": "1.2.0",
      "_view_name": "LayoutView",
      "align_content": null,
      "align_items": null,
      "align_self": null,
      "border": null,
      "bottom": null,
      "display": null,
      "flex": null,
      "flex_flow": null,
      "grid_area": null,
      "grid_auto_columns": null,
      "grid_auto_flow": null,
      "grid_auto_rows": null,
      "grid_column": null,
      "grid_gap": null,
      "grid_row": null,
      "grid_template_areas": null,
      "grid_template_columns": null,
      "grid_template_rows": null,
      "height": null,
      "justify_content": null,
      "justify_items": null,
      "left": null,
      "margin": null,
      "max_height": null,
      "max_width": null,
      "min_height": null,
      "min_width": null,
      "object_fit": null,
      "object_position": null,
      "order": null,
      "overflow": null,
      "overflow_x": null,
      "overflow_y": null,
      "padding": null,
      "right": null,
      "top": null,
      "visibility": null,
      "width": null
     }
    },
    "1554ac60ae484620a19e1d2967cba968": {
     "model_module": "@jupyter-widgets/controls",
     "model_name": "DescriptionStyleModel",
     "state": {
      "_model_module": "@jupyter-widgets/controls",
      "_model_module_version": "1.5.0",
      "_model_name": "DescriptionStyleModel",
      "_view_count": null,
      "_view_module": "@jupyter-widgets/base",
      "_view_module_version": "1.2.0",
      "_view_name": "StyleView",
      "description_width": ""
     }
    },
    "15fbc07b40854216a8b9a5381dd355e3": {
     "model_module": "@jupyter-widgets/base",
     "model_name": "LayoutModel",
     "state": {
      "_model_module": "@jupyter-widgets/base",
      "_model_module_version": "1.2.0",
      "_model_name": "LayoutModel",
      "_view_count": null,
      "_view_module": "@jupyter-widgets/base",
      "_view_module_version": "1.2.0",
      "_view_name": "LayoutView",
      "align_content": null,
      "align_items": null,
      "align_self": null,
      "border": null,
      "bottom": null,
      "display": null,
      "flex": null,
      "flex_flow": null,
      "grid_area": null,
      "grid_auto_columns": null,
      "grid_auto_flow": null,
      "grid_auto_rows": null,
      "grid_column": null,
      "grid_gap": null,
      "grid_row": null,
      "grid_template_areas": null,
      "grid_template_columns": null,
      "grid_template_rows": null,
      "height": null,
      "justify_content": null,
      "justify_items": null,
      "left": null,
      "margin": null,
      "max_height": null,
      "max_width": null,
      "min_height": null,
      "min_width": null,
      "object_fit": null,
      "object_position": null,
      "order": null,
      "overflow": null,
      "overflow_x": null,
      "overflow_y": null,
      "padding": null,
      "right": null,
      "top": null,
      "visibility": null,
      "width": null
     }
    },
    "1cca2c161e3540e68e91b96f6b9cc9da": {
     "model_module": "@jupyter-widgets/controls",
     "model_name": "FloatProgressModel",
     "state": {
      "_dom_classes": [],
      "_model_module": "@jupyter-widgets/controls",
      "_model_module_version": "1.5.0",
      "_model_name": "FloatProgressModel",
      "_view_count": null,
      "_view_module": "@jupyter-widgets/controls",
      "_view_module_version": "1.5.0",
      "_view_name": "ProgressView",
      "bar_style": "success",
      "description": "Downloading: 100%",
      "description_tooltip": null,
      "layout": "IPY_MODEL_381bda2b3d224fecbabd380fcebff16f",
      "max": 798293,
      "min": 0,
      "orientation": "horizontal",
      "style": "IPY_MODEL_a0a51c1693a04813addde6170caf88f4",
      "value": 798293
     }
    },
    "1f1f0b3789d54fb3801114c3e789a5bb": {
     "model_module": "@jupyter-widgets/controls",
     "model_name": "DescriptionStyleModel",
     "state": {
      "_model_module": "@jupyter-widgets/controls",
      "_model_module_version": "1.5.0",
      "_model_name": "DescriptionStyleModel",
      "_view_count": null,
      "_view_module": "@jupyter-widgets/base",
      "_view_module_version": "1.2.0",
      "_view_name": "StyleView",
      "description_width": ""
     }
    },
    "23edb2845a454b5e9eebc9e163dd9d46": {
     "model_module": "@jupyter-widgets/controls",
     "model_name": "FloatProgressModel",
     "state": {
      "_dom_classes": [],
      "_model_module": "@jupyter-widgets/controls",
      "_model_module_version": "1.5.0",
      "_model_name": "FloatProgressModel",
      "_view_count": null,
      "_view_module": "@jupyter-widgets/controls",
      "_view_module_version": "1.5.0",
      "_view_name": "ProgressView",
      "bar_style": "success",
      "description": "Downloading: 100%",
      "description_tooltip": null,
      "layout": "IPY_MODEL_b6367112aa1d4c7b949583247b7cabc1",
      "max": 498661169,
      "min": 0,
      "orientation": "horizontal",
      "style": "IPY_MODEL_f2d5578f4e65448b8106de260d377eee",
      "value": 498661169
     }
    },
    "2615a85ec0c94388aae3a9a22ead5ff5": {
     "model_module": "@jupyter-widgets/base",
     "model_name": "LayoutModel",
     "state": {
      "_model_module": "@jupyter-widgets/base",
      "_model_module_version": "1.2.0",
      "_model_name": "LayoutModel",
      "_view_count": null,
      "_view_module": "@jupyter-widgets/base",
      "_view_module_version": "1.2.0",
      "_view_name": "LayoutView",
      "align_content": null,
      "align_items": null,
      "align_self": null,
      "border": null,
      "bottom": null,
      "display": null,
      "flex": null,
      "flex_flow": null,
      "grid_area": null,
      "grid_auto_columns": null,
      "grid_auto_flow": null,
      "grid_auto_rows": null,
      "grid_column": null,
      "grid_gap": null,
      "grid_row": null,
      "grid_template_areas": null,
      "grid_template_columns": null,
      "grid_template_rows": null,
      "height": null,
      "justify_content": null,
      "justify_items": null,
      "left": null,
      "margin": null,
      "max_height": null,
      "max_width": null,
      "min_height": null,
      "min_width": null,
      "object_fit": null,
      "object_position": null,
      "order": null,
      "overflow": null,
      "overflow_x": null,
      "overflow_y": null,
      "padding": null,
      "right": null,
      "top": null,
      "visibility": null,
      "width": null
     }
    },
    "28cdeddee1914c558e321ebac41568dc": {
     "model_module": "@jupyter-widgets/controls",
     "model_name": "DescriptionStyleModel",
     "state": {
      "_model_module": "@jupyter-widgets/controls",
      "_model_module_version": "1.5.0",
      "_model_name": "DescriptionStyleModel",
      "_view_count": null,
      "_view_module": "@jupyter-widgets/base",
      "_view_module_version": "1.2.0",
      "_view_name": "StyleView",
      "description_width": ""
     }
    },
    "2a8dc5497d9a478ca02d64eaa0808083": {
     "model_module": "@jupyter-widgets/base",
     "model_name": "LayoutModel",
     "state": {
      "_model_module": "@jupyter-widgets/base",
      "_model_module_version": "1.2.0",
      "_model_name": "LayoutModel",
      "_view_count": null,
      "_view_module": "@jupyter-widgets/base",
      "_view_module_version": "1.2.0",
      "_view_name": "LayoutView",
      "align_content": null,
      "align_items": null,
      "align_self": null,
      "border": null,
      "bottom": null,
      "display": null,
      "flex": null,
      "flex_flow": null,
      "grid_area": null,
      "grid_auto_columns": null,
      "grid_auto_flow": null,
      "grid_auto_rows": null,
      "grid_column": null,
      "grid_gap": null,
      "grid_row": null,
      "grid_template_areas": null,
      "grid_template_columns": null,
      "grid_template_rows": null,
      "height": null,
      "justify_content": null,
      "justify_items": null,
      "left": null,
      "margin": null,
      "max_height": null,
      "max_width": null,
      "min_height": null,
      "min_width": null,
      "object_fit": null,
      "object_position": null,
      "order": null,
      "overflow": null,
      "overflow_x": null,
      "overflow_y": null,
      "padding": null,
      "right": null,
      "top": null,
      "visibility": null,
      "width": null
     }
    },
    "2c48a4a72e2145f98bd406f2b8bf0a9d": {
     "model_module": "@jupyter-widgets/controls",
     "model_name": "ProgressStyleModel",
     "state": {
      "_model_module": "@jupyter-widgets/controls",
      "_model_module_version": "1.5.0",
      "_model_name": "ProgressStyleModel",
      "_view_count": null,
      "_view_module": "@jupyter-widgets/base",
      "_view_module_version": "1.2.0",
      "_view_name": "StyleView",
      "bar_color": null,
      "description_width": "initial"
     }
    },
    "2cb4688f8ec74f9ca885ba1355fce5e5": {
     "model_module": "@jupyter-widgets/base",
     "model_name": "LayoutModel",
     "state": {
      "_model_module": "@jupyter-widgets/base",
      "_model_module_version": "1.2.0",
      "_model_name": "LayoutModel",
      "_view_count": null,
      "_view_module": "@jupyter-widgets/base",
      "_view_module_version": "1.2.0",
      "_view_name": "LayoutView",
      "align_content": null,
      "align_items": null,
      "align_self": null,
      "border": null,
      "bottom": null,
      "display": null,
      "flex": null,
      "flex_flow": null,
      "grid_area": null,
      "grid_auto_columns": null,
      "grid_auto_flow": null,
      "grid_auto_rows": null,
      "grid_column": null,
      "grid_gap": null,
      "grid_row": null,
      "grid_template_areas": null,
      "grid_template_columns": null,
      "grid_template_rows": null,
      "height": null,
      "justify_content": null,
      "justify_items": null,
      "left": null,
      "margin": null,
      "max_height": null,
      "max_width": null,
      "min_height": null,
      "min_width": null,
      "object_fit": null,
      "object_position": null,
      "order": null,
      "overflow": null,
      "overflow_x": null,
      "overflow_y": null,
      "padding": null,
      "right": null,
      "top": null,
      "visibility": null,
      "width": null
     }
    },
    "2d2672840cc6410d927f7ae4827a38d6": {
     "model_module": "@jupyter-widgets/base",
     "model_name": "LayoutModel",
     "state": {
      "_model_module": "@jupyter-widgets/base",
      "_model_module_version": "1.2.0",
      "_model_name": "LayoutModel",
      "_view_count": null,
      "_view_module": "@jupyter-widgets/base",
      "_view_module_version": "1.2.0",
      "_view_name": "LayoutView",
      "align_content": null,
      "align_items": null,
      "align_self": null,
      "border": null,
      "bottom": null,
      "display": null,
      "flex": null,
      "flex_flow": null,
      "grid_area": null,
      "grid_auto_columns": null,
      "grid_auto_flow": null,
      "grid_auto_rows": null,
      "grid_column": null,
      "grid_gap": null,
      "grid_row": null,
      "grid_template_areas": null,
      "grid_template_columns": null,
      "grid_template_rows": null,
      "height": null,
      "justify_content": null,
      "justify_items": null,
      "left": null,
      "margin": null,
      "max_height": null,
      "max_width": null,
      "min_height": null,
      "min_width": null,
      "object_fit": null,
      "object_position": null,
      "order": null,
      "overflow": null,
      "overflow_x": null,
      "overflow_y": null,
      "padding": null,
      "right": null,
      "top": null,
      "visibility": null,
      "width": null
     }
    },
    "2e6cddc524db45a8b85c4230db8ff5e6": {
     "model_module": "@jupyter-widgets/controls",
     "model_name": "DescriptionStyleModel",
     "state": {
      "_model_module": "@jupyter-widgets/controls",
      "_model_module_version": "1.5.0",
      "_model_name": "DescriptionStyleModel",
      "_view_count": null,
      "_view_module": "@jupyter-widgets/base",
      "_view_module_version": "1.2.0",
      "_view_name": "StyleView",
      "description_width": ""
     }
    },
    "375a2b79ee9b47a1b8c25106a1d72b33": {
     "model_module": "@jupyter-widgets/base",
     "model_name": "LayoutModel",
     "state": {
      "_model_module": "@jupyter-widgets/base",
      "_model_module_version": "1.2.0",
      "_model_name": "LayoutModel",
      "_view_count": null,
      "_view_module": "@jupyter-widgets/base",
      "_view_module_version": "1.2.0",
      "_view_name": "LayoutView",
      "align_content": null,
      "align_items": null,
      "align_self": null,
      "border": null,
      "bottom": null,
      "display": null,
      "flex": null,
      "flex_flow": null,
      "grid_area": null,
      "grid_auto_columns": null,
      "grid_auto_flow": null,
      "grid_auto_rows": null,
      "grid_column": null,
      "grid_gap": null,
      "grid_row": null,
      "grid_template_areas": null,
      "grid_template_columns": null,
      "grid_template_rows": null,
      "height": null,
      "justify_content": null,
      "justify_items": null,
      "left": null,
      "margin": null,
      "max_height": null,
      "max_width": null,
      "min_height": null,
      "min_width": null,
      "object_fit": null,
      "object_position": null,
      "order": null,
      "overflow": null,
      "overflow_x": null,
      "overflow_y": null,
      "padding": null,
      "right": null,
      "top": null,
      "visibility": null,
      "width": null
     }
    },
    "37bca2cb6f8d4161bfe46c655c184d3d": {
     "model_module": "@jupyter-widgets/controls",
     "model_name": "DescriptionStyleModel",
     "state": {
      "_model_module": "@jupyter-widgets/controls",
      "_model_module_version": "1.5.0",
      "_model_name": "DescriptionStyleModel",
      "_view_count": null,
      "_view_module": "@jupyter-widgets/base",
      "_view_module_version": "1.2.0",
      "_view_name": "StyleView",
      "description_width": ""
     }
    },
    "381bda2b3d224fecbabd380fcebff16f": {
     "model_module": "@jupyter-widgets/base",
     "model_name": "LayoutModel",
     "state": {
      "_model_module": "@jupyter-widgets/base",
      "_model_module_version": "1.2.0",
      "_model_name": "LayoutModel",
      "_view_count": null,
      "_view_module": "@jupyter-widgets/base",
      "_view_module_version": "1.2.0",
      "_view_name": "LayoutView",
      "align_content": null,
      "align_items": null,
      "align_self": null,
      "border": null,
      "bottom": null,
      "display": null,
      "flex": null,
      "flex_flow": null,
      "grid_area": null,
      "grid_auto_columns": null,
      "grid_auto_flow": null,
      "grid_auto_rows": null,
      "grid_column": null,
      "grid_gap": null,
      "grid_row": null,
      "grid_template_areas": null,
      "grid_template_columns": null,
      "grid_template_rows": null,
      "height": null,
      "justify_content": null,
      "justify_items": null,
      "left": null,
      "margin": null,
      "max_height": null,
      "max_width": null,
      "min_height": null,
      "min_width": null,
      "object_fit": null,
      "object_position": null,
      "order": null,
      "overflow": null,
      "overflow_x": null,
      "overflow_y": null,
      "padding": null,
      "right": null,
      "top": null,
      "visibility": null,
      "width": null
     }
    },
    "3b366b9125b24f7b8cf6fbcabcf5bed5": {
     "model_module": "@jupyter-widgets/controls",
     "model_name": "FloatProgressModel",
     "state": {
      "_dom_classes": [],
      "_model_module": "@jupyter-widgets/controls",
      "_model_module_version": "1.5.0",
      "_model_name": "FloatProgressModel",
      "_view_count": null,
      "_view_module": "@jupyter-widgets/controls",
      "_view_module_version": "1.5.0",
      "_view_name": "ProgressView",
      "bar_style": "success",
      "description": "Downloading: 100%",
      "description_tooltip": null,
      "layout": "IPY_MODEL_2cb4688f8ec74f9ca885ba1355fce5e5",
      "max": 1355881,
      "min": 0,
      "orientation": "horizontal",
      "style": "IPY_MODEL_c6c7a6f5033b4c57b5bb21d6bed48fef",
      "value": 1355881
     }
    },
    "3b491af754eb48ecb66dc3b3de968f80": {
     "model_module": "@jupyter-widgets/base",
     "model_name": "LayoutModel",
     "state": {
      "_model_module": "@jupyter-widgets/base",
      "_model_module_version": "1.2.0",
      "_model_name": "LayoutModel",
      "_view_count": null,
      "_view_module": "@jupyter-widgets/base",
      "_view_module_version": "1.2.0",
      "_view_name": "LayoutView",
      "align_content": null,
      "align_items": null,
      "align_self": null,
      "border": null,
      "bottom": null,
      "display": null,
      "flex": null,
      "flex_flow": null,
      "grid_area": null,
      "grid_auto_columns": null,
      "grid_auto_flow": null,
      "grid_auto_rows": null,
      "grid_column": null,
      "grid_gap": null,
      "grid_row": null,
      "grid_template_areas": null,
      "grid_template_columns": null,
      "grid_template_rows": null,
      "height": null,
      "justify_content": null,
      "justify_items": null,
      "left": null,
      "margin": null,
      "max_height": null,
      "max_width": null,
      "min_height": null,
      "min_width": null,
      "object_fit": null,
      "object_position": null,
      "order": null,
      "overflow": null,
      "overflow_x": null,
      "overflow_y": null,
      "padding": null,
      "right": null,
      "top": null,
      "visibility": null,
      "width": null
     }
    },
    "3e7555ffc0d448969366a91e728a22c7": {
     "model_module": "@jupyter-widgets/base",
     "model_name": "LayoutModel",
     "state": {
      "_model_module": "@jupyter-widgets/base",
      "_model_module_version": "1.2.0",
      "_model_name": "LayoutModel",
      "_view_count": null,
      "_view_module": "@jupyter-widgets/base",
      "_view_module_version": "1.2.0",
      "_view_name": "LayoutView",
      "align_content": null,
      "align_items": null,
      "align_self": null,
      "border": null,
      "bottom": null,
      "display": null,
      "flex": null,
      "flex_flow": null,
      "grid_area": null,
      "grid_auto_columns": null,
      "grid_auto_flow": null,
      "grid_auto_rows": null,
      "grid_column": null,
      "grid_gap": null,
      "grid_row": null,
      "grid_template_areas": null,
      "grid_template_columns": null,
      "grid_template_rows": null,
      "height": null,
      "justify_content": null,
      "justify_items": null,
      "left": null,
      "margin": null,
      "max_height": null,
      "max_width": null,
      "min_height": null,
      "min_width": null,
      "object_fit": null,
      "object_position": null,
      "order": null,
      "overflow": null,
      "overflow_x": null,
      "overflow_y": null,
      "padding": null,
      "right": null,
      "top": null,
      "visibility": null,
      "width": null
     }
    },
    "4265d68ce48549eab960c9dbd8a285cd": {
     "model_module": "@jupyter-widgets/controls",
     "model_name": "DescriptionStyleModel",
     "state": {
      "_model_module": "@jupyter-widgets/controls",
      "_model_module_version": "1.5.0",
      "_model_name": "DescriptionStyleModel",
      "_view_count": null,
      "_view_module": "@jupyter-widgets/base",
      "_view_module_version": "1.2.0",
      "_view_name": "StyleView",
      "description_width": ""
     }
    },
    "441f785d94eb47c7b04663edded79dbd": {
     "model_module": "@jupyter-widgets/controls",
     "model_name": "HTMLModel",
     "state": {
      "_dom_classes": [],
      "_model_module": "@jupyter-widgets/controls",
      "_model_module_version": "1.5.0",
      "_model_name": "HTMLModel",
      "_view_count": null,
      "_view_module": "@jupyter-widgets/controls",
      "_view_module_version": "1.5.0",
      "_view_name": "HTMLView",
      "description": "",
      "description_tooltip": null,
      "layout": "IPY_MODEL_6512169a36254b319bd201bd6ef5c2e2",
      "placeholder": "​",
      "style": "IPY_MODEL_f6634d1bfc2c4999af0ab36f50619830",
      "value": " 456k/456k [00:00&lt;00:00, 526kB/s]"
     }
    },
    "44a67c183c104d408d96e8d93eba7343": {
     "model_module": "@jupyter-widgets/controls",
     "model_name": "HTMLModel",
     "state": {
      "_dom_classes": [],
      "_model_module": "@jupyter-widgets/controls",
      "_model_module_version": "1.5.0",
      "_model_name": "HTMLModel",
      "_view_count": null,
      "_view_module": "@jupyter-widgets/controls",
      "_view_module_version": "1.5.0",
      "_view_name": "HTMLView",
      "description": "",
      "description_tooltip": null,
      "layout": "IPY_MODEL_c77e3f36d9d1433380bb6eb5db6ce72e",
      "placeholder": "​",
      "style": "IPY_MODEL_cd94a8d247e84ec7a0dfd57a9773cb71",
      "value": " 229/229 [00:00&lt;00:00, 472B/s]"
     }
    },
    "45b9ad5d343b4ea8b7d75cf890d7668b": {
     "model_module": "@jupyter-widgets/base",
     "model_name": "LayoutModel",
     "state": {
      "_model_module": "@jupyter-widgets/base",
      "_model_module_version": "1.2.0",
      "_model_name": "LayoutModel",
      "_view_count": null,
      "_view_module": "@jupyter-widgets/base",
      "_view_module_version": "1.2.0",
      "_view_name": "LayoutView",
      "align_content": null,
      "align_items": null,
      "align_self": null,
      "border": null,
      "bottom": null,
      "display": null,
      "flex": null,
      "flex_flow": null,
      "grid_area": null,
      "grid_auto_columns": null,
      "grid_auto_flow": null,
      "grid_auto_rows": null,
      "grid_column": null,
      "grid_gap": null,
      "grid_row": null,
      "grid_template_areas": null,
      "grid_template_columns": null,
      "grid_template_rows": null,
      "height": null,
      "justify_content": null,
      "justify_items": null,
      "left": null,
      "margin": null,
      "max_height": null,
      "max_width": null,
      "min_height": null,
      "min_width": null,
      "object_fit": null,
      "object_position": null,
      "order": null,
      "overflow": null,
      "overflow_x": null,
      "overflow_y": null,
      "padding": null,
      "right": null,
      "top": null,
      "visibility": null,
      "width": null
     }
    },
    "4d107e8002ab4e319fc32accd4534bcb": {
     "model_module": "@jupyter-widgets/base",
     "model_name": "LayoutModel",
     "state": {
      "_model_module": "@jupyter-widgets/base",
      "_model_module_version": "1.2.0",
      "_model_name": "LayoutModel",
      "_view_count": null,
      "_view_module": "@jupyter-widgets/base",
      "_view_module_version": "1.2.0",
      "_view_name": "LayoutView",
      "align_content": null,
      "align_items": null,
      "align_self": null,
      "border": null,
      "bottom": null,
      "display": null,
      "flex": null,
      "flex_flow": null,
      "grid_area": null,
      "grid_auto_columns": null,
      "grid_auto_flow": null,
      "grid_auto_rows": null,
      "grid_column": null,
      "grid_gap": null,
      "grid_row": null,
      "grid_template_areas": null,
      "grid_template_columns": null,
      "grid_template_rows": null,
      "height": null,
      "justify_content": null,
      "justify_items": null,
      "left": null,
      "margin": null,
      "max_height": null,
      "max_width": null,
      "min_height": null,
      "min_width": null,
      "object_fit": null,
      "object_position": null,
      "order": null,
      "overflow": null,
      "overflow_x": null,
      "overflow_y": null,
      "padding": null,
      "right": null,
      "top": null,
      "visibility": null,
      "width": null
     }
    },
    "510f8a3c345040718d7ff071efa4b993": {
     "model_module": "@jupyter-widgets/base",
     "model_name": "LayoutModel",
     "state": {
      "_model_module": "@jupyter-widgets/base",
      "_model_module_version": "1.2.0",
      "_model_name": "LayoutModel",
      "_view_count": null,
      "_view_module": "@jupyter-widgets/base",
      "_view_module_version": "1.2.0",
      "_view_name": "LayoutView",
      "align_content": null,
      "align_items": null,
      "align_self": null,
      "border": null,
      "bottom": null,
      "display": null,
      "flex": null,
      "flex_flow": null,
      "grid_area": null,
      "grid_auto_columns": null,
      "grid_auto_flow": null,
      "grid_auto_rows": null,
      "grid_column": null,
      "grid_gap": null,
      "grid_row": null,
      "grid_template_areas": null,
      "grid_template_columns": null,
      "grid_template_rows": null,
      "height": null,
      "justify_content": null,
      "justify_items": null,
      "left": null,
      "margin": null,
      "max_height": null,
      "max_width": null,
      "min_height": null,
      "min_width": null,
      "object_fit": null,
      "object_position": null,
      "order": null,
      "overflow": null,
      "overflow_x": null,
      "overflow_y": null,
      "padding": null,
      "right": null,
      "top": null,
      "visibility": null,
      "width": null
     }
    },
    "511142e31c124956ae1180623395f739": {
     "model_module": "@jupyter-widgets/base",
     "model_name": "LayoutModel",
     "state": {
      "_model_module": "@jupyter-widgets/base",
      "_model_module_version": "1.2.0",
      "_model_name": "LayoutModel",
      "_view_count": null,
      "_view_module": "@jupyter-widgets/base",
      "_view_module_version": "1.2.0",
      "_view_name": "LayoutView",
      "align_content": null,
      "align_items": null,
      "align_self": null,
      "border": null,
      "bottom": null,
      "display": null,
      "flex": null,
      "flex_flow": null,
      "grid_area": null,
      "grid_auto_columns": null,
      "grid_auto_flow": null,
      "grid_auto_rows": null,
      "grid_column": null,
      "grid_gap": null,
      "grid_row": null,
      "grid_template_areas": null,
      "grid_template_columns": null,
      "grid_template_rows": null,
      "height": null,
      "justify_content": null,
      "justify_items": null,
      "left": null,
      "margin": null,
      "max_height": null,
      "max_width": null,
      "min_height": null,
      "min_width": null,
      "object_fit": null,
      "object_position": null,
      "order": null,
      "overflow": null,
      "overflow_x": null,
      "overflow_y": null,
      "padding": null,
      "right": null,
      "top": null,
      "visibility": null,
      "width": null
     }
    },
    "51b74f086a874b9f91bbf9f15c4e2dfb": {
     "model_module": "@jupyter-widgets/controls",
     "model_name": "ProgressStyleModel",
     "state": {
      "_model_module": "@jupyter-widgets/controls",
      "_model_module_version": "1.5.0",
      "_model_name": "ProgressStyleModel",
      "_view_count": null,
      "_view_module": "@jupyter-widgets/base",
      "_view_module_version": "1.2.0",
      "_view_name": "StyleView",
      "bar_color": null,
      "description_width": "initial"
     }
    },
    "52653d97aa8b4e7b879b9ddec95d6f23": {
     "model_module": "@jupyter-widgets/controls",
     "model_name": "HBoxModel",
     "state": {
      "_dom_classes": [],
      "_model_module": "@jupyter-widgets/controls",
      "_model_module_version": "1.5.0",
      "_model_name": "HBoxModel",
      "_view_count": null,
      "_view_module": "@jupyter-widgets/controls",
      "_view_module_version": "1.5.0",
      "_view_name": "HBoxView",
      "box_style": "",
      "children": [
       "IPY_MODEL_69741ae9faa040dda56320a6193b4278",
       "IPY_MODEL_b42b6246c8b04fe98ddbc9ec4c83b07d"
      ],
      "layout": "IPY_MODEL_6bc10673ee8247dca4e00067d75e0db4"
     }
    },
    "52a1a7beb32142bdbd1bde8d04040f11": {
     "model_module": "@jupyter-widgets/controls",
     "model_name": "HBoxModel",
     "state": {
      "_dom_classes": [],
      "_model_module": "@jupyter-widgets/controls",
      "_model_module_version": "1.5.0",
      "_model_name": "HBoxModel",
      "_view_count": null,
      "_view_module": "@jupyter-widgets/controls",
      "_view_module_version": "1.5.0",
      "_view_name": "HBoxView",
      "box_style": "",
      "children": [
       "IPY_MODEL_56a37fdcdede43e09307878fb354af1a",
       "IPY_MODEL_5e0bd74ab6864c0590d78b9c956b1c80"
      ],
      "layout": "IPY_MODEL_8549882ea268438ab560dc21bbc15507"
     }
    },
    "531ae41ff9d846fda44667bcccb8cc29": {
     "model_module": "@jupyter-widgets/base",
     "model_name": "LayoutModel",
     "state": {
      "_model_module": "@jupyter-widgets/base",
      "_model_module_version": "1.2.0",
      "_model_name": "LayoutModel",
      "_view_count": null,
      "_view_module": "@jupyter-widgets/base",
      "_view_module_version": "1.2.0",
      "_view_name": "LayoutView",
      "align_content": null,
      "align_items": null,
      "align_self": null,
      "border": null,
      "bottom": null,
      "display": null,
      "flex": null,
      "flex_flow": null,
      "grid_area": null,
      "grid_auto_columns": null,
      "grid_auto_flow": null,
      "grid_auto_rows": null,
      "grid_column": null,
      "grid_gap": null,
      "grid_row": null,
      "grid_template_areas": null,
      "grid_template_columns": null,
      "grid_template_rows": null,
      "height": null,
      "justify_content": null,
      "justify_items": null,
      "left": null,
      "margin": null,
      "max_height": null,
      "max_width": null,
      "min_height": null,
      "min_width": null,
      "object_fit": null,
      "object_position": null,
      "order": null,
      "overflow": null,
      "overflow_x": null,
      "overflow_y": null,
      "padding": null,
      "right": null,
      "top": null,
      "visibility": null,
      "width": null
     }
    },
    "53d97c0839ca4c309dbf0d09ae043767": {
     "model_module": "@jupyter-widgets/controls",
     "model_name": "ProgressStyleModel",
     "state": {
      "_model_module": "@jupyter-widgets/controls",
      "_model_module_version": "1.5.0",
      "_model_name": "ProgressStyleModel",
      "_view_count": null,
      "_view_module": "@jupyter-widgets/base",
      "_view_module_version": "1.2.0",
      "_view_name": "StyleView",
      "bar_color": null,
      "description_width": "initial"
     }
    },
    "53ddcdcfd016415cac8dc88905cb319b": {
     "model_module": "@jupyter-widgets/base",
     "model_name": "LayoutModel",
     "state": {
      "_model_module": "@jupyter-widgets/base",
      "_model_module_version": "1.2.0",
      "_model_name": "LayoutModel",
      "_view_count": null,
      "_view_module": "@jupyter-widgets/base",
      "_view_module_version": "1.2.0",
      "_view_name": "LayoutView",
      "align_content": null,
      "align_items": null,
      "align_self": null,
      "border": null,
      "bottom": null,
      "display": null,
      "flex": null,
      "flex_flow": null,
      "grid_area": null,
      "grid_auto_columns": null,
      "grid_auto_flow": null,
      "grid_auto_rows": null,
      "grid_column": null,
      "grid_gap": null,
      "grid_row": null,
      "grid_template_areas": null,
      "grid_template_columns": null,
      "grid_template_rows": null,
      "height": null,
      "justify_content": null,
      "justify_items": null,
      "left": null,
      "margin": null,
      "max_height": null,
      "max_width": null,
      "min_height": null,
      "min_width": null,
      "object_fit": null,
      "object_position": null,
      "order": null,
      "overflow": null,
      "overflow_x": null,
      "overflow_y": null,
      "padding": null,
      "right": null,
      "top": null,
      "visibility": null,
      "width": null
     }
    },
    "56a37fdcdede43e09307878fb354af1a": {
     "model_module": "@jupyter-widgets/controls",
     "model_name": "FloatProgressModel",
     "state": {
      "_dom_classes": [],
      "_model_module": "@jupyter-widgets/controls",
      "_model_module_version": "1.5.0",
      "_model_name": "FloatProgressModel",
      "_view_count": null,
      "_view_module": "@jupyter-widgets/controls",
      "_view_module_version": "1.5.0",
      "_view_name": "ProgressView",
      "bar_style": "success",
      "description": "Batches: 100%",
      "description_tooltip": null,
      "layout": "IPY_MODEL_c89b93b7ce6542d6a997d2ce8640ac31",
      "max": 1,
      "min": 0,
      "orientation": "horizontal",
      "style": "IPY_MODEL_876a2295b8344789ae18c5221bfbed8b",
      "value": 1
     }
    },
    "5bfd254f96be448faecfa224c9983b89": {
     "model_module": "@jupyter-widgets/controls",
     "model_name": "HTMLModel",
     "state": {
      "_dom_classes": [],
      "_model_module": "@jupyter-widgets/controls",
      "_model_module_version": "1.5.0",
      "_model_name": "HTMLModel",
      "_view_count": null,
      "_view_module": "@jupyter-widgets/controls",
      "_view_module_version": "1.5.0",
      "_view_name": "HTMLView",
      "description": "",
      "description_tooltip": null,
      "layout": "IPY_MODEL_e30f95baf8654150b766e97ab9ee217d",
      "placeholder": "​",
      "style": "IPY_MODEL_28cdeddee1914c558e321ebac41568dc",
      "value": " 239/239 [00:00&lt;00:00, 703B/s]"
     }
    },
    "5c909d47bdae4bd2beadde574ceed561": {
     "model_module": "@jupyter-widgets/controls",
     "model_name": "HTMLModel",
     "state": {
      "_dom_classes": [],
      "_model_module": "@jupyter-widgets/controls",
      "_model_module_version": "1.5.0",
      "_model_name": "HTMLModel",
      "_view_count": null,
      "_view_module": "@jupyter-widgets/controls",
      "_view_module_version": "1.5.0",
      "_view_name": "HTMLView",
      "description": "",
      "description_tooltip": null,
      "layout": "IPY_MODEL_11fbe7a9696e4f15becec89b1c09391a",
      "placeholder": "​",
      "style": "IPY_MODEL_37bca2cb6f8d4161bfe46c655c184d3d",
      "value": " 1.11k/1.11k [00:00&lt;00:00, 1.46kB/s]"
     }
    },
    "5cf7bafa756c4e93ab70a4bacf248f18": {
     "model_module": "@jupyter-widgets/controls",
     "model_name": "DescriptionStyleModel",
     "state": {
      "_model_module": "@jupyter-widgets/controls",
      "_model_module_version": "1.5.0",
      "_model_name": "DescriptionStyleModel",
      "_view_count": null,
      "_view_module": "@jupyter-widgets/base",
      "_view_module_version": "1.2.0",
      "_view_name": "StyleView",
      "description_width": ""
     }
    },
    "5d82f8bcf4ea4b70b1fd5dfefcc60b90": {
     "model_module": "@jupyter-widgets/base",
     "model_name": "LayoutModel",
     "state": {
      "_model_module": "@jupyter-widgets/base",
      "_model_module_version": "1.2.0",
      "_model_name": "LayoutModel",
      "_view_count": null,
      "_view_module": "@jupyter-widgets/base",
      "_view_module_version": "1.2.0",
      "_view_name": "LayoutView",
      "align_content": null,
      "align_items": null,
      "align_self": null,
      "border": null,
      "bottom": null,
      "display": null,
      "flex": null,
      "flex_flow": null,
      "grid_area": null,
      "grid_auto_columns": null,
      "grid_auto_flow": null,
      "grid_auto_rows": null,
      "grid_column": null,
      "grid_gap": null,
      "grid_row": null,
      "grid_template_areas": null,
      "grid_template_columns": null,
      "grid_template_rows": null,
      "height": null,
      "justify_content": null,
      "justify_items": null,
      "left": null,
      "margin": null,
      "max_height": null,
      "max_width": null,
      "min_height": null,
      "min_width": null,
      "object_fit": null,
      "object_position": null,
      "order": null,
      "overflow": null,
      "overflow_x": null,
      "overflow_y": null,
      "padding": null,
      "right": null,
      "top": null,
      "visibility": null,
      "width": null
     }
    },
    "5d90c42e5ae14090a685b2e9b1f0b81c": {
     "model_module": "@jupyter-widgets/base",
     "model_name": "LayoutModel",
     "state": {
      "_model_module": "@jupyter-widgets/base",
      "_model_module_version": "1.2.0",
      "_model_name": "LayoutModel",
      "_view_count": null,
      "_view_module": "@jupyter-widgets/base",
      "_view_module_version": "1.2.0",
      "_view_name": "LayoutView",
      "align_content": null,
      "align_items": null,
      "align_self": null,
      "border": null,
      "bottom": null,
      "display": null,
      "flex": null,
      "flex_flow": null,
      "grid_area": null,
      "grid_auto_columns": null,
      "grid_auto_flow": null,
      "grid_auto_rows": null,
      "grid_column": null,
      "grid_gap": null,
      "grid_row": null,
      "grid_template_areas": null,
      "grid_template_columns": null,
      "grid_template_rows": null,
      "height": null,
      "justify_content": null,
      "justify_items": null,
      "left": null,
      "margin": null,
      "max_height": null,
      "max_width": null,
      "min_height": null,
      "min_width": null,
      "object_fit": null,
      "object_position": null,
      "order": null,
      "overflow": null,
      "overflow_x": null,
      "overflow_y": null,
      "padding": null,
      "right": null,
      "top": null,
      "visibility": null,
      "width": null
     }
    },
    "5e0bd74ab6864c0590d78b9c956b1c80": {
     "model_module": "@jupyter-widgets/controls",
     "model_name": "HTMLModel",
     "state": {
      "_dom_classes": [],
      "_model_module": "@jupyter-widgets/controls",
      "_model_module_version": "1.5.0",
      "_model_name": "HTMLModel",
      "_view_count": null,
      "_view_module": "@jupyter-widgets/controls",
      "_view_module_version": "1.5.0",
      "_view_name": "HTMLView",
      "description": "",
      "description_tooltip": null,
      "layout": "IPY_MODEL_ec5947cca28c4480afcdf2df5acb8008",
      "placeholder": "​",
      "style": "IPY_MODEL_2e6cddc524db45a8b85c4230db8ff5e6",
      "value": " 1/1 [39:29&lt;00:00, 2369.53s/it]"
     }
    },
    "5f07116c1eac4dbc835dc983a8be6bb9": {
     "model_module": "@jupyter-widgets/controls",
     "model_name": "ProgressStyleModel",
     "state": {
      "_model_module": "@jupyter-widgets/controls",
      "_model_module_version": "1.5.0",
      "_model_name": "ProgressStyleModel",
      "_view_count": null,
      "_view_module": "@jupyter-widgets/base",
      "_view_module_version": "1.2.0",
      "_view_name": "StyleView",
      "bar_color": null,
      "description_width": "initial"
     }
    },
    "60babf09f04a408dbc7c8f65b507e652": {
     "model_module": "@jupyter-widgets/controls",
     "model_name": "DescriptionStyleModel",
     "state": {
      "_model_module": "@jupyter-widgets/controls",
      "_model_module_version": "1.5.0",
      "_model_name": "DescriptionStyleModel",
      "_view_count": null,
      "_view_module": "@jupyter-widgets/base",
      "_view_module_version": "1.2.0",
      "_view_name": "StyleView",
      "description_width": ""
     }
    },
    "638575065b3a44e8bf81465e40ed9c07": {
     "model_module": "@jupyter-widgets/controls",
     "model_name": "HBoxModel",
     "state": {
      "_dom_classes": [],
      "_model_module": "@jupyter-widgets/controls",
      "_model_module_version": "1.5.0",
      "_model_name": "HBoxModel",
      "_view_count": null,
      "_view_module": "@jupyter-widgets/controls",
      "_view_module_version": "1.5.0",
      "_view_name": "HBoxView",
      "box_style": "",
      "children": [
       "IPY_MODEL_d12d615274bf44f4a438c1406cc3147d",
       "IPY_MODEL_cf838513752b4eb7b5b9eb36c4e6b821"
      ],
      "layout": "IPY_MODEL_f07f6c879c4641ceaddfb90f0bbe91c1"
     }
    },
    "6512169a36254b319bd201bd6ef5c2e2": {
     "model_module": "@jupyter-widgets/base",
     "model_name": "LayoutModel",
     "state": {
      "_model_module": "@jupyter-widgets/base",
      "_model_module_version": "1.2.0",
      "_model_name": "LayoutModel",
      "_view_count": null,
      "_view_module": "@jupyter-widgets/base",
      "_view_module_version": "1.2.0",
      "_view_name": "LayoutView",
      "align_content": null,
      "align_items": null,
      "align_self": null,
      "border": null,
      "bottom": null,
      "display": null,
      "flex": null,
      "flex_flow": null,
      "grid_area": null,
      "grid_auto_columns": null,
      "grid_auto_flow": null,
      "grid_auto_rows": null,
      "grid_column": null,
      "grid_gap": null,
      "grid_row": null,
      "grid_template_areas": null,
      "grid_template_columns": null,
      "grid_template_rows": null,
      "height": null,
      "justify_content": null,
      "justify_items": null,
      "left": null,
      "margin": null,
      "max_height": null,
      "max_width": null,
      "min_height": null,
      "min_width": null,
      "object_fit": null,
      "object_position": null,
      "order": null,
      "overflow": null,
      "overflow_x": null,
      "overflow_y": null,
      "padding": null,
      "right": null,
      "top": null,
      "visibility": null,
      "width": null
     }
    },
    "66574420f2fe4abc88fd517d212f22c0": {
     "model_module": "@jupyter-widgets/controls",
     "model_name": "HBoxModel",
     "state": {
      "_dom_classes": [],
      "_model_module": "@jupyter-widgets/controls",
      "_model_module_version": "1.5.0",
      "_model_name": "HBoxModel",
      "_view_count": null,
      "_view_module": "@jupyter-widgets/controls",
      "_view_module_version": "1.5.0",
      "_view_name": "HBoxView",
      "box_style": "",
      "children": [
       "IPY_MODEL_db349f79fec04dc99ce12193990fe346",
       "IPY_MODEL_fd934cdafd71456989a11cca5db35d43"
      ],
      "layout": "IPY_MODEL_2d2672840cc6410d927f7ae4827a38d6"
     }
    },
    "69741ae9faa040dda56320a6193b4278": {
     "model_module": "@jupyter-widgets/controls",
     "model_name": "FloatProgressModel",
     "state": {
      "_dom_classes": [],
      "_model_module": "@jupyter-widgets/controls",
      "_model_module_version": "1.5.0",
      "_model_name": "FloatProgressModel",
      "_view_count": null,
      "_view_module": "@jupyter-widgets/controls",
      "_view_module_version": "1.5.0",
      "_view_name": "ProgressView",
      "bar_style": "success",
      "description": "Batches: 100%",
      "description_tooltip": null,
      "layout": "IPY_MODEL_a829334c1eeb4b59abc7cbb52950c529",
      "max": 1,
      "min": 0,
      "orientation": "horizontal",
      "style": "IPY_MODEL_b84307cda4c445b4816287d2c157605e",
      "value": 1
     }
    },
    "6b21d1d26e6244aaaf6464a13c27df3d": {
     "model_module": "@jupyter-widgets/base",
     "model_name": "LayoutModel",
     "state": {
      "_model_module": "@jupyter-widgets/base",
      "_model_module_version": "1.2.0",
      "_model_name": "LayoutModel",
      "_view_count": null,
      "_view_module": "@jupyter-widgets/base",
      "_view_module_version": "1.2.0",
      "_view_name": "LayoutView",
      "align_content": null,
      "align_items": null,
      "align_self": null,
      "border": null,
      "bottom": null,
      "display": null,
      "flex": null,
      "flex_flow": null,
      "grid_area": null,
      "grid_auto_columns": null,
      "grid_auto_flow": null,
      "grid_auto_rows": null,
      "grid_column": null,
      "grid_gap": null,
      "grid_row": null,
      "grid_template_areas": null,
      "grid_template_columns": null,
      "grid_template_rows": null,
      "height": null,
      "justify_content": null,
      "justify_items": null,
      "left": null,
      "margin": null,
      "max_height": null,
      "max_width": null,
      "min_height": null,
      "min_width": null,
      "object_fit": null,
      "object_position": null,
      "order": null,
      "overflow": null,
      "overflow_x": null,
      "overflow_y": null,
      "padding": null,
      "right": null,
      "top": null,
      "visibility": null,
      "width": null
     }
    },
    "6bc10673ee8247dca4e00067d75e0db4": {
     "model_module": "@jupyter-widgets/base",
     "model_name": "LayoutModel",
     "state": {
      "_model_module": "@jupyter-widgets/base",
      "_model_module_version": "1.2.0",
      "_model_name": "LayoutModel",
      "_view_count": null,
      "_view_module": "@jupyter-widgets/base",
      "_view_module_version": "1.2.0",
      "_view_name": "LayoutView",
      "align_content": null,
      "align_items": null,
      "align_self": null,
      "border": null,
      "bottom": null,
      "display": null,
      "flex": null,
      "flex_flow": null,
      "grid_area": null,
      "grid_auto_columns": null,
      "grid_auto_flow": null,
      "grid_auto_rows": null,
      "grid_column": null,
      "grid_gap": null,
      "grid_row": null,
      "grid_template_areas": null,
      "grid_template_columns": null,
      "grid_template_rows": null,
      "height": null,
      "justify_content": null,
      "justify_items": null,
      "left": null,
      "margin": null,
      "max_height": null,
      "max_width": null,
      "min_height": null,
      "min_width": null,
      "object_fit": null,
      "object_position": null,
      "order": null,
      "overflow": null,
      "overflow_x": null,
      "overflow_y": null,
      "padding": null,
      "right": null,
      "top": null,
      "visibility": null,
      "width": null
     }
    },
    "7231fa8d453c49f4af993223b43d7cc8": {
     "model_module": "@jupyter-widgets/controls",
     "model_name": "HTMLModel",
     "state": {
      "_dom_classes": [],
      "_model_module": "@jupyter-widgets/controls",
      "_model_module_version": "1.5.0",
      "_model_name": "HTMLModel",
      "_view_count": null,
      "_view_module": "@jupyter-widgets/controls",
      "_view_module_version": "1.5.0",
      "_view_name": "HTMLView",
      "description": "",
      "description_tooltip": null,
      "layout": "IPY_MODEL_fb6ce3776ab64209910bd4fa95d25756",
      "placeholder": "​",
      "style": "IPY_MODEL_4265d68ce48549eab960c9dbd8a285cd",
      "value": " 3.66k/3.66k [00:00&lt;00:00, 4.20kB/s]"
     }
    },
    "7250d14892ce46f1b4a4a8a8b4f04e2f": {
     "model_module": "@jupyter-widgets/controls",
     "model_name": "HBoxModel",
     "state": {
      "_dom_classes": [],
      "_model_module": "@jupyter-widgets/controls",
      "_model_module_version": "1.5.0",
      "_model_name": "HBoxModel",
      "_view_count": null,
      "_view_module": "@jupyter-widgets/controls",
      "_view_module_version": "1.5.0",
      "_view_name": "HBoxView",
      "box_style": "",
      "children": [
       "IPY_MODEL_3b366b9125b24f7b8cf6fbcabcf5bed5",
       "IPY_MODEL_ae2e80d2ff744b28adaf8bb3197d2c68"
      ],
      "layout": "IPY_MODEL_a1ffdc2ce20b40f18bde1ed11d0de2df"
     }
    },
    "786ee299d18c4caeb341be72d01e176c": {
     "model_module": "@jupyter-widgets/controls",
     "model_name": "HTMLModel",
     "state": {
      "_dom_classes": [],
      "_model_module": "@jupyter-widgets/controls",
      "_model_module_version": "1.5.0",
      "_model_name": "HTMLModel",
      "_view_count": null,
      "_view_module": "@jupyter-widgets/controls",
      "_view_module_version": "1.5.0",
      "_view_name": "HTMLView",
      "description": "",
      "description_tooltip": null,
      "layout": "IPY_MODEL_ecfc0d8589fc4f4db5c69b589456b70c",
      "placeholder": "​",
      "style": "IPY_MODEL_fe8237ff3c7d45589889b8cd78861239",
      "value": " 675/675 [00:00&lt;00:00, 1.25kB/s]"
     }
    },
    "7986f1cda23147a4b6712cf7d3e3a8f0": {
     "model_module": "@jupyter-widgets/base",
     "model_name": "LayoutModel",
     "state": {
      "_model_module": "@jupyter-widgets/base",
      "_model_module_version": "1.2.0",
      "_model_name": "LayoutModel",
      "_view_count": null,
      "_view_module": "@jupyter-widgets/base",
      "_view_module_version": "1.2.0",
      "_view_name": "LayoutView",
      "align_content": null,
      "align_items": null,
      "align_self": null,
      "border": null,
      "bottom": null,
      "display": null,
      "flex": null,
      "flex_flow": null,
      "grid_area": null,
      "grid_auto_columns": null,
      "grid_auto_flow": null,
      "grid_auto_rows": null,
      "grid_column": null,
      "grid_gap": null,
      "grid_row": null,
      "grid_template_areas": null,
      "grid_template_columns": null,
      "grid_template_rows": null,
      "height": null,
      "justify_content": null,
      "justify_items": null,
      "left": null,
      "margin": null,
      "max_height": null,
      "max_width": null,
      "min_height": null,
      "min_width": null,
      "object_fit": null,
      "object_position": null,
      "order": null,
      "overflow": null,
      "overflow_x": null,
      "overflow_y": null,
      "padding": null,
      "right": null,
      "top": null,
      "visibility": null,
      "width": null
     }
    },
    "7d99780b04f94900a9cf03c4179f5ff3": {
     "model_module": "@jupyter-widgets/controls",
     "model_name": "HBoxModel",
     "state": {
      "_dom_classes": [],
      "_model_module": "@jupyter-widgets/controls",
      "_model_module_version": "1.5.0",
      "_model_name": "HBoxModel",
      "_view_count": null,
      "_view_module": "@jupyter-widgets/controls",
      "_view_module_version": "1.5.0",
      "_view_name": "HBoxView",
      "box_style": "",
      "children": [
       "IPY_MODEL_dacedf377a214bdfb0c8ed2c084f4192",
       "IPY_MODEL_44a67c183c104d408d96e8d93eba7343"
      ],
      "layout": "IPY_MODEL_45b9ad5d343b4ea8b7d75cf890d7668b"
     }
    },
    "7db2eca174e74b82ad0723d116a94f7a": {
     "model_module": "@jupyter-widgets/base",
     "model_name": "LayoutModel",
     "state": {
      "_model_module": "@jupyter-widgets/base",
      "_model_module_version": "1.2.0",
      "_model_name": "LayoutModel",
      "_view_count": null,
      "_view_module": "@jupyter-widgets/base",
      "_view_module_version": "1.2.0",
      "_view_name": "LayoutView",
      "align_content": null,
      "align_items": null,
      "align_self": null,
      "border": null,
      "bottom": null,
      "display": null,
      "flex": null,
      "flex_flow": null,
      "grid_area": null,
      "grid_auto_columns": null,
      "grid_auto_flow": null,
      "grid_auto_rows": null,
      "grid_column": null,
      "grid_gap": null,
      "grid_row": null,
      "grid_template_areas": null,
      "grid_template_columns": null,
      "grid_template_rows": null,
      "height": null,
      "justify_content": null,
      "justify_items": null,
      "left": null,
      "margin": null,
      "max_height": null,
      "max_width": null,
      "min_height": null,
      "min_width": null,
      "object_fit": null,
      "object_position": null,
      "order": null,
      "overflow": null,
      "overflow_x": null,
      "overflow_y": null,
      "padding": null,
      "right": null,
      "top": null,
      "visibility": null,
      "width": null
     }
    },
    "8549882ea268438ab560dc21bbc15507": {
     "model_module": "@jupyter-widgets/base",
     "model_name": "LayoutModel",
     "state": {
      "_model_module": "@jupyter-widgets/base",
      "_model_module_version": "1.2.0",
      "_model_name": "LayoutModel",
      "_view_count": null,
      "_view_module": "@jupyter-widgets/base",
      "_view_module_version": "1.2.0",
      "_view_name": "LayoutView",
      "align_content": null,
      "align_items": null,
      "align_self": null,
      "border": null,
      "bottom": null,
      "display": null,
      "flex": null,
      "flex_flow": null,
      "grid_area": null,
      "grid_auto_columns": null,
      "grid_auto_flow": null,
      "grid_auto_rows": null,
      "grid_column": null,
      "grid_gap": null,
      "grid_row": null,
      "grid_template_areas": null,
      "grid_template_columns": null,
      "grid_template_rows": null,
      "height": null,
      "justify_content": null,
      "justify_items": null,
      "left": null,
      "margin": null,
      "max_height": null,
      "max_width": null,
      "min_height": null,
      "min_width": null,
      "object_fit": null,
      "object_position": null,
      "order": null,
      "overflow": null,
      "overflow_x": null,
      "overflow_y": null,
      "padding": null,
      "right": null,
      "top": null,
      "visibility": null,
      "width": null
     }
    },
    "8667655cdee84514a84e27ae494d36f3": {
     "model_module": "@jupyter-widgets/controls",
     "model_name": "FloatProgressModel",
     "state": {
      "_dom_classes": [],
      "_model_module": "@jupyter-widgets/controls",
      "_model_module_version": "1.5.0",
      "_model_name": "FloatProgressModel",
      "_view_count": null,
      "_view_module": "@jupyter-widgets/controls",
      "_view_module_version": "1.5.0",
      "_view_name": "ProgressView",
      "bar_style": "success",
      "description": "Downloading: 100%",
      "description_tooltip": null,
      "layout": "IPY_MODEL_2615a85ec0c94388aae3a9a22ead5ff5",
      "max": 239,
      "min": 0,
      "orientation": "horizontal",
      "style": "IPY_MODEL_0b612c8e19e44a71bf04148467dc32af",
      "value": 239
     }
    },
    "876a2295b8344789ae18c5221bfbed8b": {
     "model_module": "@jupyter-widgets/controls",
     "model_name": "ProgressStyleModel",
     "state": {
      "_model_module": "@jupyter-widgets/controls",
      "_model_module_version": "1.5.0",
      "_model_name": "ProgressStyleModel",
      "_view_count": null,
      "_view_module": "@jupyter-widgets/base",
      "_view_module_version": "1.2.0",
      "_view_name": "StyleView",
      "bar_color": null,
      "description_width": "initial"
     }
    },
    "879f5c0ffa5e44619b8cd67b2b460f21": {
     "model_module": "@jupyter-widgets/controls",
     "model_name": "FloatProgressModel",
     "state": {
      "_dom_classes": [],
      "_model_module": "@jupyter-widgets/controls",
      "_model_module_version": "1.5.0",
      "_model_name": "FloatProgressModel",
      "_view_count": null,
      "_view_module": "@jupyter-widgets/controls",
      "_view_module_version": "1.5.0",
      "_view_name": "ProgressView",
      "bar_style": "success",
      "description": "Downloading: 100%",
      "description_tooltip": null,
      "layout": "IPY_MODEL_5d90c42e5ae14090a685b2e9b1f0b81c",
      "max": 675,
      "min": 0,
      "orientation": "horizontal",
      "style": "IPY_MODEL_e39f4109729e44b68a29c616d5be488e",
      "value": 675
     }
    },
    "89e9cd47c6044cb59ff3c28f1ee0bc64": {
     "model_module": "@jupyter-widgets/base",
     "model_name": "LayoutModel",
     "state": {
      "_model_module": "@jupyter-widgets/base",
      "_model_module_version": "1.2.0",
      "_model_name": "LayoutModel",
      "_view_count": null,
      "_view_module": "@jupyter-widgets/base",
      "_view_module_version": "1.2.0",
      "_view_name": "LayoutView",
      "align_content": null,
      "align_items": null,
      "align_self": null,
      "border": null,
      "bottom": null,
      "display": null,
      "flex": null,
      "flex_flow": null,
      "grid_area": null,
      "grid_auto_columns": null,
      "grid_auto_flow": null,
      "grid_auto_rows": null,
      "grid_column": null,
      "grid_gap": null,
      "grid_row": null,
      "grid_template_areas": null,
      "grid_template_columns": null,
      "grid_template_rows": null,
      "height": null,
      "justify_content": null,
      "justify_items": null,
      "left": null,
      "margin": null,
      "max_height": null,
      "max_width": null,
      "min_height": null,
      "min_width": null,
      "object_fit": null,
      "object_position": null,
      "order": null,
      "overflow": null,
      "overflow_x": null,
      "overflow_y": null,
      "padding": null,
      "right": null,
      "top": null,
      "visibility": null,
      "width": null
     }
    },
    "8c743de1e96649be8e6ad98471cee960": {
     "model_module": "@jupyter-widgets/controls",
     "model_name": "ProgressStyleModel",
     "state": {
      "_model_module": "@jupyter-widgets/controls",
      "_model_module_version": "1.5.0",
      "_model_name": "ProgressStyleModel",
      "_view_count": null,
      "_view_module": "@jupyter-widgets/base",
      "_view_module_version": "1.2.0",
      "_view_name": "StyleView",
      "bar_color": null,
      "description_width": "initial"
     }
    },
    "91e040993c0c48979780c18403917e9c": {
     "model_module": "@jupyter-widgets/controls",
     "model_name": "ProgressStyleModel",
     "state": {
      "_model_module": "@jupyter-widgets/controls",
      "_model_module_version": "1.5.0",
      "_model_name": "ProgressStyleModel",
      "_view_count": null,
      "_view_module": "@jupyter-widgets/base",
      "_view_module_version": "1.2.0",
      "_view_name": "StyleView",
      "bar_color": null,
      "description_width": "initial"
     }
    },
    "941c292f7faa4d22a55d198bdb728c76": {
     "model_module": "@jupyter-widgets/base",
     "model_name": "LayoutModel",
     "state": {
      "_model_module": "@jupyter-widgets/base",
      "_model_module_version": "1.2.0",
      "_model_name": "LayoutModel",
      "_view_count": null,
      "_view_module": "@jupyter-widgets/base",
      "_view_module_version": "1.2.0",
      "_view_name": "LayoutView",
      "align_content": null,
      "align_items": null,
      "align_self": null,
      "border": null,
      "bottom": null,
      "display": null,
      "flex": null,
      "flex_flow": null,
      "grid_area": null,
      "grid_auto_columns": null,
      "grid_auto_flow": null,
      "grid_auto_rows": null,
      "grid_column": null,
      "grid_gap": null,
      "grid_row": null,
      "grid_template_areas": null,
      "grid_template_columns": null,
      "grid_template_rows": null,
      "height": null,
      "justify_content": null,
      "justify_items": null,
      "left": null,
      "margin": null,
      "max_height": null,
      "max_width": null,
      "min_height": null,
      "min_width": null,
      "object_fit": null,
      "object_position": null,
      "order": null,
      "overflow": null,
      "overflow_x": null,
      "overflow_y": null,
      "padding": null,
      "right": null,
      "top": null,
      "visibility": null,
      "width": null
     }
    },
    "971188ff4f74431e909997a74b6ab6fe": {
     "model_module": "@jupyter-widgets/base",
     "model_name": "LayoutModel",
     "state": {
      "_model_module": "@jupyter-widgets/base",
      "_model_module_version": "1.2.0",
      "_model_name": "LayoutModel",
      "_view_count": null,
      "_view_module": "@jupyter-widgets/base",
      "_view_module_version": "1.2.0",
      "_view_name": "LayoutView",
      "align_content": null,
      "align_items": null,
      "align_self": null,
      "border": null,
      "bottom": null,
      "display": null,
      "flex": null,
      "flex_flow": null,
      "grid_area": null,
      "grid_auto_columns": null,
      "grid_auto_flow": null,
      "grid_auto_rows": null,
      "grid_column": null,
      "grid_gap": null,
      "grid_row": null,
      "grid_template_areas": null,
      "grid_template_columns": null,
      "grid_template_rows": null,
      "height": null,
      "justify_content": null,
      "justify_items": null,
      "left": null,
      "margin": null,
      "max_height": null,
      "max_width": null,
      "min_height": null,
      "min_width": null,
      "object_fit": null,
      "object_position": null,
      "order": null,
      "overflow": null,
      "overflow_x": null,
      "overflow_y": null,
      "padding": null,
      "right": null,
      "top": null,
      "visibility": null,
      "width": null
     }
    },
    "9db6b09243d94083bc2c180341f62a78": {
     "model_module": "@jupyter-widgets/controls",
     "model_name": "FloatProgressModel",
     "state": {
      "_dom_classes": [],
      "_model_module": "@jupyter-widgets/controls",
      "_model_module_version": "1.5.0",
      "_model_name": "FloatProgressModel",
      "_view_count": null,
      "_view_module": "@jupyter-widgets/controls",
      "_view_module_version": "1.5.0",
      "_view_name": "ProgressView",
      "bar_style": "success",
      "description": "Downloading: 100%",
      "description_tooltip": null,
      "layout": "IPY_MODEL_c663c5354141405b9f810339bc94e348",
      "max": 3660,
      "min": 0,
      "orientation": "horizontal",
      "style": "IPY_MODEL_91e040993c0c48979780c18403917e9c",
      "value": 3660
     }
    },
    "a0a51c1693a04813addde6170caf88f4": {
     "model_module": "@jupyter-widgets/controls",
     "model_name": "ProgressStyleModel",
     "state": {
      "_model_module": "@jupyter-widgets/controls",
      "_model_module_version": "1.5.0",
      "_model_name": "ProgressStyleModel",
      "_view_count": null,
      "_view_module": "@jupyter-widgets/base",
      "_view_module_version": "1.2.0",
      "_view_name": "StyleView",
      "bar_color": null,
      "description_width": "initial"
     }
    },
    "a1ffdc2ce20b40f18bde1ed11d0de2df": {
     "model_module": "@jupyter-widgets/base",
     "model_name": "LayoutModel",
     "state": {
      "_model_module": "@jupyter-widgets/base",
      "_model_module_version": "1.2.0",
      "_model_name": "LayoutModel",
      "_view_count": null,
      "_view_module": "@jupyter-widgets/base",
      "_view_module_version": "1.2.0",
      "_view_name": "LayoutView",
      "align_content": null,
      "align_items": null,
      "align_self": null,
      "border": null,
      "bottom": null,
      "display": null,
      "flex": null,
      "flex_flow": null,
      "grid_area": null,
      "grid_auto_columns": null,
      "grid_auto_flow": null,
      "grid_auto_rows": null,
      "grid_column": null,
      "grid_gap": null,
      "grid_row": null,
      "grid_template_areas": null,
      "grid_template_columns": null,
      "grid_template_rows": null,
      "height": null,
      "justify_content": null,
      "justify_items": null,
      "left": null,
      "margin": null,
      "max_height": null,
      "max_width": null,
      "min_height": null,
      "min_width": null,
      "object_fit": null,
      "object_position": null,
      "order": null,
      "overflow": null,
      "overflow_x": null,
      "overflow_y": null,
      "padding": null,
      "right": null,
      "top": null,
      "visibility": null,
      "width": null
     }
    },
    "a3143a31af014683b3b9b1714ff9b41c": {
     "model_module": "@jupyter-widgets/controls",
     "model_name": "DescriptionStyleModel",
     "state": {
      "_model_module": "@jupyter-widgets/controls",
      "_model_module_version": "1.5.0",
      "_model_name": "DescriptionStyleModel",
      "_view_count": null,
      "_view_module": "@jupyter-widgets/base",
      "_view_module_version": "1.2.0",
      "_view_name": "StyleView",
      "description_width": ""
     }
    },
    "a5f568df10904081b987978b9b30940c": {
     "model_module": "@jupyter-widgets/controls",
     "model_name": "ProgressStyleModel",
     "state": {
      "_model_module": "@jupyter-widgets/controls",
      "_model_module_version": "1.5.0",
      "_model_name": "ProgressStyleModel",
      "_view_count": null,
      "_view_module": "@jupyter-widgets/base",
      "_view_module_version": "1.2.0",
      "_view_name": "StyleView",
      "bar_color": null,
      "description_width": "initial"
     }
    },
    "a829334c1eeb4b59abc7cbb52950c529": {
     "model_module": "@jupyter-widgets/base",
     "model_name": "LayoutModel",
     "state": {
      "_model_module": "@jupyter-widgets/base",
      "_model_module_version": "1.2.0",
      "_model_name": "LayoutModel",
      "_view_count": null,
      "_view_module": "@jupyter-widgets/base",
      "_view_module_version": "1.2.0",
      "_view_name": "LayoutView",
      "align_content": null,
      "align_items": null,
      "align_self": null,
      "border": null,
      "bottom": null,
      "display": null,
      "flex": null,
      "flex_flow": null,
      "grid_area": null,
      "grid_auto_columns": null,
      "grid_auto_flow": null,
      "grid_auto_rows": null,
      "grid_column": null,
      "grid_gap": null,
      "grid_row": null,
      "grid_template_areas": null,
      "grid_template_columns": null,
      "grid_template_rows": null,
      "height": null,
      "justify_content": null,
      "justify_items": null,
      "left": null,
      "margin": null,
      "max_height": null,
      "max_width": null,
      "min_height": null,
      "min_width": null,
      "object_fit": null,
      "object_position": null,
      "order": null,
      "overflow": null,
      "overflow_x": null,
      "overflow_y": null,
      "padding": null,
      "right": null,
      "top": null,
      "visibility": null,
      "width": null
     }
    },
    "abe489cd15c44d13b6e647eefc0d5bf1": {
     "model_module": "@jupyter-widgets/base",
     "model_name": "LayoutModel",
     "state": {
      "_model_module": "@jupyter-widgets/base",
      "_model_module_version": "1.2.0",
      "_model_name": "LayoutModel",
      "_view_count": null,
      "_view_module": "@jupyter-widgets/base",
      "_view_module_version": "1.2.0",
      "_view_name": "LayoutView",
      "align_content": null,
      "align_items": null,
      "align_self": null,
      "border": null,
      "bottom": null,
      "display": null,
      "flex": null,
      "flex_flow": null,
      "grid_area": null,
      "grid_auto_columns": null,
      "grid_auto_flow": null,
      "grid_auto_rows": null,
      "grid_column": null,
      "grid_gap": null,
      "grid_row": null,
      "grid_template_areas": null,
      "grid_template_columns": null,
      "grid_template_rows": null,
      "height": null,
      "justify_content": null,
      "justify_items": null,
      "left": null,
      "margin": null,
      "max_height": null,
      "max_width": null,
      "min_height": null,
      "min_width": null,
      "object_fit": null,
      "object_position": null,
      "order": null,
      "overflow": null,
      "overflow_x": null,
      "overflow_y": null,
      "padding": null,
      "right": null,
      "top": null,
      "visibility": null,
      "width": null
     }
    },
    "acb16cd9830340b4b27edebc45b3de77": {
     "model_module": "@jupyter-widgets/controls",
     "model_name": "HTMLModel",
     "state": {
      "_dom_classes": [],
      "_model_module": "@jupyter-widgets/controls",
      "_model_module_version": "1.5.0",
      "_model_name": "HTMLModel",
      "_view_count": null,
      "_view_module": "@jupyter-widgets/controls",
      "_view_module_version": "1.5.0",
      "_view_name": "HTMLView",
      "description": "",
      "description_tooltip": null,
      "layout": "IPY_MODEL_511142e31c124956ae1180623395f739",
      "placeholder": "​",
      "style": "IPY_MODEL_eb43ee3da1bc49b2aba9cb6bee948880",
      "value": " 1.09k/1.09k [00:18&lt;00:00, 59.6B/s]"
     }
    },
    "ad732fdfb3aa4d27ab1cdf423178f72e": {
     "model_module": "@jupyter-widgets/controls",
     "model_name": "DescriptionStyleModel",
     "state": {
      "_model_module": "@jupyter-widgets/controls",
      "_model_module_version": "1.5.0",
      "_model_name": "DescriptionStyleModel",
      "_view_count": null,
      "_view_module": "@jupyter-widgets/base",
      "_view_module_version": "1.2.0",
      "_view_name": "StyleView",
      "description_width": ""
     }
    },
    "ae2e80d2ff744b28adaf8bb3197d2c68": {
     "model_module": "@jupyter-widgets/controls",
     "model_name": "HTMLModel",
     "state": {
      "_dom_classes": [],
      "_model_module": "@jupyter-widgets/controls",
      "_model_module_version": "1.5.0",
      "_model_name": "HTMLModel",
      "_view_count": null,
      "_view_module": "@jupyter-widgets/controls",
      "_view_module_version": "1.5.0",
      "_view_name": "HTMLView",
      "description": "",
      "description_tooltip": null,
      "layout": "IPY_MODEL_375a2b79ee9b47a1b8c25106a1d72b33",
      "placeholder": "​",
      "style": "IPY_MODEL_bdb02d14884a4bd2958d72a9d7394976",
      "value": " 1.36M/1.36M [00:02&lt;00:00, 630kB/s]"
     }
    },
    "aeaa8c71112f422f8a0062c75ce20afd": {
     "model_module": "@jupyter-widgets/controls",
     "model_name": "FloatProgressModel",
     "state": {
      "_dom_classes": [],
      "_model_module": "@jupyter-widgets/controls",
      "_model_module_version": "1.5.0",
      "_model_name": "FloatProgressModel",
      "_view_count": null,
      "_view_module": "@jupyter-widgets/controls",
      "_view_module_version": "1.5.0",
      "_view_name": "ProgressView",
      "bar_style": "success",
      "description": "Downloading: 100%",
      "description_tooltip": null,
      "layout": "IPY_MODEL_defd7cf283554f9699c04b706c8d57fa",
      "max": 52,
      "min": 0,
      "orientation": "horizontal",
      "style": "IPY_MODEL_b284267f3c8d490a917cc89ee4daf09a",
      "value": 52
     }
    },
    "b1580a658798425db2ed9a513e6ae3cf": {
     "model_module": "@jupyter-widgets/controls",
     "model_name": "HBoxModel",
     "state": {
      "_dom_classes": [],
      "_model_module": "@jupyter-widgets/controls",
      "_model_module_version": "1.5.0",
      "_model_name": "HBoxModel",
      "_view_count": null,
      "_view_module": "@jupyter-widgets/controls",
      "_view_module_version": "1.5.0",
      "_view_name": "HBoxView",
      "box_style": "",
      "children": [
       "IPY_MODEL_cdf1656732844629a30ea96f95240334",
       "IPY_MODEL_5c909d47bdae4bd2beadde574ceed561"
      ],
      "layout": "IPY_MODEL_b6c22249ceb844019d817e26a4a3687b"
     }
    },
    "b284267f3c8d490a917cc89ee4daf09a": {
     "model_module": "@jupyter-widgets/controls",
     "model_name": "ProgressStyleModel",
     "state": {
      "_model_module": "@jupyter-widgets/controls",
      "_model_module_version": "1.5.0",
      "_model_name": "ProgressStyleModel",
      "_view_count": null,
      "_view_module": "@jupyter-widgets/base",
      "_view_module_version": "1.2.0",
      "_view_name": "StyleView",
      "bar_color": null,
      "description_width": "initial"
     }
    },
    "b382468767974d288358b8aa5e94dd92": {
     "model_module": "@jupyter-widgets/base",
     "model_name": "LayoutModel",
     "state": {
      "_model_module": "@jupyter-widgets/base",
      "_model_module_version": "1.2.0",
      "_model_name": "LayoutModel",
      "_view_count": null,
      "_view_module": "@jupyter-widgets/base",
      "_view_module_version": "1.2.0",
      "_view_name": "LayoutView",
      "align_content": null,
      "align_items": null,
      "align_self": null,
      "border": null,
      "bottom": null,
      "display": null,
      "flex": null,
      "flex_flow": null,
      "grid_area": null,
      "grid_auto_columns": null,
      "grid_auto_flow": null,
      "grid_auto_rows": null,
      "grid_column": null,
      "grid_gap": null,
      "grid_row": null,
      "grid_template_areas": null,
      "grid_template_columns": null,
      "grid_template_rows": null,
      "height": null,
      "justify_content": null,
      "justify_items": null,
      "left": null,
      "margin": null,
      "max_height": null,
      "max_width": null,
      "min_height": null,
      "min_width": null,
      "object_fit": null,
      "object_position": null,
      "order": null,
      "overflow": null,
      "overflow_x": null,
      "overflow_y": null,
      "padding": null,
      "right": null,
      "top": null,
      "visibility": null,
      "width": null
     }
    },
    "b42b6246c8b04fe98ddbc9ec4c83b07d": {
     "model_module": "@jupyter-widgets/controls",
     "model_name": "HTMLModel",
     "state": {
      "_dom_classes": [],
      "_model_module": "@jupyter-widgets/controls",
      "_model_module_version": "1.5.0",
      "_model_name": "HTMLModel",
      "_view_count": null,
      "_view_module": "@jupyter-widgets/controls",
      "_view_module_version": "1.5.0",
      "_view_name": "HTMLView",
      "description": "",
      "description_tooltip": null,
      "layout": "IPY_MODEL_cb44ab6424cf452cad0b63bece2bd98f",
      "placeholder": "​",
      "style": "IPY_MODEL_ad732fdfb3aa4d27ab1cdf423178f72e",
      "value": " 1/1 [00:00&lt;00:00,  4.13it/s]"
     }
    },
    "b6367112aa1d4c7b949583247b7cabc1": {
     "model_module": "@jupyter-widgets/base",
     "model_name": "LayoutModel",
     "state": {
      "_model_module": "@jupyter-widgets/base",
      "_model_module_version": "1.2.0",
      "_model_name": "LayoutModel",
      "_view_count": null,
      "_view_module": "@jupyter-widgets/base",
      "_view_module_version": "1.2.0",
      "_view_name": "LayoutView",
      "align_content": null,
      "align_items": null,
      "align_self": null,
      "border": null,
      "bottom": null,
      "display": null,
      "flex": null,
      "flex_flow": null,
      "grid_area": null,
      "grid_auto_columns": null,
      "grid_auto_flow": null,
      "grid_auto_rows": null,
      "grid_column": null,
      "grid_gap": null,
      "grid_row": null,
      "grid_template_areas": null,
      "grid_template_columns": null,
      "grid_template_rows": null,
      "height": null,
      "justify_content": null,
      "justify_items": null,
      "left": null,
      "margin": null,
      "max_height": null,
      "max_width": null,
      "min_height": null,
      "min_width": null,
      "object_fit": null,
      "object_position": null,
      "order": null,
      "overflow": null,
      "overflow_x": null,
      "overflow_y": null,
      "padding": null,
      "right": null,
      "top": null,
      "visibility": null,
      "width": null
     }
    },
    "b6c22249ceb844019d817e26a4a3687b": {
     "model_module": "@jupyter-widgets/base",
     "model_name": "LayoutModel",
     "state": {
      "_model_module": "@jupyter-widgets/base",
      "_model_module_version": "1.2.0",
      "_model_name": "LayoutModel",
      "_view_count": null,
      "_view_module": "@jupyter-widgets/base",
      "_view_module_version": "1.2.0",
      "_view_name": "LayoutView",
      "align_content": null,
      "align_items": null,
      "align_self": null,
      "border": null,
      "bottom": null,
      "display": null,
      "flex": null,
      "flex_flow": null,
      "grid_area": null,
      "grid_auto_columns": null,
      "grid_auto_flow": null,
      "grid_auto_rows": null,
      "grid_column": null,
      "grid_gap": null,
      "grid_row": null,
      "grid_template_areas": null,
      "grid_template_columns": null,
      "grid_template_rows": null,
      "height": null,
      "justify_content": null,
      "justify_items": null,
      "left": null,
      "margin": null,
      "max_height": null,
      "max_width": null,
      "min_height": null,
      "min_width": null,
      "object_fit": null,
      "object_position": null,
      "order": null,
      "overflow": null,
      "overflow_x": null,
      "overflow_y": null,
      "padding": null,
      "right": null,
      "top": null,
      "visibility": null,
      "width": null
     }
    },
    "b84307cda4c445b4816287d2c157605e": {
     "model_module": "@jupyter-widgets/controls",
     "model_name": "ProgressStyleModel",
     "state": {
      "_model_module": "@jupyter-widgets/controls",
      "_model_module_version": "1.5.0",
      "_model_name": "ProgressStyleModel",
      "_view_count": null,
      "_view_module": "@jupyter-widgets/base",
      "_view_module_version": "1.2.0",
      "_view_name": "StyleView",
      "bar_color": null,
      "description_width": "initial"
     }
    },
    "b994d62b4aec43b6ab53fbff177d7c6f": {
     "model_module": "@jupyter-widgets/base",
     "model_name": "LayoutModel",
     "state": {
      "_model_module": "@jupyter-widgets/base",
      "_model_module_version": "1.2.0",
      "_model_name": "LayoutModel",
      "_view_count": null,
      "_view_module": "@jupyter-widgets/base",
      "_view_module_version": "1.2.0",
      "_view_name": "LayoutView",
      "align_content": null,
      "align_items": null,
      "align_self": null,
      "border": null,
      "bottom": null,
      "display": null,
      "flex": null,
      "flex_flow": null,
      "grid_area": null,
      "grid_auto_columns": null,
      "grid_auto_flow": null,
      "grid_auto_rows": null,
      "grid_column": null,
      "grid_gap": null,
      "grid_row": null,
      "grid_template_areas": null,
      "grid_template_columns": null,
      "grid_template_rows": null,
      "height": null,
      "justify_content": null,
      "justify_items": null,
      "left": null,
      "margin": null,
      "max_height": null,
      "max_width": null,
      "min_height": null,
      "min_width": null,
      "object_fit": null,
      "object_position": null,
      "order": null,
      "overflow": null,
      "overflow_x": null,
      "overflow_y": null,
      "padding": null,
      "right": null,
      "top": null,
      "visibility": null,
      "width": null
     }
    },
    "bb2b3f8b3a5746a5a2fec2385e90ce1e": {
     "model_module": "@jupyter-widgets/controls",
     "model_name": "HTMLModel",
     "state": {
      "_dom_classes": [],
      "_model_module": "@jupyter-widgets/controls",
      "_model_module_version": "1.5.0",
      "_model_name": "HTMLModel",
      "_view_count": null,
      "_view_module": "@jupyter-widgets/controls",
      "_view_module_version": "1.5.0",
      "_view_name": "HTMLView",
      "description": "",
      "description_tooltip": null,
      "layout": "IPY_MODEL_b994d62b4aec43b6ab53fbff177d7c6f",
      "placeholder": "​",
      "style": "IPY_MODEL_1f1f0b3789d54fb3801114c3e789a5bb",
      "value": " 1/1 [00:00&lt;00:00,  3.61it/s]"
     }
    },
    "bc29373e26204285b50e76eff60453e6": {
     "model_module": "@jupyter-widgets/controls",
     "model_name": "FloatProgressModel",
     "state": {
      "_dom_classes": [],
      "_model_module": "@jupyter-widgets/controls",
      "_model_module_version": "1.5.0",
      "_model_name": "FloatProgressModel",
      "_view_count": null,
      "_view_module": "@jupyter-widgets/controls",
      "_view_module_version": "1.5.0",
      "_view_name": "ProgressView",
      "bar_style": "success",
      "description": "Downloading: 100%",
      "description_tooltip": null,
      "layout": "IPY_MODEL_0699543b27de45d59097b212b3533273",
      "max": 456356,
      "min": 0,
      "orientation": "horizontal",
      "style": "IPY_MODEL_5f07116c1eac4dbc835dc983a8be6bb9",
      "value": 456356
     }
    },
    "bd9be5ada9724c068a5cf4e734c29f9b": {
     "model_module": "@jupyter-widgets/controls",
     "model_name": "HBoxModel",
     "state": {
      "_dom_classes": [],
      "_model_module": "@jupyter-widgets/controls",
      "_model_module_version": "1.5.0",
      "_model_name": "HBoxModel",
      "_view_count": null,
      "_view_module": "@jupyter-widgets/controls",
      "_view_module_version": "1.5.0",
      "_view_name": "HBoxView",
      "box_style": "",
      "children": [
       "IPY_MODEL_f0c0068d3306433f8b4dc6d3f84c05e6",
       "IPY_MODEL_bb2b3f8b3a5746a5a2fec2385e90ce1e"
      ],
      "layout": "IPY_MODEL_510f8a3c345040718d7ff071efa4b993"
     }
    },
    "bdb02d14884a4bd2958d72a9d7394976": {
     "model_module": "@jupyter-widgets/controls",
     "model_name": "DescriptionStyleModel",
     "state": {
      "_model_module": "@jupyter-widgets/controls",
      "_model_module_version": "1.5.0",
      "_model_name": "DescriptionStyleModel",
      "_view_count": null,
      "_view_module": "@jupyter-widgets/base",
      "_view_module_version": "1.2.0",
      "_view_name": "StyleView",
      "description_width": ""
     }
    },
    "bdf39f721396459097ed0f93d29fd78f": {
     "model_module": "@jupyter-widgets/controls",
     "model_name": "HBoxModel",
     "state": {
      "_dom_classes": [],
      "_model_module": "@jupyter-widgets/controls",
      "_model_module_version": "1.5.0",
      "_model_name": "HBoxModel",
      "_view_count": null,
      "_view_module": "@jupyter-widgets/controls",
      "_view_module_version": "1.5.0",
      "_view_name": "HBoxView",
      "box_style": "",
      "children": [
       "IPY_MODEL_aeaa8c71112f422f8a0062c75ce20afd",
       "IPY_MODEL_de7d3ba32f6c4dbb8acd70164a9122f3"
      ],
      "layout": "IPY_MODEL_15fbc07b40854216a8b9a5381dd355e3"
     }
    },
    "c252e2c291db436bb230780a797b2c7a": {
     "model_module": "@jupyter-widgets/controls",
     "model_name": "DescriptionStyleModel",
     "state": {
      "_model_module": "@jupyter-widgets/controls",
      "_model_module_version": "1.5.0",
      "_model_name": "DescriptionStyleModel",
      "_view_count": null,
      "_view_module": "@jupyter-widgets/base",
      "_view_module_version": "1.2.0",
      "_view_name": "StyleView",
      "description_width": ""
     }
    },
    "c40f08fdf106422a99611c21c8d030f5": {
     "model_module": "@jupyter-widgets/controls",
     "model_name": "HBoxModel",
     "state": {
      "_dom_classes": [],
      "_model_module": "@jupyter-widgets/controls",
      "_model_module_version": "1.5.0",
      "_model_name": "HBoxModel",
      "_view_count": null,
      "_view_module": "@jupyter-widgets/controls",
      "_view_module_version": "1.5.0",
      "_view_name": "HBoxView",
      "box_style": "",
      "children": [
       "IPY_MODEL_bc29373e26204285b50e76eff60453e6",
       "IPY_MODEL_441f785d94eb47c7b04663edded79dbd"
      ],
      "layout": "IPY_MODEL_2a8dc5497d9a478ca02d64eaa0808083"
     }
    },
    "c663c5354141405b9f810339bc94e348": {
     "model_module": "@jupyter-widgets/base",
     "model_name": "LayoutModel",
     "state": {
      "_model_module": "@jupyter-widgets/base",
      "_model_module_version": "1.2.0",
      "_model_name": "LayoutModel",
      "_view_count": null,
      "_view_module": "@jupyter-widgets/base",
      "_view_module_version": "1.2.0",
      "_view_name": "LayoutView",
      "align_content": null,
      "align_items": null,
      "align_self": null,
      "border": null,
      "bottom": null,
      "display": null,
      "flex": null,
      "flex_flow": null,
      "grid_area": null,
      "grid_auto_columns": null,
      "grid_auto_flow": null,
      "grid_auto_rows": null,
      "grid_column": null,
      "grid_gap": null,
      "grid_row": null,
      "grid_template_areas": null,
      "grid_template_columns": null,
      "grid_template_rows": null,
      "height": null,
      "justify_content": null,
      "justify_items": null,
      "left": null,
      "margin": null,
      "max_height": null,
      "max_width": null,
      "min_height": null,
      "min_width": null,
      "object_fit": null,
      "object_position": null,
      "order": null,
      "overflow": null,
      "overflow_x": null,
      "overflow_y": null,
      "padding": null,
      "right": null,
      "top": null,
      "visibility": null,
      "width": null
     }
    },
    "c6c7a6f5033b4c57b5bb21d6bed48fef": {
     "model_module": "@jupyter-widgets/controls",
     "model_name": "ProgressStyleModel",
     "state": {
      "_model_module": "@jupyter-widgets/controls",
      "_model_module_version": "1.5.0",
      "_model_name": "ProgressStyleModel",
      "_view_count": null,
      "_view_module": "@jupyter-widgets/base",
      "_view_module_version": "1.2.0",
      "_view_name": "StyleView",
      "bar_color": null,
      "description_width": "initial"
     }
    },
    "c7745df7016b44e8bab0c3e6fe7ed061": {
     "model_module": "@jupyter-widgets/base",
     "model_name": "LayoutModel",
     "state": {
      "_model_module": "@jupyter-widgets/base",
      "_model_module_version": "1.2.0",
      "_model_name": "LayoutModel",
      "_view_count": null,
      "_view_module": "@jupyter-widgets/base",
      "_view_module_version": "1.2.0",
      "_view_name": "LayoutView",
      "align_content": null,
      "align_items": null,
      "align_self": null,
      "border": null,
      "bottom": null,
      "display": null,
      "flex": null,
      "flex_flow": null,
      "grid_area": null,
      "grid_auto_columns": null,
      "grid_auto_flow": null,
      "grid_auto_rows": null,
      "grid_column": null,
      "grid_gap": null,
      "grid_row": null,
      "grid_template_areas": null,
      "grid_template_columns": null,
      "grid_template_rows": null,
      "height": null,
      "justify_content": null,
      "justify_items": null,
      "left": null,
      "margin": null,
      "max_height": null,
      "max_width": null,
      "min_height": null,
      "min_width": null,
      "object_fit": null,
      "object_position": null,
      "order": null,
      "overflow": null,
      "overflow_x": null,
      "overflow_y": null,
      "padding": null,
      "right": null,
      "top": null,
      "visibility": null,
      "width": null
     }
    },
    "c77e3f36d9d1433380bb6eb5db6ce72e": {
     "model_module": "@jupyter-widgets/base",
     "model_name": "LayoutModel",
     "state": {
      "_model_module": "@jupyter-widgets/base",
      "_model_module_version": "1.2.0",
      "_model_name": "LayoutModel",
      "_view_count": null,
      "_view_module": "@jupyter-widgets/base",
      "_view_module_version": "1.2.0",
      "_view_name": "LayoutView",
      "align_content": null,
      "align_items": null,
      "align_self": null,
      "border": null,
      "bottom": null,
      "display": null,
      "flex": null,
      "flex_flow": null,
      "grid_area": null,
      "grid_auto_columns": null,
      "grid_auto_flow": null,
      "grid_auto_rows": null,
      "grid_column": null,
      "grid_gap": null,
      "grid_row": null,
      "grid_template_areas": null,
      "grid_template_columns": null,
      "grid_template_rows": null,
      "height": null,
      "justify_content": null,
      "justify_items": null,
      "left": null,
      "margin": null,
      "max_height": null,
      "max_width": null,
      "min_height": null,
      "min_width": null,
      "object_fit": null,
      "object_position": null,
      "order": null,
      "overflow": null,
      "overflow_x": null,
      "overflow_y": null,
      "padding": null,
      "right": null,
      "top": null,
      "visibility": null,
      "width": null
     }
    },
    "c89b93b7ce6542d6a997d2ce8640ac31": {
     "model_module": "@jupyter-widgets/base",
     "model_name": "LayoutModel",
     "state": {
      "_model_module": "@jupyter-widgets/base",
      "_model_module_version": "1.2.0",
      "_model_name": "LayoutModel",
      "_view_count": null,
      "_view_module": "@jupyter-widgets/base",
      "_view_module_version": "1.2.0",
      "_view_name": "LayoutView",
      "align_content": null,
      "align_items": null,
      "align_self": null,
      "border": null,
      "bottom": null,
      "display": null,
      "flex": null,
      "flex_flow": null,
      "grid_area": null,
      "grid_auto_columns": null,
      "grid_auto_flow": null,
      "grid_auto_rows": null,
      "grid_column": null,
      "grid_gap": null,
      "grid_row": null,
      "grid_template_areas": null,
      "grid_template_columns": null,
      "grid_template_rows": null,
      "height": null,
      "justify_content": null,
      "justify_items": null,
      "left": null,
      "margin": null,
      "max_height": null,
      "max_width": null,
      "min_height": null,
      "min_width": null,
      "object_fit": null,
      "object_position": null,
      "order": null,
      "overflow": null,
      "overflow_x": null,
      "overflow_y": null,
      "padding": null,
      "right": null,
      "top": null,
      "visibility": null,
      "width": null
     }
    },
    "c8aa396214fe43a7b474e4175be92156": {
     "model_module": "@jupyter-widgets/controls",
     "model_name": "ProgressStyleModel",
     "state": {
      "_model_module": "@jupyter-widgets/controls",
      "_model_module_version": "1.5.0",
      "_model_name": "ProgressStyleModel",
      "_view_count": null,
      "_view_module": "@jupyter-widgets/base",
      "_view_module_version": "1.2.0",
      "_view_name": "StyleView",
      "bar_color": null,
      "description_width": "initial"
     }
    },
    "c9d55534a75940a8a615ee0802d62249": {
     "model_module": "@jupyter-widgets/controls",
     "model_name": "HTMLModel",
     "state": {
      "_dom_classes": [],
      "_model_module": "@jupyter-widgets/controls",
      "_model_module_version": "1.5.0",
      "_model_name": "HTMLModel",
      "_view_count": null,
      "_view_module": "@jupyter-widgets/controls",
      "_view_module_version": "1.5.0",
      "_view_name": "HTMLView",
      "description": "",
      "description_tooltip": null,
      "layout": "IPY_MODEL_7986f1cda23147a4b6712cf7d3e3a8f0",
      "placeholder": "​",
      "style": "IPY_MODEL_60babf09f04a408dbc7c8f65b507e652",
      "value": " 798k/798k [00:00&lt;00:00, 1.90MB/s]"
     }
    },
    "cb44ab6424cf452cad0b63bece2bd98f": {
     "model_module": "@jupyter-widgets/base",
     "model_name": "LayoutModel",
     "state": {
      "_model_module": "@jupyter-widgets/base",
      "_model_module_version": "1.2.0",
      "_model_name": "LayoutModel",
      "_view_count": null,
      "_view_module": "@jupyter-widgets/base",
      "_view_module_version": "1.2.0",
      "_view_name": "LayoutView",
      "align_content": null,
      "align_items": null,
      "align_self": null,
      "border": null,
      "bottom": null,
      "display": null,
      "flex": null,
      "flex_flow": null,
      "grid_area": null,
      "grid_auto_columns": null,
      "grid_auto_flow": null,
      "grid_auto_rows": null,
      "grid_column": null,
      "grid_gap": null,
      "grid_row": null,
      "grid_template_areas": null,
      "grid_template_columns": null,
      "grid_template_rows": null,
      "height": null,
      "justify_content": null,
      "justify_items": null,
      "left": null,
      "margin": null,
      "max_height": null,
      "max_width": null,
      "min_height": null,
      "min_width": null,
      "object_fit": null,
      "object_position": null,
      "order": null,
      "overflow": null,
      "overflow_x": null,
      "overflow_y": null,
      "padding": null,
      "right": null,
      "top": null,
      "visibility": null,
      "width": null
     }
    },
    "cd94a8d247e84ec7a0dfd57a9773cb71": {
     "model_module": "@jupyter-widgets/controls",
     "model_name": "DescriptionStyleModel",
     "state": {
      "_model_module": "@jupyter-widgets/controls",
      "_model_module_version": "1.5.0",
      "_model_name": "DescriptionStyleModel",
      "_view_count": null,
      "_view_module": "@jupyter-widgets/base",
      "_view_module_version": "1.2.0",
      "_view_name": "StyleView",
      "description_width": ""
     }
    },
    "cdf1656732844629a30ea96f95240334": {
     "model_module": "@jupyter-widgets/controls",
     "model_name": "FloatProgressModel",
     "state": {
      "_dom_classes": [],
      "_model_module": "@jupyter-widgets/controls",
      "_model_module_version": "1.5.0",
      "_model_name": "FloatProgressModel",
      "_view_count": null,
      "_view_module": "@jupyter-widgets/controls",
      "_view_module_version": "1.5.0",
      "_view_name": "ProgressView",
      "bar_style": "success",
      "description": "Downloading: 100%",
      "description_tooltip": null,
      "layout": "IPY_MODEL_89e9cd47c6044cb59ff3c28f1ee0bc64",
      "max": 1111,
      "min": 0,
      "orientation": "horizontal",
      "style": "IPY_MODEL_2c48a4a72e2145f98bd406f2b8bf0a9d",
      "value": 1111
     }
    },
    "cf67d82308004718b9c2106cfabd6884": {
     "model_module": "@jupyter-widgets/controls",
     "model_name": "HTMLModel",
     "state": {
      "_dom_classes": [],
      "_model_module": "@jupyter-widgets/controls",
      "_model_module_version": "1.5.0",
      "_model_name": "HTMLModel",
      "_view_count": null,
      "_view_module": "@jupyter-widgets/controls",
      "_view_module_version": "1.5.0",
      "_view_name": "HTMLView",
      "description": "",
      "description_tooltip": null,
      "layout": "IPY_MODEL_5d82f8bcf4ea4b70b1fd5dfefcc60b90",
      "placeholder": "​",
      "style": "IPY_MODEL_c252e2c291db436bb230780a797b2c7a",
      "value": " 1/1 [40:01&lt;00:00, 2401.20s/it]"
     }
    },
    "cf838513752b4eb7b5b9eb36c4e6b821": {
     "model_module": "@jupyter-widgets/controls",
     "model_name": "HTMLModel",
     "state": {
      "_dom_classes": [],
      "_model_module": "@jupyter-widgets/controls",
      "_model_module_version": "1.5.0",
      "_model_name": "HTMLModel",
      "_view_count": null,
      "_view_module": "@jupyter-widgets/controls",
      "_view_module_version": "1.5.0",
      "_view_name": "HTMLView",
      "description": "",
      "description_tooltip": null,
      "layout": "IPY_MODEL_4d107e8002ab4e319fc32accd4534bcb",
      "placeholder": "​",
      "style": "IPY_MODEL_a3143a31af014683b3b9b1714ff9b41c",
      "value": " 122/122 [00:00&lt;00:00, 571B/s]"
     }
    },
    "d12d615274bf44f4a438c1406cc3147d": {
     "model_module": "@jupyter-widgets/controls",
     "model_name": "FloatProgressModel",
     "state": {
      "_dom_classes": [],
      "_model_module": "@jupyter-widgets/controls",
      "_model_module_version": "1.5.0",
      "_model_name": "FloatProgressModel",
      "_view_count": null,
      "_view_module": "@jupyter-widgets/controls",
      "_view_module_version": "1.5.0",
      "_view_name": "ProgressView",
      "bar_style": "success",
      "description": "Downloading: 100%",
      "description_tooltip": null,
      "layout": "IPY_MODEL_f226f700b95c4451921ec74f76117a80",
      "max": 122,
      "min": 0,
      "orientation": "horizontal",
      "style": "IPY_MODEL_51b74f086a874b9f91bbf9f15c4e2dfb",
      "value": 122
     }
    },
    "dacedf377a214bdfb0c8ed2c084f4192": {
     "model_module": "@jupyter-widgets/controls",
     "model_name": "FloatProgressModel",
     "state": {
      "_dom_classes": [],
      "_model_module": "@jupyter-widgets/controls",
      "_model_module_version": "1.5.0",
      "_model_name": "FloatProgressModel",
      "_view_count": null,
      "_view_module": "@jupyter-widgets/controls",
      "_view_module_version": "1.5.0",
      "_view_name": "ProgressView",
      "bar_style": "success",
      "description": "Downloading: 100%",
      "description_tooltip": null,
      "layout": "IPY_MODEL_53ddcdcfd016415cac8dc88905cb319b",
      "max": 229,
      "min": 0,
      "orientation": "horizontal",
      "style": "IPY_MODEL_8c743de1e96649be8e6ad98471cee960",
      "value": 229
     }
    },
    "db349f79fec04dc99ce12193990fe346": {
     "model_module": "@jupyter-widgets/controls",
     "model_name": "FloatProgressModel",
     "state": {
      "_dom_classes": [],
      "_model_module": "@jupyter-widgets/controls",
      "_model_module_version": "1.5.0",
      "_model_name": "FloatProgressModel",
      "_view_count": null,
      "_view_module": "@jupyter-widgets/controls",
      "_view_module_version": "1.5.0",
      "_view_name": "ProgressView",
      "bar_style": "success",
      "description": "Downloading: 100%",
      "description_tooltip": null,
      "layout": "IPY_MODEL_dc37326dbf874ffa8d059df6a24c6e61",
      "max": 190,
      "min": 0,
      "orientation": "horizontal",
      "style": "IPY_MODEL_a5f568df10904081b987978b9b30940c",
      "value": 190
     }
    },
    "dc37326dbf874ffa8d059df6a24c6e61": {
     "model_module": "@jupyter-widgets/base",
     "model_name": "LayoutModel",
     "state": {
      "_model_module": "@jupyter-widgets/base",
      "_model_module_version": "1.2.0",
      "_model_name": "LayoutModel",
      "_view_count": null,
      "_view_module": "@jupyter-widgets/base",
      "_view_module_version": "1.2.0",
      "_view_name": "LayoutView",
      "align_content": null,
      "align_items": null,
      "align_self": null,
      "border": null,
      "bottom": null,
      "display": null,
      "flex": null,
      "flex_flow": null,
      "grid_area": null,
      "grid_auto_columns": null,
      "grid_auto_flow": null,
      "grid_auto_rows": null,
      "grid_column": null,
      "grid_gap": null,
      "grid_row": null,
      "grid_template_areas": null,
      "grid_template_columns": null,
      "grid_template_rows": null,
      "height": null,
      "justify_content": null,
      "justify_items": null,
      "left": null,
      "margin": null,
      "max_height": null,
      "max_width": null,
      "min_height": null,
      "min_width": null,
      "object_fit": null,
      "object_position": null,
      "order": null,
      "overflow": null,
      "overflow_x": null,
      "overflow_y": null,
      "padding": null,
      "right": null,
      "top": null,
      "visibility": null,
      "width": null
     }
    },
    "de7d3ba32f6c4dbb8acd70164a9122f3": {
     "model_module": "@jupyter-widgets/controls",
     "model_name": "HTMLModel",
     "state": {
      "_dom_classes": [],
      "_model_module": "@jupyter-widgets/controls",
      "_model_module_version": "1.5.0",
      "_model_name": "HTMLModel",
      "_view_count": null,
      "_view_module": "@jupyter-widgets/controls",
      "_view_module_version": "1.5.0",
      "_view_name": "HTMLView",
      "description": "",
      "description_tooltip": null,
      "layout": "IPY_MODEL_074628d39500495c908eab0bf43fbcea",
      "placeholder": "​",
      "style": "IPY_MODEL_5cf7bafa756c4e93ab70a4bacf248f18",
      "value": " 52.0/52.0 [00:00&lt;00:00, 75.5B/s]"
     }
    },
    "defd7cf283554f9699c04b706c8d57fa": {
     "model_module": "@jupyter-widgets/base",
     "model_name": "LayoutModel",
     "state": {
      "_model_module": "@jupyter-widgets/base",
      "_model_module_version": "1.2.0",
      "_model_name": "LayoutModel",
      "_view_count": null,
      "_view_module": "@jupyter-widgets/base",
      "_view_module_version": "1.2.0",
      "_view_name": "LayoutView",
      "align_content": null,
      "align_items": null,
      "align_self": null,
      "border": null,
      "bottom": null,
      "display": null,
      "flex": null,
      "flex_flow": null,
      "grid_area": null,
      "grid_auto_columns": null,
      "grid_auto_flow": null,
      "grid_auto_rows": null,
      "grid_column": null,
      "grid_gap": null,
      "grid_row": null,
      "grid_template_areas": null,
      "grid_template_columns": null,
      "grid_template_rows": null,
      "height": null,
      "justify_content": null,
      "justify_items": null,
      "left": null,
      "margin": null,
      "max_height": null,
      "max_width": null,
      "min_height": null,
      "min_width": null,
      "object_fit": null,
      "object_position": null,
      "order": null,
      "overflow": null,
      "overflow_x": null,
      "overflow_y": null,
      "padding": null,
      "right": null,
      "top": null,
      "visibility": null,
      "width": null
     }
    },
    "e30f95baf8654150b766e97ab9ee217d": {
     "model_module": "@jupyter-widgets/base",
     "model_name": "LayoutModel",
     "state": {
      "_model_module": "@jupyter-widgets/base",
      "_model_module_version": "1.2.0",
      "_model_name": "LayoutModel",
      "_view_count": null,
      "_view_module": "@jupyter-widgets/base",
      "_view_module_version": "1.2.0",
      "_view_name": "LayoutView",
      "align_content": null,
      "align_items": null,
      "align_self": null,
      "border": null,
      "bottom": null,
      "display": null,
      "flex": null,
      "flex_flow": null,
      "grid_area": null,
      "grid_auto_columns": null,
      "grid_auto_flow": null,
      "grid_auto_rows": null,
      "grid_column": null,
      "grid_gap": null,
      "grid_row": null,
      "grid_template_areas": null,
      "grid_template_columns": null,
      "grid_template_rows": null,
      "height": null,
      "justify_content": null,
      "justify_items": null,
      "left": null,
      "margin": null,
      "max_height": null,
      "max_width": null,
      "min_height": null,
      "min_width": null,
      "object_fit": null,
      "object_position": null,
      "order": null,
      "overflow": null,
      "overflow_x": null,
      "overflow_y": null,
      "padding": null,
      "right": null,
      "top": null,
      "visibility": null,
      "width": null
     }
    },
    "e39f4109729e44b68a29c616d5be488e": {
     "model_module": "@jupyter-widgets/controls",
     "model_name": "ProgressStyleModel",
     "state": {
      "_model_module": "@jupyter-widgets/controls",
      "_model_module_version": "1.5.0",
      "_model_name": "ProgressStyleModel",
      "_view_count": null,
      "_view_module": "@jupyter-widgets/base",
      "_view_module_version": "1.2.0",
      "_view_name": "StyleView",
      "bar_color": null,
      "description_width": "initial"
     }
    },
    "e3a732aa5883425e9c0192262c03fb43": {
     "model_module": "@jupyter-widgets/controls",
     "model_name": "HBoxModel",
     "state": {
      "_dom_classes": [],
      "_model_module": "@jupyter-widgets/controls",
      "_model_module_version": "1.5.0",
      "_model_name": "HBoxModel",
      "_view_count": null,
      "_view_module": "@jupyter-widgets/controls",
      "_view_module_version": "1.5.0",
      "_view_name": "HBoxView",
      "box_style": "",
      "children": [
       "IPY_MODEL_879f5c0ffa5e44619b8cd67b2b460f21",
       "IPY_MODEL_786ee299d18c4caeb341be72d01e176c"
      ],
      "layout": "IPY_MODEL_3b491af754eb48ecb66dc3b3de968f80"
     }
    },
    "e40d1d31db4947c581f3c4af3841ebbd": {
     "model_module": "@jupyter-widgets/controls",
     "model_name": "DescriptionStyleModel",
     "state": {
      "_model_module": "@jupyter-widgets/controls",
      "_model_module_version": "1.5.0",
      "_model_name": "DescriptionStyleModel",
      "_view_count": null,
      "_view_module": "@jupyter-widgets/base",
      "_view_module_version": "1.2.0",
      "_view_name": "StyleView",
      "description_width": ""
     }
    },
    "e4850eb74c74429884aa090d54f5cf1e": {
     "model_module": "@jupyter-widgets/controls",
     "model_name": "HBoxModel",
     "state": {
      "_dom_classes": [],
      "_model_module": "@jupyter-widgets/controls",
      "_model_module_version": "1.5.0",
      "_model_name": "HBoxModel",
      "_view_count": null,
      "_view_module": "@jupyter-widgets/controls",
      "_view_module_version": "1.5.0",
      "_view_name": "HBoxView",
      "box_style": "",
      "children": [
       "IPY_MODEL_03d5e9650d7d48d286501509eacb60ea",
       "IPY_MODEL_acb16cd9830340b4b27edebc45b3de77"
      ],
      "layout": "IPY_MODEL_b382468767974d288358b8aa5e94dd92"
     }
    },
    "e53001559ff841db8eb8968cb7a63002": {
     "model_module": "@jupyter-widgets/controls",
     "model_name": "FloatProgressModel",
     "state": {
      "_dom_classes": [],
      "_model_module": "@jupyter-widgets/controls",
      "_model_module_version": "1.5.0",
      "_model_name": "FloatProgressModel",
      "_view_count": null,
      "_view_module": "@jupyter-widgets/controls",
      "_view_module_version": "1.5.0",
      "_view_name": "ProgressView",
      "bar_style": "success",
      "description": "Batches: 100%",
      "description_tooltip": null,
      "layout": "IPY_MODEL_7db2eca174e74b82ad0723d116a94f7a",
      "max": 1,
      "min": 0,
      "orientation": "horizontal",
      "style": "IPY_MODEL_e6b2e17d17734809a7c23fa05bd30834",
      "value": 1
     }
    },
    "e5aabd37be8842bd9bf1f97c4f327dd2": {
     "model_module": "@jupyter-widgets/controls",
     "model_name": "HBoxModel",
     "state": {
      "_dom_classes": [],
      "_model_module": "@jupyter-widgets/controls",
      "_model_module_version": "1.5.0",
      "_model_name": "HBoxModel",
      "_view_count": null,
      "_view_module": "@jupyter-widgets/controls",
      "_view_module_version": "1.5.0",
      "_view_name": "HBoxView",
      "box_style": "",
      "children": [
       "IPY_MODEL_23edb2845a454b5e9eebc9e163dd9d46",
       "IPY_MODEL_fc15badcde224200bb35146ffed0c837"
      ],
      "layout": "IPY_MODEL_027461dbf7024c7bb76276a434a3749b"
     }
    },
    "e6b2e17d17734809a7c23fa05bd30834": {
     "model_module": "@jupyter-widgets/controls",
     "model_name": "ProgressStyleModel",
     "state": {
      "_model_module": "@jupyter-widgets/controls",
      "_model_module_version": "1.5.0",
      "_model_name": "ProgressStyleModel",
      "_view_count": null,
      "_view_module": "@jupyter-widgets/base",
      "_view_module_version": "1.2.0",
      "_view_name": "StyleView",
      "bar_color": null,
      "description_width": "initial"
     }
    },
    "e7a21395b86549de97d379702fc7e51b": {
     "model_module": "@jupyter-widgets/controls",
     "model_name": "HBoxModel",
     "state": {
      "_dom_classes": [],
      "_model_module": "@jupyter-widgets/controls",
      "_model_module_version": "1.5.0",
      "_model_name": "HBoxModel",
      "_view_count": null,
      "_view_module": "@jupyter-widgets/controls",
      "_view_module_version": "1.5.0",
      "_view_name": "HBoxView",
      "box_style": "",
      "children": [
       "IPY_MODEL_e53001559ff841db8eb8968cb7a63002",
       "IPY_MODEL_cf67d82308004718b9c2106cfabd6884"
      ],
      "layout": "IPY_MODEL_0ae9d22268e8456f8694c252a837355d"
     }
    },
    "e98a073f9cce4595bbe9dc037c4a7064": {
     "model_module": "@jupyter-widgets/controls",
     "model_name": "HBoxModel",
     "state": {
      "_dom_classes": [],
      "_model_module": "@jupyter-widgets/controls",
      "_model_module_version": "1.5.0",
      "_model_name": "HBoxModel",
      "_view_count": null,
      "_view_module": "@jupyter-widgets/controls",
      "_view_module_version": "1.5.0",
      "_view_name": "HBoxView",
      "box_style": "",
      "children": [
       "IPY_MODEL_1cca2c161e3540e68e91b96f6b9cc9da",
       "IPY_MODEL_c9d55534a75940a8a615ee0802d62249"
      ],
      "layout": "IPY_MODEL_971188ff4f74431e909997a74b6ab6fe"
     }
    },
    "eb43ee3da1bc49b2aba9cb6bee948880": {
     "model_module": "@jupyter-widgets/controls",
     "model_name": "DescriptionStyleModel",
     "state": {
      "_model_module": "@jupyter-widgets/controls",
      "_model_module_version": "1.5.0",
      "_model_name": "DescriptionStyleModel",
      "_view_count": null,
      "_view_module": "@jupyter-widgets/base",
      "_view_module_version": "1.2.0",
      "_view_name": "StyleView",
      "description_width": ""
     }
    },
    "ec5947cca28c4480afcdf2df5acb8008": {
     "model_module": "@jupyter-widgets/base",
     "model_name": "LayoutModel",
     "state": {
      "_model_module": "@jupyter-widgets/base",
      "_model_module_version": "1.2.0",
      "_model_name": "LayoutModel",
      "_view_count": null,
      "_view_module": "@jupyter-widgets/base",
      "_view_module_version": "1.2.0",
      "_view_name": "LayoutView",
      "align_content": null,
      "align_items": null,
      "align_self": null,
      "border": null,
      "bottom": null,
      "display": null,
      "flex": null,
      "flex_flow": null,
      "grid_area": null,
      "grid_auto_columns": null,
      "grid_auto_flow": null,
      "grid_auto_rows": null,
      "grid_column": null,
      "grid_gap": null,
      "grid_row": null,
      "grid_template_areas": null,
      "grid_template_columns": null,
      "grid_template_rows": null,
      "height": null,
      "justify_content": null,
      "justify_items": null,
      "left": null,
      "margin": null,
      "max_height": null,
      "max_width": null,
      "min_height": null,
      "min_width": null,
      "object_fit": null,
      "object_position": null,
      "order": null,
      "overflow": null,
      "overflow_x": null,
      "overflow_y": null,
      "padding": null,
      "right": null,
      "top": null,
      "visibility": null,
      "width": null
     }
    },
    "ecfc0d8589fc4f4db5c69b589456b70c": {
     "model_module": "@jupyter-widgets/base",
     "model_name": "LayoutModel",
     "state": {
      "_model_module": "@jupyter-widgets/base",
      "_model_module_version": "1.2.0",
      "_model_name": "LayoutModel",
      "_view_count": null,
      "_view_module": "@jupyter-widgets/base",
      "_view_module_version": "1.2.0",
      "_view_name": "LayoutView",
      "align_content": null,
      "align_items": null,
      "align_self": null,
      "border": null,
      "bottom": null,
      "display": null,
      "flex": null,
      "flex_flow": null,
      "grid_area": null,
      "grid_auto_columns": null,
      "grid_auto_flow": null,
      "grid_auto_rows": null,
      "grid_column": null,
      "grid_gap": null,
      "grid_row": null,
      "grid_template_areas": null,
      "grid_template_columns": null,
      "grid_template_rows": null,
      "height": null,
      "justify_content": null,
      "justify_items": null,
      "left": null,
      "margin": null,
      "max_height": null,
      "max_width": null,
      "min_height": null,
      "min_width": null,
      "object_fit": null,
      "object_position": null,
      "order": null,
      "overflow": null,
      "overflow_x": null,
      "overflow_y": null,
      "padding": null,
      "right": null,
      "top": null,
      "visibility": null,
      "width": null
     }
    },
    "f07f6c879c4641ceaddfb90f0bbe91c1": {
     "model_module": "@jupyter-widgets/base",
     "model_name": "LayoutModel",
     "state": {
      "_model_module": "@jupyter-widgets/base",
      "_model_module_version": "1.2.0",
      "_model_name": "LayoutModel",
      "_view_count": null,
      "_view_module": "@jupyter-widgets/base",
      "_view_module_version": "1.2.0",
      "_view_name": "LayoutView",
      "align_content": null,
      "align_items": null,
      "align_self": null,
      "border": null,
      "bottom": null,
      "display": null,
      "flex": null,
      "flex_flow": null,
      "grid_area": null,
      "grid_auto_columns": null,
      "grid_auto_flow": null,
      "grid_auto_rows": null,
      "grid_column": null,
      "grid_gap": null,
      "grid_row": null,
      "grid_template_areas": null,
      "grid_template_columns": null,
      "grid_template_rows": null,
      "height": null,
      "justify_content": null,
      "justify_items": null,
      "left": null,
      "margin": null,
      "max_height": null,
      "max_width": null,
      "min_height": null,
      "min_width": null,
      "object_fit": null,
      "object_position": null,
      "order": null,
      "overflow": null,
      "overflow_x": null,
      "overflow_y": null,
      "padding": null,
      "right": null,
      "top": null,
      "visibility": null,
      "width": null
     }
    },
    "f0c0068d3306433f8b4dc6d3f84c05e6": {
     "model_module": "@jupyter-widgets/controls",
     "model_name": "FloatProgressModel",
     "state": {
      "_dom_classes": [],
      "_model_module": "@jupyter-widgets/controls",
      "_model_module_version": "1.5.0",
      "_model_name": "FloatProgressModel",
      "_view_count": null,
      "_view_module": "@jupyter-widgets/controls",
      "_view_module_version": "1.5.0",
      "_view_name": "ProgressView",
      "bar_style": "success",
      "description": "Batches: 100%",
      "description_tooltip": null,
      "layout": "IPY_MODEL_3e7555ffc0d448969366a91e728a22c7",
      "max": 1,
      "min": 0,
      "orientation": "horizontal",
      "style": "IPY_MODEL_53d97c0839ca4c309dbf0d09ae043767",
      "value": 1
     }
    },
    "f226f700b95c4451921ec74f76117a80": {
     "model_module": "@jupyter-widgets/base",
     "model_name": "LayoutModel",
     "state": {
      "_model_module": "@jupyter-widgets/base",
      "_model_module_version": "1.2.0",
      "_model_name": "LayoutModel",
      "_view_count": null,
      "_view_module": "@jupyter-widgets/base",
      "_view_module_version": "1.2.0",
      "_view_name": "LayoutView",
      "align_content": null,
      "align_items": null,
      "align_self": null,
      "border": null,
      "bottom": null,
      "display": null,
      "flex": null,
      "flex_flow": null,
      "grid_area": null,
      "grid_auto_columns": null,
      "grid_auto_flow": null,
      "grid_auto_rows": null,
      "grid_column": null,
      "grid_gap": null,
      "grid_row": null,
      "grid_template_areas": null,
      "grid_template_columns": null,
      "grid_template_rows": null,
      "height": null,
      "justify_content": null,
      "justify_items": null,
      "left": null,
      "margin": null,
      "max_height": null,
      "max_width": null,
      "min_height": null,
      "min_width": null,
      "object_fit": null,
      "object_position": null,
      "order": null,
      "overflow": null,
      "overflow_x": null,
      "overflow_y": null,
      "padding": null,
      "right": null,
      "top": null,
      "visibility": null,
      "width": null
     }
    },
    "f2d5578f4e65448b8106de260d377eee": {
     "model_module": "@jupyter-widgets/controls",
     "model_name": "ProgressStyleModel",
     "state": {
      "_model_module": "@jupyter-widgets/controls",
      "_model_module_version": "1.5.0",
      "_model_name": "ProgressStyleModel",
      "_view_count": null,
      "_view_module": "@jupyter-widgets/base",
      "_view_module_version": "1.2.0",
      "_view_name": "StyleView",
      "bar_color": null,
      "description_width": "initial"
     }
    },
    "f2e686b604574e2aa71024cd62fd7b1c": {
     "model_module": "@jupyter-widgets/controls",
     "model_name": "HBoxModel",
     "state": {
      "_dom_classes": [],
      "_model_module": "@jupyter-widgets/controls",
      "_model_module_version": "1.5.0",
      "_model_name": "HBoxModel",
      "_view_count": null,
      "_view_module": "@jupyter-widgets/controls",
      "_view_module_version": "1.5.0",
      "_view_name": "HBoxView",
      "box_style": "",
      "children": [
       "IPY_MODEL_8667655cdee84514a84e27ae494d36f3",
       "IPY_MODEL_5bfd254f96be448faecfa224c9983b89"
      ],
      "layout": "IPY_MODEL_c7745df7016b44e8bab0c3e6fe7ed061"
     }
    },
    "f6634d1bfc2c4999af0ab36f50619830": {
     "model_module": "@jupyter-widgets/controls",
     "model_name": "DescriptionStyleModel",
     "state": {
      "_model_module": "@jupyter-widgets/controls",
      "_model_module_version": "1.5.0",
      "_model_name": "DescriptionStyleModel",
      "_view_count": null,
      "_view_module": "@jupyter-widgets/base",
      "_view_module_version": "1.2.0",
      "_view_name": "StyleView",
      "description_width": ""
     }
    },
    "fb6ce3776ab64209910bd4fa95d25756": {
     "model_module": "@jupyter-widgets/base",
     "model_name": "LayoutModel",
     "state": {
      "_model_module": "@jupyter-widgets/base",
      "_model_module_version": "1.2.0",
      "_model_name": "LayoutModel",
      "_view_count": null,
      "_view_module": "@jupyter-widgets/base",
      "_view_module_version": "1.2.0",
      "_view_name": "LayoutView",
      "align_content": null,
      "align_items": null,
      "align_self": null,
      "border": null,
      "bottom": null,
      "display": null,
      "flex": null,
      "flex_flow": null,
      "grid_area": null,
      "grid_auto_columns": null,
      "grid_auto_flow": null,
      "grid_auto_rows": null,
      "grid_column": null,
      "grid_gap": null,
      "grid_row": null,
      "grid_template_areas": null,
      "grid_template_columns": null,
      "grid_template_rows": null,
      "height": null,
      "justify_content": null,
      "justify_items": null,
      "left": null,
      "margin": null,
      "max_height": null,
      "max_width": null,
      "min_height": null,
      "min_width": null,
      "object_fit": null,
      "object_position": null,
      "order": null,
      "overflow": null,
      "overflow_x": null,
      "overflow_y": null,
      "padding": null,
      "right": null,
      "top": null,
      "visibility": null,
      "width": null
     }
    },
    "fc15badcde224200bb35146ffed0c837": {
     "model_module": "@jupyter-widgets/controls",
     "model_name": "HTMLModel",
     "state": {
      "_dom_classes": [],
      "_model_module": "@jupyter-widgets/controls",
      "_model_module_version": "1.5.0",
      "_model_name": "HTMLModel",
      "_view_count": null,
      "_view_module": "@jupyter-widgets/controls",
      "_view_module_version": "1.5.0",
      "_view_name": "HTMLView",
      "description": "",
      "description_tooltip": null,
      "layout": "IPY_MODEL_abe489cd15c44d13b6e647eefc0d5bf1",
      "placeholder": "​",
      "style": "IPY_MODEL_1554ac60ae484620a19e1d2967cba968",
      "value": " 499M/499M [00:16&lt;00:00, 31.0MB/s]"
     }
    },
    "fd934cdafd71456989a11cca5db35d43": {
     "model_module": "@jupyter-widgets/controls",
     "model_name": "HTMLModel",
     "state": {
      "_dom_classes": [],
      "_model_module": "@jupyter-widgets/controls",
      "_model_module_version": "1.5.0",
      "_model_name": "HTMLModel",
      "_view_count": null,
      "_view_module": "@jupyter-widgets/controls",
      "_view_module_version": "1.5.0",
      "_view_name": "HTMLView",
      "description": "",
      "description_tooltip": null,
      "layout": "IPY_MODEL_531ae41ff9d846fda44667bcccb8cc29",
      "placeholder": "​",
      "style": "IPY_MODEL_e40d1d31db4947c581f3c4af3841ebbd",
      "value": " 190/190 [00:00&lt;00:00, 191B/s]"
     }
    },
    "fe8237ff3c7d45589889b8cd78861239": {
     "model_module": "@jupyter-widgets/controls",
     "model_name": "DescriptionStyleModel",
     "state": {
      "_model_module": "@jupyter-widgets/controls",
      "_model_module_version": "1.5.0",
      "_model_name": "DescriptionStyleModel",
      "_view_count": null,
      "_view_module": "@jupyter-widgets/base",
      "_view_module_version": "1.2.0",
      "_view_name": "StyleView",
      "description_width": ""
     }
    }
   }
  }
 },
 "nbformat": 4,
 "nbformat_minor": 1
}
