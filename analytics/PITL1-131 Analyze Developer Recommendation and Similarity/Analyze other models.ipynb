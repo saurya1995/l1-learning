{
 "cells": [
  {
   "cell_type": "code",
   "execution_count": 1,
   "metadata": {},
   "outputs": [],
   "source": [
    "import pandas as pd\n",
    "import numpy as np\n",
    "import os\n",
    "import glob\n",
    "import matplotlib.pyplot as plt\n",
    "import json  \n"
   ]
  },
  {
   "cell_type": "code",
   "execution_count": 2,
   "metadata": {},
   "outputs": [],
   "source": [
    "#Config\n",
    "flat_cuttoff=1.5\n",
    "percenage_maximum=75\n",
    "json_path_recommendation='../PITL1-17 Recommendation System/response.json'\n",
    "json_path_similarity='../PITL1-22 IncidentSimilarity/aggregate_response.json'\n"
   ]
  },
  {
   "cell_type": "code",
   "execution_count": 3,
   "metadata": {},
   "outputs": [],
   "source": [
    "with open(json_path_recommendation) as f:\n",
    "   data = json.load(f)\n",
    "\n",
    "total_count=0\n",
    "dev_count_qualified={} # contains for each analyzed input how many people are qualified for it. format is username:[len(qualified_for_issue_x),len(qualified_for_issue_y)...]  len of issue is only added to the list if the user is qualified for it\n",
    "\n",
    "for lst in data:\n",
    "    if len(lst)==0:\n",
    "        print(\"error\")\n",
    "    issue_key=\"\"\n",
    "    all_reccomendations={}\n",
    "    for elem in lst:\n",
    "        if len(elem)>0:\n",
    "            issue_key=elem[\"issuekey\"]\n",
    "            all_reccomendations[elem[\"username\"]]=elem[\"score\"]\n",
    "    if issue_key == \"\":\n",
    "        continue\n",
    "    total_count+=1\n",
    "    max_rating= max(all_reccomendations.values())\n",
    "    #Filter all reccomendations to ensure only the one configured are left\n",
    "    all_reccomendations = {k: v for k, v in all_reccomendations.items() if v>=flat_cuttoff and 100*v/max_rating>=percenage_maximum}\n",
    "    for username in all_reccomendations.keys():\n",
    "        if not username in dev_count_qualified.keys():\n",
    "            dev_count_qualified[username]=[]\n",
    "        dev_count_qualified[username].append(len(all_reccomendations))"
   ]
  },
  {
   "cell_type": "code",
   "execution_count": 4,
   "metadata": {},
   "outputs": [
    {
     "name": "stdout",
     "output_type": "stream",
     "text": [
      "saurypande  is qualified for  67.86 % of issues\n",
      "saurypande  is the only one qualified for  25.0 % of issues\n",
      "An average of  1.15  other developers are qualified for issues he solved\n",
      "nikanmog  is qualified for  52.14 % of issues\n",
      "nikanmog  is the only one qualified for  18.57 % of issues\n",
      "An average of  1.23  other developers are qualified for issues he solved\n",
      "zhiyiniu  is qualified for  22.14 % of issues\n",
      "zhiyiniu  is the only one qualified for  2.14 % of issues\n",
      "An average of  1.87  other developers are qualified for issues he solved\n",
      "ga65hif  is qualified for  40.71 % of issues\n",
      "ga65hif  is the only one qualified for  4.29 % of issues\n",
      "An average of  1.74  other developers are qualified for issues he solved\n"
     ]
    }
   ],
   "source": [
    "for username,ctr_quali in dev_count_qualified.items():\n",
    "    print(username, \" is qualified for \" ,round(100*len(ctr_quali)/total_count,2), \"% of issues\")\n",
    "    only_qualified_ctr=len([ctr for ctr in ctr_quali if ctr==1])\n",
    "    print(username, \" is the only one qualified for \" ,round(100*only_qualified_ctr/total_count,2), \"% of issues\")\n",
    "    avg_other_qualified=round(np.mean(ctr_quali)-1,2)\n",
    "    print( \"An average of \" ,avg_other_qualified, \" other developers are qualified for issues he solved\")\n",
    "\n"
   ]
  },
  {
   "cell_type": "code",
   "execution_count": 5,
   "metadata": {},
   "outputs": [],
   "source": [
    "# save user_from, similarity. user_to in list\n",
    "\n",
    "with open(json_path_similarity) as f:\n",
    "   data = json.load(f)\n",
    "\n",
    "sim_counter={}\n",
    "all_users=set()\n",
    "for lst in data:\n",
    "    if len(lst)<2:\n",
    "        print(\"error\")\n",
    "    else:\n",
    "        user=lst[0][\"assignee\"]\n",
    "        all_users.add(user)\n",
    "        for elem in lst:\n",
    "            assingee=elem[\"assignee\"]\n",
    "            similariy_score=float(elem[\"similarity_score\"])\n",
    "            if user not in sim_counter.keys():\n",
    "                sim_counter[user]={}\n",
    "            if assingee not in sim_counter[user].keys():\n",
    "                sim_counter[user][assingee]=0\n",
    "            sim_counter[user][assingee]+=similariy_score  \n",
    "            row=[user,assingee,float(elem[\"similarity_score\"])]\n",
    "#Normalize the result\n",
    "sim_counter = {k: ({k2:(v2/(v[k] if k in v.keys() else 1)) for k2,v2 in v.items()}) for k, v in sim_counter.items()}\n",
    "\n"
   ]
  },
  {
   "cell_type": "code",
   "execution_count": 6,
   "metadata": {},
   "outputs": [
    {
     "data": {
      "text/plain": [
       "[{'username': 'zhiyiniu',\n",
       "  'replacements': [{'zhiyiniu': 1.0},\n",
       "   {'saurypande': 0.3880013092881525},\n",
       "   {'nikanmog': 0.31556961828015645},\n",
       "   {'ga65hif': 0.07307074832052621}],\n",
       "  'only_qualified_for_percent': 2.14,\n",
       "  'is_qualified_for_percent': 22.14,\n",
       "  'avg_other_qualified': 1.87},\n",
       " {'username': 'saurypande',\n",
       "  'replacements': [{'saurypande': 1.0},\n",
       "   {'nikanmog': 0.24494425406631593},\n",
       "   {'zhiyiniu': 0.3102225010859598},\n",
       "   {'ga65hif': 0.21830204160432454}],\n",
       "  'only_qualified_for_percent': 25.0,\n",
       "  'is_qualified_for_percent': 67.86,\n",
       "  'avg_other_qualified': 1.15},\n",
       " {'username': 'ga65hif',\n",
       "  'replacements': [{'ga65hif': 1.0},\n",
       "   {'nikanmog': 0.5060666666666666},\n",
       "   {'saurypande': 0.5457666666666667},\n",
       "   {'zhiyiniu': 0.2896666666666667}],\n",
       "  'only_qualified_for_percent': 4.29,\n",
       "  'is_qualified_for_percent': 40.71,\n",
       "  'avg_other_qualified': 1.74},\n",
       " {'username': 'nikanmog',\n",
       "  'replacements': [{'nikanmog': 1.0},\n",
       "   {'ga65hif': 0.10832242323256366},\n",
       "   {'saurypande': 0.21887645798619373},\n",
       "   {'zhiyiniu': 0.12360152344679837}],\n",
       "  'only_qualified_for_percent': 18.57,\n",
       "  'is_qualified_for_percent': 52.14,\n",
       "  'avg_other_qualified': 1.23}]"
      ]
     },
     "execution_count": 6,
     "metadata": {},
     "output_type": "execute_result"
    }
   ],
   "source": [
    "all_predictions=[]\n",
    "\n",
    "for user in all_users:\n",
    "    is_qualified_for=0 #percentage value\n",
    "    only_qualified_for=0 #percentage value\n",
    "    avg_other_qualified=0\n",
    "    if user in dev_count_qualified.keys():\n",
    "        ctr_quali=dev_count_qualified[user] # List that contains  how many people are qualified for each issue that this user is qualified for.\n",
    "        is_qualified_for=round(100*len(ctr_quali)/total_count,2)\n",
    "        only_qualified_for=round(100*len([ctr for ctr in ctr_quali if ctr==1])/total_count,2)\n",
    "        avg_other_qualified=round(np.mean(ctr_quali)-1,2)\n",
    "    user_repl=[]\n",
    "    #Converting the format to be consistant with early supplied json format\n",
    "    for k,v in sim_counter[user].items():\n",
    "        user_repl.append({k:v})\n",
    "    \n",
    "    all_predictions.append({\"username\":user,\"replacements\":user_repl,\"only_qualified_for_percent\":only_qualified_for,\"is_qualified_for_percent\":is_qualified_for,\"avg_other_qualified\":avg_other_qualified})\n",
    "\n",
    "with open('result_similarity_and_recommendation_analysis.json', 'w') as outfile:\n",
    "    json.dump(all_predictions,outfile)\n",
    "\n",
    "all_predictions\n"
   ]
  }
 ],
 "metadata": {
  "kernelspec": {
   "display_name": "Python 3",
   "language": "python",
   "name": "python3"
  },
  "language_info": {
   "codemirror_mode": {
    "name": "ipython",
    "version": 3
   },
   "file_extension": ".py",
   "mimetype": "text/x-python",
   "name": "python",
   "nbconvert_exporter": "python",
   "pygments_lexer": "ipython3",
   "version": "3.8.5"
  }
 },
 "nbformat": 4,
 "nbformat_minor": 4
}
