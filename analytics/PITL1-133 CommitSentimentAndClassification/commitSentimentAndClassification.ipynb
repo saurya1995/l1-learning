{
 "cells": [
  {
   "cell_type": "markdown",
   "metadata": {},
   "source": [
    "# coding time Prediction"
   ]
  },
  {
   "cell_type": "code",
   "execution_count": 1,
   "metadata": {},
   "outputs": [],
   "source": [
    "import pandas as pd\n",
    "import csv\n",
    "from datetime import datetime"
   ]
  },
  {
   "cell_type": "markdown",
   "metadata": {},
   "source": [
    "# 1. Prepare training dataset\n",
    "\n",
    "## 1.1 import training data"
   ]
  },
  {
   "cell_type": "code",
   "execution_count": 2,
   "metadata": {
    "scrolled": false
   },
   "outputs": [
    {
     "name": "stdout",
     "output_type": "stream",
     "text": [
      "           hash                user                            time  \\\n",
      "0   631996802a5         Logan Ramos  Mon Jun 28 11:54:00 2021 -0400   \n",
      "1   31944f3ca92     Brigit Murtaugh  Mon Jun 28 08:48:17 2021 -0700   \n",
      "2   5b29adfa24d         Logan Ramos  Mon Jun 28 11:25:15 2021 -0400   \n",
      "3   d1bb28cb08f        Raymond Zhao  Mon Jun 28 08:05:04 2021 -0700   \n",
      "4   e4bf568ed64         Logan Ramos  Mon Jun 28 10:28:43 2021 -0400   \n",
      "..          ...                 ...                             ...   \n",
      "95  6c3defb810b     Johannes Rieken  Fri Jun 25 15:44:27 2021 +0200   \n",
      "96  f9f0798c530  Henning Dieterichs  Fri Jun 25 15:22:19 2021 +0200   \n",
      "97  72e47d9dfec     Johannes Rieken  Fri Jun 25 15:07:46 2021 +0200   \n",
      "98  ada9e8c66c0         Daniel Imms  Fri Jun 25 06:07:15 2021 -0700   \n",
      "99  48d81c87547           Alex Ross  Fri Jun 25 14:43:03 2021 +0200   \n",
      "\n",
      "                                               commit  \n",
      "0   Don't show configure default if no file extension  \n",
      "1                                       Update distro  \n",
      "2                                      Closes #126887  \n",
      "3   Add bool objects renderer in settings editor (...  \n",
      "4                                         Fix #127310  \n",
      "..                                                ...  \n",
      "95  remove default tt-policy since https://github....  \n",
      "96  Fixes leaking Ghost Text model by properly reg...  \n",
      "97  set vscode compile target to es2020, https://g...  \n",
      "98        Use correct instance host for split submenu  \n",
      "99             Better maintain original tunnel source  \n",
      "\n",
      "[100 rows x 4 columns]\n"
     ]
    }
   ],
   "source": [
    "df = pd.read_csv('./commitLogDataFromOpenSource.csv', sep=';')\n",
    "df = df[pd.notnull(df['user'])]\n",
    "print(df.head(100))"
   ]
  },
  {
   "cell_type": "markdown",
   "metadata": {},
   "source": [
    "## 1.2 store all usernames and times of commit in dictionary\n",
    "* calculate one code line change taking how much time for each person\n"
   ]
  },
  {
   "cell_type": "code",
   "execution_count": 3,
   "metadata": {
    "scrolled": true
   },
   "outputs": [
    {
     "name": "stdout",
     "output_type": "stream",
     "text": [
      "{'Logan Ramos': [176], 'Brigit Murtaugh': [10], 'Raymond Zhao': [101], 'Alex Ross': [1431], 'Daniel Imms': [3765], 'João Moreno': [1479], 'Andre Weinand': [705], 'Benjamin Pasero': [6762], 'Sandeep Somavarapu': [4805], 'Rob Lourens': [2948], 'Henning Dieterichs': [147], 'Jackson Kearl': [994], 'Johannes Rieken': [6418], 'isidor': [3589], 'Ladislau Szomoru': [261], 'Alexandru Dima': [904], 'rebornix': [2242], 'Alex Dima': [3012], 'Joyce Er': [7], 'SteVen Batten': [1153], 'meganrogge': [316], 'Connor Peet': [568], 'Megan Rogge': [173], 'deepak1556': [102], 'dependabot[bot]': [39], 'Isidor Nikolic': [321], 'Suzy Mueller': [6], 'Martin Aeschlimann': [2491], 'Miguel Solorio': [963], 'Rick Martin': [2], 'Jean Pierre': [52], 'Robo': [58], 'Dirk Baeumer': [425], 'Christof Marti': [767], 'Quentin Chateau': [4], 'Dirk Bäumer': [38], 'Kai Maetzel': [15], 'Matt Bierner': [5576], 'unknown': [8], 'Barbara Valdez': [3], 'Peng Lyu': [912], 'Greg Van Liew': [50], 'jeanp413': [123], 'gregvanl': [4], '大表哥': [2], 'Joao Moreno': [4057], 'ksyx': [2], 'Don Jayamanne': [19], 'Andrea Mah': [24], 'Liangcheng Juves': [22], 'Tyler Leonhardt': [30], 'Wojciech Nawrocki': [2], 'tanhakabir': [7], 'Oleg Demchenko': [4], 'hantatsang': [4], 'Nicholas Rayburn': [5], 'netcon': [3], 'Harald Kirschner': [54], 'Raz Luvaton': [5], 'Emily Marigold Klassen': [4], 'Eric Amodio': [355], 'Tyler James Leonhardt': [43], 'Chuck Lantz': [37], 'Ikko Ashimine': [6], 'Nick Rayburn': [18], 'Rachel Macfarlane': [790], 'Daniel Gary': [4], 'gjsjohnmurray': [46], 'John Murray': [11], 'suema0331': [2], 'Leila Pearson': [17], 'Cody Beyer': [2], 'Andrew Branch': [13], 'Chris Dias': [10], 'Konstantin Solomatov': [36], 'Guilherme Herzog': [2], 'Sang': [4], 'Juliana Peña': [2], 'Anton Kosyakov': [2], 'Tim Maffett': [3], 'CanadaHonk': [3], 'Jade': [2], 'KapitanOczywisty': [3], 'Alan Ren': [2], 'Wenlu Wang': [10], 'arnobl': [2], 'Yanis': [3], 'Michael Plainer': [11], 'Sana Ajani': [23], 'NotWearingPants': [6], 'Erich Gamma': [167], 'Luca': [2], 'Noah Bliss': [2], 'Adrian Wilkins': [8], 'Hanxiao Liu': [2], 'Andrew Jones': [4], 'Shunsuke Iwamoto': [3], 'Andrew Scott': [2], 'Hsuan-An Weng Lin': [4], 'Martin Desrosiers': [2], 'Ted Spence': [2], 'Snir Broshi': [8], 'shskwmt': [13], 'Habib Karim': [5], 'Utku Gultopu': [2], 'Orta Therox': [7], 'Damien Engels': [5], 'David Bailey': [2], 'susiwen8': [5], 'Eno Yao': [8], 'jogo-': [2], 'Leonard Goldstein': [2], 'Sean Z': [14], 'Ԝеѕ': [2], 'David Sanders': [8], 'Takashi Tamura': [3], 'kingwl': [30], 'HaoboGu': [10], 'chenjigeng': [8], 'joan xie': [2], 'myovan': [2], 'Mohsen Yovan': [2], 'condichen@tencent.com': [5], 'Jason Williams': [4], 'dataleaky': [2], 'Aasim Khan': [3], 'Pablo Sebastian Greco': [2], 'Jiaxun Wei': [4], 'a5hk': [5], 'turara': [12], 'Andrew Casey': [5], 'Jessica Petty': [2], 'al': [45], 'digeff': [8], 'dfireBird': [3], 'Takanori Oishi': [2], 'kieferrm': [194], 'tomerstav': [5], 'Ryan Clarke': [7], 'Janey Muñoz': [2], 'xndcn': [2], 'AE1020': [3], 'Josias': [2], 'Tim Hutt': [3], 'Tony Xia': [20], 'Simon Siefke': [9], 'Dhaiyra': [2], 'Hung-Wei Hung': [9], 'anoyes': [2], 'olegoid': [2], 'Arjun Attam': [4], 'Pascal Fong Kye': [15], 'Charles Gagnon': [5], 'sana-ajani': [3], 'ChaseKnowlden': [5], 'chrisdias': [29], 'Jonathan Belcher': [2], 'Jason Wang': [3], 'Vyacheslav Pukhanov': [2], 'IllusionMH': [12], 'Robert Jin': [8], 'annkamsk': [6], 'ae1020': [3], 'mjcrouch': [5], 'n-gist': [5], 'Jonatan Ivanov': [2], 'mtaran-google': [2], 'Jack Works': [2], 'Caio': [4], 'Aditya Thakral': [35], 'Arthur Kushka': [3], 'Noelle Caldwell': [4], 'noecald': [8], 'Dasharathi, Abhijith': [3], 'bamurtaugh': [6], 'Chuang Yu': [4], 'Milo Moisson': [2], 'Antón Molleda': [3], 'Dhananjay Tanpure': [2], 'Ciprian Flroescu': [2], 'Pierce Boggan': [2], 'Daybrush (Younkue Choi)': [3], 'nrayburn': [9], 'Brian Malehorn': [2], 'Connor Skees': [2], 'David Linskey': [2], 'Fedor Nezhivoi': [8], 'Daniel Davis': [8], 'Mads Kristensen': [2], 'Alvin Tang': [4], 'Rhitik Bhatt': [2], 'Ed Jeffreys': [3], 'Matthew Haines': [5], 'Andrii Dieiev': [5], 'Asif Hasan': [2], 'Ludovic Galibert': [2], 'Christos Pappas': [10], 'Matt Hernandez': [4], 'John Blackbourn': [4], 'ConnorSkees': [6], 'rzj17': [7], 'Borja Zarco': [4], 'Robert Rossmann': [10], 'James Koss': [5], 'AlexStrNik': [6], 'Matt Crouch': [8], 'Steven Hermans': [2], 'Christopher Maynard': [8], 'ctmayn': [2], 'Danny Lin': [4], 'Ilia Pozdnyakov': [5], 'Evan Krause': [3], 'Alasdair McLeay': [7], 'Pine Wu': [447], 'Ken \"2-Foot\" Brownfield': [4], 'Jacob': [5], 'Pine': [64], 'Michael Bolin': [2], 'Anthony Van de Gejuchte': [3], 'Ted Goldman': [2], 'Gustavo Cassel': [11], 'Git-Lior': [5], 'Marvin Heilemann': [5], 'Dmitry Sharshakov': [4], 'Huachao Mao': [2], 'piraces': [2], 'Alvaro Videla': [3], 'Jon Bockhorst': [27], 'Tobias Hernstig': [3], 'Mathias Rasmussen': [4], 'Josh Goldberg': [9], 'Gustavo Sampaio': [4], 'Richard Townsend': [7], 'Matej Urbas': [2], 'Sergio Schvezov': [4], 'Helloimbob': [3], 'Bailey': [13], 'Michael Scovetta': [2], 'Jiayue. Zhang': [4], 'Maik Riechert': [5], 'alpalla': [2], 'Brett Cannon': [5], 'Ron Buckton': [4], 'Oliver Larsson': [2], 'Gabriel DeBacker': [68], 'Teja': [2], 'David Lechner': [10], 'Maira Wenzel': [2], 'Oğuzhan Eroğlu': [2], 'Dan': [2], 'Luis Oliveira': [6], 'Fabien Launay': [4], 'Dan Pock': [3], 'RealZogger': [2], 'Andrew Liu': [4], 'sharkykh': [2], 'Bura Chuhadar': [3], 'Yuki Ueda': [4], 'Przemek Dziewa': [3], 'Remy Suen': [3], 'Chayim Refael Friedman': [21], 'Mohammad Rahhal': [2], 'okmttdhr': [6], 'Matthew Clifford': [3], 'lipgloss': [2], 'grey275': [10], 'Anthony Dresser': [4], 'ryenus': [2], 'Kristian Thy': [2], 'George Batalinski': [5], 'Nilesh': [14], 'Samuel Bronson': [3], 'Waterpolymer': [2], 'DiamondYuan': [7], 'Sebastian Pahnke': [2], 'OneQuid': [2], 'Peter Elmers': [2], 'Wowol': [2], 'Vladislav Hadzhiyski': [2], 'James Inkster': [3], 'John Combs': [2], 'James': [2], 'Jason Ginchereau': [8], 'Tobias Fenster': [6], 'MartinBrathen': [2], 'Dave Alongi': [12], 'Alexander': [18], 'Andrew Wong': [5], 'skprabhanjan': [29], 'Edward Thomson': [6], 'Anirudh Rayabharam': [8], 'frobinsonj': [2], 'Jeremy Shore': [7], 'helen3141': [3], 'Niklas Mollenhauer': [2], 'Nikolay Kondratyev': [2], 'Phil Marshall': [27], 'Lars Hvam': [2], 'Dipen Ved': [3], 'Fuchen Shi': [2], 'David Reis': [5], 'Dmitry Gozman': [9], 'Arash Arbabi': [6], 'Prabhanjan S Koushik': [9], 'Waldemar Kornewald': [2], 'jrieken': [11], 'Christian Oliff': [5], 'pi1024e': [44], 'weijiaxun': [2], 'Yuya Tanaka': [3], 'Helen Choi': [2], 'Your Name': [2], 'Xhulio Hasani': [5], 'mayaswrath': [3], 'Utkarsh Gupta': [2], 'Chris May': [2], 'RMacfarlane': [3], 'Darrien Singleton': [8], 'Dan McCarthy': [3], 'Howard Hung': [14], 'Yisrael': [9], 'Itamar Kestenbaum': [6], 'Kamran Ayub': [26], 'Wesley Wigham': [2], 'Angelo': [2], 'Connor Shea': [6], 'Drew Cross': [5], 'matthew': [7], 'mkenigs': [2], 'masliu': [2], 'Haneef Mohammed': [6], 'Julien Brianceau': [2], 'pkoushik': [22], 'Patrick Burke': [2], 'ozyx': [3], 'orange4glace': [3], 'Rob DeLine': [5], 'Micah Smith': [2], 'Remco Haszing': [2], 'Aurélien Pupier': [2], 'Waldir Pimenta': [3], 'Babak K. Shandiz': [2], 'Christopher Leidigh': [60], 'Bowden Kelly': [13], 'Khaja Nizamuddin': [3], 'Hao Hu': [3], 'David Munoz': [6], 'Harry Hedger': [5], 'Shiva Prasanth': [3], 'roottool': [13], 'Jonas Kemper': [3], 'marmik': [3], 'Ian Sanders': [33], 'Michael Flanagan': [2], 'Alexandr Fadeev': [3], 'Mathieu Plourde': [2], 'Matt Acosta': [3], 'LeuisKen': [2], 'Waleed Ashraf': [2], 'Vitaliy Mazurenko': [3], 'JimiC': [2], 'jwikman': [3], 'Evan Bovie': [2], 'Martin Wimpress': [10], 'mgquan@myseneca.ca': [10], 'Ubuntu': [5], 'ipmsteven': [2], 'svipben': [2], 'Carson McManus': [5], 'svipas': [9], 'Krish De Souza': [6], 'Abby': [2], 'Matthew Kwiecien': [6], 'Volodymyr': [5], 'Kenneth Auchenberg': [9], 'Yusuke Tsutsumi': [8], 'Geir Hauge': [4], 'Jay Rodgers': [3], 'gangachris': [4], 'Pawel Urbanski': [5], 'Scott Craig': [2], 'Segev Finer': [11], 'Chris Patterson': [26], 'alexet': [3], 'Rudi Chen': [10], 'Asaf Cohen': [4], 'Rich Evans': [3], 'Michael J. Miller': [9], 'Kumar Harsh': [2], 'Ilya Biryukov': [7], 'Ashwin Ramaswami': [2], 'Henk Mollema': [2], 'Julia McGeoghan': [2], 'Kermit Xuan': [4], 'Chris Ganga': [6], 'Maksymilian Barnaś': [3], 'Adrian Fernandez Garcia': [2], 'Agustín Rodríguez': [4], 'nunottlopes': [3], 'Noj Vek': [4], 'Alec Chan': [4], 'Ramya Rao': [57], 'laphets': [9], 'Dustin Campbell': [14], 'karan': [2], 'Jeffrey': [2], 'karan verma': [3], 'Anuj': [2], 'Ramya Achutha Rao': [652], 'Julien Roncaglia': [5], 'iBlackShadow': [2], 'OneThatWalks': [6], 'HYEWON HWANG': [3], 'Konrad Borowski': [3], 'Guillaume Poussel': [2], 'Sardorbek Pulatov': [4], 'Nguyen Long Nhat': [8], 'Varan Shukla': [2], 'Robert Balent': [2], 'Nick Schonning': [5], 'Joan': [3], 'Christian Alexander': [2], 'Chris Sinco': [2], 'Ahmed Atito': [2], 'Daksh': [2], 'Malige Julien': [2], 'Karthikayan': [3], 'Manjiri Tapaswi': [3], 'Anurag Banerjee': [2], 'Literallie': [9], 'Omkar Manjrekar': [10], 'nesukun': [2], 'benjamenhogben': [3], 'Marcus Farkas': [3], 'Niclas van Eyk': [3], 'Frederik Bolding': [2], 'Guy Waldman': [10], 'John Graham': [2], 'Ryan Scott': [3], 'Stepan Usatyuk': [2], 'ronihacohen': [2], 'Jonathan Dierksen': [2], 'Dániel Tar': [17], 'Sardorbek': [2], 'JYX': [2], 'Jason Bright': [2], 'Ivan Sučić': [2], 'Aliaksandr Stelmachonak': [2], 'David Staheli': [5], 'Kony': [2], 'Morten Henriksen': [2], 'Olya Lesnikova': [2], 'Parkour Karthik': [2], 'Aldo Donetti': [7], 'Daniel McNab': [2], 'Ilya Rodionov': [2], 'Itamar': [2], 'Nikolai Vavilov': [2], 'Nil': [2], 'mechatroner': [5], 'Andy Li': [2], 'Tom Basche': [2], 'wistcc': [8], 'Krzysztof Cieslak': [18], 'Eric Gang': [2], 'Daniel Ye': [50], 'misolori': [29], 'Yu Zhang': [3], 'Leonardo Braga': [4], 'EbXpJ6bp': [2], 'bitshiftza': [2], 'Christoph Seitz': [8], 'Darius Keeley': [3], 'Nahom Abi': [2], 'ava1ar': [2], 'Simon Chan': [3], 'oriash93': [12], 'Sribalaji M': [2], 'Heart Thankful': [2], 'Mrigank Krishan': [4], 'Cherry Wang': [25], 'danielfrankcom': [8], 'mkavidas': [3], 'Ryan Adolf': [35], 'Brandon Ruggles': [21], 'DongWei': [2], 'InspectorDeno': [3], 'Don Williamson': [2], 'alexr00': [2], 'Giora Guttsait': [2], 'Ilie Halip': [2], 'Igor Matuszewski': [2], 'Coenraad Stijne': [2], 'Jeff': [2], 'Tomáš Hübelbauer': [4], 'ranolfi': [2], 'Howard Chen': [7], 'Aleksey Glazkov': [4], 'Till Salinger': [40], 'Bowden': [6], 'Marco Beltempo': [3], 'Jason Liu': [2], 'Pradeep Murugesan': [7], 'Ivor Huang': [6], 'fetiew': [2], 'wbarajas@umich.edu': [2], 'Noah Gibson': [7], 'vincentLiuxiang': [2], 'costincaraivan': [3], 'André Weinand': [41], 'Ryuichi Inagaki': [9], 'Yemi Bedu @ P&R': [2], 'Koji Murata': [2], 'Kenny Le': [2], 'DAVID DRUKER': [2], 'Gus Hurovich': [11], 'AiryShift': [5], 'Daniel Frankcom': [2], '钊哥': [2], 'Mihai Balaceanu': [2], 'szz': [4], 'Shobhit Chittora': [21], 'Steve Desmond': [3], 'SrTobi': [20], 'Roman': [2], 'Aliaksandr Ushakou': [3], 'Ntovas': [2], 'Ray Gervais': [2], 'Dominik Ivosevic': [3], 'Matheus Salmi': [2], 'Svitlana Galianova': [7], \"Ilya Murav'jov\": [2], 'Sriram Desikan': [4], 'Robin': [2], 'ergun1017': [3], 'Alex': [24], 'gushuro': [2], 'Mihail Bodrov': [2], 'Anton Kosiakov': [2], 'Krzysztof Cieślak': [24], 'Yannick Meeus': [2], 'Mathieu Bruguier': [2], 'Felix Becker': [12], 'Sean Poulter': [2], 'Marek Lewandowski': [3], 'bpceee': [4], 'Sylvain Joyeux': [3], 'saighost': [2], 'Fong Kye Pascal': [4], 'Heath Stewart': [2], 'TeeSeal': [5], 'Shivam Mittal': [4], 'Manzur Khan Sarguru': [2], 'Nick Snyder': [16], 'Till': [11], 'Nico': [3], 'Unknown': [6], 'francis-andrade': [2], 'Ajit Singh': [4], 'Jared Moore': [4], 'Joe Martella': [2], 'Dozed12': [4], 'Afonso Pinto': [4], 'Melvin Philips': [8], 'Steven Clarke': [2], 'David Valachovic': [3], 'Dan Bovey': [3], 'Max Schmitt': [4], 'cleidigh': [23], 'Max Furman': [2], 'David Weber': [6], 'Anton Vildyaev': [6], 'warpdesign': [3], 'Ethan Woodward': [3], 'Arthur Ozga': [2], 'Dominik Kundel': [4], 'Keegan Carruthers-Smith': [31], 'MichielVanderlee': [2], 'Soo Jae Hwang': [2], 'Fares Rihani': [2], 'Brandon Bloom': [2], 'BattleBas': [2], 'Peter Kahle': [4], 'Ari Miller': [2], 'lizz': [2], 'David Gileadi': [2], 'Dmitry Kabardinov': [2], 'Markus Wolf': [3], 'Jeyanthinath': [2], 'Oliver Joseph Ash': [2], 'YukiUeda': [2], 'Fabio Spampinato': [2], 'Joao': [127], 'Amy Qiu': [31], 'Nicola Fiori (JD342)': [2], 'Justin Horner': [4], 't-amqi': [75], 'Jens Hausdorf': [7], 'Michel Kaporin': [189], 'Jep': [2], 'Harjyot Singh': [4], 'rsafronov': [2], 'Oleg Mihailik': [6], 'Ryan Stringham': [4], 'Ivan Zlatev': [2], 'Dmitry Zabello': [4], 'Bugra Cuhadaroglu': [7], 'Daniel Portella': [2], 'Cody Hoover': [5], 'Maryam Archie': [2], 'Marc Kassay': [4], 'dadlerj': [2], 'NKumar2': [2], 'jens1o': [4], 'Rohith Reddy Kumbharkar': [2], 'Yu': [3], 'Ben Stein': [4], 'Cristian': [2], 'Chun Hei Ernest Wong': [2], 'fadeevab': [3], 'Phil Price': [22], 'Florent Viel': [2], 'Young Rok Kim': [2]}\n"
     ]
    }
   ],
   "source": [
    "# put all users to dictionary users.\n",
    "users = {}\n",
    "\n",
    "for user in df['user']:\n",
    "    if user not in users:\n",
    "        users[user] = 1\n",
    "    else:\n",
    "        users[user] += 1\n",
    "        \n",
    "#if a user only appears in csv file once, we need to remove it from dictionary\n",
    "all_users_dict = {}\n",
    "for user, v in users.items():\n",
    "    if v != 1:\n",
    "        all_users_dict[user] = [v]\n",
    "print(all_users_dict)\n"
   ]
  },
  {
   "cell_type": "markdown",
   "metadata": {},
   "source": [
    "## 1.3 For each user in dictionary summe up lines of code changed"
   ]
  },
  {
   "cell_type": "markdown",
   "metadata": {},
   "source": [
    "### 1.3.1 Get commit summary for each user\n",
    "Accroding to the gaven username via command line get commit summary of the user.\n",
    "Summary includes: \n",
    "* %ad: author date\n",
    "* %s: comment mesage\n",
    "* numstat: number of inserted and deleted lines changes"
   ]
  },
  {
   "cell_type": "code",
   "execution_count": 4,
   "metadata": {},
   "outputs": [],
   "source": [
    "def get_user_commit_summary(username):\n",
    "    # username = 'Logan Ramos'\n",
    "    git_command = 'cd /Users/zhiyiniu/Repositories/vscode && git log  --date=local --all --pretty=\"%ad;;%s\" --author=\"{}\" --numstat'\n",
    "    result = !{git_command.format(username)}\n",
    "    # print(result)\n",
    "    return result"
   ]
  },
  {
   "cell_type": "markdown",
   "metadata": {},
   "source": [
    "#### result format: \n",
    "each user commit summary is composed of three parts: \n",
    "* commit time ;; commit message (two simicole points are splitor between time and comment)\n",
    "* '' empty line\n",
    "* number of changes in a file: starting with 1\\t1\\t+path\n",
    "    > first number before \\t is number of inserted lines\n",
    "    > second number before \\t is number of deleted lines\n",
    "\n",
    "e.g.:\n",
    "[\"Mon Jun 28 17:54:00 2021;;Don't show configure default if no file extension\", '','1\\t1\\tsrc/vs/workbench/...']"
   ]
  },
  {
   "cell_type": "markdown",
   "metadata": {},
   "source": [
    "### 1.3.2 Summe up lines of code changed in summary\n",
    "take number of inserted lines and deleted lines as lines of code changed \n",
    "* Sometimes one commit includes more than one file --> \"Every four commas is one commit\" is wrong\n",
    "* So we need to identify the begining of each string in array\n",
    "  + remove all empty string\n",
    "  + If it begins 'Sun', 'Mon', 'Tue', 'Wed', 'Thu' ,'Fri','Sat' --> Start a new commit\n",
    "  + else is number of changes "
   ]
  },
  {
   "cell_type": "code",
   "execution_count": 5,
   "metadata": {},
   "outputs": [],
   "source": [
    "def summe_up_lines_of_chenged_code(summary):\n",
    "    sum_of_code_changes = 0 \n",
    "    time_list = ['Sun', 'Mon', 'Tue', 'Wed', 'Thu' ,'Fri','Sat']\n",
    "    # remove all empty element in list\n",
    "    summary = list(filter(None, summary))\n",
    "    \n",
    "    commit_time_with_num_changes_and_comment = {}\n",
    "    i = 0\n",
    "    current_commit_time = ''\n",
    "    new_result = []\n",
    "    while i < len(summary)-1:\n",
    "        if summary[i].split(' ')[0] in time_list:\n",
    "            if i+1 < len(summary) and summary[i+1].split(' ')[0] not in time_list:\n",
    "                current_commit_time = summary[i].split(';;')[0]\n",
    "                commit_message = summary[i].split(';;')[1]\n",
    "                commit_time_with_num_changes_and_comment[current_commit_time] = {}\n",
    "                commit_time_with_num_changes_and_comment[current_commit_time]['num_lines_changed'] = 0\n",
    "                commit_time_with_num_changes_and_comment[current_commit_time]['commit_messages'] = commit_message\n",
    "        else:\n",
    "            changes = summary[i].split('\\t')\n",
    "            # chnages_num = commit_time_with_num_changes_and_comment[current_commit_time]['num_lines_changed']\n",
    "            # print(str(changes))\n",
    "            try:\n",
    "                commit_time_with_num_changes_and_comment[current_commit_time]['num_lines_changed'] += (int(changes[0]) + int(changes[1]))\n",
    "            except:\n",
    "                pass\n",
    "        i = i + 1\n",
    "    for key in commit_time_with_num_changes_and_comment:\n",
    "        if commit_time_with_num_changes_and_comment[key]['num_lines_changed'] == 0:\n",
    "            return {}\n",
    "    return commit_time_with_num_changes_and_comment"
   ]
  },
  {
   "cell_type": "markdown",
   "metadata": {},
   "source": [
    "## 1.4 Classification commit message"
   ]
  },
  {
   "cell_type": "markdown",
   "metadata": {},
   "source": [
    "### 1.4.1 Get model variable in classification model file "
   ]
  },
  {
   "cell_type": "code",
   "execution_count": 6,
   "metadata": {},
   "outputs": [
    {
     "data": {
      "text/plain": [
       "array(['backend', 'cloud', 'data-analysis', 'frontend', 'os'],\n",
       "      dtype=object)"
      ]
     },
     "execution_count": 6,
     "metadata": {},
     "output_type": "execute_result"
    }
   ],
   "source": [
    "%store -r logregclf\n",
    "logregclf\n",
    "\n",
    "%store -r countvec\n",
    "countvec\n",
    "\n",
    "%store -r target_names\n",
    "target_names"
   ]
  },
  {
   "cell_type": "markdown",
   "metadata": {},
   "source": [
    "### 1.4.2 Test if stored variables work"
   ]
  },
  {
   "cell_type": "code",
   "execution_count": 7,
   "metadata": {},
   "outputs": [
    {
     "name": "stdout",
     "output_type": "stream",
     "text": [
      "The Jira Ticket \"How can I configure DNS for my local Cloud Server?\" belongs to the category \"cloud\".\n",
      "The Jira Ticket \"No permission to open MySQL audit log.\" belongs to the category \"data-analysis\".\n"
     ]
    }
   ],
   "source": [
    "input_data = []\n",
    "\n",
    "test_sentence1 = \"How can I configure DNS for my local Cloud Server?\"\n",
    "test_sentence2 = \"No permission to open MySQL audit log.\"\n",
    "input_data.append(test_sentence1)\n",
    "input_data.append(test_sentence2)\n",
    "\n",
    "sentences_categories = logregclf.predict(countvec.transform(input_data))\n",
    "for data, category in zip(input_data, sentences_categories):\n",
    "    print(f'The Jira Ticket \"{data}\" belongs to the category \"{target_names[category]}\".')"
   ]
  },
  {
   "cell_type": "markdown",
   "metadata": {},
   "source": [
    "### import sentiment analysis model"
   ]
  },
  {
   "cell_type": "code",
   "execution_count": 8,
   "metadata": {},
   "outputs": [
    {
     "name": "stderr",
     "output_type": "stream",
     "text": [
      "[nltk_data] Downloading package vader_lexicon to\n",
      "[nltk_data]     /Users/zhiyiniu/nltk_data...\n",
      "[nltk_data]   Package vader_lexicon is already up-to-date!\n"
     ]
    }
   ],
   "source": [
    "import nltk\n",
    "from nltk.sentiment import SentimentIntensityAnalyzer\n",
    "from nltk.tokenize import word_tokenize, sent_tokenize\n",
    "nltk.download('vader_lexicon')\n",
    "\n",
    "def get_sentiment_score(sentences):\n",
    "    scores = []\n",
    "    for sentence in sentences:\n",
    "        sentence_score = SentimentIntensityAnalyzer().polarity_scores(sentence)[\"compound\"]\n",
    "        scores.append(sentence_score)\n",
    "    # print(scores)\n",
    "    return scores"
   ]
  },
  {
   "cell_type": "markdown",
   "metadata": {},
   "source": [
    "### 1.4.3 Calculate end score "
   ]
  },
  {
   "cell_type": "code",
   "execution_count": 15,
   "metadata": {},
   "outputs": [],
   "source": [
    "def calculate_end_score(dict_):\n",
    "    end_score = 0\n",
    "    sum_lines = 0 \n",
    "   \n",
    "    for key in dict_:\n",
    "        lines = dict_[key]['num_lines_changed']\n",
    "        sum_lines += lines\n",
    "        sentiment_score = dict_[key]['sentiment_score']\n",
    "        end_score += lines*sentiment_score\n",
    "    end_score = round(end_score/sum_lines,3)\n",
    "    return end_score"
   ]
  },
  {
   "cell_type": "markdown",
   "metadata": {},
   "source": [
    "### 1.4.4 Using Classification Model to classify commit message "
   ]
  },
  {
   "cell_type": "code",
   "execution_count": 16,
   "metadata": {},
   "outputs": [],
   "source": [
    "def classify_commit_messages(summary_dict):\n",
    "    dict_ = {}\n",
    "    # add each target_names as key in dict\n",
    "    for name in target_names:\n",
    "        if name not in dict_:\n",
    "            dict_[name] = {}\n",
    "            dict_[name]['num_lines_changed'] = 0\n",
    "            # index 0 is sentiment score and index 1 is count\n",
    "            dict_[name]['sentiment_score'] = [0, 0]\n",
    "            \n",
    "    # store commit messages in a list\n",
    "    commit_messages = []\n",
    "    num_lines_changed = []\n",
    "    \n",
    "    for key in summary_dict:\n",
    "        message = summary_dict[key]['commit_messages']\n",
    "        if message != '':\n",
    "            commit_messages.append(message)\n",
    "            num_lines_changed.append(summary_dict[key]['num_lines_changed'])\n",
    "    \n",
    "    sentiment_scores = get_sentiment_score(commit_messages)\n",
    "\n",
    "    sentences_categories = logregclf.predict(countvec.transform(commit_messages))\n",
    "    for data, category, num, score in zip(commit_messages, sentences_categories, num_lines_changed, sentiment_scores):\n",
    "        category_name = target_names[category]\n",
    "        dict_[category_name]['num_lines_changed'] += num\n",
    "        dict_[category_name]['sentiment_score'][0] += score\n",
    "        dict_[category_name]['sentiment_score'][1] += 1\n",
    "        #print(f'The Git commit message \"{data}\" belongs to the category \"{category_name}\".')\n",
    "        #print(dict_)\n",
    "    #print('==========================')\n",
    "    for key in dict_:\n",
    "        count = dict_[key]['sentiment_score'][1]\n",
    "        if count == 0:\n",
    "            count = 1\n",
    "        dict_[key]['sentiment_score'] = round((dict_[key]['sentiment_score'][0])/count,3)\n",
    "    \n",
    "    dict_['end_score'] = calculate_end_score(dict_)\n",
    "    \n",
    "    # print(dict_)\n",
    "    return dict_"
   ]
  },
  {
   "cell_type": "code",
   "execution_count": 17,
   "metadata": {},
   "outputs": [],
   "source": [
    "# classify_commit_messages(summary_dict)"
   ]
  },
  {
   "cell_type": "markdown",
   "metadata": {},
   "source": [
    "# 2. For each author  "
   ]
  },
  {
   "cell_type": "code",
   "execution_count": 18,
   "metadata": {
    "scrolled": true
   },
   "outputs": [],
   "source": [
    "def iterator_all_users_and_get_result():\n",
    "    result = {}\n",
    "    for user in all_users_dict:\n",
    "        # print('==========================')\n",
    "        # print('User:' + user)\n",
    "        if all_users_dict[user][0] > 50:\n",
    "            result[user] = {}\n",
    "            summary = get_user_commit_summary(user)\n",
    "            if summary != []:\n",
    "                summary_dict = summe_up_lines_of_chenged_code(summary)\n",
    "                if summary_dict != {}:\n",
    "                    result[user] = classify_commit_messages(summary_dict)\n",
    "    return result"
   ]
  },
  {
   "cell_type": "code",
   "execution_count": null,
   "metadata": {},
   "outputs": [],
   "source": [
    "result = iterator_all_users_and_get_result()"
   ]
  },
  {
   "cell_type": "markdown",
   "metadata": {},
   "source": []
  },
  {
   "cell_type": "markdown",
   "metadata": {},
   "source": [
    "# 3. Get JSON output Result"
   ]
  },
  {
   "cell_type": "code",
   "execution_count": null,
   "metadata": {},
   "outputs": [],
   "source": [
    "import json\n",
    "\n",
    "def get_user_data_in_json(result):        \n",
    "    data_in_json = json.dumps(result, indent=4)\n",
    "    # print(data_in_json)\n",
    "    return data_in_json\n",
    "\n",
    "output_dict = {}\n",
    "for key in result:\n",
    "    if result[key] != {}:\n",
    "        output_dict[key] = result[key]\n",
    "            \n",
    "output_in_json = get_user_data_in_json(output_dict)\n",
    "print(output_in_json)"
   ]
  },
  {
   "cell_type": "code",
   "execution_count": null,
   "metadata": {},
   "outputs": [],
   "source": []
  }
 ],
 "metadata": {
  "kernelspec": {
   "display_name": "Python 3.8.5 64-bit ('base': conda)",
   "language": "python",
   "name": "python38564bitbaseconda6aaa5bc4858b4ea187edde7833e66cf9"
  },
  "language_info": {
   "codemirror_mode": {
    "name": "ipython",
    "version": 3
   },
   "file_extension": ".py",
   "mimetype": "text/x-python",
   "name": "python",
   "nbconvert_exporter": "python",
   "pygments_lexer": "ipython3",
   "version": "3.8.5"
  }
 },
 "nbformat": 4,
 "nbformat_minor": 4
}
