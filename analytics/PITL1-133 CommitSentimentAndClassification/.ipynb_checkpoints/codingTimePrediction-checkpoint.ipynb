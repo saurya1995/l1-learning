{
 "cells": [
  {
   "cell_type": "markdown",
   "metadata": {},
   "source": [
    "# coding time Prediction"
   ]
  },
  {
   "cell_type": "code",
   "execution_count": 105,
   "metadata": {},
   "outputs": [],
   "source": [
    "import pandas as pd\n",
    "import csv\n",
    "from datetime import datetime"
   ]
  },
  {
   "cell_type": "markdown",
   "metadata": {},
   "source": [
    "# 1. Prepare training dataset\n",
    "\n",
    "## 1.1 import training data"
   ]
  },
  {
   "cell_type": "code",
   "execution_count": 106,
   "metadata": {
    "scrolled": false
   },
   "outputs": [
    {
     "name": "stdout",
     "output_type": "stream",
     "text": [
      "       hash              user                      time  \\\n",
      "0   4e70c54           ayyjohn   Sun May 9 20:20:50 2021   \n",
      "1   6984b4e     Trần Tiến Đức  Tue Feb 16 03:14:06 2021   \n",
      "2   9107b8a      Donne Martin  Tue Feb 16 03:10:03 2021   \n",
      "3   ffc8123  Laurent Erignoux  Sun Jan 24 10:26:08 2021   \n",
      "4   478a7d7   Abdalla Mohamed  Tue Dec 29 03:51:32 2020   \n",
      "..      ...               ...                       ...   \n",
      "95  f5dde5f           hekra01   Tue Aug 7 03:24:59 2018   \n",
      "96  cd7ac6d      Girish Raman   Sun Aug 5 15:52:03 2018   \n",
      "97  9c4c603      Donne Martin   Thu Aug 2 00:18:41 2018   \n",
      "98  c8392e3      Donne Martin  Mon Jul 30 04:05:41 2018   \n",
      "99  f350860     Igor Zboichik  Wed Jul 25 03:55:54 2018   \n",
      "\n",
      "                                              comment  \n",
      "0                Fix capitalization of Dropbox (#511)  \n",
      "1                           Fix LRU cache link (#505)  \n",
      "2   Fixing the indieflashblog address with archive...  \n",
      "3   Fixing the indieflashblog address with archive...  \n",
      "4                               Fix Celery URL (#486)  \n",
      "..                                                ...  \n",
      "95      Fix error in Twitter timeline solution (#196)  \n",
      "96                              Fix broken URL (#194)  \n",
      "97                   Add Thai translation link (#190)  \n",
      "98                 Add German translation link (#188)  \n",
      "99                            Fix broken links (#180)  \n",
      "\n",
      "[100 rows x 4 columns]\n"
     ]
    }
   ],
   "source": [
    "df = pd.read_csv('./trainingInput1.csv', sep=';')\n",
    "df = df[pd.notnull(df['user'])]\n",
    "print(df.head(100))"
   ]
  },
  {
   "cell_type": "markdown",
   "metadata": {},
   "source": [
    "## 1.2 clean data\n",
    "* calculate one code line change taking how much time for each person\n"
   ]
  },
  {
   "cell_type": "code",
   "execution_count": 107,
   "metadata": {},
   "outputs": [
    {
     "name": "stdout",
     "output_type": "stream",
     "text": [
      "{'Donne Martin': [175], '根号三': [4], 'SATO Yusuke': [10], 'Manas Karekar': [2], 'glusa8': [2], 'Chang Liu': [5], 'Fabrizio Cucci': [2], 'cclauss': [11], 'Anton Hulikau': [2], 'kevingo': [2], 'Tay Yang Shun': [2], 'Ian Park': [2], 'Yadong Wen': [2], 'Luis de Bethencourt': [2]}\n"
     ]
    }
   ],
   "source": [
    "# put all users to dictionary users.\n",
    "users = {}\n",
    "\n",
    "for user in df['user']:\n",
    "    if user not in users:\n",
    "        users[user] = 1\n",
    "    else:\n",
    "        users[user] += 1\n",
    "        \n",
    "#if a user only appears in csv file once, we need to remove it from dictionary\n",
    "new_users = {}\n",
    "for user, v in users.items():\n",
    "    if v != 1:\n",
    "        new_users[user] = [v]\n",
    "print(new_users)\n"
   ]
  },
  {
   "cell_type": "markdown",
   "metadata": {},
   "source": [
    "## 1.3 Calculate avrage time of one code line change"
   ]
  },
  {
   "cell_type": "code",
   "execution_count": 126,
   "metadata": {},
   "outputs": [
    {
     "name": "stdout",
     "output_type": "stream",
     "text": [
      "['Sun Jul 12 18:02:44 2020', 0, 'Sun Jul 12 17:58:35 2020', 2, 'Fri Jul 3 03:18:36 2020', 2, 'Fri Jul 3 03:11:07 2020', 163, 'Thu Jul 2 02:54:05 2020', 11, 'Thu Jul 2 02:48:43 2020', 34, 'Tue Mar 10 02:46:02 2020', 11, 401, 359, 312, 298, 548, 249, 395, 351, 'Fri May 31 02:25:26 2019', 2, 2, 2, 2, 'Tue May 14 03:56:36 2019', 2, 2, 2, 'Fri Dec 28 01:39:11 2018', 2, 'Mon Sep 24 02:12:12 2018', 2, 'Thu Aug 2 00:18:41 2018', 2, 'Mon Jul 30 04:05:41 2018', 2, 'Wed Jul 18 06:58:14 2018', 2, 'Thu Mar 8 02:38:49 2018', 2, 'Tue Mar 6 02:29:07 2018', 2, 'Fri Feb 23 04:49:17 2018', 1, 'Wed Jan 24 06:26:59 2018', 2, 'Sat Jan 6 01:25:20 2018', 18, 'Sun Dec 3 13:09:41 2017', 2, 'Fri Nov 3 01:03:29 2017', 4, 'Sat Oct 14 02:26:47 2017', 2, 'Sun Sep 24 13:43:54 2017', 2, 'Wed Sep 20 01:30:44 2017', 2, 'Fri Sep 15 03:05:01 2017', 2, 'Wed Aug 30 02:13:02 2017', 0, 'Sun Jul 23 18:07:36 2017', 2, 'Sat Jul 1 18:07:08 2017', 2, 'Fri May 12 06:49:37 2017', 6, 4, 'Mon Apr 17 00:06:31 2017', 11, 'Sat Apr 15 02:35:50 2017', 9, 'Mon Apr 10 13:04:43 2017', 12, 'Sun Apr 9 19:15:57 2017', 'Mon Apr 3 12:41:00 2017', 13, 'Sun Apr 2 14:26:33 2017', 'Sun Apr 2 14:26:21 2017', 'Sun Apr 2 14:26:11 2017', 'Sun Apr 2 14:26:02 2017', 'Sun Apr 2 14:25:47 2017', 'Sun Apr 2 14:25:39 2017', 'Sun Apr 2 14:25:28 2017', 'Sun Apr 2 14:24:47 2017', 'Sun Apr 2 14:22:42 2017', 'Sun Apr 2 14:21:37 2017', 'Sun Apr 2 14:04:58 2017', 4, 'Sun Apr 2 14:02:03 2017', 8, 'Sun Apr 2 14:00:20 2017', 9, 'Mon Mar 27 13:21:07 2017', 29, 'Sun Mar 26 18:50:23 2017', 5, 'Thu Mar 23 04:20:57 2017', 4, 'Wed Mar 15 11:59:28 2017', 1, 'Mon Mar 13 11:42:35 2017', 4, 'Mon Mar 13 11:40:02 2017', 16, 'Sun Mar 12 22:17:29 2017', 6, 'Thu Mar 9 05:31:08 2017', 4, 'Thu Mar 9 04:20:23 2017', 110, 104, 90, 100, 110, 94, 102, 96, 'Wed Mar 8 12:00:32 2017', 'Wed Mar 8 14:52:19 2017', 7, 'Wed Mar 8 14:51:02 2017', 4, 'Wed Mar 8 06:37:26 2017', 13, 'Wed Mar 8 06:37:11 2017', 13, 15, 'Wed Mar 8 06:36:02 2017', 40, 'Wed Mar 8 06:27:48 2017', 'Wed Mar 8 05:05:10 2017', 6, 'Wed Mar 8 05:04:51 2017', 8, 'Wed Mar 8 05:04:31 2017', 300, 'Wed Mar 8 04:50:36 2017', 2, 'Wed Mar 8 04:18:07 2017', 4, 'Wed Mar 8 04:16:25 2017', 2, 'Wed Mar 8 04:15:39 2017', 1, 'Wed Mar 8 04:14:49 2017', 1, 'Wed Mar 8 04:14:19 2017', 15, 'Wed Mar 8 04:13:44 2017', 2, 'Wed Mar 8 04:13:28 2017', 6, 'Mon Mar 6 04:30:00 2017', 41, 'Mon Mar 6 04:27:24 2017', 3, 'Mon Mar 6 04:25:59 2017', 63, 'Mon Mar 6 04:25:43 2017', 1, 'Sun Mar 5 06:07:31 2017', 403, 'Sun Mar 5 06:06:58 2017', 353, 0, 25, 72, 'Sun Mar 5 06:06:40 2017', 332, 'Sun Mar 5 06:06:28 2017', 349, 0, 63, 'Sun Mar 5 06:06:17 2017', 338, 0, 77, 'Sun Mar 5 06:06:04 2017', 306, 0, 89, 'Sun Mar 5 06:05:53 2017', 332, 0, 46, 'Sun Mar 5 06:05:31 2017', 441, 0, 57, 47, 'Sat Mar 4 03:54:23 2017', 0, 204, 121, 'Sat Mar 4 03:54:08 2017', 0, 182, 91, 'Sat Mar 4 03:53:54 2017', 0, 140, 61, 'Sat Mar 4 03:53:41 2017', 0, 121, 38, 'Sat Mar 4 03:51:00 2017', 0, 195, 116, 'Sat Mar 4 03:50:44 2017', 0, 206, 117, 'Fri Mar 3 04:49:59 2017', 6, 'Fri Mar 3 04:49:38 2017', 6, 'Fri Mar 3 04:49:19 2017', 15, 'Fri Mar 3 04:49:03 2017', 9, 'Fri Mar 3 04:48:45 2017', 48, 'Fri Mar 3 04:45:07 2017', 23, 'Fri Mar 3 04:44:33 2017', 16, 'Fri Mar 3 04:42:54 2017', 27, 'Fri Mar 3 04:42:25 2017', 27, 'Fri Mar 3 04:31:16 2017', 49, 'Thu Mar 2 05:44:42 2017', 29, 'Thu Mar 2 05:44:16 2017', 24, 'Thu Mar 2 05:44:00 2017', 21, 'Thu Mar 2 05:43:44 2017', 8, 'Thu Mar 2 05:42:55 2017', 11, 'Thu Mar 2 05:42:13 2017', 4, 'Thu Mar 2 05:41:48 2017', 6, 'Thu Mar 2 05:41:24 2017', 15, 'Thu Mar 2 05:40:25 2017', 10, 'Thu Mar 2 05:39:10 2017', 16, 'Thu Mar 2 05:38:45 2017', 16, 'Thu Mar 2 05:38:17 2017', 18, 'Thu Mar 2 05:37:59 2017', 35, 'Thu Mar 2 05:37:36 2017', 39, 'Thu Mar 2 05:37:12 2017', 21, 'Thu Mar 2 05:36:47 2017', 18, 'Thu Mar 2 05:36:29 2017', 16, 'Tue Feb 28 14:08:07 2017', 12, 'Tue Feb 28 14:06:59 2017', 42, 'Tue Feb 28 14:06:42 2017', 28, 'Tue Feb 28 14:06:15 2017', 23, 'Tue Feb 28 14:06:00 2017', 19, 'Tue Feb 28 14:04:37 2017', 17, 'Tue Feb 28 14:04:09 2017', 12, 'Tue Feb 28 14:03:48 2017', 50, 'Tue Feb 28 14:03:29 2017', 18, 'Tue Feb 28 14:03:08 2017', 28, 'Tue Feb 28 14:02:44 2017', 21, 'Tue Feb 28 14:02:21 2017', 30, 'Tue Feb 28 14:01:54 2017', 15, 'Tue Feb 28 14:01:31 2017', 21, 'Tue Feb 28 14:01:15 2017', 37, 'Mon Feb 27 14:21:05 2017', 43, 'Mon Feb 27 14:20:25 2017', 70, 'Mon Feb 27 14:19:59 2017', 41, 'Mon Feb 27 14:19:33 2017', 38, 'Mon Feb 27 14:19:11 2017', 36, 'Mon Feb 27 14:18:05 2017', 26, 'Mon Feb 27 14:16:55 2017', 34, 'Mon Feb 27 14:06:28 2017', 12, 'Mon Feb 27 14:06:10 2017', 14, 'Mon Feb 27 14:05:53 2017', 40, 'Mon Feb 27 14:05:23 2017', 52, 'Mon Feb 27 14:04:53 2017', 27, 'Mon Feb 27 14:04:21 2017', 40, 'Mon Feb 27 14:03:46 2017', 29, 'Mon Feb 27 14:02:50 2017', 19, 'Mon Feb 27 14:02:16 2017', 36, 'Sun Feb 26 14:22:40 2017', 6, 'Sun Feb 26 14:22:20 2017', 6, 'Sun Feb 26 14:21:16 2017', 6, 'Sun Feb 26 14:20:43 2017', 6, 'Sun Feb 26 14:19:59 2017', 6, 'Sun Feb 26 14:19:35 2017', 6, 'Sun Feb 26 14:19:05 2017', 6, 'Sun Feb 26 14:18:17 2017', 6, 'Sun Feb 26 14:16:05 2017', 18, 'Sun Feb 26 14:12:28 2017', 68, 'Sun Feb 26 14:11:32 2017', 22, 'Sun Feb 26 14:11:11 2017', 90, 'Sun Feb 26 14:10:48 2017', 14, 'Sun Feb 26 14:10:29 2017', 32, 'Sun Feb 26 14:10:03 2017', 28, 'Sun Feb 26 14:09:37 2017', 5]\n"
     ]
    }
   ],
   "source": [
    "def get_lines_of_change_between_two_commit(commit_hash1, commit_hsah2):\n",
    "    git_command = 'cd /Users/zhiyiniu/Repositories/gitOpenSourceData2/system-design-primer && git diff --numstat {} {}'\n",
    "    formatted_command = git_command.format(commit_hash1, commit_hsah2)\n",
    "    result = !{formatted_command}\n",
    "    result = result[0].split('\\t')\n",
    "    insert_num = int(result[0])\n",
    "    delete_num = int(result[1])\n",
    "    return insert_num + delete_num\n",
    "#get_lines_of_change_between_two_commit('16651d5', 'b34e167') [o, n)\n",
    "\n",
    "result_test = ['Tue Feb 16 03:10:03 2021;', 'Sun Jul 12 18:02:44 2020;', '0\\t0\\tsolutions/system_design/__init__.py', 'Sun Jul 12 18:00:04 2020;', 'Sun Jul 12 17:58:35 2020;', '1\\t1\\tREADME.md', 'Fri Jul 3 03:18:36 2020;', '2\\t0\\tREADME.md', 'Fri Jul 3 03:11:07 2020;', '163\\t0\\tTRANSLATIONS.md', 'Thu Jul 2 02:54:05 2020;', '11\\t0\\t.github/PULL_REQUEST_TEMPLATE.md', 'Thu Jul 2 02:48:43 2020;', '20\\t14\\tCONTRIBUTING.md', 'Tue Mar 10 02:46:02 2020;', '9\\t2\\tREADME-zh-Hans.md', '201\\t200\\tsolutions/system_design/mint/README.md', '180\\t179\\tsolutions/system_design/pastebin/README.md', '156\\t156\\tsolutions/system_design/query_cache/README.md', '149\\t149\\tsolutions/system_design/sales_rank/README.md', '274\\t274\\tsolutions/system_design/scaling_aws/README.md', '125\\t124\\tsolutions/system_design/social_graph/README.md', '198\\t197\\tsolutions/system_design/twitter/README.md', '174\\t177\\tsolutions/system_design/web_crawler/README.md', 'Sat Aug 3 16:08:18 2019;', 'Sat Aug 3 16:07:59 2019;', 'Fri May 31 02:25:26 2019;', '1\\t1\\tREADME-ja.md', '1\\t1\\tREADME-zh-Hans.md', '1\\t1\\tREADME-zh-TW.md', '1\\t1\\tREADME.md', 'Tue May 14 03:56:36 2019;', '1\\t1\\tREADME-ja.md', '2\\t0\\tREADME-zh-Hans.md', '1\\t1\\tREADME-zh-TW.md', 'Wed Apr 10 02:46:59 2019;', 'Fri Dec 28 01:39:11 2018;', '1\\t1\\tREADME.md', 'Mon Sep 24 02:12:12 2018;', '1\\t1\\tREADME.md', 'Thu Aug 2 00:18:41 2018;', '1\\t1\\tREADME.md', 'Mon Jul 30 04:05:41 2018;', '1\\t1\\tREADME.md', 'Wed Jul 18 06:58:14 2018;', '1\\t1\\tREADME.md', 'Thu Mar 8 02:38:49 2018;', '1\\t1\\tREADME.md', 'Tue Mar 6 02:29:07 2018;', '1\\t1\\tREADME.md', 'Fri Feb 23 04:49:17 2018;', '1\\t0\\tCONTRIBUTING.md', 'Wed Jan 24 06:26:59 2018;', '1\\t1\\tREADME.md', 'Sat Jan 6 01:25:20 2018;', '8\\t10\\tREADME.md', 'Sun Dec 3 13:09:41 2017;', '1\\t1\\tREADME.md', 'Fri Nov 3 01:03:29 2017;', '2\\t2\\tREADME.md', 'Sat Oct 14 02:26:47 2017;', '1\\t1\\tREADME.md', 'Sun Sep 24 13:43:54 2017;', '1\\t1\\tREADME.md', 'Wed Sep 20 01:30:44 2017;', '1\\t1\\tREADME.md', 'Fri Sep 15 03:05:01 2017;', '1\\t1\\tREADME.md', 'Wed Aug 30 02:13:02 2017;', '0\\t0\\tsolutions/system_design/__init__.py', 'Sun Jul 23 18:07:36 2017;', '1\\t1\\tREADME.md', 'Sat Jul 1 18:07:08 2017;', '1\\t1\\tREADME.md', 'Fri May 12 06:49:37 2017;', '6\\t0\\tLICENSE.txt', '4\\t0\\tREADME.md', 'Mon Apr 17 00:06:31 2017;', '3\\t8\\tREADME.md', 'Sat Apr 15 02:35:50 2017;', '5\\t4\\tCONTRIBUTING.md', 'Mon Apr 10 13:04:43 2017;', '8\\t4\\tREADME.md', 'Sun Apr 9 19:15:57 2017;', '-\\t-\\tresources/flash_cards/System Design.apkg', 'Mon Apr 3 12:41:00 2017;', '13\\t0\\tREADME.md', 'Sun Apr 2 14:34:48 2017;', 'Sun Apr 2 14:26:33 2017;', '-\\t-\\tsolutions/system_design/web_crawler/web_crawler.graffle', '-\\t-\\tsolutions/system_design/web_crawler/web_crawler_basic.graffle', 'Sun Apr 2 14:26:21 2017;', '-\\t-\\tsolutions/system_design/twitter/twitter.graffle', '-\\t-\\tsolutions/system_design/twitter/twitter_basic.graffle', 'Sun Apr 2 14:26:11 2017;', '-\\t-\\tsolutions/system_design/social_graph/social_graph.graffle', '-\\t-\\tsolutions/system_design/social_graph/social_graph_basic.graffle', 'Sun Apr 2 14:26:02 2017;', '-\\t-\\tsolutions/system_design/scaling_aws/scaling_aws.graffle', 'Sun Apr 2 14:25:47 2017;', '-\\t-\\tsolutions/system_design/sales_rank/sales_rank.graffle', '-\\t-\\tsolutions/system_design/sales_rank/sales_rank_basic.graffle', 'Sun Apr 2 14:25:39 2017;', '-\\t-\\tsolutions/system_design/query_cache/query_cache.graffle', '-\\t-\\tsolutions/system_design/query_cache/query_cache_basic.graffle', 'Sun Apr 2 14:25:28 2017;', '-\\t-\\tsolutions/system_design/pastebin/pastebin.graffle', '-\\t-\\tsolutions/system_design/pastebin/pastebin_basic.graffle', 'Sun Apr 2 14:24:47 2017;', '-\\t-\\tsolutions/system_design/mint/mint.graffle', '-\\t-\\tsolutions/system_design/mint/mint_basic.graffle', 'Sun Apr 2 14:22:42 2017;', '-\\t-\\tresources/study_guide.graffle', '-\\t-\\tresources/study_guide.png', 'Sun Apr 2 14:21:37 2017;', '-\\t-\\tsolutions/system_design/template/template.graffle', 'Sun Apr 2 14:09:50 2017;', 'Sun Apr 2 14:04:58 2017;', '2\\t2\\tREADME.md', 'Sun Apr 2 14:02:03 2017;', '4\\t4\\tREADME.md', 'Sun Apr 2 14:00:20 2017;', '5\\t4\\tREADME.md', 'Tue Mar 28 13:45:13 2017;', 'Mon Mar 27 13:21:07 2017;', '29\\t0\\tCONTRIBUTING.md', 'Sun Mar 26 18:50:23 2017;', '1\\t4\\tREADME.md', 'Thu Mar 23 04:20:57 2017;', '4\\t0\\tREADME.md', 'Wed Mar 15 11:59:28 2017;', '1\\t0\\tREADME.md', 'Mon Mar 13 11:42:35 2017;', '2\\t2\\tREADME.md', 'Mon Mar 13 11:40:02 2017;', '8\\t8\\tREADME.md', 'Sun Mar 12 22:17:29 2017;', '3\\t3\\tREADME.md', 'Thu Mar 9 05:31:08 2017;', '2\\t2\\tREADME.md', 'Thu Mar 9 04:20:23 2017;', '55\\t55\\tsolutions/system_design/mint/README.md', '52\\t52\\tsolutions/system_design/pastebin/README.md', '45\\t45\\tsolutions/system_design/query_cache/README.md', '50\\t50\\tsolutions/system_design/sales_rank/README.md', '55\\t55\\tsolutions/system_design/scaling_aws/README.md', '47\\t47\\tsolutions/system_design/social_graph/README.md', '51\\t51\\tsolutions/system_design/twitter/README.md', '48\\t48\\tsolutions/system_design/web_crawler/README.md', 'Wed Mar 8 12:00:32 2017;', '-\\t-\\tresources/flash_cards/System Design.apkg', 'Wed Mar 8 14:52:19 2017;', '5\\t2\\tREADME.md', 'Wed Mar 8 14:51:02 2017;', '3\\t1\\tREADME.md', 'Wed Mar 8 06:37:26 2017;', '13\\t0\\tREADME.md', 'Wed Mar 8 06:37:11 2017;', '1\\t12\\tsolutions/object_oriented_design/online_chat/online_chat.ipynb', '2\\t13\\tsolutions/object_oriented_design/online_chat/online_chat.py', 'Wed Mar 8 06:36:02 2017;', '17\\t23\\tREADME.md', 'Wed Mar 8 06:27:48 2017;', '-\\t-\\tresources/flash_cards/OO Design.apkg', '-\\t-\\tresources/flash_cards/System Design Exercises.apkg', '-\\t-\\tresources/flash_cards/System Design.apkg', 'Wed Mar 8 05:05:10 2017;', '3\\t3\\tREADME.md', 'Wed Mar 8 05:04:51 2017;', '1\\t7\\tREADME.md', 'Wed Mar 8 05:04:31 2017;', '152\\t148\\tREADME.md', 'Wed Mar 8 04:50:36 2017;', '1\\t1\\tREADME.md', 'Wed Mar 8 04:18:07 2017;', '0\\t4\\tREADME.md', 'Wed Mar 8 04:16:25 2017;', '1\\t1\\tREADME.md', 'Wed Mar 8 04:15:39 2017;', '1\\t0\\tREADME.md', 'Wed Mar 8 04:14:49 2017;', '0\\t1\\tREADME.md', 'Wed Mar 8 04:14:19 2017;', '7\\t8\\tREADME.md', 'Wed Mar 8 04:13:44 2017;', '1\\t1\\tREADME.md', 'Wed Mar 8 04:13:28 2017;', '3\\t3\\tREADME.md', 'Mon Mar 6 04:30:00 2017;', '41\\t0\\tCONTRIBUTING.md', 'Mon Mar 6 04:27:24 2017;', '3\\t0\\tLICENSE.txt', 'Mon Mar 6 04:25:59 2017;', '63\\t0\\t.gitignore', 'Mon Mar 6 04:25:43 2017;', '1\\t0\\t.gitattributes', 'Sun Mar 5 06:07:31 2017;', '403\\t0\\tsolutions/system_design/scaling_aws/README.md', '-\\t-\\tsolutions/system_design/scaling_aws/scaling_aws.png', '-\\t-\\tsolutions/system_design/scaling_aws/scaling_aws_1.png', '-\\t-\\tsolutions/system_design/scaling_aws/scaling_aws_2.png', '-\\t-\\tsolutions/system_design/scaling_aws/scaling_aws_3.png', '-\\t-\\tsolutions/system_design/scaling_aws/scaling_aws_4.png', '-\\t-\\tsolutions/system_design/scaling_aws/scaling_aws_5.png', '-\\t-\\tsolutions/system_design/scaling_aws/scaling_aws_6.png', '-\\t-\\tsolutions/system_design/scaling_aws/scaling_aws_7.png', 'Sun Mar 5 06:06:58 2017;', '353\\t0\\tsolutions/system_design/web_crawler/README.md', '0\\t0\\tsolutions/system_design/web_crawler/__init__.py', '-\\t-\\tsolutions/system_design/web_crawler/web_crawler.png', '-\\t-\\tsolutions/system_design/web_crawler/web_crawler_basic.png', '25\\t0\\tsolutions/system_design/web_crawler/web_crawler_mapreduce.py', '72\\t0\\tsolutions/system_design/web_crawler/web_crawler_snippets.py', 'Sun Mar 5 06:06:40 2017;', '332\\t0\\tsolutions/system_design/twitter/README.md', '-\\t-\\tsolutions/system_design/twitter/twitter.png', '-\\t-\\tsolutions/system_design/twitter/twitter_basic.png', 'Sun Mar 5 06:06:28 2017;', '349\\t0\\tsolutions/system_design/social_graph/README.md', '0\\t0\\tsolutions/system_design/social_graph/__init__.py', '-\\t-\\tsolutions/system_design/social_graph/social_graph.png', '-\\t-\\tsolutions/system_design/social_graph/social_graph_basic.png', '63\\t0\\tsolutions/system_design/social_graph/social_graph_snippets.py', 'Sun Mar 5 06:06:17 2017;', '338\\t0\\tsolutions/system_design/sales_rank/README.md', '0\\t0\\tsolutions/system_design/sales_rank/__init__.py', '-\\t-\\tsolutions/system_design/sales_rank/sales_rank.png', '-\\t-\\tsolutions/system_design/sales_rank/sales_rank_basic.png', '77\\t0\\tsolutions/system_design/sales_rank/sales_rank_mapreduce.py', 'Sun Mar 5 06:06:04 2017;', '306\\t0\\tsolutions/system_design/query_cache/README.md', '0\\t0\\tsolutions/system_design/query_cache/__init__.py', '-\\t-\\tsolutions/system_design/query_cache/query_cache.png', '-\\t-\\tsolutions/system_design/query_cache/query_cache_basic.png', '89\\t0\\tsolutions/system_design/query_cache/query_cache_snippets.py', 'Sun Mar 5 06:05:53 2017;', '332\\t0\\tsolutions/system_design/pastebin/README.md', '0\\t0\\tsolutions/system_design/pastebin/__init__.py', '-\\t-\\tsolutions/system_design/pastebin/pastebin.png', '46\\t0\\tsolutions/system_design/pastebin/pastebin.py', '-\\t-\\tsolutions/system_design/pastebin/pastebin_basic.png', 'Sun Mar 5 06:05:31 2017;', '441\\t0\\tsolutions/system_design/mint/README.md', '0\\t0\\tsolutions/system_design/mint/__init__.py', '-\\t-\\tsolutions/system_design/mint/mint.png', '-\\t-\\tsolutions/system_design/mint/mint_basic.png', '57\\t0\\tsolutions/system_design/mint/mint_mapreduce.py', '47\\t0\\tsolutions/system_design/mint/mint_snippets.py', 'Sat Mar 4 03:54:23 2017;', '0\\t0\\tsolutions/object_oriented_design/parking_lot/__init__.py', '204\\t0\\tsolutions/object_oriented_design/parking_lot/parking_lot.ipynb', '121\\t0\\tsolutions/object_oriented_design/parking_lot/parking_lot.py', 'Sat Mar 4 03:54:08 2017;', '0\\t0\\tsolutions/object_oriented_design/online_chat/__init__.py', '182\\t0\\tsolutions/object_oriented_design/online_chat/online_chat.ipynb', '91\\t0\\tsolutions/object_oriented_design/online_chat/online_chat.py', 'Sat Mar 4 03:53:54 2017;', '0\\t0\\tsolutions/object_oriented_design/lru_cache/__init__.py', '140\\t0\\tsolutions/object_oriented_design/lru_cache/lru_cache.ipynb', '61\\t0\\tsolutions/object_oriented_design/lru_cache/lru_cache.py', 'Sat Mar 4 03:53:41 2017;', '0\\t0\\tsolutions/object_oriented_design/hash_table/__init__.py', '121\\t0\\tsolutions/object_oriented_design/hash_table/hash_map.ipynb', '38\\t0\\tsolutions/object_oriented_design/hash_table/hash_map.py', 'Sat Mar 4 03:51:00 2017;', '0\\t0\\tsolutions/object_oriented_design/deck_of_cards/__init__.py', '195\\t0\\tsolutions/object_oriented_design/deck_of_cards/deck_of_cards.ipynb', '116\\t0\\tsolutions/object_oriented_design/deck_of_cards/deck_of_cards.py', 'Sat Mar 4 03:50:44 2017;', '0\\t0\\tsolutions/object_oriented_design/call_center/__init__.py', '206\\t0\\tsolutions/object_oriented_design/call_center/call_center.ipynb', '117\\t0\\tsolutions/object_oriented_design/call_center/call_center.py', 'Fri Mar 3 04:49:59 2017;', '6\\t0\\tREADME.md', 'Fri Mar 3 04:49:38 2017;', '6\\t0\\tREADME.md', 'Fri Mar 3 04:49:19 2017;', '15\\t0\\tREADME.md', 'Fri Mar 3 04:49:03 2017;', '9\\t0\\tREADME.md', 'Fri Mar 3 04:48:45 2017;', '48\\t0\\tREADME.md', 'Fri Mar 3 04:45:07 2017;', '23\\t0\\tREADME.md', 'Fri Mar 3 04:44:33 2017;', '16\\t0\\tREADME.md', 'Fri Mar 3 04:42:54 2017;', '27\\t0\\tREADME.md', 'Fri Mar 3 04:42:25 2017;', '27\\t0\\tREADME.md', 'Fri Mar 3 04:31:16 2017;', '49\\t0\\tREADME.md', 'Thu Mar 2 05:44:42 2017;', '29\\t0\\tREADME.md', 'Thu Mar 2 05:44:16 2017;', '24\\t0\\tREADME.md', 'Thu Mar 2 05:44:00 2017;', '21\\t0\\tREADME.md', 'Thu Mar 2 05:43:44 2017;', '8\\t0\\tREADME.md', 'Thu Mar 2 05:42:55 2017;', '11\\t0\\tREADME.md', 'Thu Mar 2 05:42:13 2017;', '4\\t0\\tREADME.md', 'Thu Mar 2 05:41:48 2017;', '6\\t0\\tREADME.md', 'Thu Mar 2 05:41:24 2017;', '15\\t0\\tREADME.md', 'Thu Mar 2 05:40:25 2017;', '10\\t0\\tREADME.md', 'Thu Mar 2 05:39:10 2017;', '16\\t0\\tREADME.md', 'Thu Mar 2 05:38:45 2017;', '16\\t0\\tREADME.md', 'Thu Mar 2 05:38:17 2017;', '18\\t0\\tREADME.md', 'Thu Mar 2 05:37:59 2017;', '35\\t0\\tREADME.md', 'Thu Mar 2 05:37:36 2017;', '39\\t0\\tREADME.md', 'Thu Mar 2 05:37:12 2017;', '21\\t0\\tREADME.md', 'Thu Mar 2 05:36:47 2017;', '18\\t0\\tREADME.md', 'Thu Mar 2 05:36:29 2017;', '16\\t0\\tREADME.md', 'Tue Feb 28 14:08:07 2017;', '12\\t0\\tREADME.md', 'Tue Feb 28 14:06:59 2017;', '42\\t0\\tREADME.md', 'Tue Feb 28 14:06:42 2017;', '28\\t0\\tREADME.md', 'Tue Feb 28 14:06:15 2017;', '23\\t0\\tREADME.md', 'Tue Feb 28 14:06:00 2017;', '19\\t0\\tREADME.md', 'Tue Feb 28 14:04:37 2017;', '17\\t0\\tREADME.md', 'Tue Feb 28 14:04:09 2017;', '12\\t0\\tREADME.md', 'Tue Feb 28 14:03:48 2017;', '50\\t0\\tREADME.md', 'Tue Feb 28 14:03:29 2017;', '18\\t0\\tREADME.md', 'Tue Feb 28 14:03:08 2017;', '28\\t0\\tREADME.md', 'Tue Feb 28 14:02:44 2017;', '21\\t0\\tREADME.md', 'Tue Feb 28 14:02:21 2017;', '30\\t0\\tREADME.md', 'Tue Feb 28 14:01:54 2017;', '15\\t0\\tREADME.md', 'Tue Feb 28 14:01:31 2017;', '21\\t0\\tREADME.md', 'Tue Feb 28 14:01:15 2017;', '37\\t0\\tREADME.md', 'Mon Feb 27 14:21:05 2017;', '43\\t0\\tREADME.md', 'Mon Feb 27 14:20:25 2017;', '70\\t0\\tREADME.md', 'Mon Feb 27 14:19:59 2017;', '41\\t0\\tREADME.md', 'Mon Feb 27 14:19:33 2017;', '38\\t0\\tREADME.md', 'Mon Feb 27 14:19:11 2017;', '36\\t0\\tREADME.md', 'Mon Feb 27 14:18:05 2017;', '26\\t0\\tREADME.md', 'Mon Feb 27 14:16:55 2017;', '34\\t0\\tREADME.md', 'Mon Feb 27 14:06:28 2017;', '12\\t0\\tREADME.md', 'Mon Feb 27 14:06:10 2017;', '14\\t0\\tREADME.md', 'Mon Feb 27 14:05:53 2017;', '40\\t0\\tREADME.md', 'Mon Feb 27 14:05:23 2017;', '52\\t0\\tREADME.md', 'Mon Feb 27 14:04:53 2017;', '27\\t0\\tREADME.md', 'Mon Feb 27 14:04:21 2017;', '40\\t0\\tREADME.md', 'Mon Feb 27 14:03:46 2017;', '29\\t0\\tREADME.md', 'Mon Feb 27 14:02:50 2017;', '19\\t0\\tREADME.md', 'Mon Feb 27 14:02:16 2017;', '18\\t18\\tREADME.md', 'Sun Feb 26 14:22:40 2017;', '6\\t0\\tREADME.md', 'Sun Feb 26 14:22:20 2017;', '6\\t0\\tREADME.md', 'Sun Feb 26 14:21:16 2017;', '6\\t0\\tREADME.md', 'Sun Feb 26 14:20:43 2017;', '6\\t0\\tREADME.md', 'Sun Feb 26 14:19:59 2017;', '6\\t0\\tREADME.md', 'Sun Feb 26 14:19:35 2017;', '6\\t0\\tREADME.md', 'Sun Feb 26 14:19:05 2017;', '6\\t0\\tREADME.md', 'Sun Feb 26 14:18:17 2017;', '6\\t0\\tREADME.md', 'Sun Feb 26 14:16:05 2017;', '18\\t0\\tREADME.md', 'Sun Feb 26 14:12:28 2017;', '68\\t0\\tREADME.md', 'Sun Feb 26 14:11:32 2017;', '22\\t0\\tREADME.md', 'Sun Feb 26 14:11:11 2017;', '90\\t0\\tREADME.md', 'Sun Feb 26 14:10:48 2017;', '14\\t0\\tREADME.md', 'Sun Feb 26 14:10:29 2017;', '32\\t0\\tREADME.md', 'Sun Feb 26 14:10:03 2017;', '28\\t0\\tREADME.md', 'Sun Feb 26 14:09:37 2017;', '5\\t0\\tREADME.md', 'Sun Feb 26 14:08:55 2017;']\n",
    "def clean_git_log_result(result):\n",
    "    time_list = ['Sun', 'Mon', 'Tue', 'Wed', 'Thu' ,'Fri','Sat']\n",
    "\n",
    "    # remove all empty element in list\n",
    "    result = list(filter(None, result))\n",
    "    \n",
    "    i = 0\n",
    "    new_result = []\n",
    "    while i < len(result)-1:\n",
    "        if result[i].split(' ')[0] in time_list:\n",
    "            if i+1 < len(result) and result[i+1].split(' ')[0] not in time_list:\n",
    "                new_result.append(result[i].split(';')[0])\n",
    "        else:\n",
    "            changes = result[i].split('\\t')\n",
    "            # print(str(changes))\n",
    "            try:\n",
    "                new_result.append(int(changes[0]) + int(changes[1]))\n",
    "            except:\n",
    "                pass\n",
    "        i = i + 1\n",
    "    print(new_result)\n",
    "    return new_result\n",
    "clean_git_log_result(result_test)\n",
    "\n",
    "\n",
    "# users_dict[user][1] = [['Sat Mar 11 17:59:58 2017', 4]]\n",
    "def get_changes_line_data(user, users_dict):\n",
    "    git_command = 'cd /Users/zhiyiniu/Repositories/gitOpenSourceData2/system-design-primer && git log  --date=local --all --pretty=\"%ad;\" --author=\"{}\" --numstat'\n",
    "    result = !{git_command.format('Donne Martin')}\n",
    "    i = 1 \n",
    "    result = clean_git_log_result(result)\n",
    "    datetime_object = datetime.strptime(date_str, '%a %b %d %H:%M:%S %Y')\n",
    "    print(datetime_object)\n",
    "    return users_dict\n",
    "\n",
    "#for index, row in df.iterrows():\n",
    "#    hash_id = row['hash']\n",
    "\n",
    "user_with_commend_data = {}\n",
    "for u in new_users:\n",
    "    user_with_commend_data[u] = []\n",
    "    #print(u)\n",
    "    # get_changes_line_data(u, user_with_commend_data)\n",
    "    \n",
    "\n",
    "            \n",
    "#def loop_csv_rows(start_row):\n",
    "    \n",
    "\n",
    "\n",
    "    "
   ]
  },
  {
   "cell_type": "code",
   "execution_count": null,
   "metadata": {},
   "outputs": [],
   "source": []
  }
 ],
 "metadata": {
  "kernelspec": {
   "display_name": "Python 3.8.5 64-bit ('base': conda)",
   "language": "python",
   "name": "python38564bitbaseconda6aaa5bc4858b4ea187edde7833e66cf9"
  },
  "language_info": {
   "codemirror_mode": {
    "name": "ipython",
    "version": 3
   },
   "file_extension": ".py",
   "mimetype": "text/x-python",
   "name": "python",
   "nbconvert_exporter": "python",
   "pygments_lexer": "ipython3",
   "version": "3.8.5"
  }
 },
 "nbformat": 4,
 "nbformat_minor": 4
}
