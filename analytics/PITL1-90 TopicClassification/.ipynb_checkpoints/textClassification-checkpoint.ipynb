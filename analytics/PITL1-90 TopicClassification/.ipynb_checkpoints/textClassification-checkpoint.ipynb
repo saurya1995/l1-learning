{
 "cells": [
  {
   "cell_type": "code",
   "execution_count": 2,
   "metadata": {},
   "outputs": [],
   "source": [
    "from sklearn import model_selection, preprocessing, linear_model, naive_bayes, metrics, svm\n",
    "from sklearn.feature_extraction.text import TfidfVectorizer, CountVectorizer\n",
    "from sklearn import decomposition, ensemble\n",
    "\n",
    "import pandas, xgboost, numpy, textblob, string\n",
    "from keras.preprocessing import text, sequence\n",
    "from keras import layers, models, optimizers\n",
    "import csv\n",
    "import json\n",
    "import nltk\n",
    "import pandas as pd"
   ]
  },
  {
   "cell_type": "markdown",
   "metadata": {},
   "source": [
    "## 1. Dataset preparation"
   ]
  },
  {
   "cell_type": "code",
   "execution_count": 2,
   "metadata": {},
   "outputs": [
    {
     "name": "stdout",
     "output_type": "stream",
     "text": [
      "                                                  text     label\n",
      "0       Automate creating of sales order in Zoho Books   backend\n",
      "1            java jar error for spring boot applicaton   backend\n",
      "2                 Not able to run UnfoldingMap library   backend\n",
      "3    Serverless Graphql Lambda hard to understand t...  database\n",
      "4                Dictionary data structure in React JS  frontend\n",
      "..                                                 ...       ...\n",
      "389          Error installing Arch Linux in VirtualBox        os\n",
      "390        Why styling pandas dataframe does not work?        os\n",
      "391  How to initialize pppd connection witsh RS232 ...        os\n",
      "392  How do i change Root(or starting directory) in...        os\n",
      "393  Allocating memory for a struct variable using ...        os\n",
      "\n",
      "[394 rows x 2 columns]\n"
     ]
    }
   ],
   "source": [
    "#train_df=pd.read_csv('./stackOverFlowDataWithGroup.csv',index_col=False,na_values='',na_filter=True,usecols=['text','label'])\n",
    "train_df=pd.read_csv('./stackOverFlowData-6labels.csv',sep=';')\n",
    "train_df.shape\n",
    "train_df.columns=['text','label']\n",
    "print(train_df)"
   ]
  },
  {
   "cell_type": "markdown",
   "metadata": {},
   "source": [
    "## Finding out the Value Distribution profile of the Category Variable:\n",
    "Its crucial to know in advance the basic statistics of the target/label variable so as to ensure that there is no issue of class imbalance there. For that, we need to calculate the count of each of the class label instances in our dataframe."
   ]
  },
  {
   "cell_type": "code",
   "execution_count": 3,
   "metadata": {},
   "outputs": [
    {
     "name": "stdout",
     "output_type": "stream",
     "text": [
      "{'cloud': 60, 'frontend': 45, 'database': 79, 'data-science': 10, 'backend': 112, 'os': 88}\n"
     ]
    }
   ],
   "source": [
    "category_counter={x:0 for x in set(train_df['label'])}\n",
    "\n",
    "for each_cat in train_df['label']:\n",
    "    category_counter[each_cat]+=1\n",
    "print(category_counter)"
   ]
  },
  {
   "cell_type": "code",
   "execution_count": 5,
   "metadata": {},
   "outputs": [
    {
     "data": {
      "text/plain": [
       "<BarContainer object of 6 artists>"
      ]
     },
     "execution_count": 5,
     "metadata": {},
     "output_type": "execute_result"
    },
    {
     "data": {
      "image/png": "[encoded data removed]",
      "text/plain": [
       "<Figure size 432x288 with 1 Axes>"
      ]
     },
     "metadata": {
      "needs_background": "light"
     },
     "output_type": "display_data"
    }
   ],
   "source": [
    "import matplotlib.pyplot as plt\n",
    "\n",
    "%matplotlib inline\n",
    "plt.bar(range(len(category_counter)),category_counter.values(),align='center',tick_label=category_counter.keys())"
   ]
  },
  {
   "cell_type": "markdown",
   "metadata": {},
   "source": [
    "## Lexical Analysis of the Text Data:\n",
    "As text data's preprocessing transforms the words/terms into respective columns (though in much improved approach e.g. only frequent terms and also the rare ones (TFIDF) are transformed into columns, more on that later), so its a good step to analyze the vocabulary richness of our data. If we just analyze the lexical richness of the text_description data, it will still give us much idea about how rich our data is in terms of unique vocabulary words:"
   ]
  },
  {
   "cell_type": "markdown",
   "metadata": {},
   "source": [
    "##  Data Pre-Processing:\n",
    "The data in its raw form isn't always suitable for developing analytical models. To make the raw data compliant for analysis, pre-processing steps have to be performed. The pre-processing steps depend largely on the type of analysis that one intends to perform for instance regression, classification or clustering. In our particular case, we want to perform multi-class classification and the data at hand is text. So to perform pre-processing, the following steps are performed:\n",
    "\n",
    "Converting all of the data into lower case.\n",
    "Stemming the words so as to further reduce the feature size\n",
    "Also, in our given data set, I've made use of both the given features i.e. title and job description to create new features and for pre-processing. I've found that if we use both titles and job description, better features are formed and overall accuracy score of classifier is improved. title also contains the terms that can assist us in classification and that's why I've included them:\n"
   ]
  },
  {
   "cell_type": "code",
   "execution_count": 6,
   "metadata": {},
   "outputs": [
    {
     "name": "stdout",
     "output_type": "stream",
     "text": [
      "Number of TFIDF Features: 1285\n"
     ]
    }
   ],
   "source": [
    "corpus=train_df.text\n",
    "vectorizer = TfidfVectorizer(stop_words='english')\n",
    "tfidf_matrix=vectorizer.fit_transform(corpus).todense()\n",
    "tfidf_names=vectorizer.get_feature_names()\n",
    "print(\"Number of TFIDF Features: %d\"%len(tfidf_names))\n",
    "\n",
    "#which shows that there are 13043 columns that will be used for training the classifier. These are much smaller than the total\n",
    "#number of unique vocabulary words that are there (as we calculated previously) in the text description column alone."
   ]
  },
  {
   "cell_type": "code",
   "execution_count": 7,
   "metadata": {},
   "outputs": [],
   "source": [
    "training_time_container={'b_naive_bayes':0,'mn_naive_bayes':0,'random_forest':0,'linear_svm':0}\n",
    "prediction_time_container={'b_naive_bayes':0,'mn_naive_bayes':0,'random_forest':0,'linear_svm':0}\n",
    "\n",
    "accuracy_container={'b_naive_bayes':0,'mn_naive_bayes':0,'random_forest':0,'linear_svm':0}"
   ]
  },
  {
   "cell_type": "markdown",
   "metadata": {},
   "source": [
    "## Learning Classifiers, Making Predictions and Validating Results:\n",
    "With the data preprocessed, now is the time to develop the models. When it comes to developing machine learning models (and in our particular case, classifiers), we need to firstly train them on the labeled training data to learn from and then use the test data-set to make predictions. So to do that, we will proceed with splitting our existing data-set into training and test data as follows:"
   ]
  },
  {
   "cell_type": "code",
   "execution_count": 8,
   "metadata": {},
   "outputs": [],
   "source": [
    "from sklearn.model_selection import train_test_split\n",
    "\n",
    "variables = tfidf_matrix\n",
    "labels = train_df.label\n",
    "variables_train, variables_test, labels_train, labels_test = train_test_split(variables, labels, test_size=.3)"
   ]
  },
  {
   "cell_type": "code",
   "execution_count": 9,
   "metadata": {},
   "outputs": [
    {
     "name": "stdout",
     "output_type": "stream",
     "text": [
      "Shape of Training Data: (275, 1285)\n",
      "Shape of Test Data: (119, 1285)\n"
     ]
    }
   ],
   "source": [
    "#analyzing the shape of the training and test data-set:\n",
    "print('Shape of Training Data: '+str(variables_train.shape))\n",
    "print('Shape of Test Data: '+str(variables_test.shape))"
   ]
  },
  {
   "cell_type": "markdown",
   "metadata": {},
   "source": [
    "## Applying Naive Bayes:\n",
    "Naive Bayes is one of the most widely used classification algorithm in text mining applications. Based on Bayes theorem, this model makes the assumption that all the features are independent of each other and uses the probabilities of each attribute belonging to each class to make a prediction. The condition of independence may not be valid in many circumstances but as a base line model, its a good starting point to test its performance on the provided data. There are two forms of Naive Bayes:\n",
    "\n",
    "1. Bernoulli (designed for boolean/binary features i.e. just considers the presence or absense of a feature)\n",
    "2. Multinomial (which also considers the occurrence counts of the feature)\n",
    "\n",
    "We will apply both and then will assess their respective accuracy scores:"
   ]
  },
  {
   "cell_type": "code",
   "execution_count": 10,
   "metadata": {},
   "outputs": [
    {
     "data": {
      "text/plain": [
       "dict_keys(['b_naive_bayes', 'mn_naive_bayes', 'random_forest', 'linear_svm'])"
      ]
     },
     "execution_count": 10,
     "metadata": {},
     "output_type": "execute_result"
    }
   ],
   "source": [
    "training_time_container.keys()"
   ]
  },
  {
   "cell_type": "code",
   "execution_count": 11,
   "metadata": {},
   "outputs": [],
   "source": [
    "from sklearn.naive_bayes import BernoulliNB\n",
    "from time import time\n",
    "\n",
    "#loading Gaussian Naive Bayes from the sklearn library:\n",
    "bnb_classifier=BernoulliNB()\n",
    "#initializing the object\n",
    "t0=time()\n",
    "bnb_classifier=bnb_classifier.fit(variables_train,labels_train)\n",
    "training_time_container['b_naive_bayes']=time()-t0\n",
    "#fitting the classifier or training the classifier on the training data"
   ]
  },
  {
   "cell_type": "code",
   "execution_count": 12,
   "metadata": {},
   "outputs": [],
   "source": [
    "t0=time()\n",
    "bnb_predictions=bnb_classifier.predict(variables_test)\n",
    "prediction_time_container['b_naive_bayes']=time()-t0"
   ]
  },
  {
   "cell_type": "code",
   "execution_count": 13,
   "metadata": {},
   "outputs": [
    {
     "data": {
      "text/plain": [
       "0.0042002201080322266"
      ]
     },
     "execution_count": 13,
     "metadata": {},
     "output_type": "execute_result"
    }
   ],
   "source": [
    "prediction_time_container['b_naive_bayes']"
   ]
  },
  {
   "cell_type": "code",
   "execution_count": 14,
   "metadata": {},
   "outputs": [],
   "source": [
    "#the trained classifier has been used to make predictions on the test data-set. To evaluate the performance of the model,\n",
    "#there are a number of metrics that can be used as follows:\n",
    "import sklearn.metrics\n",
    "nb_ascore=sklearn.metrics.accuracy_score(labels_test, bnb_predictions)\n",
    "accuracy_container['b_naive_bayes']=nb_ascore"
   ]
  },
  {
   "cell_type": "code",
   "execution_count": 15,
   "metadata": {},
   "outputs": [
    {
     "name": "stdout",
     "output_type": "stream",
     "text": [
      "Bernoulli Naive Bayes Accuracy Score: 0.327731\n",
      "Training Time: 0.009980\n",
      "Prediction Time: 0.004200\n"
     ]
    }
   ],
   "source": [
    "print(\"Bernoulli Naive Bayes Accuracy Score: %f\"%accuracy_container['b_naive_bayes'])\n",
    "print(\"Training Time: %f\"%training_time_container['b_naive_bayes'])\n",
    "print(\"Prediction Time: %f\"%prediction_time_container['b_naive_bayes'])"
   ]
  },
  {
   "cell_type": "code",
   "execution_count": 16,
   "metadata": {},
   "outputs": [
    {
     "name": "stdout",
     "output_type": "stream",
     "text": [
      "Confusion Matrix of Bernoulli Naive Bayes Classifier output: \n"
     ]
    },
    {
     "data": {
      "text/plain": [
       "array([[28,  0,  0,  0,  0,  0],\n",
       "       [21,  0,  0,  0,  0,  0],\n",
       "       [ 3,  0,  0,  0,  0,  0],\n",
       "       [24,  0,  0,  2,  0,  0],\n",
       "       [19,  0,  0,  0,  0,  0],\n",
       "       [13,  0,  0,  0,  0,  9]])"
      ]
     },
     "execution_count": 16,
     "metadata": {},
     "output_type": "execute_result"
    }
   ],
   "source": [
    "print(\"Confusion Matrix of Bernoulli Naive Bayes Classifier output: \")\n",
    "sklearn.metrics.confusion_matrix(labels_test,bnb_predictions)"
   ]
  },
  {
   "cell_type": "code",
   "execution_count": 17,
   "metadata": {},
   "outputs": [
    {
     "name": "stdout",
     "output_type": "stream",
     "text": [
      "Classification Metrics: \n",
      "              precision    recall  f1-score   support\n",
      "\n",
      "     backend       0.26      1.00      0.41        28\n",
      "       cloud       0.00      0.00      0.00        21\n",
      "data-science       0.00      0.00      0.00         3\n",
      "    database       1.00      0.08      0.14        26\n",
      "    frontend       0.00      0.00      0.00        19\n",
      "          os       1.00      0.41      0.58        22\n",
      "\n",
      "    accuracy                           0.33       119\n",
      "   macro avg       0.38      0.25      0.19       119\n",
      "weighted avg       0.46      0.33      0.24       119\n",
      "\n"
     ]
    },
    {
     "name": "stderr",
     "output_type": "stream",
     "text": [
      "/Users/zhiyiniu/opt/anaconda3/lib/python3.8/site-packages/sklearn/metrics/_classification.py:1221: UndefinedMetricWarning: Precision and F-score are ill-defined and being set to 0.0 in labels with no predicted samples. Use `zero_division` parameter to control this behavior.\n",
      "  _warn_prf(average, modifier, msg_start, len(result))\n"
     ]
    }
   ],
   "source": [
    "print(\"Classification Metrics: \")\n",
    "print(sklearn.metrics.classification_report(labels_test,bnb_predictions))"
   ]
  },
  {
   "cell_type": "markdown",
   "metadata": {},
   "source": [
    "## Applying Multinomial Naive Bayes:\n",
    "Bernoulli Naive Bayes just uses the fact that whether a feature is present or not. However if we somehow also take into account the occurrence weight or count of the feature as well (in our case, the TFIDF weight of each feature), we can hypothesize that the performance of such classifier will be equally good, if not better. For this purpose, I've made use of the Multi-nomial Naive Bayes as follows:"
   ]
  },
  {
   "cell_type": "code",
   "execution_count": 26,
   "metadata": {},
   "outputs": [
    {
     "name": "stdout",
     "output_type": "stream",
     "text": [
      "Accuracy Score of Multi-Nomial Naive Bayes: 0.462185\n",
      "Training Time: 0.030693s\n",
      "Prediction Time: 0.001630s\n"
     ]
    }
   ],
   "source": [
    "from sklearn.naive_bayes import MultinomialNB\n",
    "mn_bayes=MultinomialNB()\n",
    "t0=time()\n",
    "mn_bayes_fit=mn_bayes.fit(variables_train,labels_train)\n",
    "training_time_container['mn_naive_bayes']=time()-t0\n",
    "t0=time()\n",
    "prediction_mn=mn_bayes_fit.predict(variables_test)\n",
    "prediction_time_container['mn_naive_bayes']=time()-t0\n",
    "mn_ascore=sklearn.metrics.accuracy_score(labels_test, prediction_mn) \n",
    "accuracy_container['mn_naive_bayes']=mn_ascore\n",
    "\n",
    "#if we see the accuracy score of Multinomial Naive Bayes classifier, we come to see that it turns out be around 0.934 or 93.4%\n",
    "print(\"Accuracy Score of Multi-Nomial Naive Bayes: %f\" %(mn_ascore))\n",
    "#and its training and prediction time are:\n",
    "print(\"Training Time: %fs\"%training_time_container['mn_naive_bayes'])\n",
    "print(\"Prediction Time: %fs\"%prediction_time_container['mn_naive_bayes'])"
   ]
  },
  {
   "cell_type": "markdown",
   "metadata": {},
   "source": [
    "## Applying Random Forest Classifier:\n",
    "Random Forests belong to the ensemble learning methods for classification and regression tasks. In Random Forest, a subset of the training data is fit on a number of decision trees. Random Forests have the characteristic to minimize variance if its there in the data-set. There training time is generally quite higher which is one of their drawbacks to be used in production environment. However, the operations can be parallelized to reduce the training time. Also, greater the number of trees in the random forests, better will be the result however it comes with a trade off: the training time tends to increase as well. Also, if the number of trees tend to increase, the rate of improvement of accuracy may also tend to slow as well. I've used random forests with 50 trees. However, we can implement a routine to check the accuracy of the random forests by using different number of trees as well:"
   ]
  },
  {
   "cell_type": "code",
   "execution_count": 27,
   "metadata": {},
   "outputs": [
    {
     "name": "stdout",
     "output_type": "stream",
     "text": [
      "Training Time: 0.125150s\n",
      "Prediction Time: 0.008800s\n",
      "Accuracy Score of Random Forests Classifier: \n",
      "0.5378151260504201\n",
      "[[26  0  0  1  1  0]\n",
      " [ 4 14  0  2  0  1]\n",
      " [ 3  0  0  0  0  0]\n",
      " [13  0  0 12  0  1]\n",
      " [17  0  0  1  1  0]\n",
      " [11  0  0  0  0 11]]\n"
     ]
    }
   ],
   "source": [
    "from sklearn.ensemble import RandomForestClassifier\n",
    "\n",
    "rf_classifier=RandomForestClassifier(n_estimators=50)\n",
    "t0=time()\n",
    "rf_classifier=rf_classifier.fit(variables_train,labels_train)\n",
    "\n",
    "training_time_container['random_forest']=time()-t0\n",
    "print(\"Training Time: %fs\"%training_time_container['random_forest'])\n",
    "\n",
    "t0=time()\n",
    "rf_predictions=rf_classifier.predict(variables_test)\n",
    "prediction_time_container['random_forest']=time()-t0\n",
    "print(\"Prediction Time: %fs\"%prediction_time_container['random_forest'])\n",
    "\n",
    "accuracy_container['random_forest']=sklearn.metrics.accuracy_score(labels_test, rf_predictions)\n",
    "print (\"Accuracy Score of Random Forests Classifier: \")\n",
    "print(accuracy_container['random_forest'])\n",
    "print(sklearn.metrics.confusion_matrix(labels_test,rf_predictions))"
   ]
  },
  {
   "cell_type": "markdown",
   "metadata": {},
   "source": [
    "## Applying Linear Classifier (SVM) using Stochastic Gradient Descent:\n",
    "Stochastic Gradient Descent (SGD) is a one of the most efficient approaches used in linear classifiers under convex loss functions such as (linear) Support Vector Machines. It has proven to perform well in in large-scale and sparse machine learning problems. Such problems are also encountered in text classification and natural language processing tasks and that motivates the fact to use this in our problem."
   ]
  },
  {
   "cell_type": "code",
   "execution_count": 28,
   "metadata": {},
   "outputs": [
    {
     "name": "stdout",
     "output_type": "stream",
     "text": [
      "Training Time: 0.293647s\n",
      "Prediction Time: 0.000860s\n",
      "Accuracy Score of Linear SVM Classifier: 0.495798\n",
      "[[26  0  0  1  1  0]\n",
      " [13  8  0  0  0  0]\n",
      " [ 3  0  0  0  0  0]\n",
      " [17  0  0  8  1  0]\n",
      " [14  0  0  0  5  0]\n",
      " [10  0  0  0  0 12]]\n"
     ]
    }
   ],
   "source": [
    "from sklearn import linear_model\n",
    "\n",
    "svm_classifier=linear_model.SGDClassifier(loss='hinge',alpha=0.0001)\n",
    "\n",
    "t0=time()\n",
    "svm_classifier=svm_classifier.fit(variables_train, labels_train)\n",
    "training_time_container['linear_svm']=time()-t0\n",
    "print(\"Training Time: %fs\"%training_time_container['linear_svm'])\n",
    "\n",
    "t0=time()\n",
    "svm_predictions=svm_classifier.predict(variables_test)\n",
    "prediction_time_container['linear_svm']=time()-t0\n",
    "print(\"Prediction Time: %fs\"%prediction_time_container['linear_svm'])\n",
    "\n",
    "accuracy_container['linear_svm']=sklearn.metrics.accuracy_score(labels_test, svm_predictions)\n",
    "print (\"Accuracy Score of Linear SVM Classifier: %f\"%accuracy_container['linear_svm'])\n",
    "print(sklearn.metrics.confusion_matrix(labels_test,svm_predictions))"
   ]
  },
  {
   "cell_type": "code",
   "execution_count": 29,
   "metadata": {},
   "outputs": [
    {
     "name": "stdout",
     "output_type": "stream",
     "text": [
      "Accuracy Score of Linear SVM Classifier: 0.563025\n"
     ]
    }
   ],
   "source": [
    "svm_classifier_enet=linear_model.SGDClassifier(loss='hinge',alpha=0.0001,penalty='elasticnet')\n",
    "svm_classifier_enet=svm_classifier_enet.fit(variables_train, labels_train)\n",
    "svm_enet_predictions=svm_classifier_enet.predict(variables_test)\n",
    "print (\"Accuracy Score of Linear SVM Classifier: %f\"%sklearn.metrics.accuracy_score(labels_test,svm_enet_predictions))\n",
    "# we saw marginal improvement in the overall accuracy score."
   ]
  },
  {
   "cell_type": "code",
   "execution_count": 35,
   "metadata": {},
   "outputs": [
    {
     "data": {
      "image/png": "[encoded data removed]",
      "text/plain": [
       "<Figure size 864x504 with 1 Axes>"
      ]
     },
     "metadata": {},
     "output_type": "display_data"
    }
   ],
   "source": [
    "%matplotlib inline\n",
    "import matplotlib.pyplot as plt\n",
    "\n",
    "with plt.style.context('fivethirtyeight'):\n",
    "    plt.figure(figsize=(12,7))\n",
    "    plt.bar(range(5),training_time_container.values(),tick_label=training_time_container.keys(),align='center')\n",
    "    plt.ylabel(\"Training time in seconds\")\n",
    "    plt.ylim(0,1)\n",
    "    plt.grid(True)\n",
    "    plt.title(\"Comparison of Training Time of different classifiers\")\n"
   ]
  },
  {
   "cell_type": "code",
   "execution_count": 38,
   "metadata": {},
   "outputs": [
    {
     "data": {
      "image/png": "[encoded data removed]",
      "text/plain": [
       "<Figure size 864x504 with 1 Axes>"
      ]
     },
     "metadata": {},
     "output_type": "display_data"
    }
   ],
   "source": [
    "with plt.style.context('fivethirtyeight'):\n",
    "    plt.figure(figsize=(12,7))\n",
    "    plt.bar(range(5),prediction_time_container.values(),tick_label=prediction_time_container.keys(),align='center',color='orange')\n",
    "    \n",
    "    plt.ylabel(\"Prediction time in seconds\")\n",
    "    plt.grid(True)\n",
    "    plt.ylim(0,0.1)\n",
    "    plt.title(\"Comparison of Prediction Time of different classifiers\")"
   ]
  },
  {
   "cell_type": "code",
   "execution_count": 47,
   "metadata": {},
   "outputs": [
    {
     "ename": "ImportError",
     "evalue": "cannot import name 'cross_validation' from 'sklearn' (/Users/zhiyiniu/opt/anaconda3/lib/python3.8/site-packages/sklearn/__init__.py)",
     "output_type": "error",
     "traceback": [
      "\u001b[0;31m---------------------------------------------------------------------------\u001b[0m",
      "\u001b[0;31mImportError\u001b[0m                               Traceback (most recent call last)",
      "\u001b[0;32m<ipython-input-47-604a4555c2ad>\u001b[0m in \u001b[0;36m<module>\u001b[0;34m\u001b[0m\n\u001b[0;32m----> 1\u001b[0;31m \u001b[0;32mfrom\u001b[0m \u001b[0msklearn\u001b[0m \u001b[0;32mimport\u001b[0m \u001b[0mcross_validation\u001b[0m\u001b[0;34m\u001b[0m\u001b[0;34m\u001b[0m\u001b[0m\n\u001b[0m\u001b[1;32m      2\u001b[0m \u001b[0;34m\u001b[0m\u001b[0m\n\u001b[1;32m      3\u001b[0m \u001b[0mmn_bayes\u001b[0m\u001b[0;34m=\u001b[0m\u001b[0mMultinomialNB\u001b[0m\u001b[0;34m(\u001b[0m\u001b[0;34m)\u001b[0m\u001b[0;34m\u001b[0m\u001b[0;34m\u001b[0m\u001b[0m\n\u001b[1;32m      4\u001b[0m \u001b[0mcv_scores\u001b[0m \u001b[0;34m=\u001b[0m \u001b[0mcross_validation\u001b[0m\u001b[0;34m.\u001b[0m\u001b[0mcross_val_score\u001b[0m\u001b[0;34m(\u001b[0m\u001b[0mmn_bayes\u001b[0m\u001b[0;34m,\u001b[0m \u001b[0mvariables_train\u001b[0m\u001b[0;34m,\u001b[0m \u001b[0mlabels_train\u001b[0m\u001b[0;34m,\u001b[0m \u001b[0mcv\u001b[0m\u001b[0;34m=\u001b[0m\u001b[0;36m5\u001b[0m\u001b[0;34m)\u001b[0m\u001b[0;34m\u001b[0m\u001b[0;34m\u001b[0m\u001b[0m\n",
      "\u001b[0;31mImportError\u001b[0m: cannot import name 'cross_validation' from 'sklearn' (/Users/zhiyiniu/opt/anaconda3/lib/python3.8/site-packages/sklearn/__init__.py)"
     ]
    }
   ],
   "source": [
    "from sklearn import cross_validation\n",
    "\n",
    "mn_bayes=MultinomialNB()\n",
    "cv_scores = cross_validation.cross_val_score(mn_bayes, variables_train, labels_train, cv=5)"
   ]
  },
  {
   "cell_type": "code",
   "execution_count": 3,
   "metadata": {},
   "outputs": [
    {
     "name": "stdout",
     "output_type": "stream",
     "text": [
      "['Automate creating of sales order in Zoho Books', 'backend']\n",
      "['java jar error for spring boot applicaton', 'backend']\n",
      "['Not able to run UnfoldingMap library', 'backend']\n",
      "['Serverless Graphql Lambda hard to understand this error', 'database']\n",
      "['Dictionary data structure in React JS', 'frontend']\n",
      "['applying CSS for particular td tag in a column', 'frontend']\n",
      "['Can anybody tell me the regex that matches twenty (20) day and 28 days but not in 27 days', 'backend']\n",
      "['kubernates networking python server in tomcat container', 'backend']\n",
      "['netsh trace start/stop not working in Python subprocess call', 'backend']\n",
      "['How to bind pikaday value with laravel livewire property', 'frontend']\n",
      "[\"I don't want to show console after execute my exe file\", 'os']\n",
      "[\"AttributeError: module 'scipy.integrate' has no attribute 'simpson'\", 'backend']\n",
      "['if I make a function that calls a library like numpy,and someone else use it,they will need to have numpy installed?', 'backend']\n",
      "['Record last login timestamp and ip of a user laravel 8 fortify', 'frontend']\n",
      "['SQLLite implementation in swift 5?', 'database']\n",
      "['How to get users (Students) from SQL server database by asp.net core signalR?', 'database']\n",
      "['My Google Cloud Platform Payment Was due 2 month for this reason they remove my project', 'cloud']\n",
      "['Can I uninstall these things safely?', 'os']\n",
      "['How to find word error rate in tesseract?', 'backend']\n",
      "['Regarding lsusb commnd in Linux environment', 'os']\n",
      "['Flask or Express.js', 'backend']\n",
      "['Insert Data to multiple tables inter-related via Primary/Foreign keys in Snowflake', 'database']\n",
      "['After adding a profile in contact list It does not renders on it… Have to refresh the page due to which contact data are sent two times', 'backend']\n",
      "['Display current timezone like this +03:00 in Laravel', 'frontend']\n",
      "['How can I pass a filename String to another Class so that it creates a File object in that class?', 'backend']\n",
      "['Setting up virtual environment in Django', 'backend']\n",
      "['Python list re-definition time complexity', 'backend']\n",
      "['OSMWidget Django form location coodinates are incorrect', 'frontend']\n",
      "['How to re-throw a Throwable?', 'backend']\n",
      "['add class javascript function work first time only? [duplicate]', 'frontend']\n",
      "['Excus，How can shell script handle control characters that between 0x00-0x1f in the ascii code table?', 'os']\n",
      "['How much time is required to create a website like shopify or squarespace?', 'frontend']\n",
      "['Upload images added to gallery to aws s3 folder automatically from background', 'cloud']\n",
      "['How to relate two dependent picklists in a lightning web component?', 'frontend']\n",
      "['Legal way to register custom variable finder in RobotFramework?', 'backend']\n",
      "['Windows community toolkit for WinUI3 desktop app', 'os']\n",
      "['export default data SyntaxError: Unexpected token export during bulding on next.js using typescript', 'frontend']\n",
      "['styling bootstrap-vue dropdown button', 'frontend']\n",
      "['How to resolve problem creating ec2 associated with the default security group', 'cloud']\n",
      "['Get unique record by non-primary attribute in ASP.NET Web API', 'frontend']\n",
      "['Conda environment not working in VSCode Ubuntu 20', 'backend']\n",
      "['Use INI file to determine destination path while installing the exe', 'os']\n",
      "['unexpected t string using php get for a background url', 'frontend']\n",
      "[\"Why isn't python3-dolfin module not showing up?\", 'os']\n",
      "[\"AttributeError: 'generator' object has no attribute 'split'\", 'backend']\n",
      "['Which plugin needs to be installed for robot framework using pycharm intellibot or IntelliBot @SeleniumLibrary Pathced', 'backend']\n",
      "['Laravel Belongs to many relationship response Error', 'frontend']\n",
      "['Add string or symbol before and after the list in python', 'backend']\n",
      "['Java C# socket communication', 'backend']\n",
      "['How to make cmd commands using python', 'os']\n",
      "['How to correct illegal state exception in spring boot?', 'backend']\n",
      "['How can I make this into a working Carousel? The carousel pops up but the two arrows are not active', 'frontend']\n",
      "['Install Ubuntu on Intel(R) ME v7 step by step', 'os']\n",
      "['How do you retain original column for comparison in full_join() of two databases in r', 'database']\n",
      "['multiple default values specified for column “id” of table “Transaction”', 'database']\n",
      "['Hide Labels from pandas.cut customised Interval Index', 'backend']\n",
      "['how to read and write one excel file to another  my excel file has data and image both in one sheet only', 'backend']\n",
      "['Crowdstrike in GCP using Terraform', 'cloud']\n",
      "['Capture if else conditions from string using regular expression', 'backend']\n",
      "['Bearer token expired after sometime', 'backend']\n",
      "['How to test a function inside a functional component like OnFinish  and update etc', 'frontend']\n",
      "[\"Web scraping - scraping data for multiple URL's gives None\", 'backend']\n",
      "['Pandas convert dictionary to datetime', 'backend']\n",
      "[\"setting x-limits on ggcyto plot doesn't seem to do the trick\", 'backend']\n",
      "['Resetting USB port for printer in python', 'backend']\n",
      "[\"'Expansion' shortcuts (aka SQL templates?) in DBeaver\", 'database']\n",
      "['Connect to wildfly JMS Active MQ service in grails Development mode', 'backend']\n",
      "['pyspark submitted time different from the local time', 'backend']\n",
      "[\"bootstrap 4 dropdown doesn't work with Nuxtjs\", 'frontend']\n",
      "['How do I combine values from radio and input box and open an url on button click?', 'frontend']\n",
      "['How to load a jar during plugin startup?', 'backend']\n",
      "['wich is the correct way of routing different modules in Angular?', 'frontend']\n",
      "['Jenkins CLI to install Jenkins plugins - error', 'os']\n",
      "['Append function not working with no errors', 'backend']\n",
      "['Quit after printing between two patters using sed', 'os']\n",
      "['python bokeh - display title and legend on the same line', 'backend']\n",
      "['How to apply autofilter for lastweek data in VBA excel', 'backend']\n",
      "['How would I store an item in a list from a function activated by an onkeypress call', 'backend']\n",
      "['I have encrypted a string by NodeJs crypto module and I need to decrypt the encrypted data by python Cryptography/PyCryptodome', 'backend']\n",
      "['Getting “Cannot access a closed file” when trying to access form from httprequest', 'backend']\n",
      "[\"' type string is not a subtype of double'\", 'backend']\n",
      "['Empty File Created without text in .txt file in .NET Core', 'os']\n",
      "['How to add On Demand Dynamic Delivery module to native module in React Native?', 'frontend']\n",
      "['how to add otp authentication in django login page', 'frontend']\n",
      "['How to add space in front of string in react?', 'frontend']\n",
      "['How can I override the app menu title in a Mac app?', 'frontend']\n",
      "['how can I can estimate the standard error of the 0.1 percentile using the bootstrap?', 'data-science']\n",
      "[\"swift my UIImagePicker doesn't show any image on select image from photo library\", 'os']\n",
      "['javascript find intersection beween two sets [duplicate]', 'backend']\n",
      "['Regarding In app purchase in iOS app related to online events', 'os']\n",
      "['Rowsorter JQuery Plugin issue', 'database']\n",
      "['Added new System settings not showing when i call \\\\Pimcore\\\\Config::getSystemConfig() #pimcore', 'os']\n",
      "['knex how to auto update column value?', 'backend']\n",
      "['How to pass passive event listener in d3js?', 'backend']\n",
      "['Swiper slider not working if I add multiple times on a single page', 'frontend']\n",
      "['Unable to get the value of the variable updated by APO real-time processing', 'backend']\n",
      "['Post functionality in a discussion forum created using C# ASP.NET Core Web App', 'backend']\n",
      "['How much epoll events to wait in a cooperative event-loop? [duplicate]', 'backend']\n",
      "['Dark and Light mode in xamarin android programatically', 'os']\n",
      "['How do I load an HTML file (Which has another js file linked) using an XMLHttpRequest so that the javascript from the HTML page loaded still works? [duplicate]', 'frontend']\n",
      "[\"How to capture images from GigE cameras using OpenCV? cv2.videocapture() doesn't seem to work. Is there any Python Libraries that support GigE?\", 'backend']\n",
      "['Find all matches in workbook and offset the results into another sheet (VBA)', 'backend']\n",
      "['The DropDown Menu in navbar is bounded by the size of Navbar in React nav dropdown reactstrap', 'frontend']\n",
      "['How to retrieve popular videos from all channels A CMS account manages?', 'data-science']\n",
      "['Error converting MSG to pdf using pdftron - Python', 'backend']\n",
      "['Access: Making automatic email reminder using vba', 'backend']\n",
      "['Check if file is finished copying when using watchdog', 'backend']\n",
      "[\"Operator '==' cannot be applied to operands of type 'ApplicationUser' and 'string'\", 'backend']\n",
      "['How to extract contour from text string in Android?', 'backend']\n",
      "['Rollback after coming out of the session in Oracle plsql', 'database']\n",
      "['Cannot get Nested Object to show in DataGrid as Nested Datgrid Row', 'data-science']\n",
      "['org.springframework.dao.DataIntegrityViolationException: POSTGRESQL', 'database']\n",
      "['how to keep different or specific firebase account for each nodejs projects', 'backend']\n",
      "['failed to install linux (debian) cause of “CD ROM not found”', 'os']\n",
      "['Pandas reading some xlsx files but not others', 'backend']\n",
      "['How i can i print 0.5 English Space', 'backend']\n",
      "['How best to mock S4 endpoints to do performance tests (load test)?', 'cloud']\n",
      "['Low model performance for an imbalanced data  is there any hope to improve the metrics?', 'data-science']\n",
      "['How can I get/extract data from a website or web page in JSON format using URL ? (PHP Laravel)', 'backend']\n",
      "['Need Assistance on CNN Implementation', 'backend']\n",
      "['Flask web-app project structure and nginx', 'frontend']\n",
      "['How to extract the certain number and certain type of string following same pattern in Python?', 'backend']\n",
      "['Convergence criteria for least-squares', 'backend']\n",
      "['How to play audio directly through node?', 'backend']\n",
      "['JS replace text of innerHTML [duplicate]', 'frontend']\n",
      "['Azure Devops Extension- PublishHTMLReport in Azure pipelines not producing HTML tab in azure devops', 'cloud']\n",
      "['TENSORFLOW: cublas_STATUS_ALLOC_FAILED', 'data-science']\n",
      "[\"Can't get MDX to work in a JavaScript Component. Just want Markdown to be turned to react components\", 'frontend']\n",
      "['Which jar has org.apache.hadoop.lib.input.FileSplit', 'backend']\n",
      "['The parameters and expression cannot be resolved for schema operations. Error Message:', 'cloud']\n",
      "['MQL4 Object Label Line break?', 'database']\n",
      "['How do I call a postgresql trigger function from spring jpa', 'database']\n",
      "[\"Boxcox - error “cannot coerce xlass '”function“' to data.frame”\", 'data-science']\n",
      "['keeping multiple tables in one object', 'frontend']\n",
      "['MATLAB to Python convert a vector mathematical expression', 'backend']\n",
      "['Encrypt and Decrypt column between Postgres SQL and SQL Server', 'database']\n",
      "['how to create a form with many circle and i can change background-color of any circle', 'frontend']\n",
      "['Is there anyway to clear Firebase notoficaion programitally?', 'backend']\n",
      "['Can I use python for competitive programming instead of C++? [closed]', 'backend']\n",
      "['bundle exec jekyll serve > Conflict: The following destination is shared by multiple files', 'backend']\n",
      "['TypeScript - Get object from looking inside getter', 'backend']\n",
      "['Django - Protect media files with django-wiki', 'backend']\n",
      "['MongoDB BI --sampleSize option not working correctly', 'database']\n",
      "['How do I check If an element is inside an element? | Selenium | Python', 'frontend']\n",
      "[\"Undefined type 'Symfony\\\\Component\\\\Form\\\\AbstractType' and 'Symfony\\\\Component\\\\Form\\\\FormBuilderInterface' also OptionsResolver is undefined\", 'frontend']\n",
      "['Angular : Wait for an Observable to finish before returning the value', 'backend']\n",
      "['How to replace sqlldr values', 'database']\n",
      "['Continue After Exception - Python', 'backend']\n",
      "['Attempting to write a bash script but receive error ls: cannot access encryptedFolderPath*.pgp: No such file or directory', 'os']\n",
      "['Zpool import - one or more devices is currently unavailable', 'os']\n",
      "[\"numpy.float64' object cannot be interpreted as an integer and ODE solving in Python\", 'backend']\n",
      "['How to access ids from different class inside the main class in kivymd?', 'backend']\n",
      "['Unzip with SSH2 PHP', 'backend']\n",
      "['Keeping Record of changes (who ticked the checkbox what time etc) in Excel', 'backend']\n",
      "['How to access ids from different class inside the main class in kivymd?', 'backend']\n",
      "['why for SQLCOM_UPDATE_MULTI  it lock other table with lock_s (INNODB )', 'database']\n",
      "['Problem in accessing Derived attributes of model class in Multi database tenant web application', 'database']\n",
      "['How can i reusable function with boolean state in class component', 'frontend']\n",
      "['Longest possible side of the square', 'backend']\n",
      "[\"Ubnutu : install lombok in Eclipse IDE show error “can't write directory” even using sudo\", 'os']\n",
      "['AttributeError message while trying to save form data to db', 'backend']\n",
      "[\"Discord.js Cannot read property 'roles' of undefined\", 'backend']\n",
      "['How do i change string value with strcpy in c', 'backend']\n",
      "['AJAX request failed : CONNECTION_RESET [closed]', 'backend']\n",
      "['How to fix data type limit issue', 'backend']\n",
      "['Html- Google is not defined', 'frontend']\n",
      "['Automate authorization token generate null value', 'frontend']\n",
      "['How can i interpret the output of Get-AzureRmConsumptionUsageDetail for my Azure Resource?', 'cloud']\n",
      "['Axios to get data from database', 'database']\n",
      "['react build files run inside the xampp manifest missed', 'frontend']\n",
      "['Toggle locale of Date Picker Content Control in Word', 'backend']\n",
      "['Is there any solution for inserting data into multiple companies in tally ERP 9 at time?', 'database']\n",
      "['ImportError: DLL load failed while importing MPI', 'backend']\n",
      "['Linker looking for std::char instead of wchar_t in log4cplus', 'backend']\n",
      "['Socket Hang Up Using Postman', 'backend']\n",
      "[\"attemp to invoke virtual method 'void com.google.android.gms.maps.model.Marker.setPosition(com.google.andorid.gms.maps.model.LatLng)'\", 'backend']\n",
      "['Is it mandatory to sign in with office online account in office for web approach with WOPI Protocol', 'backend']\n",
      "['Vuetify select append indent in front of item', 'frontend']\n",
      "['unique value in a list on substring python', 'backend']\n",
      "['How to capture image in ellipse form in OpenCV?', 'backend']\n",
      "['Matlab SOCP not printing optimal solution', 'backend']\n",
      "['How to determine if a string contains 3 or more subsequent characters in javascript', 'backend']\n",
      "['How to download private image (locally) using docker-compose', 'backend']\n",
      "['Laravel query builder addSelect whereRaw condition show error', 'database']\n",
      "['Render VR360 video as VR180 format using aframe', 'frontend']\n",
      "['How to get a track name from a radio stream? javascript', 'backend']\n",
      "['Cannot get custom header from status 414 nginx', 'frontend']\n",
      "['bullet not appearing in pygame', 'backend']\n",
      "['Replace values in second df determined by first df - pandas', 'backend']\n",
      "['c++ function with recurssives', 'backend']\n",
      "['How does the linker know where a particular section of an executable will be mapped into the address space of a process?', 'os']\n",
      "['selenium webdriverwait does not reset timer in for loop | python', 'backend']\n",
      "['How can I insert a line break at the end of divs that have not wrapped?', 'frontend']\n",
      "['How does the linker know where a particular section of an executable will be mapped into the address space of a process?', 'os']\n",
      "['how to resolve issue with Permission Denial while starting of an Intent from launcher in android 10', 'os']\n",
      "['How to replace values only in a subset of a pandas DataFrame', 'backend']\n",
      "['How to solve appliaction error in heroku afetr deploy?', 'backend']\n",
      "['How to make side collision in gravity game', 'backend']\n",
      "['ggplot not working error Error in grid.Call.graphics(C_setviewport  vp  TRUE)', 'data-science']\n",
      "['Given a cubic Bezier curve with fixed endpoints,how can I find the x position of a point along it when given a y position to check?', 'data-science']\n",
      "['How to disable elements while fetching data with React Hook Form?', 'backend']\n",
      "['Skip express js view for API routes', 'backend']\n",
      "[\"includes()' is for string not for array in Javascript?\", 'backend']\n",
      "['How to write the below code in Java 8 using lambda expressions?', 'backend']\n",
      "['Fetch misbehaves when express app is pushed to Google App Engine', 'os']\n",
      "['How to update a column with for loops on two different columns of the same records produced by a select query with multiple joiners in postgres?', 'database']\n",
      "['How do you clear a list in Javascript  i.e. delete all items in a list with one button click?', 'frontend']\n",
      "['How do I return all the values of only one of the table columns through a GET?', 'backend']\n",
      "['After uploading build to S3 elements are invisible but picked up by inspector?', 'cloud']\n",
      "['Cannot set LC_ALL to locale en_US.UTF-8: JavaScript is not supported', 'os']\n",
      "['Recharts eslint error missing in props validation', 'frontend']\n",
      "['xcode attach to debugger fails when attempting “Debug Selected View” from the editor menu', 'os']\n",
      "['Automatically update ArrayList in ViewModel when EditText is changed?', 'os']\n",
      "['ENV in docker file not getting replaced', 'backend']\n",
      "['c# a MessageBox prompt with a long input message will make buttons inaccessible', 'backend']\n",
      "['How to open pdf file inside my app (android studio JAVA) from firebase storage link', 'os']\n",
      "['Infile stops reading command line arguments', 'os']\n",
      "['External modules in VS Code to show function signature', 'backend']\n",
      "['package ‘Seurat’ is not available (for R version 3.6.3) [duplicate]', 'data-science']\n",
      "['uploading an SQLite database file to an S3 bucket', 'cloud']\n",
      "['How to create a custom month picker in react native?', 'frontend']\n",
      "['failed to solve with frontend dockerfile.v0: failed to read dockerfile?', 'backend']\n",
      "['How to use all in where clause', 'database']\n",
      "['Python gives large Autoregressive Model Coefficients for normalized signal', 'data-science']\n",
      "['Geonode paver setup not setting geonode correctly', 'backend']\n",
      "['Error: Relation “abc.emp_audit” does not exist. when i add schema name in all objects. it was working fine without schema', 'database']\n",
      "['Python package does not seem to be fullly uninstalled', 'backend']\n",
      "['How to open pdf hyperlink to specific page based off searched term in node.js', 'frontend']\n",
      "['Python else: SyntaxError: Invalid Syntax', 'backend']\n",
      "['PC shared memory became leak on mac silicon', 'os']\n",
      "['How to use all in where clause', 'database']\n",
      "['Error: Relation “abc.emp_audit” does not exist. when i add schema name in all objects. it was working fine without schema', 'database']\n",
      "['restoring windows problem in sqldeveloper', 'database']\n",
      "['Error : The name of the driver class for the data source is missing (Netbeans + Payara + Mysql)', 'database']\n",
      "['How to select data from the last 7 days of Table in Database?', 'database']\n",
      "['i cannot create catalog SSISDB in sql-17 . in bottom there is no ok button', 'database']\n",
      "['Group by clause with multiple joins which both column have as of date', 'database']\n",
      "['Spark SQL Java : Upsert Data into a RDBMS,java,apache-spark,apache-spark-sql', 'database']\n",
      "['Reshape table wide to long', 'database']\n",
      "['Calculating Percentages for Pagerank', 'database']\n",
      "['How do I write this so that the Error: relation “photos” does not exist and same error for “users” does not occur', 'database']\n",
      "['if else statement inside a trigger on sql', 'database']\n",
      "['Trouble Importing XML File into SQL Server Table', 'database']\n",
      "['ROW_NUMBER OVER PARTITION AND GROUP BY COMBINED - Did not work', 'database']\n",
      "['MySQL - access value of calculated column in SELECT', 'database']\n",
      "['How do I use version Control with SQL Server Management Studio?', 'database']\n",
      "['Foreign Key Table Constraint Error ORA-00905', 'database']\n",
      "['MySQL Access Denied For User on Other Laptop', 'database']\n",
      "['MySql - joining tables and getting updated result when one table is updated', 'database']\n",
      "['Split records in chunks with upper and lower limit?', 'database']\n",
      "['SAS como usar duas colunas como chave no PROC SQL?', 'database']\n",
      "['How to find the root of the equation using SQL commands?', 'database']\n",
      "['I would like to find the game with the most sales in north america for the year it was released', 'database']\n",
      "['I want to connect to SQL Server with express', 'database']\n",
      "['SqlDataReader command timing out on Close/Dispose', 'database']\n",
      "['View table SQL Server', 'database']\n",
      "['Showing change in value based on time interval', 'database']\n",
      "['PL/SQL Waterfall Bridge Chart', 'database']\n",
      "['Create group ID, using values from two columns - transitive', 'database']\n",
      "['Type is invalid for use as a key column in an index.', 'database']\n",
      "['How can i UPDATE all records using associative array?,php,mysql,sql,laravel,laravel-8', 'database']\n",
      "['Single SQL statement based on the existence of foreign keys,mysql,sql,select,mariadb', 'database']\n",
      "['How can I group all of rows with the same rating and sort them alphabetically?', 'database']\n",
      "['Using SQL to Return Entire Paragraph if a word is found', 'database']\n",
      "['Converting subquery to Join (MySQL)', 'database']\n",
      "['Flipping day and month in MM/DD/YYYY', 'database']\n",
      "['QUERY DATABASE: How can I get multiple data from 2 tables with an id that does not exist in a table', 'database']\n",
      "['Select info from row to another row', 'database']\n",
      "['Table update - use one column to update another', 'database']\n",
      "['How to update multiple columns of a data frame to existing oracle table using pandas', 'database']\n",
      "['Permission error while running sql statement in mariadb', 'database']\n",
      "['Avoiding SQL injection with sp_executesql', 'database']\n",
      "['How to re-establish auto-increment in sql?', 'database']\n",
      "['Combine three (3) queries into one ', 'database']\n",
      "['How to compare html inputted value to value of sql database', 'database']\n",
      "[\"SQL Join select both tables' characteristics\", 'database']\n",
      "['While selecting and updating query same time, php is not working', 'database']\n",
      "['Share authentication across subdomains using cookies or SQL Server', 'database']\n",
      "['Compare html inputted value to value of sql database', 'database']\n",
      "['Order converting to int', 'database']\n",
      "['How do I merge 2 rows into 1 row in SQL?', 'database']\n",
      "['Join multiple rows into a single column', 'database']\n",
      "['Cannot initialize the data source object object of OLED error 7399', 'database']\n",
      "['Use LAG Function on the latest row only', 'database']\n",
      "['Need to combine two rows that are exactly the same with the exception of one column', 'database']\n",
      "[\"I can't put the timestamp from my sql database in the type=datetime-local\", 'database']\n",
      "['Limit cost and loading time on users search inside a dating app with firebase', 'cloud']\n",
      "['Loading data from stage to snowflake table', 'cloud']\n",
      "['Point cloud library missing header files after vcpkg installation\"', 'cloud']\n",
      "['python script to get external facing ips on my google cloud', 'cloud']\n",
      "['Get data from Firestore Database into Google spreadsheet', 'cloud']\n",
      "['Firestore triggers is just never call', 'cloud']\n",
      "['How to retrieve multiple documents that match multiple queries?', 'cloud']\n",
      "['NPE in ModelAttribute while sending empty list', 'cloud']\n",
      "['AWS Cross Account and Region Bckups not moving RDS to different Region', 'cloud']\n",
      "[\"AWS's Proxy Protocol v2 Breaking Application Due to Absence of PSH Flag\", 'cloud']\n",
      "['What is the best aws service to host a menu?', 'cloud']\n",
      "['Hashicorp Vault usage to get access_key and secret_key to connect to AWS account automating', 'cloud']\n",
      "['JDBC connection error after deploying war file on aws', 'cloud']\n",
      "['AWS Aurora serverless DataApi access using custom http call (curl)', 'cloud']\n",
      "['host=$decideOnStartup not working in splunk configuration on Windows EC2', 'cloud']\n",
      "[\"Module not found: Can't resolve 'aws-amplify' React\", 'cloud']\n",
      "['Replace variable in AWS cli to update secret manager password', 'cloud']\n",
      "['boto3 upload_file, how to pass aws keys?', 'cloud']\n",
      "[\"After deploying my django project to aws lambda, my static files don't work, why?\", 'cloud']\n",
      "[\"Is there a function similar to awsglue's getResolvedOptions that will work in an azure databricks notebook using python?\", 'cloud']\n",
      "['Wrapping JavaScript AWS SDK methods (CognitoIdentityServiceProvider)', 'cloud']\n",
      "['How do I target the same instance when deploying using Serverless Components?', 'cloud']\n",
      "['S3 Object Lambda WriteGetObjectResponse API returns 405 Method Not Allowed', 'cloud']\n",
      "['Cannot update EKS NodeGroup because of aws-auth ConfigMap issues', 'cloud']\n",
      "[\"How to update AWS GLUE partitions in 'transaction\", 'cloud']\n",
      "['How to check if device is offline in AWS IoT Core', 'cloud']\n",
      "['Registering Load Balancer Errors In Lambda Metrics', 'cloud']\n",
      "[\"Why AWS Lambda return a 'set' when try to get a df[column] on AWS Lambda\", 'cloud']\n",
      "['How can I use Lambda to change autoscaling groups desired capacity?', 'cloud']\n",
      "['result parquet file size get bigger when use window function in pyspark', 'cloud']\n",
      "['Best way to save data Lambda function', 'cloud']\n",
      "[\"React-Amazon Chime: Remote user's video tile turns black when the local video is turned off\", 'cloud']\n",
      "['Upload csv files to aws s3 from sftp server using lambda and python library - pysftp', 'cloud']\n",
      "['My Azure Web Application on Linux is not working. The error message on azure logs react-scripts: not found” and github npm ERR! code ELIFECYCLE', 'cloud']\n",
      "['Amazon Quicksight - How do I show two different filters of the same data on the same line graph?', 'cloud']\n",
      "['Automate rules engine on Azure Premium Verizon CDN', 'cloud']\n",
      "['In .NET Core Data Protection, how do you get ProtectKeysWithAzureKeyVault() to encrypt the existing keys?', 'cloud']\n",
      "['Retrieve the pull requests with search criteria using Azure DevOps Python Api', 'cloud']\n",
      "['Attach file in email using Azure Data Factory pipeline', 'cloud']\n",
      "['How to implement infinite scrolling with Azure DevOps extension Table', 'cloud']\n",
      "['Azure AD/B2C Resource Owner Password Flow does not honor the “User Assignment Required', 'cloud']\n",
      "['Using VB.NET for Azure authentication (connect-azaccount)', 'cloud']\n",
      "['Creating two http listeners on same port for azure application private and public frontend', 'cloud']\n",
      "['NLogViewer UDP target remains silent in Azure Service Classic', 'cloud']\n",
      "['How to register AutoIT COM DLL while running from azure', 'cloud']\n",
      "['is there any terraform resource to create VM from restore point from azurerm-backup-protected-vm?', 'cloud']\n",
      "['Azure B2B group based email addresses', 'cloud']\n",
      "['Azure Storage Accounts - Get Last Authentication Time/Date', 'cloud']\n",
      "['Retrieve quota for Microsoft Azure App Service Storage', 'cloud']\n",
      "['No user when pushing notebooks from Databricks to Azure DevOps Repos when using DB Repos', 'cloud']\n",
      "['Bash : Find parent process id of a script from another script and take some actions', 'os']\n",
      "['bash: stop subshell script marked as failed if one step exits with an error', 'os']\n",
      "['Bash: parse shell command string', 'os']\n",
      "['Remove string before and after characters in bash', 'os']\n",
      "['bash — execute command on file change,doubling issue + how to skip loop until command completes', 'os']\n",
      "['How to install gdrive for terminal?', 'os']\n",
      "['CMake link libQt6Widgets.so.6 during install', 'os']\n",
      "['How to flush buffer to file in linux when program is running?', 'os']\n",
      "['Write a bash script to print Narayana cows i.e., 1,1,1,2,3,4,6,9,13,… without using arrays and by using only three variables?', 'os']\n",
      "['Curl grep result as string variable', 'os']\n",
      "['counting files within directories in bash', 'os']\n",
      "['mix ecto.migrate is acting weird when run over ssh', 'os']\n",
      "['How do I add a dynamic date stamp to a JSON payload, sent by a Bash cron?', 'os']\n",
      "['Regexp extract of the dynamic information from the bash variable using awk or sed', 'os']\n",
      "['Writing a bash script that checks if internet usage is low, for some time and if true, turning it off?', 'os']\n",
      "['How to use a bash script to execute python.py application followed by simulated user input,python,python-3.x', 'os']\n",
      "['Loop through a file with stored file paths and remove those files', 'os']\n",
      "['A way to find a duplicate from a large file?', 'os']\n",
      "['linux,bash,sed,zsh', 'os']\n",
      "['Can bash retrieve the entire command within the script?', 'os']\n",
      "['Cat error when printing pcap to remote server', 'os']\n",
      "['python3 command not found for EC2 non root user', 'os']\n",
      "['How can I log the command used to start a bash script?', 'os']\n",
      "['How do I remove an element from json array using bash script ', 'os']\n",
      "['How to do a bash `for` loop in terraform termplatefile?', 'os']\n",
      "['How to access .dev file via bash script', 'os']\n",
      "['linux bash script to read one file and replace text in another', 'os']\n",
      "['Node,exe not found despite correct environment variables CI build windows', 'os']\n",
      "['Rsync in Git-bash on Windows10 > Cannot redirect output to a file when rsync is run from a Windows batch file', 'os']\n",
      "['Is it Possible use maxretry 0 in my jail.conf?', 'os']\n",
      "['slabtop number of objects and memory leak', 'os']\n",
      "['how can i install ssl python module on ubuntu?', 'os']\n",
      "['Blocking and non-blocking file descriptors under the hood', 'os']\n",
      "['how to include the command/filter awk into command watch?', 'os']\n",
      "['Can you tell me what crus means in LDFLAGS = crus $@?', 'os']\n",
      "['MacOS vs Linux for developers and IT people', 'os']\n",
      "['Server DHCP ipv6', 'os']\n",
      "['Is there a program that runs on a raspberry pi that can take debit card payments?', 'os']\n",
      "['Is there a way to remove results from find in linux?', 'os']\n",
      "['Can netcat be traced back to your ip/computer', 'os']\n",
      "['Trigger page fault manually for mmap() memory, for long sequence of random reads', 'os']\n",
      "['Is the executable code generated by a C compiler on Z/OS executable on a an IBM z/Linux platform?', 'os']\n",
      "['Ubuntu Wordpress installation: error 500 on every plugin activation', 'os']\n",
      "['PermissionError when running Python script from PHP', 'os']\n",
      "['[MSYS2][Windows 7][shared library port from Linux] Is there a ldconfig equivalent in MSYS2?', 'os']\n",
      "['Trying to write a script with user input, environment variables, file system operations, conditions, downloading, unarchiving', 'os']\n",
      "['How to write a command in shell but not execute it?', 'os']\n",
      "['VFAT, Linux: Invalid file timestamps shown after a reboot ', 'os']\n",
      "['Is possible add a name for new terminal?', 'os']\n",
      "['How do I run two pppd simultaneously?', 'os']\n",
      "[\"Cmder doesn't log anymore,bash,logging,windows-subsystem-for-linux,cmder\", 'os']\n",
      "['Execute bash command in jenkinsfile groovy', 'os']\n",
      "['Is there any way to run a script with arguments for kubernetes pods?', 'os']\n",
      "['Error installing Arch Linux in VirtualBox', 'os']\n",
      "['Why styling pandas dataframe does not work?', 'os']\n",
      "['How to initialize pppd connection witsh RS232 modem?', 'os']\n",
      "['How do i change Root(or starting directory) in python', 'os']\n",
      "['Allocating memory for a struct variable using a function', 'os']\n",
      "[4 6 5 1 2 6 2 1 1 2 6 6 1 1 5 2 1 1 4 6 1 2 2 6 6 1 1 4 4 2 4 1 3 6 5 5 6\n",
      " 6 2 2 6 1 2 1 1 6 1 2 4 6 6 4 2 1 2 6 1 5 4 4 4 2 2 6 5 2 4 1 1 4 2 1 1 2\n",
      " 1 1 4 5 2 4 1 4 1 1 6 1 6 1 1 2 4 5 6 1 5 6 2 1 3 6 1 6 1 5 6 1 1 2 1 1 5\n",
      " 2 1 4 1 3 6 4 1 2 1 1 4 3 6 6 4 6 6 1 4 1 5 1 2 6 2 4 2 1 1 1 5 6 1 1 6 6\n",
      " 1 2 4 1 6 1 2 1 1 1 3 4 5 6 4 1 4 4 6 5 4 3 4 2 2 5 1 1 5 1 6 2 1 4 1 6 4\n",
      " 1 5 4 6 4 6 2 4 4 5 6 1 1 1 0 1 4 3 6 2 5 1 5 2 3 1 6 1 1 4 4 5 6 6 6 4 1\n",
      " 6 6 5 1 4 2 2 5 2 4 4 1 1 1 4 2 5 1 6 6 4 1 1 6 6 1 3 5 1 4 5 1 6 1 1 4 6\n",
      " 6 2 5 1 2 4 5 6 6 2 6 4 5 1 6 6 4 4 2 1 4 6 6 6 2 2 2 6 6 1 1 2 5 2 6 1 6]\n",
      "286    I can't put the timestamp from my sql database...\n",
      "372          MacOS vs Linux for developers and IT people\n",
      "134                keeping multiple tables in one object\n",
      "129    Which jar has org.apache.hadoop.lib.input.File...\n",
      "300    AWS Aurora serverless DataApi access using cus...\n",
      "                             ...                        \n",
      "167     Automate authorization token generate null value\n",
      "220    uploading an SQLite database file to an S3 bucket\n",
      "370    how to include the command/filter awk into com...\n",
      "139    Can I use python for competitive programming i...\n",
      "345    Write a bash script to print Narayana cows i.e...\n",
      "Name: text, Length: 296, dtype: object\n",
      "[3 1 4 0 3 5 3 3 3 3 3 0 3 4 0 4 5 1 0 4 1 4 1 0 0 5 5 3 5 3 4 4 3 3 5 5 0\n",
      " 0 0 5 5 0 5 0 3 2 1 1 4 0 3 3 3 5 0 5 0 4 1 0 1 5 5 5 5 0 3 3 3 0 5 5 5 0\n",
      " 3 4 1 3 3 3 0 1 5 3 5 3 0 1 0 1 3 5 3 4 3 4 4 0 4]\n"
     ]
    }
   ],
   "source": [
    "with open('./questionsWithMyTag.csv', newline='') as File:\n",
    "    reader = csv.reader(File)\n",
    "    tag = ''\n",
    "    question = ''\n",
    "    labels, texts = [], []\n",
    "    for index, row in enumerate(reader):\n",
    "        if index != 0:\n",
    "            print(row)\n",
    "            question = row[0]\n",
    "            tag = row[1]\n",
    "            #for ele in tag.split(\",\"):\n",
    "            #    tags.add(ele)\n",
    "        labels.append(tag)\n",
    "        texts.append(question)\n",
    "\n",
    "# create a dataframe using texts and lables\n",
    "trainDF = pandas.DataFrame()\n",
    "trainDF['text'] = texts\n",
    "trainDF['label'] = labels\n",
    "\n",
    "# split the dataset into training and validation datasets \n",
    "train_x, valid_x, train_y, valid_y = model_selection.train_test_split(trainDF['text'], trainDF['label'])\n",
    "\n",
    "# label encode the target variable \n",
    "encoder = preprocessing.LabelEncoder()\n",
    "train_y = encoder.fit_transform(train_y)\n",
    "valid_y = encoder.fit_transform(valid_y)\n",
    "\n",
    "print(train_y)\n",
    "print(train_x)\n",
    "print(valid_y)\n",
    "       "
   ]
  },
  {
   "cell_type": "markdown",
   "metadata": {},
   "source": [
    "## 2.  Feature Engineering\n",
    "raw text data will be transformed into feature vectors and new features will be created using the existing dataset. We will implement the following different ideas in order to obtain relevant features from our dataset."
   ]
  },
  {
   "cell_type": "markdown",
   "metadata": {},
   "source": [
    "### 2.1 Count Vectors as features\n",
    "Count Vector is a matrix notation of the dataset in which every row represents a document from the corpus, every column represents a term from the corpus, and every cell represents the frequency count of a particular term in a particular document."
   ]
  },
  {
   "cell_type": "code",
   "execution_count": 4,
   "metadata": {},
   "outputs": [],
   "source": [
    "# create a count vectorizer object \n",
    "count_vect = CountVectorizer(analyzer='word', token_pattern=r'\\w{1,}')\n",
    "count_vect.fit(trainDF['text'])\n",
    "\n",
    "# transform the training and validation data using count vectorizer object\n",
    "xtrain_count =  count_vect.transform(train_x)\n",
    "xvalid_count =  count_vect.transform(valid_x)"
   ]
  },
  {
   "cell_type": "markdown",
   "metadata": {},
   "source": [
    "### 2.2 TF-IDF Vectors as features\n",
    "TF-IDF score represents the relative importance of a term in the document and the entire corpus. TF-IDF score is composed by two terms: the first computes the normalized Term Frequency (TF), the second term is the Inverse Document Frequency (IDF), computed as the logarithm of the number of the documents in the corpus divided by the number of documents where the specific term appears.\n",
    "TF-IDF Vectors can be generated at different levels of input tokens (words, characters, n-grams)\n",
    "\n",
    "a. Word Level TF-IDF : Matrix representing tf-idf scores of every term in different documents\n",
    "\n",
    "b. N-gram Level TF-IDF : N-grams are the combination of N terms together. This Matrix representing tf-idf scores of N-grams\n",
    "\n",
    "c. Character Level TF-IDF : Matrix representing tf-idf scores of character level n-grams in the corpus"
   ]
  },
  {
   "cell_type": "code",
   "execution_count": 5,
   "metadata": {},
   "outputs": [
    {
     "name": "stderr",
     "output_type": "stream",
     "text": [
      "/Users/zhiyiniu/opt/anaconda3/lib/python3.8/site-packages/sklearn/feature_extraction/text.py:501: UserWarning: The parameter 'token_pattern' will not be used since 'analyzer' != 'word'\n",
      "  warnings.warn(\"The parameter 'token_pattern' will not be used\"\n"
     ]
    }
   ],
   "source": [
    "# word level tf-idf\n",
    "tfidf_vect = TfidfVectorizer(analyzer='word', token_pattern=r'\\w{1,}', max_features=5000)\n",
    "tfidf_vect.fit(trainDF['text'])\n",
    "xtrain_tfidf =  tfidf_vect.transform(train_x)\n",
    "xvalid_tfidf =  tfidf_vect.transform(valid_x)\n",
    "\n",
    "# ngram level tf-idf \n",
    "tfidf_vect_ngram = TfidfVectorizer(analyzer='word', token_pattern=r'\\w{1,}', ngram_range=(2,3), max_features=5000)\n",
    "tfidf_vect_ngram.fit(trainDF['text'])\n",
    "xtrain_tfidf_ngram =  tfidf_vect_ngram.transform(train_x)\n",
    "xvalid_tfidf_ngram =  tfidf_vect_ngram.transform(valid_x)\n",
    "\n",
    "# characters level tf-idf\n",
    "tfidf_vect_ngram_chars = TfidfVectorizer(analyzer='char', token_pattern=r'\\w{1,}', ngram_range=(2,3), max_features=5000)\n",
    "tfidf_vect_ngram_chars.fit(trainDF['text'])\n",
    "xtrain_tfidf_ngram_chars =  tfidf_vect_ngram_chars.transform(train_x) \n",
    "xvalid_tfidf_ngram_chars =  tfidf_vect_ngram_chars.transform(valid_x) "
   ]
  },
  {
   "cell_type": "markdown",
   "metadata": {},
   "source": [
    "### 2.3 Word Embeddings\n",
    "A word embedding is a form of representing words and documents using a dense vector representation. The position of a word within the vector space is learned from text and is based on the words that surround the word when it is used.\n",
    "\n",
    "Following snnipet shows how to use pre-trained word embeddings in the model. There are four essential steps:\n",
    "\n",
    "Loading the pretrained word embeddings\n",
    "Creating a tokenizer object\n",
    "Transforming text documents to sequence of tokens and pad them\n",
    "Create a mapping of token and their respective embeddings"
   ]
  },
  {
   "cell_type": "code",
   "execution_count": 6,
   "metadata": {},
   "outputs": [],
   "source": [
    "# load the pre-trained word-embedding vectors \n",
    "embeddings_index = {}\n",
    "for i, line in enumerate(open('./wiki-news-300d-1M.vec')):\n",
    "    values = line.split()\n",
    "    embeddings_index[values[0]] = numpy.asarray(values[1:], dtype='float32')\n",
    "\n",
    "# create a tokenizer \n",
    "token = text.Tokenizer()\n",
    "token.fit_on_texts(trainDF['text'])\n",
    "word_index = token.word_index\n",
    "\n",
    "# convert text to sequence of tokens and pad them to ensure equal length vectors \n",
    "train_seq_x = sequence.pad_sequences(token.texts_to_sequences(train_x), maxlen=70)\n",
    "valid_seq_x = sequence.pad_sequences(token.texts_to_sequences(valid_x), maxlen=70)\n",
    "\n",
    "# create token-embedding mapping\n",
    "embedding_matrix = numpy.zeros((len(word_index) + 1, 300))\n",
    "for word, i in word_index.items():\n",
    "    embedding_vector = embeddings_index.get(word)\n",
    "    if embedding_vector is not None:\n",
    "        embedding_matrix[i] = embedding_vector"
   ]
  },
  {
   "cell_type": "markdown",
   "metadata": {},
   "source": [
    "### 2.4 Text / NLP based features\n",
    "A number of extra text based features can also be created which sometimes are helpful for improving text classification models. Some examples are:\n",
    "\n",
    "1. Word Count of the documents – total number of words in the documents\n",
    "2. Character Count of the documents – total number of characters in the documents\n",
    "3. Average Word Density of the documents – average length of the words used in the documents\n",
    "4. Puncutation Count in the Complete Essay – total number of punctuation marks in the documents\n",
    "5. Upper Case Count in the Complete Essay – total number of upper count words in the documents\n",
    "6. Title Word Count in the Complete Essay – total number of proper case (title) words in the documents\n",
    "7. Frequency distribution of Part of Speech Tags:\n",
    "    Noun Count\n",
    "    Verb Count\n",
    "    Adjective Count\n",
    "    Adverb Count\n",
    "    Pronoun Count\n",
    "    \n",
    "These features are highly experimental ones and should be used according to the problem statement only."
   ]
  },
  {
   "cell_type": "code",
   "execution_count": 7,
   "metadata": {},
   "outputs": [],
   "source": [
    "trainDF['char_count'] = trainDF['text'].apply(len)\n",
    "trainDF['word_count'] = trainDF['text'].apply(lambda x: len(x.split()))\n",
    "trainDF['word_density'] = trainDF['char_count'] / (trainDF['word_count']+1)\n",
    "trainDF['punctuation_count'] = trainDF['text'].apply(lambda x: len(\"\".join(_ for _ in x if _ in string.punctuation))) \n",
    "trainDF['title_word_count'] = trainDF['text'].apply(lambda x: len([wrd for wrd in x.split() if wrd.istitle()]))\n",
    "trainDF['upper_case_word_count'] = trainDF['text'].apply(lambda x: len([wrd for wrd in x.split() if wrd.isupper()]))"
   ]
  },
  {
   "cell_type": "code",
   "execution_count": 8,
   "metadata": {},
   "outputs": [
    {
     "name": "stderr",
     "output_type": "stream",
     "text": [
      "[nltk_data] Downloading package averaged_perceptron_tagger to\n",
      "[nltk_data]     /Users/zhiyiniu/nltk_data...\n",
      "[nltk_data]   Package averaged_perceptron_tagger is already up-to-\n",
      "[nltk_data]       date!\n"
     ]
    }
   ],
   "source": [
    "pos_family = {\n",
    "    'noun' : ['NN','NNS','NNP','NNPS'],\n",
    "    'pron' : ['PRP','PRP$','WP','WP$'],\n",
    "    'verb' : ['VB','VBD','VBG','VBN','VBP','VBZ'],\n",
    "    'adj' :  ['JJ','JJR','JJS'],\n",
    "    'adv' : ['RB','RBR','RBS','WRB']\n",
    "}\n",
    "\n",
    "nltk.download('averaged_perceptron_tagger')\n",
    "\n",
    "# function to check and get the part of speech tag count of a words in a given sentence\n",
    "def check_pos_tag(x, flag):\n",
    "    cnt = 0\n",
    "    try:\n",
    "        wiki = textblob.TextBlob(x)\n",
    "        for tup in wiki.tags:\n",
    "            ppo = list(tup)[1]\n",
    "            if ppo in pos_family[flag]:\n",
    "                cnt += 1\n",
    "    except:\n",
    "        pass\n",
    "    return cnt\n",
    "\n",
    "trainDF['noun_count'] = trainDF['text'].apply(lambda x: check_pos_tag(x, 'noun'))\n",
    "trainDF['verb_count'] = trainDF['text'].apply(lambda x: check_pos_tag(x, 'verb'))\n",
    "trainDF['adj_count'] = trainDF['text'].apply(lambda x: check_pos_tag(x, 'adj'))\n",
    "trainDF['adv_count'] = trainDF['text'].apply(lambda x: check_pos_tag(x, 'adv'))\n",
    "trainDF['pron_count'] = trainDF['text'].apply(lambda x: check_pos_tag(x, 'pron'))"
   ]
  },
  {
   "cell_type": "markdown",
   "metadata": {},
   "source": [
    "### 2.5 Topic Models as features\n",
    "Topic Modelling is a technique to identify the groups of words (called a topic) from a collection of documents that contains best information in the collection."
   ]
  },
  {
   "cell_type": "code",
   "execution_count": 9,
   "metadata": {},
   "outputs": [
    {
     "name": "stdout",
     "output_type": "stream",
     "text": [
      "Number of TFIDF Features: 13\n"
     ]
    }
   ],
   "source": [
    "# train a LDA Model\n",
    "lda_model = decomposition.LatentDirichletAllocation(n_components=20, learning_method='online', max_iter=20)\n",
    "#count_vect = CountVectorizer()\n",
    "vectorizer = TfidfVectorizer(stop_words='english')\n",
    "tfidf_matrix=vectorizer.fit_transform(trainDF).todense()\n",
    "tfidf_names=vectorizer.get_feature_names()\n",
    "\n",
    "#X_topics = lda_model.fit_transform(trainDF)\n",
    "#topic_word = lda_model.components_ \n",
    "#vocab = count_vect.get_feature_names()\n",
    "\n",
    "print(\"Number of TFIDF Features: %d\"%len(tfidf_names)) \n",
    "\n",
    "# view the topic models\n",
    "#n_top_words = 10\n",
    "#topic_summaries = []\n",
    "#for i, topic_dist in enumerate(topic_word):\n",
    "#    topic_words = numpy.array(vocab)[numpy.argsort(topic_dist)][:-(n_top_words+1):-1]\n",
    "#    topic_summaries.append(' '.join(topic_words))"
   ]
  },
  {
   "cell_type": "code",
   "execution_count": 10,
   "metadata": {},
   "outputs": [],
   "source": [
    "training_time_container={'b_naive_bayes':0,'mn_naive_bayes':0,'random_forest':0,'linear_svm':0}\n",
    "prediction_time_container={'b_naive_bayes':0,'mn_naive_bayes':0,'random_forest':0,'linear_svm':0}\n",
    "\n",
    "accuracy_container={'b_naive_bayes':0,'mn_naive_bayes':0,'random_forest':0,'linear_svm':0}"
   ]
  },
  {
   "cell_type": "code",
   "execution_count": 11,
   "metadata": {},
   "outputs": [
    {
     "ename": "ValueError",
     "evalue": "Found input variables with inconsistent numbers of samples: [13, 395]",
     "output_type": "error",
     "traceback": [
      "\u001b[0;31m---------------------------------------------------------------------------\u001b[0m",
      "\u001b[0;31mValueError\u001b[0m                                Traceback (most recent call last)",
      "\u001b[0;32m<ipython-input-11-1431d9d98660>\u001b[0m in \u001b[0;36m<module>\u001b[0;34m\u001b[0m\n\u001b[1;32m      8\u001b[0m \u001b[0;31m#considering the category values as the class labels for the classifier.\u001b[0m\u001b[0;34m\u001b[0m\u001b[0;34m\u001b[0m\u001b[0;34m\u001b[0m\u001b[0m\n\u001b[1;32m      9\u001b[0m \u001b[0;34m\u001b[0m\u001b[0m\n\u001b[0;32m---> 10\u001b[0;31m \u001b[0mvariables_train\u001b[0m\u001b[0;34m,\u001b[0m \u001b[0mvariables_test\u001b[0m\u001b[0;34m,\u001b[0m \u001b[0mlabels_train\u001b[0m\u001b[0;34m,\u001b[0m \u001b[0mlabels_test\u001b[0m \u001b[0;34m=\u001b[0m \u001b[0mtrain_test_split\u001b[0m\u001b[0;34m(\u001b[0m\u001b[0mvariables\u001b[0m\u001b[0;34m,\u001b[0m \u001b[0mlabels\u001b[0m\u001b[0;34m,\u001b[0m \u001b[0mtest_size\u001b[0m\u001b[0;34m=\u001b[0m\u001b[0;36m0.33\u001b[0m\u001b[0;34m)\u001b[0m\u001b[0;34m\u001b[0m\u001b[0;34m\u001b[0m\u001b[0m\n\u001b[0m\u001b[1;32m     11\u001b[0m \u001b[0;31m#splitting the data into random training and test sets for both independent variables and labels.\u001b[0m\u001b[0;34m\u001b[0m\u001b[0;34m\u001b[0m\u001b[0;34m\u001b[0m\u001b[0m\n",
      "\u001b[0;32m~/opt/anaconda3/lib/python3.8/site-packages/sklearn/model_selection/_split.py\u001b[0m in \u001b[0;36mtrain_test_split\u001b[0;34m(*arrays, **options)\u001b[0m\n\u001b[1;32m   2125\u001b[0m         \u001b[0;32mraise\u001b[0m \u001b[0mTypeError\u001b[0m\u001b[0;34m(\u001b[0m\u001b[0;34m\"Invalid parameters passed: %s\"\u001b[0m \u001b[0;34m%\u001b[0m \u001b[0mstr\u001b[0m\u001b[0;34m(\u001b[0m\u001b[0moptions\u001b[0m\u001b[0;34m)\u001b[0m\u001b[0;34m)\u001b[0m\u001b[0;34m\u001b[0m\u001b[0;34m\u001b[0m\u001b[0m\n\u001b[1;32m   2126\u001b[0m \u001b[0;34m\u001b[0m\u001b[0m\n\u001b[0;32m-> 2127\u001b[0;31m     \u001b[0marrays\u001b[0m \u001b[0;34m=\u001b[0m \u001b[0mindexable\u001b[0m\u001b[0;34m(\u001b[0m\u001b[0;34m*\u001b[0m\u001b[0marrays\u001b[0m\u001b[0;34m)\u001b[0m\u001b[0;34m\u001b[0m\u001b[0;34m\u001b[0m\u001b[0m\n\u001b[0m\u001b[1;32m   2128\u001b[0m \u001b[0;34m\u001b[0m\u001b[0m\n\u001b[1;32m   2129\u001b[0m     \u001b[0mn_samples\u001b[0m \u001b[0;34m=\u001b[0m \u001b[0m_num_samples\u001b[0m\u001b[0;34m(\u001b[0m\u001b[0marrays\u001b[0m\u001b[0;34m[\u001b[0m\u001b[0;36m0\u001b[0m\u001b[0;34m]\u001b[0m\u001b[0;34m)\u001b[0m\u001b[0;34m\u001b[0m\u001b[0;34m\u001b[0m\u001b[0m\n",
      "\u001b[0;32m~/opt/anaconda3/lib/python3.8/site-packages/sklearn/utils/validation.py\u001b[0m in \u001b[0;36mindexable\u001b[0;34m(*iterables)\u001b[0m\n\u001b[1;32m    290\u001b[0m     \"\"\"\n\u001b[1;32m    291\u001b[0m     \u001b[0mresult\u001b[0m \u001b[0;34m=\u001b[0m \u001b[0;34m[\u001b[0m\u001b[0m_make_indexable\u001b[0m\u001b[0;34m(\u001b[0m\u001b[0mX\u001b[0m\u001b[0;34m)\u001b[0m \u001b[0;32mfor\u001b[0m \u001b[0mX\u001b[0m \u001b[0;32min\u001b[0m \u001b[0miterables\u001b[0m\u001b[0;34m]\u001b[0m\u001b[0;34m\u001b[0m\u001b[0;34m\u001b[0m\u001b[0m\n\u001b[0;32m--> 292\u001b[0;31m     \u001b[0mcheck_consistent_length\u001b[0m\u001b[0;34m(\u001b[0m\u001b[0;34m*\u001b[0m\u001b[0mresult\u001b[0m\u001b[0;34m)\u001b[0m\u001b[0;34m\u001b[0m\u001b[0;34m\u001b[0m\u001b[0m\n\u001b[0m\u001b[1;32m    293\u001b[0m     \u001b[0;32mreturn\u001b[0m \u001b[0mresult\u001b[0m\u001b[0;34m\u001b[0m\u001b[0;34m\u001b[0m\u001b[0m\n\u001b[1;32m    294\u001b[0m \u001b[0;34m\u001b[0m\u001b[0m\n",
      "\u001b[0;32m~/opt/anaconda3/lib/python3.8/site-packages/sklearn/utils/validation.py\u001b[0m in \u001b[0;36mcheck_consistent_length\u001b[0;34m(*arrays)\u001b[0m\n\u001b[1;32m    253\u001b[0m     \u001b[0muniques\u001b[0m \u001b[0;34m=\u001b[0m \u001b[0mnp\u001b[0m\u001b[0;34m.\u001b[0m\u001b[0munique\u001b[0m\u001b[0;34m(\u001b[0m\u001b[0mlengths\u001b[0m\u001b[0;34m)\u001b[0m\u001b[0;34m\u001b[0m\u001b[0;34m\u001b[0m\u001b[0m\n\u001b[1;32m    254\u001b[0m     \u001b[0;32mif\u001b[0m \u001b[0mlen\u001b[0m\u001b[0;34m(\u001b[0m\u001b[0muniques\u001b[0m\u001b[0;34m)\u001b[0m \u001b[0;34m>\u001b[0m \u001b[0;36m1\u001b[0m\u001b[0;34m:\u001b[0m\u001b[0;34m\u001b[0m\u001b[0;34m\u001b[0m\u001b[0m\n\u001b[0;32m--> 255\u001b[0;31m         raise ValueError(\"Found input variables with inconsistent numbers of\"\n\u001b[0m\u001b[1;32m    256\u001b[0m                          \" samples: %r\" % [int(l) for l in lengths])\n\u001b[1;32m    257\u001b[0m \u001b[0;34m\u001b[0m\u001b[0m\n",
      "\u001b[0;31mValueError\u001b[0m: Found input variables with inconsistent numbers of samples: [13, 395]"
     ]
    }
   ],
   "source": [
    "from sklearn.model_selection import train_test_split\n",
    "\n",
    "# As no separate test data-set was given so the provided data set is split into training and test data set using 70-30% ratio \n",
    "#as follows:\n",
    "variables = tfidf_matrix\n",
    "#considering the TFIDF features as independent variables to be input to the classifier.\n",
    "labels = trainDF.label\n",
    "#considering the category values as the class labels for the classifier.\n",
    "\n",
    "variables_train, variables_test, labels_train, labels_test = train_test_split(variables, labels, test_size=0.33)\n",
    "#splitting the data into random training and test sets for both independent variables and labels."
   ]
  },
  {
   "cell_type": "code",
   "execution_count": null,
   "metadata": {},
   "outputs": [],
   "source": []
  }
 ],
 "metadata": {
  "file_extension": ".py",
  "kernelspec": {
   "display_name": "Python 3",
   "language": "python",
   "name": "python3"
  },
  "language_info": {
   "codemirror_mode": {
    "name": "ipython",
    "version": 3
   },
   "file_extension": ".py",
   "mimetype": "text/x-python",
   "name": "python",
   "nbconvert_exporter": "python",
   "pygments_lexer": "ipython3",
   "version": "3.8.5"
  },
  "mimetype": "text/x-python",
  "name": "python",
  "npconvert_exporter": "python",
  "pygments_lexer": "ipython3",
  "version": 3
 },
 "nbformat": 4,
 "nbformat_minor": 2
}
