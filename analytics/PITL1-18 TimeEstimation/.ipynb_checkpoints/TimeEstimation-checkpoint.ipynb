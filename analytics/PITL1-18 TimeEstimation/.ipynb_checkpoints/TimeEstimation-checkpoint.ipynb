{
 "cells": [
  {
   "cell_type": "markdown",
   "metadata": {
    "id": "ktwGJYdMYoOb"
   },
   "source": [
    "# **Suggest estimated time to resolve an incident**\n",
    "\n",
    "Use Case: Predicting the estimated time that would be required to resolve an incident based on previous incidents to an assigned developer\n",
    "\n",
    "Link to documentation:\n",
    "1. https://iwiki.sse.in.tum.de/display/PIT21/%5BSaury%5D+Time+Estimation+to+Resolve+an+Incident\n"
   ]
  },
  {
   "cell_type": "markdown",
   "metadata": {
    "id": "GboTs1hmfC9G"
   },
   "source": [
    "# Installation of Sentence Transformers"
   ]
  },
  {
   "cell_type": "code",
   "execution_count": 2,
   "metadata": {
    "colab": {
     "base_uri": "https://localhost:8080/"
    },
    "id": "ksARwjaVnCjd",
    "outputId": "36b5ea9d-cadc-4de9-c1c7-3992aa40bc2d",
    "scrolled": true
   },
   "outputs": [
    {
     "name": "stdout",
     "output_type": "stream",
     "text": [
      "Collecting sentence-transformers\n",
      "\u001b[?25l  Downloading https://files.pythonhosted.org/packages/cc/75/df441011cd1726822b70fbff50042adb4860e9327b99b346154ead704c44/sentence-transformers-1.2.0.tar.gz (81kB)\n",
      "\u001b[K     |████████████████████████████████| 81kB 4.0MB/s \n",
      "\u001b[?25hCollecting transformers<5.0.0,>=3.1.0\n",
      "\u001b[?25l  Downloading https://files.pythonhosted.org/packages/d5/43/cfe4ee779bbd6a678ac6a97c5a5cdeb03c35f9eaebbb9720b036680f9a2d/transformers-4.6.1-py3-none-any.whl (2.2MB)\n",
      "\u001b[K     |████████████████████████████████| 2.3MB 10.5MB/s \n",
      "\u001b[?25hRequirement already satisfied, skipping upgrade: tqdm in /usr/local/lib/python3.7/dist-packages (from sentence-transformers) (4.41.1)\n",
      "Requirement already satisfied, skipping upgrade: torch>=1.6.0 in /usr/local/lib/python3.7/dist-packages (from sentence-transformers) (1.8.1+cu101)\n",
      "Requirement already satisfied, skipping upgrade: torchvision in /usr/local/lib/python3.7/dist-packages (from sentence-transformers) (0.9.1+cu101)\n",
      "Requirement already satisfied, skipping upgrade: numpy in /usr/local/lib/python3.7/dist-packages (from sentence-transformers) (1.19.5)\n",
      "Requirement already satisfied, skipping upgrade: scikit-learn in /usr/local/lib/python3.7/dist-packages (from sentence-transformers) (0.22.2.post1)\n",
      "Requirement already satisfied, skipping upgrade: scipy in /usr/local/lib/python3.7/dist-packages (from sentence-transformers) (1.4.1)\n",
      "Requirement already satisfied, skipping upgrade: nltk in /usr/local/lib/python3.7/dist-packages (from sentence-transformers) (3.2.5)\n",
      "Collecting sentencepiece\n",
      "\u001b[?25l  Downloading https://files.pythonhosted.org/packages/f5/99/e0808cb947ba10f575839c43e8fafc9cc44e4a7a2c8f79c60db48220a577/sentencepiece-0.1.95-cp37-cp37m-manylinux2014_x86_64.whl (1.2MB)\n",
      "\u001b[K     |████████████████████████████████| 1.2MB 32.9MB/s \n",
      "\u001b[?25hCollecting huggingface-hub==0.0.8\n",
      "  Downloading https://files.pythonhosted.org/packages/a1/88/7b1e45720ecf59c6c6737ff332f41c955963090a18e72acbcbeac6b25e86/huggingface_hub-0.0.8-py3-none-any.whl\n",
      "Collecting tokenizers<0.11,>=0.10.1\n",
      "\u001b[?25l  Downloading https://files.pythonhosted.org/packages/d4/e2/df3543e8ffdab68f5acc73f613de9c2b155ac47f162e725dcac87c521c11/tokenizers-0.10.3-cp37-cp37m-manylinux_2_5_x86_64.manylinux1_x86_64.manylinux_2_12_x86_64.manylinux2010_x86_64.whl (3.3MB)\n",
      "\u001b[K     |████████████████████████████████| 3.3MB 20.1MB/s \n",
      "\u001b[?25hRequirement already satisfied, skipping upgrade: regex!=2019.12.17 in /usr/local/lib/python3.7/dist-packages (from transformers<5.0.0,>=3.1.0->sentence-transformers) (2019.12.20)\n",
      "Requirement already satisfied, skipping upgrade: importlib-metadata; python_version < \"3.8\" in /usr/local/lib/python3.7/dist-packages (from transformers<5.0.0,>=3.1.0->sentence-transformers) (4.0.1)\n",
      "Requirement already satisfied, skipping upgrade: filelock in /usr/local/lib/python3.7/dist-packages (from transformers<5.0.0,>=3.1.0->sentence-transformers) (3.0.12)\n",
      "Requirement already satisfied, skipping upgrade: requests in /usr/local/lib/python3.7/dist-packages (from transformers<5.0.0,>=3.1.0->sentence-transformers) (2.23.0)\n",
      "Collecting sacremoses\n",
      "\u001b[?25l  Downloading https://files.pythonhosted.org/packages/75/ee/67241dc87f266093c533a2d4d3d69438e57d7a90abb216fa076e7d475d4a/sacremoses-0.0.45-py3-none-any.whl (895kB)\n",
      "\u001b[K     |████████████████████████████████| 901kB 31.0MB/s \n",
      "\u001b[?25hRequirement already satisfied, skipping upgrade: packaging in /usr/local/lib/python3.7/dist-packages (from transformers<5.0.0,>=3.1.0->sentence-transformers) (20.9)\n",
      "Requirement already satisfied, skipping upgrade: typing-extensions in /usr/local/lib/python3.7/dist-packages (from torch>=1.6.0->sentence-transformers) (3.7.4.3)\n",
      "Requirement already satisfied, skipping upgrade: pillow>=4.1.1 in /usr/local/lib/python3.7/dist-packages (from torchvision->sentence-transformers) (7.1.2)\n",
      "Requirement already satisfied, skipping upgrade: joblib>=0.11 in /usr/local/lib/python3.7/dist-packages (from scikit-learn->sentence-transformers) (1.0.1)\n",
      "Requirement already satisfied, skipping upgrade: six in /usr/local/lib/python3.7/dist-packages (from nltk->sentence-transformers) (1.15.0)\n",
      "Requirement already satisfied, skipping upgrade: zipp>=0.5 in /usr/local/lib/python3.7/dist-packages (from importlib-metadata; python_version < \"3.8\"->transformers<5.0.0,>=3.1.0->sentence-transformers) (3.4.1)\n",
      "Requirement already satisfied, skipping upgrade: idna<3,>=2.5 in /usr/local/lib/python3.7/dist-packages (from requests->transformers<5.0.0,>=3.1.0->sentence-transformers) (2.10)\n",
      "Requirement already satisfied, skipping upgrade: urllib3!=1.25.0,!=1.25.1,<1.26,>=1.21.1 in /usr/local/lib/python3.7/dist-packages (from requests->transformers<5.0.0,>=3.1.0->sentence-transformers) (1.24.3)\n",
      "Requirement already satisfied, skipping upgrade: certifi>=2017.4.17 in /usr/local/lib/python3.7/dist-packages (from requests->transformers<5.0.0,>=3.1.0->sentence-transformers) (2020.12.5)\n",
      "Requirement already satisfied, skipping upgrade: chardet<4,>=3.0.2 in /usr/local/lib/python3.7/dist-packages (from requests->transformers<5.0.0,>=3.1.0->sentence-transformers) (3.0.4)\n",
      "Requirement already satisfied, skipping upgrade: click in /usr/local/lib/python3.7/dist-packages (from sacremoses->transformers<5.0.0,>=3.1.0->sentence-transformers) (7.1.2)\n",
      "Requirement already satisfied, skipping upgrade: pyparsing>=2.0.2 in /usr/local/lib/python3.7/dist-packages (from packaging->transformers<5.0.0,>=3.1.0->sentence-transformers) (2.4.7)\n",
      "Building wheels for collected packages: sentence-transformers\n",
      "  Building wheel for sentence-transformers (setup.py) ... \u001b[?25l\u001b[?25hdone\n",
      "  Created wheel for sentence-transformers: filename=sentence_transformers-1.2.0-cp37-none-any.whl size=123339 sha256=1288d5189676907a5b610122e120b33ec00e14c33f7671dd49af377032254165\n",
      "  Stored in directory: /root/.cache/pip/wheels/0f/06/f7/faaa96fdda87462b4fd5c47b343340e9d5531ef70d0eef8242\n",
      "Successfully built sentence-transformers\n",
      "Installing collected packages: huggingface-hub, tokenizers, sacremoses, transformers, sentencepiece, sentence-transformers\n",
      "Successfully installed huggingface-hub-0.0.8 sacremoses-0.0.45 sentence-transformers-1.2.0 sentencepiece-0.1.95 tokenizers-0.10.3 transformers-4.6.1\n"
     ]
    }
   ],
   "source": [
    "!pip install -U sentence-transformers"
   ]
  },
  {
   "cell_type": "markdown",
   "metadata": {
    "id": "mzFwp9rCffiE"
   },
   "source": [
    "# Import Libraries"
   ]
  },
  {
   "cell_type": "code",
   "execution_count": 3,
   "metadata": {
    "id": "UYePUfeYnO-D"
   },
   "outputs": [],
   "source": [
    "from sentence_transformers import SentenceTransformer, util\n",
    "from sentence_transformers import models, losses\n",
    "import pandas as pd\n",
    "import numpy as np\n",
    "from tqdm import tqdm\n",
    "from sklearn.metrics.pairwise import cosine_similarity"
   ]
  },
  {
   "cell_type": "code",
   "execution_count": 4,
   "metadata": {
    "colab": {
     "base_uri": "https://localhost:8080/"
    },
    "id": "M-8d0aZf3ADD",
    "outputId": "7a6a28d2-b914-4011-99aa-08c5702cff85"
   },
   "outputs": [
    {
     "name": "stdout",
     "output_type": "stream",
     "text": [
      "Mounted at /content/drive\n"
     ]
    }
   ],
   "source": [
    "# Mounting google drive where dataset is present\n",
    "from google.colab import drive\n",
    "drive.mount('/content/drive')"
   ]
  },
  {
   "cell_type": "code",
   "execution_count": null,
   "metadata": {
    "id": "855sF2tsXP84"
   },
   "outputs": [],
   "source": [
    "#import all Jira files from a directory and concatenate it into a dataframe --Need to provide location of the dataset--\n",
    "\n",
    "import os\n",
    "\n",
    "path=\"/content/drive/MyDrive/Colab_Notebooks/jira_data/\"\n",
    "os.chdir(path)\n",
    "frames=[]\n",
    "for file in os.listdir():\n",
    "    # Check whether file is in text format or not\n",
    "    if file.endswith(\".csv\"):\n",
    "        file_path = f\"{path}\\{file}\"\n",
    "        frames.append(pd.read_csv(file_path))\n",
    "df = pd.concat(frames)   "
   ]
  },
  {
   "cell_type": "code",
   "execution_count": 6,
   "metadata": {
    "colab": {
     "base_uri": "https://localhost:8080/",
     "height": 397
    },
    "id": "pemHTQWh2qQg",
    "outputId": "6da26d04-e9e2-4d82-c787-beb770c18951"
   },
   "outputs": [
    {
     "data": {
      "text/html": [
       "<div>\n",
       "<style scoped>\n",
       "    .dataframe tbody tr th:only-of-type {\n",
       "        vertical-align: middle;\n",
       "    }\n",
       "\n",
       "    .dataframe tbody tr th {\n",
       "        vertical-align: top;\n",
       "    }\n",
       "\n",
       "    .dataframe thead th {\n",
       "        text-align: right;\n",
       "    }\n",
       "</style>\n",
       "<table border=\"1\" class=\"dataframe\">\n",
       "  <thead>\n",
       "    <tr style=\"text-align: right;\">\n",
       "      <th></th>\n",
       "      <th>Unnamed: 0</th>\n",
       "      <th>Summary</th>\n",
       "      <th>Issue id</th>\n",
       "      <th>Issue key</th>\n",
       "      <th>Issue Type</th>\n",
       "      <th>Description</th>\n",
       "      <th>Assignee</th>\n",
       "      <th>Reporter</th>\n",
       "      <th>Created</th>\n",
       "      <th>Resolved</th>\n",
       "      <th>Updated</th>\n",
       "      <th>Resolution</th>\n",
       "      <th>Priority</th>\n",
       "      <th>Creator</th>\n",
       "    </tr>\n",
       "  </thead>\n",
       "  <tbody>\n",
       "    <tr>\n",
       "      <th>0</th>\n",
       "      <td>29</td>\n",
       "      <td>Sourcetree does not list changes to added file</td>\n",
       "      <td>1133838</td>\n",
       "      <td>SRCTREEWIN-11416</td>\n",
       "      <td>Bug</td>\n",
       "      <td>After you stage a new file, if you make change...</td>\n",
       "      <td>mminns</td>\n",
       "      <td>neoscorpe</td>\n",
       "      <td>13/Mar/2019 10:21 AM</td>\n",
       "      <td>21/Mar/2019 9:22 PM</td>\n",
       "      <td>26/Aug/2019 5:16 AM</td>\n",
       "      <td>Fixed</td>\n",
       "      <td>Highest</td>\n",
       "      <td>neoscorpe</td>\n",
       "    </tr>\n",
       "    <tr>\n",
       "      <th>1</th>\n",
       "      <td>60</td>\n",
       "      <td>Implement a dark theme/skin</td>\n",
       "      <td>1124345</td>\n",
       "      <td>SRCTREEWIN-11379</td>\n",
       "      <td>Suggestion</td>\n",
       "      <td>I use dark Gmail, dark IntelliJ IDEA, dark bro...</td>\n",
       "      <td>sstreeting</td>\n",
       "      <td>natharuk04</td>\n",
       "      <td>22/Feb/2019 7:17 AM</td>\n",
       "      <td>27/Feb/2019 2:09 PM</td>\n",
       "      <td>19/Sep/2019 6:03 AM</td>\n",
       "      <td>Duplicate</td>\n",
       "      <td>Low</td>\n",
       "      <td>natharuk04</td>\n",
       "    </tr>\n",
       "    <tr>\n",
       "      <th>2</th>\n",
       "      <td>161</td>\n",
       "      <td>Moving Mouse after Double-Clicking local Branc...</td>\n",
       "      <td>1097122</td>\n",
       "      <td>SRCTREEWIN-11108</td>\n",
       "      <td>Bug</td>\n",
       "      <td>If a user double-clicks on a local branch name...</td>\n",
       "      <td>mcorsaro</td>\n",
       "      <td>deckblad191727226</td>\n",
       "      <td>18/Dec/2018 6:03 PM</td>\n",
       "      <td>14/Feb/2019 11:07 AM</td>\n",
       "      <td>26/Aug/2019 5:17 AM</td>\n",
       "      <td>Fixed</td>\n",
       "      <td>Low</td>\n",
       "      <td>deckblad191727226</td>\n",
       "    </tr>\n",
       "  </tbody>\n",
       "</table>\n",
       "</div>"
      ],
      "text/plain": [
       "   Unnamed: 0  ...            Creator\n",
       "0          29  ...          neoscorpe\n",
       "1          60  ...         natharuk04\n",
       "2         161  ...  deckblad191727226\n",
       "\n",
       "[3 rows x 14 columns]"
      ]
     },
     "execution_count": 6,
     "metadata": {
      "tags": []
     },
     "output_type": "execute_result"
    }
   ],
   "source": [
    "# Read Jira Dataset --Need to provide location of the dataset--\n",
    "df=pd.read_csv('/content/drive/MyDrive/Colab_Notebooks/jira_data/AggregateJiraData.csv')\n",
    "df.head(3)"
   ]
  },
  {
   "cell_type": "markdown",
   "metadata": {
    "id": "H6huOlcwprE7"
   },
   "source": [
    "# Data Preprocessing\n",
    "\n",
    "\n",
    "*   Merging data frames\n",
    "*   Selecting essential features while removing the rest\n",
    "*   Creating new features : Estimated time, IncidentResolvedQuater\n",
    "*   Cleaning data : Fetching and eliminating null values\n",
    "\n",
    "\n",
    "\n",
    "\n"
   ]
  },
  {
   "cell_type": "code",
   "execution_count": 7,
   "metadata": {
    "id": "Oh41FR3u2qQi"
   },
   "outputs": [],
   "source": [
    "# Keeping the following useful essential columns\n",
    "\n",
    "df = df.filter(['Summary', 'Issue id','Issue key','Issue Type','Description','Assignee','Reporter','Created','Resolved','Updated','Resolution','Priority','Creator'])"
   ]
  },
  {
   "cell_type": "code",
   "execution_count": 8,
   "metadata": {
    "colab": {
     "base_uri": "https://localhost:8080/"
    },
    "id": "X8f9XRoPEG6_",
    "outputId": "1282f85e-c106-4774-b317-faa8eefea219"
   },
   "outputs": [
    {
     "name": "stdout",
     "output_type": "stream",
     "text": [
      "60.0\n",
      "<class 'pandas.core.frame.DataFrame'>\n",
      "RangeIndex: 7435 entries, 0 to 7434\n",
      "Data columns (total 14 columns):\n",
      " #   Column          Non-Null Count  Dtype  \n",
      "---  ------          --------------  -----  \n",
      " 0   Summary         7435 non-null   object \n",
      " 1   Issue id        7435 non-null   int64  \n",
      " 2   Issue key       7435 non-null   object \n",
      " 3   Issue Type      7435 non-null   object \n",
      " 4   Description     6877 non-null   object \n",
      " 5   Assignee        7435 non-null   object \n",
      " 6   Reporter        7427 non-null   object \n",
      " 7   Created         7435 non-null   object \n",
      " 8   Resolved        6310 non-null   object \n",
      " 9   Updated         7435 non-null   object \n",
      " 10  Resolution      6310 non-null   object \n",
      " 11  Priority        6803 non-null   object \n",
      " 12  Creator         7424 non-null   object \n",
      " 13  estimated_days  6310 non-null   float64\n",
      "dtypes: float64(1), int64(1), object(12)\n",
      "memory usage: 813.3+ KB\n"
     ]
    }
   ],
   "source": [
    "# Create estimated days column that would be our target value\n",
    "\n",
    "df['estimated_days']=pd.to_datetime(df['Resolved'])-pd.to_datetime(df['Created'])\n",
    "df['estimated_days'] = df['estimated_days'].dt.days\n",
    "#df['estimated_days'].clip_upper(100)\n",
    "maxVal = 60\n",
    "df.loc[df['estimated_days'] >= maxVal, 'estimated_days'] = maxVal\n",
    "print(df['estimated_days'].max())\n",
    "#data summary\n",
    "df.info()"
   ]
  },
  {
   "cell_type": "code",
   "execution_count": 9,
   "metadata": {
    "colab": {
     "base_uri": "https://localhost:8080/",
     "height": 397
    },
    "id": "m4YF5UhsKYbC",
    "outputId": "c480fd94-88af-43f8-dabc-702a3b3d2d3b"
   },
   "outputs": [
    {
     "data": {
      "text/html": [
       "<div>\n",
       "<style scoped>\n",
       "    .dataframe tbody tr th:only-of-type {\n",
       "        vertical-align: middle;\n",
       "    }\n",
       "\n",
       "    .dataframe tbody tr th {\n",
       "        vertical-align: top;\n",
       "    }\n",
       "\n",
       "    .dataframe thead th {\n",
       "        text-align: right;\n",
       "    }\n",
       "</style>\n",
       "<table border=\"1\" class=\"dataframe\">\n",
       "  <thead>\n",
       "    <tr style=\"text-align: right;\">\n",
       "      <th></th>\n",
       "      <th>Summary</th>\n",
       "      <th>Issue id</th>\n",
       "      <th>Issue key</th>\n",
       "      <th>Issue Type</th>\n",
       "      <th>Description</th>\n",
       "      <th>Assignee</th>\n",
       "      <th>Reporter</th>\n",
       "      <th>Created</th>\n",
       "      <th>Resolved</th>\n",
       "      <th>Updated</th>\n",
       "      <th>Resolution</th>\n",
       "      <th>Priority</th>\n",
       "      <th>Creator</th>\n",
       "      <th>estimated_days</th>\n",
       "    </tr>\n",
       "  </thead>\n",
       "  <tbody>\n",
       "    <tr>\n",
       "      <th>0</th>\n",
       "      <td>Sourcetree does not list changes to added file</td>\n",
       "      <td>1133838</td>\n",
       "      <td>SRCTREEWIN-11416</td>\n",
       "      <td>Bug</td>\n",
       "      <td>After you stage a new file, if you make change...</td>\n",
       "      <td>mminns</td>\n",
       "      <td>neoscorpe</td>\n",
       "      <td>13/Mar/2019 10:21 AM</td>\n",
       "      <td>21/Mar/2019 9:22 PM</td>\n",
       "      <td>26/Aug/2019 5:16 AM</td>\n",
       "      <td>Fixed</td>\n",
       "      <td>Highest</td>\n",
       "      <td>neoscorpe</td>\n",
       "      <td>8.0</td>\n",
       "    </tr>\n",
       "    <tr>\n",
       "      <th>1</th>\n",
       "      <td>Implement a dark theme/skin</td>\n",
       "      <td>1124345</td>\n",
       "      <td>SRCTREEWIN-11379</td>\n",
       "      <td>Suggestion</td>\n",
       "      <td>I use dark Gmail, dark IntelliJ IDEA, dark bro...</td>\n",
       "      <td>sstreeting</td>\n",
       "      <td>natharuk04</td>\n",
       "      <td>22/Feb/2019 7:17 AM</td>\n",
       "      <td>27/Feb/2019 2:09 PM</td>\n",
       "      <td>19/Sep/2019 6:03 AM</td>\n",
       "      <td>Duplicate</td>\n",
       "      <td>Low</td>\n",
       "      <td>natharuk04</td>\n",
       "      <td>5.0</td>\n",
       "    </tr>\n",
       "    <tr>\n",
       "      <th>2</th>\n",
       "      <td>Moving Mouse after Double-Clicking local Branc...</td>\n",
       "      <td>1097122</td>\n",
       "      <td>SRCTREEWIN-11108</td>\n",
       "      <td>Bug</td>\n",
       "      <td>If a user double-clicks on a local branch name...</td>\n",
       "      <td>mcorsaro</td>\n",
       "      <td>deckblad191727226</td>\n",
       "      <td>18/Dec/2018 6:03 PM</td>\n",
       "      <td>14/Feb/2019 11:07 AM</td>\n",
       "      <td>26/Aug/2019 5:17 AM</td>\n",
       "      <td>Fixed</td>\n",
       "      <td>Low</td>\n",
       "      <td>deckblad191727226</td>\n",
       "      <td>57.0</td>\n",
       "    </tr>\n",
       "  </tbody>\n",
       "</table>\n",
       "</div>"
      ],
      "text/plain": [
       "                                             Summary  ...  estimated_days\n",
       "0     Sourcetree does not list changes to added file  ...             8.0\n",
       "1                        Implement a dark theme/skin  ...             5.0\n",
       "2  Moving Mouse after Double-Clicking local Branc...  ...            57.0\n",
       "\n",
       "[3 rows x 14 columns]"
      ]
     },
     "execution_count": 9,
     "metadata": {
      "tags": []
     },
     "output_type": "execute_result"
    }
   ],
   "source": [
    "# Check for null values\n",
    "df[df.isnull().any(axis=1)]\n",
    "\n",
    "# Drop rows with null Values\n",
    "df.drop(df[df.isnull().any(axis=1)].index,inplace=True)\n",
    "df=df.reset_index(drop=True)\n",
    "df.head(3)"
   ]
  },
  {
   "cell_type": "code",
   "execution_count": 10,
   "metadata": {
    "colab": {
     "base_uri": "https://localhost:8080/"
    },
    "id": "OaV-DE_CEfgl",
    "outputId": "045e704c-414e-4f95-8338-dcb7e6537da5"
   },
   "outputs": [
    {
     "name": "stdout",
     "output_type": "stream",
     "text": [
      "Total category of incidents 6\n",
      "['P0: Blocker' 'P3: Somewhat important' 'P1: Critical' 'P2: Important'\n",
      " 'P4: Low' 'P5: Not important']\n",
      "P3: Somewhat important    2006\n",
      "P2: Important             1511\n",
      "P5: Not important          973\n",
      "P1: Critical               588\n",
      "P0: Blocker                260\n",
      "P4: Low                     97\n",
      "Name: PriorityLevel, dtype: int64\n"
     ]
    }
   ],
   "source": [
    "# Modifying and merging similar Priority Level\n",
    "PriorityLevelColumn = {'Highest':'P0: Blocker',\n",
    "                             'High':'P1: Critical',\n",
    "                             'Medium':'P2: Important',\n",
    "                             'Low':'P3: Somewhat important',\n",
    "                             'Lowest':'P4: Low',\n",
    "                             'Not Evaluated':'P5: Not important',\n",
    "                             np.nan:'P4: Low'}\n",
    "\n",
    "df['PriorityLevel'] = df['Priority'].replace(PriorityLevelColumn)\n",
    "\n",
    "# Total categories of Priority Level\n",
    "print(\"Total category of incidents\",df['PriorityLevel'].nunique())\n",
    "\n",
    "# Unique values in the Priority Level\n",
    "print(df.PriorityLevel.unique())\n",
    "\n",
    "# No of incidents of each type\n",
    "print(df['PriorityLevel'].value_counts())"
   ]
  },
  {
   "cell_type": "code",
   "execution_count": 11,
   "metadata": {
    "colab": {
     "base_uri": "https://localhost:8080/",
     "height": 201
    },
    "id": "QOjvoshXR5cf",
    "outputId": "70dbd8fb-c537-4518-8ed2-3ea107279b85"
   },
   "outputs": [
    {
     "data": {
      "text/html": [
       "<div>\n",
       "<style scoped>\n",
       "    .dataframe tbody tr th:only-of-type {\n",
       "        vertical-align: middle;\n",
       "    }\n",
       "\n",
       "    .dataframe tbody tr th {\n",
       "        vertical-align: top;\n",
       "    }\n",
       "\n",
       "    .dataframe thead th {\n",
       "        text-align: right;\n",
       "    }\n",
       "</style>\n",
       "<table border=\"1\" class=\"dataframe\">\n",
       "  <thead>\n",
       "    <tr style=\"text-align: right;\">\n",
       "      <th></th>\n",
       "      <th>Summary</th>\n",
       "      <th>Issue id</th>\n",
       "      <th>Issue key</th>\n",
       "      <th>Issue Type</th>\n",
       "      <th>Description</th>\n",
       "      <th>Assignee</th>\n",
       "      <th>Reporter</th>\n",
       "      <th>Created</th>\n",
       "      <th>Resolved</th>\n",
       "      <th>Updated</th>\n",
       "      <th>Resolution</th>\n",
       "      <th>Priority</th>\n",
       "      <th>Creator</th>\n",
       "      <th>estimated_days</th>\n",
       "      <th>PriorityLevel</th>\n",
       "      <th>P0: Blocker</th>\n",
       "      <th>P1: Critical</th>\n",
       "      <th>P2: Important</th>\n",
       "      <th>P3: Somewhat important</th>\n",
       "      <th>P4: Low</th>\n",
       "      <th>P5: Not important</th>\n",
       "    </tr>\n",
       "  </thead>\n",
       "  <tbody>\n",
       "    <tr>\n",
       "      <th>0</th>\n",
       "      <td>Sourcetree does not list changes to added file</td>\n",
       "      <td>1133838</td>\n",
       "      <td>SRCTREEWIN-11416</td>\n",
       "      <td>Bug</td>\n",
       "      <td>After you stage a new file, if you make change...</td>\n",
       "      <td>mminns</td>\n",
       "      <td>neoscorpe</td>\n",
       "      <td>13/Mar/2019 10:21 AM</td>\n",
       "      <td>21/Mar/2019 9:22 PM</td>\n",
       "      <td>26/Aug/2019 5:16 AM</td>\n",
       "      <td>Fixed</td>\n",
       "      <td>Highest</td>\n",
       "      <td>neoscorpe</td>\n",
       "      <td>8.0</td>\n",
       "      <td>P0: Blocker</td>\n",
       "      <td>1</td>\n",
       "      <td>0</td>\n",
       "      <td>0</td>\n",
       "      <td>0</td>\n",
       "      <td>0</td>\n",
       "      <td>0</td>\n",
       "    </tr>\n",
       "  </tbody>\n",
       "</table>\n",
       "</div>"
      ],
      "text/plain": [
       "                                          Summary  ...  P5: Not important\n",
       "0  Sourcetree does not list changes to added file  ...                  0\n",
       "\n",
       "[1 rows x 21 columns]"
      ]
     },
     "execution_count": 11,
     "metadata": {
      "tags": []
     },
     "output_type": "execute_result"
    }
   ],
   "source": [
    "# 1-Hot Encoding for the Priority Level\n",
    "\n",
    "priority_dummy = pd.get_dummies(df['PriorityLevel'])\n",
    "df = pd.concat([df, priority_dummy], axis=1)\n",
    "df.head(1)"
   ]
  },
  {
   "cell_type": "code",
   "execution_count": 12,
   "metadata": {
    "colab": {
     "base_uri": "https://localhost:8080/"
    },
    "id": "Y-W_jeeYYXht",
    "outputId": "e3caa182-24cf-47b0-fcfc-c8f511726775"
   },
   "outputs": [
    {
     "name": "stdout",
     "output_type": "stream",
     "text": [
      "['Bug' 'Suggestion' 'Improvement' 'New Feature' 'Task' 'Sub-task' 'Epic'\n",
      " 'User Story' 'Research' 'Technical task']\n",
      "Bug               3733\n",
      "Suggestion         874\n",
      "Task               575\n",
      "Improvement         81\n",
      "User Story          48\n",
      "New Feature         40\n",
      "Technical task      34\n",
      "Epic                26\n",
      "Sub-task            23\n",
      "Research             1\n",
      "Name: Issue Type, dtype: int64\n",
      "Bug            3733\n",
      "Suggestion      874\n",
      "Task            575\n",
      "Improvement     139\n",
      "Epic            114\n",
      "Name: IssuesType, dtype: int64\n"
     ]
    }
   ],
   "source": [
    "# Unique values in the Priority Level\n",
    "print(df['Issue Type'].unique())\n",
    "\n",
    "# No of incidents of each type\n",
    "print(df['Issue Type'].value_counts())\n",
    "\n",
    "issuetypes = {'User Story':'Epic',\n",
    "            'New Feature':'Epic',\n",
    "            'Technical task':'Improvement',\n",
    "            'Sub-task':'Improvement',\n",
    "            'Research':'Improvement' }\n",
    "\n",
    "df['IssuesType'] = df['Issue Type'].replace(issuetypes)\n",
    "\n",
    "print(df['IssuesType'].value_counts())\n",
    "\n",
    "# Remove Priority, IssueType and PriorityLevel"
   ]
  },
  {
   "cell_type": "code",
   "execution_count": 13,
   "metadata": {
    "id": "4bKjugR2Z3ou"
   },
   "outputs": [],
   "source": [
    "# 1-Hot Encoding for the Priority Level\n",
    "\n",
    "issues_dummy = pd.get_dummies(df['IssuesType'])\n",
    "df = pd.concat([df, issues_dummy], axis=1)"
   ]
  },
  {
   "cell_type": "code",
   "execution_count": 14,
   "metadata": {
    "id": "1BbW2bq5fLHp"
   },
   "outputs": [],
   "source": [
    "# Removing unnecessary columns\n",
    "\n",
    "df = df.drop(['Priority','PriorityLevel','Issue Type'],axis=1)          "
   ]
  },
  {
   "cell_type": "code",
   "execution_count": 15,
   "metadata": {
    "colab": {
     "base_uri": "https://localhost:8080/"
    },
    "id": "KlHN0-Dfjb7C",
    "outputId": "3e8338bf-f6c1-4db9-e6c7-479dccc3da0b"
   },
   "outputs": [
    {
     "name": "stdout",
     "output_type": "stream",
     "text": [
      "1    1945\n",
      "2    1831\n",
      "3    1659\n",
      "Name: Quater, dtype: int64\n"
     ]
    }
   ],
   "source": [
    "df['months']=pd.DatetimeIndex(df['Created']).month\n",
    "\n",
    "qtr_months = {1:1,2:1,3:1,4:1,5:2,6:2,7:2,8:2,9:3,10:3,11:3,12:3}\n",
    "\n",
    "df['Quater'] = df['months'].replace(qtr_months)\n",
    "print(df['Quater'].value_counts())"
   ]
  },
  {
   "cell_type": "code",
   "execution_count": 16,
   "metadata": {
    "colab": {
     "base_uri": "https://localhost:8080/"
    },
    "id": "4xdlha2xnCma",
    "outputId": "0a3dfb41-0ba5-49c4-c385-4d3c5bda5876"
   },
   "outputs": [
    {
     "name": "stdout",
     "output_type": "stream",
     "text": [
      "<class 'pandas.core.frame.DataFrame'>\n",
      "RangeIndex: 5435 entries, 0 to 5434\n",
      "Data columns (total 29 columns):\n",
      " #   Column                  Non-Null Count  Dtype  \n",
      "---  ------                  --------------  -----  \n",
      " 0   Summary                 5435 non-null   object \n",
      " 1   Issue id                5435 non-null   int64  \n",
      " 2   Issue key               5435 non-null   object \n",
      " 3   Description             5435 non-null   object \n",
      " 4   Assignee                5435 non-null   object \n",
      " 5   Reporter                5435 non-null   object \n",
      " 6   Created                 5435 non-null   object \n",
      " 7   Resolved                5435 non-null   object \n",
      " 8   Updated                 5435 non-null   object \n",
      " 9   Resolution              5435 non-null   object \n",
      " 10  Creator                 5435 non-null   object \n",
      " 11  estimated_days          5435 non-null   float64\n",
      " 12  P0: Blocker             5435 non-null   uint8  \n",
      " 13  P1: Critical            5435 non-null   uint8  \n",
      " 14  P2: Important           5435 non-null   uint8  \n",
      " 15  P3: Somewhat important  5435 non-null   uint8  \n",
      " 16  P4: Low                 5435 non-null   uint8  \n",
      " 17  P5: Not important       5435 non-null   uint8  \n",
      " 18  IssuesType              5435 non-null   object \n",
      " 19  Bug                     5435 non-null   uint8  \n",
      " 20  Epic                    5435 non-null   uint8  \n",
      " 21  Improvement             5435 non-null   uint8  \n",
      " 22  Suggestion              5435 non-null   uint8  \n",
      " 23  Task                    5435 non-null   uint8  \n",
      " 24  months                  5435 non-null   int64  \n",
      " 25  Quater                  5435 non-null   int64  \n",
      " 26  1                       5435 non-null   uint8  \n",
      " 27  2                       5435 non-null   uint8  \n",
      " 28  3                       5435 non-null   uint8  \n",
      "dtypes: float64(1), int64(3), object(11), uint8(14)\n",
      "memory usage: 711.3+ KB\n"
     ]
    }
   ],
   "source": [
    "# 1-Hot Encoding for the Priority Level\n",
    "\n",
    "qtr_dummy = pd.get_dummies(df['Quater'])\n",
    "df = pd.concat([df, qtr_dummy], axis=1)\n",
    "\n",
    "df.info()"
   ]
  },
  {
   "cell_type": "code",
   "execution_count": 17,
   "metadata": {
    "id": "IOLgLbY7ojz8"
   },
   "outputs": [],
   "source": [
    "# Renaming time to Quaterly\n",
    "df = df.rename(columns = {1:'Qtr1', 2:'Qtr2',3:'Qtr3'})\n"
   ]
  },
  {
   "cell_type": "code",
   "execution_count": 18,
   "metadata": {
    "colab": {
     "base_uri": "https://localhost:8080/"
    },
    "id": "js547_d6q0NL",
    "outputId": "98cb70b3-44d3-4c46-9dc8-298c0484f33a"
   },
   "outputs": [
    {
     "name": "stdout",
     "output_type": "stream",
     "text": [
      "Index(['estimated_days', 'P0: Blocker', 'P1: Critical', 'P2: Important',\n",
      "       'P3: Somewhat important', 'P4: Low', 'P5: Not important', 'Bug', 'Epic',\n",
      "       'Improvement', 'Suggestion', 'Task', 'Qtr1', 'Qtr2', 'Qtr3'],\n",
      "      dtype='object')\n"
     ]
    }
   ],
   "source": [
    "df = df.drop(['Summary','Issue id','Issue key','Description','Assignee','Reporter','Created','Resolved',\n",
    "                  'Updated','Resolution','Creator','Quater','months','IssuesType'],axis=1)\n",
    "\n",
    "print(df.columns)\n"
   ]
  },
  {
   "cell_type": "markdown",
   "metadata": {
    "id": "jN4eHGwheD2u"
   },
   "source": [
    "# Model : XG Boost Implementation\n"
   ]
  },
  {
   "cell_type": "code",
   "execution_count": 19,
   "metadata": {
    "id": "mjCkZTMOskea"
   },
   "outputs": [],
   "source": [
    "# Importing necessary Libraries for the model: XGBoost\n",
    "\n",
    "import xgboost as xgb\n",
    "from sklearn.metrics import mean_squared_error\n",
    "from sklearn.model_selection import train_test_split\n",
    "\n",
    "X = np.array(df.drop(['estimated_days'],axis=1).values)\n",
    "y = np.array(df['estimated_days'].values)\n"
   ]
  },
  {
   "cell_type": "code",
   "execution_count": 20,
   "metadata": {
    "colab": {
     "base_uri": "https://localhost:8080/"
    },
    "id": "_oSdiEvrvBCa",
    "outputId": "d6715045-2423-4406-8a10-a5185408fffc"
   },
   "outputs": [
    {
     "name": "stdout",
     "output_type": "stream",
     "text": [
      "RMSE: 28.135299\n"
     ]
    }
   ],
   "source": [
    "# Training and Testing the model\n",
    "\n",
    "from sklearn.model_selection import train_test_split\n",
    "\n",
    "X_train, X_test, y_train, y_test = train_test_split(X, y, test_size=0.2, random_state=123)\n",
    "\n",
    "#Instantiating an XGBoost regressor object\n",
    "xg_reg = xgb.XGBRegressor(objective ='reg:squarederror', colsample_bytree = 0.3, learning_rate = 0.1,\n",
    "                max_depth = 5, alpha = 10, n_estimators = 10)\n",
    "\n",
    "#Fitting the regressor to the training set \n",
    "xg_reg.fit(X_train,y_train)\n",
    "\n",
    "#Making predictions on the test set\n",
    "preds = xg_reg.predict(X_test)\n",
    "\n",
    "#Calculating MSE\n",
    "rmse = np.sqrt(mean_squared_error(y_test, preds))\n",
    "print(\"RMSE: %f\" % (rmse))"
   ]
  },
  {
   "cell_type": "markdown",
   "metadata": {
    "id": "sJPC11GifURF"
   },
   "source": [
    "**Reading and Transforming Jira data needed for Prediction**"
   ]
  },
  {
   "cell_type": "code",
   "execution_count": 24,
   "metadata": {
    "id": "EdrssG4O6ime"
   },
   "outputs": [],
   "source": [
    "# Reading prediction data\n",
    "data = pd.read_csv('/content/drive/MyDrive/Colab_Notebooks/jira_dataset.csv')\n",
    "\n",
    "# Filtering essential columns from the data\n",
    "data = data.filter(['Summary', 'Issue id','Issue key','Issue Type','Description','Assignee','Reporter','Created','Resolved','Updated','Resolution','Priority','Creator'])\n",
    "\n",
    "# Splitting data set\n",
    "querydata = data[data['Resolved'].notna()]\n",
    "data = data[data['Resolved'].isnull()]\n",
    "\n",
    "PriorityLevelColumn = {'Highest':'P0: Blocker',\n",
    "                             'High':'P1: Critical',\n",
    "                             'Medium':'P2: Important',\n",
    "                             'Low':'P3: Somewhat important',\n",
    "                             'Lowest':'P4: Low',\n",
    "                             'Not Evaluated':'P5: Not important',\n",
    "                             np.nan:'P4: Low'}\n",
    "\n",
    "data['PriorityLevel'] = data['Priority'].replace(PriorityLevelColumn)\n",
    "\n",
    "priority_dummy = pd.get_dummies(data['PriorityLevel'])\n",
    "data = pd.concat([data, priority_dummy], axis=1)\n",
    "\n",
    "issuetypes = {'User Story':'Epic',\n",
    "            'New Feature':'Epic',\n",
    "            'Technical task':'Improvement',\n",
    "            'Sub-task':'Improvement',\n",
    "            'Research':'Improvement' }\n",
    "\n",
    "data['IssuesType'] = data['Issue Type'].replace(issuetypes)\n",
    "\n",
    "issues_dummy = pd.get_dummies(data['IssuesType'])\n",
    "data = pd.concat([data, issues_dummy], axis=1)\n",
    "\n",
    "data['months']=pd.DatetimeIndex(data['Created']).month\n",
    "\n",
    "qtr_months = {1:1,2:1,3:1,4:1,5:2,6:2,7:2,8:2,9:3,10:3,11:3,12:3}\n",
    "\n",
    "data['Quater'] = data['months'].map(qtr_months)\n",
    "\n",
    "qtr_dummy = pd.get_dummies(data['Quater'])\n",
    "data = pd.concat([data, qtr_dummy], axis=1)\n",
    "\n",
    "data = data.rename(columns = {1:'Qtr1', 2:'Qtr2',3:'Qtr3'})\n",
    "\n",
    "# Filling null values in the Discription dataset with Summary data\n",
    "data[\"Description\"].fillna(data['Summary'], inplace = True)\n",
    "data.reset_index(inplace=True, drop=True)\n",
    "\n",
    "querydata.reset_index(inplace=True, drop=True)\n",
    "querydata[\"Description\"].fillna(querydata['Summary'], inplace = True)\n",
    "\n",
    "# Jira prediction_data for XGBoost \n",
    "prediction_data = data.drop(['Summary','Issue id','Issue key','Description','Assignee','Reporter','Created','Resolved','Priority','PriorityLevel','Issue Type',\n",
    "                  'Updated','Resolution','Creator','Quater','months','IssuesType'],axis=1)\n",
    "\n",
    "# Jira data used for training and testing for BERT\n",
    "querydata['estimated_days']=(pd.to_datetime(querydata['Resolved'])-pd.to_datetime(querydata['Created'])).dt.days\n"
   ]
  },
  {
   "cell_type": "markdown",
   "metadata": {
    "id": "9rYmg70Ogx-k"
   },
   "source": [
    "**Predicted estimated time results for incidents from XGBoost**"
   ]
  },
  {
   "cell_type": "code",
   "execution_count": 25,
   "metadata": {
    "colab": {
     "base_uri": "https://localhost:8080/"
    },
    "id": "9oEI0Nf-6k_G",
    "outputId": "6c40b6f9-f4d6-408b-ce9e-4c8da037d1de"
   },
   "outputs": [
    {
     "name": "stdout",
     "output_type": "stream",
     "text": [
      "Input data size 24\n",
      "[5.88544   5.88544   5.88544   5.88544   5.88544   5.88544   5.88544\n",
      " 5.88544   5.6285505 5.88544   5.88544   5.88544   5.88544   5.6285505\n",
      " 5.6285505 5.6285505 5.9560614 5.6285505 7.295043  7.295043  6.9681\n",
      " 7.295043  7.295043  7.295043 ]\n"
     ]
    }
   ],
   "source": [
    "# Providing inicidents to xgboost model for predicting estimated time\n",
    "\n",
    "predictiondf=df.iloc[0]\n",
    "predictiondf=predictiondf.drop(predictiondf.index[0])\n",
    "predictiondf=predictiondf.add(prediction_data)\n",
    "predictiondf = np.array(predictiondf.fillna(0))\n",
    "\n",
    "print(\"Input data size\",len(predictiondf))\n",
    "\n",
    "predicted_result_xgboost=0.3*xg_reg.predict(predictiondf)\n",
    "print(predicted_result_xgboost)\n"
   ]
  },
  {
   "cell_type": "markdown",
   "metadata": {
    "id": "-TWsre8mgJdu"
   },
   "source": [
    "# BERT - Model Selection and Initialization\n",
    "\n",
    "1. Model Name : stsb-roberta-base-v2, STSb Performance: 87.21,  Size: ~460MB"
   ]
  },
  {
   "cell_type": "code",
   "execution_count": 26,
   "metadata": {
    "colab": {
     "base_uri": "https://localhost:8080/",
     "height": 66,
     "referenced_widgets": [
      "f5ff05507d75481e9bdbdb1509fee56d",
      "6d0a0b86c64547c98d70b8953585dbcd",
      "934f3d8d3d3a46269c1ca5e959684541",
      "7acbb1ae83f945c294c1a6b3756372ec",
      "85cf8e40a25c4d3ebab5f840258c6828",
      "0fa46581c6d84b79aceac3eb8baf52de",
      "39b08eed18f14efd9a94c3dcf832a7ed",
      "b386da15ee8149a4b0a49968de6191cf"
     ]
    },
    "id": "9navHmXWpIpZ",
    "outputId": "e9e6dde4-3fa6-4b46-c40b-5d0cd4b0f822"
   },
   "outputs": [
    {
     "data": {
      "application/vnd.jupyter.widget-view+json": {
       "model_id": "f5ff05507d75481e9bdbdb1509fee56d",
       "version_major": 2,
       "version_minor": 0
      },
      "text/plain": [
       "HBox(children=(FloatProgress(value=0.0, max=459724146.0), HTML(value='')))"
      ]
     },
     "metadata": {
      "tags": []
     },
     "output_type": "display_data"
    },
    {
     "name": "stdout",
     "output_type": "stream",
     "text": [
      "\n"
     ]
    }
   ],
   "source": [
    "model = SentenceTransformer('stsb-roberta-base-v2')"
   ]
  },
  {
   "cell_type": "code",
   "execution_count": 27,
   "metadata": {
    "colab": {
     "base_uri": "https://localhost:8080/",
     "height": 114,
     "referenced_widgets": [
      "f6a17d185bce4d598be962ed078226b9",
      "b2859297efca41f0b72edfe2c90f0fe0",
      "3f15d200580e487c83f4e4a3455309fd",
      "bb5b13fc791048f6b5afafdd9dd563ce",
      "a6f668362dec4848bf14a9b97bc93bb7",
      "60bcd22a2ca047b291d6fb686cd27a81",
      "2ba4bacd2c0f41189620c1485266be22",
      "fe3da25ac5f64fb6bb96f6eb247c4cc8",
      "46f8e53f559c4593bf307801d6720f2a",
      "ee75585905cb4fcaa14de07735973168",
      "803b2bf27e3e4bdc85c6f7b53ce881a9",
      "28efb6449ae4458db94972d3e2454a09",
      "ae2ad3a7228c468485752d401da30be5",
      "f568611162a94a76a82e1f38baff67ee",
      "8448a1d77cee40cb9b833512730a3ab2",
      "7102bb7c1dc5493296859fbd714c61c5"
     ]
    },
    "id": "SYgDmhsDpKkq",
    "outputId": "cf16cbf8-e304-4a5b-9f09-3be3b24f96b5"
   },
   "outputs": [
    {
     "data": {
      "application/vnd.jupyter.widget-view+json": {
       "model_id": "f6a17d185bce4d598be962ed078226b9",
       "version_major": 2,
       "version_minor": 0
      },
      "text/plain": [
       "HBox(children=(FloatProgress(value=0.0, description='Batches', max=1.0, style=ProgressStyle(description_width=…"
      ]
     },
     "metadata": {
      "tags": []
     },
     "output_type": "display_data"
    },
    {
     "name": "stdout",
     "output_type": "stream",
     "text": [
      "\n"
     ]
    },
    {
     "data": {
      "application/vnd.jupyter.widget-view+json": {
       "model_id": "46f8e53f559c4593bf307801d6720f2a",
       "version_major": 2,
       "version_minor": 0
      },
      "text/plain": [
       "HBox(children=(FloatProgress(value=0.0, description='Batches', max=1.0, style=ProgressStyle(description_width=…"
      ]
     },
     "metadata": {
      "tags": []
     },
     "output_type": "display_data"
    },
    {
     "name": "stdout",
     "output_type": "stream",
     "text": [
      "\n"
     ]
    }
   ],
   "source": [
    "#Converting the incidents description text to contextual embeddings\n",
    "query_embedding = model.encode(data['Description'], batch_size = len(data['Description']), show_progress_bar = True)\n",
    "text_embeddings = model.encode(querydata['Description'], batch_size = len(querydata['Description']), show_progress_bar = True)"
   ]
  },
  {
   "cell_type": "code",
   "execution_count": 28,
   "metadata": {
    "colab": {
     "base_uri": "https://localhost:8080/",
     "height": 114,
     "referenced_widgets": [
      "dad7248120084f2c947fb20a022cce24",
      "b541ee59e2c34bd18495918055dba841",
      "eaad8dbb74c5486ea0a2f99cd09fede9",
      "c38850ae27204c869e3308d8b0432d4c",
      "a169ccbdfdd443be9ccef5f5bfc9e603",
      "efd0bf8a581c4d91bfaa4eeff285192e",
      "c371b614a5514772a5ab12301f5bb53b",
      "4ef1fb74fb3d49a682f7d5074e7f5c28",
      "675c6bcf0a8e4a5abcba00270aa43c3e",
      "d2ce3abb85404e7daef962c97b1f80b1",
      "105bbb07b70442a083966194afba5ec4",
      "2e19bcba0ed440419236c97b474c4921",
      "62620d4c193641adb6b655075bc8455a",
      "6250dc6d7e8546c480157893b103fd94",
      "3db9671209854697a7f0431b37d1bb07",
      "70e1e80471ed41f5bf60e7deba0f370b"
     ]
    },
    "id": "ysGdqyIQseki",
    "outputId": "4fa97054-2589-4279-a6e4-36d65559f8f7"
   },
   "outputs": [
    {
     "data": {
      "application/vnd.jupyter.widget-view+json": {
       "model_id": "dad7248120084f2c947fb20a022cce24",
       "version_major": 2,
       "version_minor": 0
      },
      "text/plain": [
       "HBox(children=(FloatProgress(value=0.0, description='Batches', max=1.0, style=ProgressStyle(description_width=…"
      ]
     },
     "metadata": {
      "tags": []
     },
     "output_type": "display_data"
    },
    {
     "name": "stdout",
     "output_type": "stream",
     "text": [
      "\n"
     ]
    },
    {
     "data": {
      "application/vnd.jupyter.widget-view+json": {
       "model_id": "675c6bcf0a8e4a5abcba00270aa43c3e",
       "version_major": 2,
       "version_minor": 0
      },
      "text/plain": [
       "HBox(children=(FloatProgress(value=0.0, description='Batches', max=1.0, style=ProgressStyle(description_width=…"
      ]
     },
     "metadata": {
      "tags": []
     },
     "output_type": "display_data"
    },
    {
     "name": "stdout",
     "output_type": "stream",
     "text": [
      "\n"
     ]
    }
   ],
   "source": [
    "#Converting the incidents summary text to contextual embeddings\n",
    "summary_query_embedding = model.encode(data['Summary'], batch_size = len(data['Summary']), show_progress_bar = True)\n",
    "summary_text_embeddings = model.encode(querydata['Summary'], batch_size = len(querydata['Summary']), show_progress_bar = True)"
   ]
  },
  {
   "cell_type": "code",
   "execution_count": 29,
   "metadata": {
    "colab": {
     "base_uri": "https://localhost:8080/"
    },
    "id": "Vdf0qWxMpZ24",
    "outputId": "9846ae0d-bc84-49e0-c7e1-38071404c8ed"
   },
   "outputs": [
    {
     "name": "stdout",
     "output_type": "stream",
     "text": [
      "Embedding Size: 56832\n",
      "Total no of documents 74\n"
     ]
    }
   ],
   "source": [
    "#Embedding size of each document\n",
    "print(\"Embedding Size:\", text_embeddings.size)\n",
    "\n",
    "#Total number of documents present\n",
    "print(\"Total no of documents\", len(text_embeddings))"
   ]
  },
  {
   "cell_type": "markdown",
   "metadata": {
    "id": "-9Xy4Cabgtj0"
   },
   "source": [
    "# Evaluating estimated time of similar resolved incidents"
   ]
  },
  {
   "cell_type": "code",
   "execution_count": 30,
   "metadata": {
    "colab": {
     "base_uri": "https://localhost:8080/"
    },
    "id": "HYewQa3YpcbG",
    "outputId": "d958aaeb-6f1d-49fb-ecb4-bed53f617f04"
   },
   "outputs": [
    {
     "name": "stdout",
     "output_type": "stream",
     "text": [
      "Query Sentence: Create Confluence page with model description & your research + ideas\n"
     ]
    }
   ],
   "source": [
    "print(\"Query Sentence:\", data['Description'][10])\n",
    "# Compute similarity scores of the sentence with the corpus\n",
    "desc_cos_scores=[]\n",
    "desc_cos_scores = util.pytorch_cos_sim(query_embedding[10], text_embeddings)[0]\n"
   ]
  },
  {
   "cell_type": "code",
   "execution_count": 39,
   "metadata": {
    "colab": {
     "base_uri": "https://localhost:8080/"
    },
    "id": "twpkEzBA-A1U",
    "outputId": "d4727803-bf09-437b-f936-204b3162e7d2"
   },
   "outputs": [
    {
     "name": "stdout",
     "output_type": "stream",
     "text": [
      "[{'issue_key': 'PITL1-88', 'username': 'saurypande', 'summary': 'Create Confluence page with model description & your research + ideas', 'estimatedays': '5.2'}]\n"
     ]
    }
   ],
   "source": [
    "# Compute similarity scores of the incidents with respect to summary \n",
    "cos_scores_summary = util.pytorch_cos_sim(summary_query_embedding[10], summary_text_embeddings)[0]\n",
    "\n",
    "# Merge both the description scores and summary scores\n",
    "total_scores=(0.7)*desc_cos_scores+(0.3)*cos_scores_summary\n",
    "\n",
    "result=[]\n",
    "top_k=3\n",
    "days=0\n",
    "scores=0\n",
    "\n",
    "# Sort the results in decreasing order and get the first top_k result\n",
    "top_results = np.argpartition(-total_scores, range(top_k))[0:top_k+1]\n",
    "\n",
    "for idx in top_results[1:top_k+1]:\n",
    "    #print(int(idx), data[idx], \"(Score: %.4f)\" % (total_scores[idx]), data['Assignee'][int(idx)])\n",
    "    #print()\n",
    "    days=querydata['estimated_days'][int(idx)]*total_scores[idx]+days\n",
    "    scores=scores+total_scores[idx]\n",
    "\n",
    "# Merging results from both the models\n",
    "time = float((0.7)*(days/scores)+(0.3)*predicted_result_xgboost[10])\n",
    "\n",
    "result.append({\n",
    "    \"issue_key\":str(data['Issue key'][10]),\n",
    "    \"username\":str(data['Assignee'][10]),\n",
    "    \"summary\":str(data['Summary'][10]),\n",
    "    \"estimatedays\":\"%.1f\"%float(time)\n",
    "    })\n",
    "\n",
    "print(result)"
   ]
  },
  {
   "cell_type": "markdown",
   "metadata": {
    "id": "WPhlvE_X-tO8"
   },
   "source": [
    "# Export aggregated result as JSON"
   ]
  },
  {
   "cell_type": "code",
   "execution_count": 38,
   "metadata": {
    "id": "qIgxjoFm7cX3"
   },
   "outputs": [],
   "source": [
    "import json\n",
    "\n",
    "aggregate_result=[]\n",
    "for i in range(len(data)):\n",
    "  top_k=3\n",
    "  desc_cos_scores = util.pytorch_cos_sim(query_embedding[i], text_embeddings)[0]\n",
    "# Compute similarity scores of the incidents with respect to summary \n",
    "  cos_scores_summary = util.pytorch_cos_sim(summary_query_embedding[i], summary_text_embeddings)[0]\n",
    "\n",
    "#Merge both the description scores and summary scores\n",
    "  total_scores=(0.7)*desc_cos_scores+(0.3)*cos_scores_summary\n",
    "\n",
    "# Sort the results in decreasing order and get the first top_k result\n",
    "  top_results = np.argpartition(-total_scores, range(top_k))[0:top_k+1]\n",
    "  days=0\n",
    "  scores=0\n",
    "  for idx in top_results[1:top_k+1]:\n",
    "    #print(int(idx), data[idx], \"(Score: %.4f)\" % (total_scores[idx]), data['Assignee'][int(idx)])\n",
    "    #print()\n",
    "    days=querydata['estimated_days'][int(idx)]*total_scores[idx]+days\n",
    "    scores=scores+total_scores[idx]\n",
    "  time = float((0.7)*(days/scores)+(0.3)*predicted_result_xgboost[i])\n",
    "\n",
    "  aggregate_result.append({\n",
    "    \"issue_key\":str(data['Issue key'][int(i)]),\n",
    "    \"username\":str(data['Assignee'][int(i)]),\n",
    "    \"summary\":str(data['Summary'][int(i)]),\n",
    "    \"estimatedays\":\"%.1f\"%float(time)\n",
    "    })\n",
    "\n",
    "response=json.dumps(aggregate_result)\n",
    "with open(\"response.json\", \"w\") as outfile:\n",
    "    outfile.write(response)"
   ]
  }
 ],
 "metadata": {
  "accelerator": "TPU",
  "colab": {
   "collapsed_sections": [],
   "name": "TimeEstimation.ipynb",
   "provenance": []
  },
  "kernelspec": {
   "display_name": "Python 3",
   "language": "python",
   "name": "python3"
  },
  "language_info": {
   "codemirror_mode": {
    "name": "ipython",
    "version": 3
   },
   "file_extension": ".py",
   "mimetype": "text/x-python",
   "name": "python",
   "nbconvert_exporter": "python",
   "pygments_lexer": "ipython3",
   "version": "3.7.6"
  },
  "widgets": {
   "application/vnd.jupyter.widget-state+json": {
    "0fa46581c6d84b79aceac3eb8baf52de": {
     "model_module": "@jupyter-widgets/base",
     "model_name": "LayoutModel",
     "state": {
      "_model_module": "@jupyter-widgets/base",
      "_model_module_version": "1.2.0",
      "_model_name": "LayoutModel",
      "_view_count": null,
      "_view_module": "@jupyter-widgets/base",
      "_view_module_version": "1.2.0",
      "_view_name": "LayoutView",
      "align_content": null,
      "align_items": null,
      "align_self": null,
      "border": null,
      "bottom": null,
      "display": null,
      "flex": null,
      "flex_flow": null,
      "grid_area": null,
      "grid_auto_columns": null,
      "grid_auto_flow": null,
      "grid_auto_rows": null,
      "grid_column": null,
      "grid_gap": null,
      "grid_row": null,
      "grid_template_areas": null,
      "grid_template_columns": null,
      "grid_template_rows": null,
      "height": null,
      "justify_content": null,
      "justify_items": null,
      "left": null,
      "margin": null,
      "max_height": null,
      "max_width": null,
      "min_height": null,
      "min_width": null,
      "object_fit": null,
      "object_position": null,
      "order": null,
      "overflow": null,
      "overflow_x": null,
      "overflow_y": null,
      "padding": null,
      "right": null,
      "top": null,
      "visibility": null,
      "width": null
     }
    },
    "105bbb07b70442a083966194afba5ec4": {
     "model_module": "@jupyter-widgets/controls",
     "model_name": "FloatProgressModel",
     "state": {
      "_dom_classes": [],
      "_model_module": "@jupyter-widgets/controls",
      "_model_module_version": "1.5.0",
      "_model_name": "FloatProgressModel",
      "_view_count": null,
      "_view_module": "@jupyter-widgets/controls",
      "_view_module_version": "1.5.0",
      "_view_name": "ProgressView",
      "bar_style": "success",
      "description": "Batches: 100%",
      "description_tooltip": null,
      "layout": "IPY_MODEL_6250dc6d7e8546c480157893b103fd94",
      "max": 1,
      "min": 0,
      "orientation": "horizontal",
      "style": "IPY_MODEL_62620d4c193641adb6b655075bc8455a",
      "value": 1
     }
    },
    "28efb6449ae4458db94972d3e2454a09": {
     "model_module": "@jupyter-widgets/controls",
     "model_name": "HTMLModel",
     "state": {
      "_dom_classes": [],
      "_model_module": "@jupyter-widgets/controls",
      "_model_module_version": "1.5.0",
      "_model_name": "HTMLModel",
      "_view_count": null,
      "_view_module": "@jupyter-widgets/controls",
      "_view_module_version": "1.5.0",
      "_view_name": "HTMLView",
      "description": "",
      "description_tooltip": null,
      "layout": "IPY_MODEL_7102bb7c1dc5493296859fbd714c61c5",
      "placeholder": "​",
      "style": "IPY_MODEL_8448a1d77cee40cb9b833512730a3ab2",
      "value": " 1/1 [02:08&lt;00:00, 128.36s/it]"
     }
    },
    "2ba4bacd2c0f41189620c1485266be22": {
     "model_module": "@jupyter-widgets/controls",
     "model_name": "DescriptionStyleModel",
     "state": {
      "_model_module": "@jupyter-widgets/controls",
      "_model_module_version": "1.5.0",
      "_model_name": "DescriptionStyleModel",
      "_view_count": null,
      "_view_module": "@jupyter-widgets/base",
      "_view_module_version": "1.2.0",
      "_view_name": "StyleView",
      "description_width": ""
     }
    },
    "2e19bcba0ed440419236c97b474c4921": {
     "model_module": "@jupyter-widgets/controls",
     "model_name": "HTMLModel",
     "state": {
      "_dom_classes": [],
      "_model_module": "@jupyter-widgets/controls",
      "_model_module_version": "1.5.0",
      "_model_name": "HTMLModel",
      "_view_count": null,
      "_view_module": "@jupyter-widgets/controls",
      "_view_module_version": "1.5.0",
      "_view_name": "HTMLView",
      "description": "",
      "description_tooltip": null,
      "layout": "IPY_MODEL_70e1e80471ed41f5bf60e7deba0f370b",
      "placeholder": "​",
      "style": "IPY_MODEL_3db9671209854697a7f0431b37d1bb07",
      "value": " 1/1 [00:20&lt;00:00, 20.49s/it]"
     }
    },
    "39b08eed18f14efd9a94c3dcf832a7ed": {
     "model_module": "@jupyter-widgets/controls",
     "model_name": "DescriptionStyleModel",
     "state": {
      "_model_module": "@jupyter-widgets/controls",
      "_model_module_version": "1.5.0",
      "_model_name": "DescriptionStyleModel",
      "_view_count": null,
      "_view_module": "@jupyter-widgets/base",
      "_view_module_version": "1.2.0",
      "_view_name": "StyleView",
      "description_width": ""
     }
    },
    "3db9671209854697a7f0431b37d1bb07": {
     "model_module": "@jupyter-widgets/controls",
     "model_name": "DescriptionStyleModel",
     "state": {
      "_model_module": "@jupyter-widgets/controls",
      "_model_module_version": "1.5.0",
      "_model_name": "DescriptionStyleModel",
      "_view_count": null,
      "_view_module": "@jupyter-widgets/base",
      "_view_module_version": "1.2.0",
      "_view_name": "StyleView",
      "description_width": ""
     }
    },
    "3f15d200580e487c83f4e4a3455309fd": {
     "model_module": "@jupyter-widgets/controls",
     "model_name": "FloatProgressModel",
     "state": {
      "_dom_classes": [],
      "_model_module": "@jupyter-widgets/controls",
      "_model_module_version": "1.5.0",
      "_model_name": "FloatProgressModel",
      "_view_count": null,
      "_view_module": "@jupyter-widgets/controls",
      "_view_module_version": "1.5.0",
      "_view_name": "ProgressView",
      "bar_style": "success",
      "description": "Batches: 100%",
      "description_tooltip": null,
      "layout": "IPY_MODEL_60bcd22a2ca047b291d6fb686cd27a81",
      "max": 1,
      "min": 0,
      "orientation": "horizontal",
      "style": "IPY_MODEL_a6f668362dec4848bf14a9b97bc93bb7",
      "value": 1
     }
    },
    "46f8e53f559c4593bf307801d6720f2a": {
     "model_module": "@jupyter-widgets/controls",
     "model_name": "HBoxModel",
     "state": {
      "_dom_classes": [],
      "_model_module": "@jupyter-widgets/controls",
      "_model_module_version": "1.5.0",
      "_model_name": "HBoxModel",
      "_view_count": null,
      "_view_module": "@jupyter-widgets/controls",
      "_view_module_version": "1.5.0",
      "_view_name": "HBoxView",
      "box_style": "",
      "children": [
       "IPY_MODEL_803b2bf27e3e4bdc85c6f7b53ce881a9",
       "IPY_MODEL_28efb6449ae4458db94972d3e2454a09"
      ],
      "layout": "IPY_MODEL_ee75585905cb4fcaa14de07735973168"
     }
    },
    "4ef1fb74fb3d49a682f7d5074e7f5c28": {
     "model_module": "@jupyter-widgets/base",
     "model_name": "LayoutModel",
     "state": {
      "_model_module": "@jupyter-widgets/base",
      "_model_module_version": "1.2.0",
      "_model_name": "LayoutModel",
      "_view_count": null,
      "_view_module": "@jupyter-widgets/base",
      "_view_module_version": "1.2.0",
      "_view_name": "LayoutView",
      "align_content": null,
      "align_items": null,
      "align_self": null,
      "border": null,
      "bottom": null,
      "display": null,
      "flex": null,
      "flex_flow": null,
      "grid_area": null,
      "grid_auto_columns": null,
      "grid_auto_flow": null,
      "grid_auto_rows": null,
      "grid_column": null,
      "grid_gap": null,
      "grid_row": null,
      "grid_template_areas": null,
      "grid_template_columns": null,
      "grid_template_rows": null,
      "height": null,
      "justify_content": null,
      "justify_items": null,
      "left": null,
      "margin": null,
      "max_height": null,
      "max_width": null,
      "min_height": null,
      "min_width": null,
      "object_fit": null,
      "object_position": null,
      "order": null,
      "overflow": null,
      "overflow_x": null,
      "overflow_y": null,
      "padding": null,
      "right": null,
      "top": null,
      "visibility": null,
      "width": null
     }
    },
    "60bcd22a2ca047b291d6fb686cd27a81": {
     "model_module": "@jupyter-widgets/base",
     "model_name": "LayoutModel",
     "state": {
      "_model_module": "@jupyter-widgets/base",
      "_model_module_version": "1.2.0",
      "_model_name": "LayoutModel",
      "_view_count": null,
      "_view_module": "@jupyter-widgets/base",
      "_view_module_version": "1.2.0",
      "_view_name": "LayoutView",
      "align_content": null,
      "align_items": null,
      "align_self": null,
      "border": null,
      "bottom": null,
      "display": null,
      "flex": null,
      "flex_flow": null,
      "grid_area": null,
      "grid_auto_columns": null,
      "grid_auto_flow": null,
      "grid_auto_rows": null,
      "grid_column": null,
      "grid_gap": null,
      "grid_row": null,
      "grid_template_areas": null,
      "grid_template_columns": null,
      "grid_template_rows": null,
      "height": null,
      "justify_content": null,
      "justify_items": null,
      "left": null,
      "margin": null,
      "max_height": null,
      "max_width": null,
      "min_height": null,
      "min_width": null,
      "object_fit": null,
      "object_position": null,
      "order": null,
      "overflow": null,
      "overflow_x": null,
      "overflow_y": null,
      "padding": null,
      "right": null,
      "top": null,
      "visibility": null,
      "width": null
     }
    },
    "6250dc6d7e8546c480157893b103fd94": {
     "model_module": "@jupyter-widgets/base",
     "model_name": "LayoutModel",
     "state": {
      "_model_module": "@jupyter-widgets/base",
      "_model_module_version": "1.2.0",
      "_model_name": "LayoutModel",
      "_view_count": null,
      "_view_module": "@jupyter-widgets/base",
      "_view_module_version": "1.2.0",
      "_view_name": "LayoutView",
      "align_content": null,
      "align_items": null,
      "align_self": null,
      "border": null,
      "bottom": null,
      "display": null,
      "flex": null,
      "flex_flow": null,
      "grid_area": null,
      "grid_auto_columns": null,
      "grid_auto_flow": null,
      "grid_auto_rows": null,
      "grid_column": null,
      "grid_gap": null,
      "grid_row": null,
      "grid_template_areas": null,
      "grid_template_columns": null,
      "grid_template_rows": null,
      "height": null,
      "justify_content": null,
      "justify_items": null,
      "left": null,
      "margin": null,
      "max_height": null,
      "max_width": null,
      "min_height": null,
      "min_width": null,
      "object_fit": null,
      "object_position": null,
      "order": null,
      "overflow": null,
      "overflow_x": null,
      "overflow_y": null,
      "padding": null,
      "right": null,
      "top": null,
      "visibility": null,
      "width": null
     }
    },
    "62620d4c193641adb6b655075bc8455a": {
     "model_module": "@jupyter-widgets/controls",
     "model_name": "ProgressStyleModel",
     "state": {
      "_model_module": "@jupyter-widgets/controls",
      "_model_module_version": "1.5.0",
      "_model_name": "ProgressStyleModel",
      "_view_count": null,
      "_view_module": "@jupyter-widgets/base",
      "_view_module_version": "1.2.0",
      "_view_name": "StyleView",
      "bar_color": null,
      "description_width": "initial"
     }
    },
    "675c6bcf0a8e4a5abcba00270aa43c3e": {
     "model_module": "@jupyter-widgets/controls",
     "model_name": "HBoxModel",
     "state": {
      "_dom_classes": [],
      "_model_module": "@jupyter-widgets/controls",
      "_model_module_version": "1.5.0",
      "_model_name": "HBoxModel",
      "_view_count": null,
      "_view_module": "@jupyter-widgets/controls",
      "_view_module_version": "1.5.0",
      "_view_name": "HBoxView",
      "box_style": "",
      "children": [
       "IPY_MODEL_105bbb07b70442a083966194afba5ec4",
       "IPY_MODEL_2e19bcba0ed440419236c97b474c4921"
      ],
      "layout": "IPY_MODEL_d2ce3abb85404e7daef962c97b1f80b1"
     }
    },
    "6d0a0b86c64547c98d70b8953585dbcd": {
     "model_module": "@jupyter-widgets/base",
     "model_name": "LayoutModel",
     "state": {
      "_model_module": "@jupyter-widgets/base",
      "_model_module_version": "1.2.0",
      "_model_name": "LayoutModel",
      "_view_count": null,
      "_view_module": "@jupyter-widgets/base",
      "_view_module_version": "1.2.0",
      "_view_name": "LayoutView",
      "align_content": null,
      "align_items": null,
      "align_self": null,
      "border": null,
      "bottom": null,
      "display": null,
      "flex": null,
      "flex_flow": null,
      "grid_area": null,
      "grid_auto_columns": null,
      "grid_auto_flow": null,
      "grid_auto_rows": null,
      "grid_column": null,
      "grid_gap": null,
      "grid_row": null,
      "grid_template_areas": null,
      "grid_template_columns": null,
      "grid_template_rows": null,
      "height": null,
      "justify_content": null,
      "justify_items": null,
      "left": null,
      "margin": null,
      "max_height": null,
      "max_width": null,
      "min_height": null,
      "min_width": null,
      "object_fit": null,
      "object_position": null,
      "order": null,
      "overflow": null,
      "overflow_x": null,
      "overflow_y": null,
      "padding": null,
      "right": null,
      "top": null,
      "visibility": null,
      "width": null
     }
    },
    "70e1e80471ed41f5bf60e7deba0f370b": {
     "model_module": "@jupyter-widgets/base",
     "model_name": "LayoutModel",
     "state": {
      "_model_module": "@jupyter-widgets/base",
      "_model_module_version": "1.2.0",
      "_model_name": "LayoutModel",
      "_view_count": null,
      "_view_module": "@jupyter-widgets/base",
      "_view_module_version": "1.2.0",
      "_view_name": "LayoutView",
      "align_content": null,
      "align_items": null,
      "align_self": null,
      "border": null,
      "bottom": null,
      "display": null,
      "flex": null,
      "flex_flow": null,
      "grid_area": null,
      "grid_auto_columns": null,
      "grid_auto_flow": null,
      "grid_auto_rows": null,
      "grid_column": null,
      "grid_gap": null,
      "grid_row": null,
      "grid_template_areas": null,
      "grid_template_columns": null,
      "grid_template_rows": null,
      "height": null,
      "justify_content": null,
      "justify_items": null,
      "left": null,
      "margin": null,
      "max_height": null,
      "max_width": null,
      "min_height": null,
      "min_width": null,
      "object_fit": null,
      "object_position": null,
      "order": null,
      "overflow": null,
      "overflow_x": null,
      "overflow_y": null,
      "padding": null,
      "right": null,
      "top": null,
      "visibility": null,
      "width": null
     }
    },
    "7102bb7c1dc5493296859fbd714c61c5": {
     "model_module": "@jupyter-widgets/base",
     "model_name": "LayoutModel",
     "state": {
      "_model_module": "@jupyter-widgets/base",
      "_model_module_version": "1.2.0",
      "_model_name": "LayoutModel",
      "_view_count": null,
      "_view_module": "@jupyter-widgets/base",
      "_view_module_version": "1.2.0",
      "_view_name": "LayoutView",
      "align_content": null,
      "align_items": null,
      "align_self": null,
      "border": null,
      "bottom": null,
      "display": null,
      "flex": null,
      "flex_flow": null,
      "grid_area": null,
      "grid_auto_columns": null,
      "grid_auto_flow": null,
      "grid_auto_rows": null,
      "grid_column": null,
      "grid_gap": null,
      "grid_row": null,
      "grid_template_areas": null,
      "grid_template_columns": null,
      "grid_template_rows": null,
      "height": null,
      "justify_content": null,
      "justify_items": null,
      "left": null,
      "margin": null,
      "max_height": null,
      "max_width": null,
      "min_height": null,
      "min_width": null,
      "object_fit": null,
      "object_position": null,
      "order": null,
      "overflow": null,
      "overflow_x": null,
      "overflow_y": null,
      "padding": null,
      "right": null,
      "top": null,
      "visibility": null,
      "width": null
     }
    },
    "7acbb1ae83f945c294c1a6b3756372ec": {
     "model_module": "@jupyter-widgets/controls",
     "model_name": "HTMLModel",
     "state": {
      "_dom_classes": [],
      "_model_module": "@jupyter-widgets/controls",
      "_model_module_version": "1.5.0",
      "_model_name": "HTMLModel",
      "_view_count": null,
      "_view_module": "@jupyter-widgets/controls",
      "_view_module_version": "1.5.0",
      "_view_name": "HTMLView",
      "description": "",
      "description_tooltip": null,
      "layout": "IPY_MODEL_b386da15ee8149a4b0a49968de6191cf",
      "placeholder": "​",
      "style": "IPY_MODEL_39b08eed18f14efd9a94c3dcf832a7ed",
      "value": " 460M/460M [00:29&lt;00:00, 15.8MB/s]"
     }
    },
    "803b2bf27e3e4bdc85c6f7b53ce881a9": {
     "model_module": "@jupyter-widgets/controls",
     "model_name": "FloatProgressModel",
     "state": {
      "_dom_classes": [],
      "_model_module": "@jupyter-widgets/controls",
      "_model_module_version": "1.5.0",
      "_model_name": "FloatProgressModel",
      "_view_count": null,
      "_view_module": "@jupyter-widgets/controls",
      "_view_module_version": "1.5.0",
      "_view_name": "ProgressView",
      "bar_style": "success",
      "description": "Batches: 100%",
      "description_tooltip": null,
      "layout": "IPY_MODEL_f568611162a94a76a82e1f38baff67ee",
      "max": 1,
      "min": 0,
      "orientation": "horizontal",
      "style": "IPY_MODEL_ae2ad3a7228c468485752d401da30be5",
      "value": 1
     }
    },
    "8448a1d77cee40cb9b833512730a3ab2": {
     "model_module": "@jupyter-widgets/controls",
     "model_name": "DescriptionStyleModel",
     "state": {
      "_model_module": "@jupyter-widgets/controls",
      "_model_module_version": "1.5.0",
      "_model_name": "DescriptionStyleModel",
      "_view_count": null,
      "_view_module": "@jupyter-widgets/base",
      "_view_module_version": "1.2.0",
      "_view_name": "StyleView",
      "description_width": ""
     }
    },
    "85cf8e40a25c4d3ebab5f840258c6828": {
     "model_module": "@jupyter-widgets/controls",
     "model_name": "ProgressStyleModel",
     "state": {
      "_model_module": "@jupyter-widgets/controls",
      "_model_module_version": "1.5.0",
      "_model_name": "ProgressStyleModel",
      "_view_count": null,
      "_view_module": "@jupyter-widgets/base",
      "_view_module_version": "1.2.0",
      "_view_name": "StyleView",
      "bar_color": null,
      "description_width": "initial"
     }
    },
    "934f3d8d3d3a46269c1ca5e959684541": {
     "model_module": "@jupyter-widgets/controls",
     "model_name": "FloatProgressModel",
     "state": {
      "_dom_classes": [],
      "_model_module": "@jupyter-widgets/controls",
      "_model_module_version": "1.5.0",
      "_model_name": "FloatProgressModel",
      "_view_count": null,
      "_view_module": "@jupyter-widgets/controls",
      "_view_module_version": "1.5.0",
      "_view_name": "ProgressView",
      "bar_style": "success",
      "description": "100%",
      "description_tooltip": null,
      "layout": "IPY_MODEL_0fa46581c6d84b79aceac3eb8baf52de",
      "max": 459724146,
      "min": 0,
      "orientation": "horizontal",
      "style": "IPY_MODEL_85cf8e40a25c4d3ebab5f840258c6828",
      "value": 459724146
     }
    },
    "a169ccbdfdd443be9ccef5f5bfc9e603": {
     "model_module": "@jupyter-widgets/controls",
     "model_name": "ProgressStyleModel",
     "state": {
      "_model_module": "@jupyter-widgets/controls",
      "_model_module_version": "1.5.0",
      "_model_name": "ProgressStyleModel",
      "_view_count": null,
      "_view_module": "@jupyter-widgets/base",
      "_view_module_version": "1.2.0",
      "_view_name": "StyleView",
      "bar_color": null,
      "description_width": "initial"
     }
    },
    "a6f668362dec4848bf14a9b97bc93bb7": {
     "model_module": "@jupyter-widgets/controls",
     "model_name": "ProgressStyleModel",
     "state": {
      "_model_module": "@jupyter-widgets/controls",
      "_model_module_version": "1.5.0",
      "_model_name": "ProgressStyleModel",
      "_view_count": null,
      "_view_module": "@jupyter-widgets/base",
      "_view_module_version": "1.2.0",
      "_view_name": "StyleView",
      "bar_color": null,
      "description_width": "initial"
     }
    },
    "ae2ad3a7228c468485752d401da30be5": {
     "model_module": "@jupyter-widgets/controls",
     "model_name": "ProgressStyleModel",
     "state": {
      "_model_module": "@jupyter-widgets/controls",
      "_model_module_version": "1.5.0",
      "_model_name": "ProgressStyleModel",
      "_view_count": null,
      "_view_module": "@jupyter-widgets/base",
      "_view_module_version": "1.2.0",
      "_view_name": "StyleView",
      "bar_color": null,
      "description_width": "initial"
     }
    },
    "b2859297efca41f0b72edfe2c90f0fe0": {
     "model_module": "@jupyter-widgets/base",
     "model_name": "LayoutModel",
     "state": {
      "_model_module": "@jupyter-widgets/base",
      "_model_module_version": "1.2.0",
      "_model_name": "LayoutModel",
      "_view_count": null,
      "_view_module": "@jupyter-widgets/base",
      "_view_module_version": "1.2.0",
      "_view_name": "LayoutView",
      "align_content": null,
      "align_items": null,
      "align_self": null,
      "border": null,
      "bottom": null,
      "display": null,
      "flex": null,
      "flex_flow": null,
      "grid_area": null,
      "grid_auto_columns": null,
      "grid_auto_flow": null,
      "grid_auto_rows": null,
      "grid_column": null,
      "grid_gap": null,
      "grid_row": null,
      "grid_template_areas": null,
      "grid_template_columns": null,
      "grid_template_rows": null,
      "height": null,
      "justify_content": null,
      "justify_items": null,
      "left": null,
      "margin": null,
      "max_height": null,
      "max_width": null,
      "min_height": null,
      "min_width": null,
      "object_fit": null,
      "object_position": null,
      "order": null,
      "overflow": null,
      "overflow_x": null,
      "overflow_y": null,
      "padding": null,
      "right": null,
      "top": null,
      "visibility": null,
      "width": null
     }
    },
    "b386da15ee8149a4b0a49968de6191cf": {
     "model_module": "@jupyter-widgets/base",
     "model_name": "LayoutModel",
     "state": {
      "_model_module": "@jupyter-widgets/base",
      "_model_module_version": "1.2.0",
      "_model_name": "LayoutModel",
      "_view_count": null,
      "_view_module": "@jupyter-widgets/base",
      "_view_module_version": "1.2.0",
      "_view_name": "LayoutView",
      "align_content": null,
      "align_items": null,
      "align_self": null,
      "border": null,
      "bottom": null,
      "display": null,
      "flex": null,
      "flex_flow": null,
      "grid_area": null,
      "grid_auto_columns": null,
      "grid_auto_flow": null,
      "grid_auto_rows": null,
      "grid_column": null,
      "grid_gap": null,
      "grid_row": null,
      "grid_template_areas": null,
      "grid_template_columns": null,
      "grid_template_rows": null,
      "height": null,
      "justify_content": null,
      "justify_items": null,
      "left": null,
      "margin": null,
      "max_height": null,
      "max_width": null,
      "min_height": null,
      "min_width": null,
      "object_fit": null,
      "object_position": null,
      "order": null,
      "overflow": null,
      "overflow_x": null,
      "overflow_y": null,
      "padding": null,
      "right": null,
      "top": null,
      "visibility": null,
      "width": null
     }
    },
    "b541ee59e2c34bd18495918055dba841": {
     "model_module": "@jupyter-widgets/base",
     "model_name": "LayoutModel",
     "state": {
      "_model_module": "@jupyter-widgets/base",
      "_model_module_version": "1.2.0",
      "_model_name": "LayoutModel",
      "_view_count": null,
      "_view_module": "@jupyter-widgets/base",
      "_view_module_version": "1.2.0",
      "_view_name": "LayoutView",
      "align_content": null,
      "align_items": null,
      "align_self": null,
      "border": null,
      "bottom": null,
      "display": null,
      "flex": null,
      "flex_flow": null,
      "grid_area": null,
      "grid_auto_columns": null,
      "grid_auto_flow": null,
      "grid_auto_rows": null,
      "grid_column": null,
      "grid_gap": null,
      "grid_row": null,
      "grid_template_areas": null,
      "grid_template_columns": null,
      "grid_template_rows": null,
      "height": null,
      "justify_content": null,
      "justify_items": null,
      "left": null,
      "margin": null,
      "max_height": null,
      "max_width": null,
      "min_height": null,
      "min_width": null,
      "object_fit": null,
      "object_position": null,
      "order": null,
      "overflow": null,
      "overflow_x": null,
      "overflow_y": null,
      "padding": null,
      "right": null,
      "top": null,
      "visibility": null,
      "width": null
     }
    },
    "bb5b13fc791048f6b5afafdd9dd563ce": {
     "model_module": "@jupyter-widgets/controls",
     "model_name": "HTMLModel",
     "state": {
      "_dom_classes": [],
      "_model_module": "@jupyter-widgets/controls",
      "_model_module_version": "1.5.0",
      "_model_name": "HTMLModel",
      "_view_count": null,
      "_view_module": "@jupyter-widgets/controls",
      "_view_module_version": "1.5.0",
      "_view_name": "HTMLView",
      "description": "",
      "description_tooltip": null,
      "layout": "IPY_MODEL_fe3da25ac5f64fb6bb96f6eb247c4cc8",
      "placeholder": "​",
      "style": "IPY_MODEL_2ba4bacd2c0f41189620c1485266be22",
      "value": " 1/1 [00:06&lt;00:00,  6.98s/it]"
     }
    },
    "c371b614a5514772a5ab12301f5bb53b": {
     "model_module": "@jupyter-widgets/controls",
     "model_name": "DescriptionStyleModel",
     "state": {
      "_model_module": "@jupyter-widgets/controls",
      "_model_module_version": "1.5.0",
      "_model_name": "DescriptionStyleModel",
      "_view_count": null,
      "_view_module": "@jupyter-widgets/base",
      "_view_module_version": "1.2.0",
      "_view_name": "StyleView",
      "description_width": ""
     }
    },
    "c38850ae27204c869e3308d8b0432d4c": {
     "model_module": "@jupyter-widgets/controls",
     "model_name": "HTMLModel",
     "state": {
      "_dom_classes": [],
      "_model_module": "@jupyter-widgets/controls",
      "_model_module_version": "1.5.0",
      "_model_name": "HTMLModel",
      "_view_count": null,
      "_view_module": "@jupyter-widgets/controls",
      "_view_module_version": "1.5.0",
      "_view_name": "HTMLView",
      "description": "",
      "description_tooltip": null,
      "layout": "IPY_MODEL_4ef1fb74fb3d49a682f7d5074e7f5c28",
      "placeholder": "​",
      "style": "IPY_MODEL_c371b614a5514772a5ab12301f5bb53b",
      "value": " 1/1 [01:48&lt;00:00, 108.65s/it]"
     }
    },
    "d2ce3abb85404e7daef962c97b1f80b1": {
     "model_module": "@jupyter-widgets/base",
     "model_name": "LayoutModel",
     "state": {
      "_model_module": "@jupyter-widgets/base",
      "_model_module_version": "1.2.0",
      "_model_name": "LayoutModel",
      "_view_count": null,
      "_view_module": "@jupyter-widgets/base",
      "_view_module_version": "1.2.0",
      "_view_name": "LayoutView",
      "align_content": null,
      "align_items": null,
      "align_self": null,
      "border": null,
      "bottom": null,
      "display": null,
      "flex": null,
      "flex_flow": null,
      "grid_area": null,
      "grid_auto_columns": null,
      "grid_auto_flow": null,
      "grid_auto_rows": null,
      "grid_column": null,
      "grid_gap": null,
      "grid_row": null,
      "grid_template_areas": null,
      "grid_template_columns": null,
      "grid_template_rows": null,
      "height": null,
      "justify_content": null,
      "justify_items": null,
      "left": null,
      "margin": null,
      "max_height": null,
      "max_width": null,
      "min_height": null,
      "min_width": null,
      "object_fit": null,
      "object_position": null,
      "order": null,
      "overflow": null,
      "overflow_x": null,
      "overflow_y": null,
      "padding": null,
      "right": null,
      "top": null,
      "visibility": null,
      "width": null
     }
    },
    "dad7248120084f2c947fb20a022cce24": {
     "model_module": "@jupyter-widgets/controls",
     "model_name": "HBoxModel",
     "state": {
      "_dom_classes": [],
      "_model_module": "@jupyter-widgets/controls",
      "_model_module_version": "1.5.0",
      "_model_name": "HBoxModel",
      "_view_count": null,
      "_view_module": "@jupyter-widgets/controls",
      "_view_module_version": "1.5.0",
      "_view_name": "HBoxView",
      "box_style": "",
      "children": [
       "IPY_MODEL_eaad8dbb74c5486ea0a2f99cd09fede9",
       "IPY_MODEL_c38850ae27204c869e3308d8b0432d4c"
      ],
      "layout": "IPY_MODEL_b541ee59e2c34bd18495918055dba841"
     }
    },
    "eaad8dbb74c5486ea0a2f99cd09fede9": {
     "model_module": "@jupyter-widgets/controls",
     "model_name": "FloatProgressModel",
     "state": {
      "_dom_classes": [],
      "_model_module": "@jupyter-widgets/controls",
      "_model_module_version": "1.5.0",
      "_model_name": "FloatProgressModel",
      "_view_count": null,
      "_view_module": "@jupyter-widgets/controls",
      "_view_module_version": "1.5.0",
      "_view_name": "ProgressView",
      "bar_style": "success",
      "description": "Batches: 100%",
      "description_tooltip": null,
      "layout": "IPY_MODEL_efd0bf8a581c4d91bfaa4eeff285192e",
      "max": 1,
      "min": 0,
      "orientation": "horizontal",
      "style": "IPY_MODEL_a169ccbdfdd443be9ccef5f5bfc9e603",
      "value": 1
     }
    },
    "ee75585905cb4fcaa14de07735973168": {
     "model_module": "@jupyter-widgets/base",
     "model_name": "LayoutModel",
     "state": {
      "_model_module": "@jupyter-widgets/base",
      "_model_module_version": "1.2.0",
      "_model_name": "LayoutModel",
      "_view_count": null,
      "_view_module": "@jupyter-widgets/base",
      "_view_module_version": "1.2.0",
      "_view_name": "LayoutView",
      "align_content": null,
      "align_items": null,
      "align_self": null,
      "border": null,
      "bottom": null,
      "display": null,
      "flex": null,
      "flex_flow": null,
      "grid_area": null,
      "grid_auto_columns": null,
      "grid_auto_flow": null,
      "grid_auto_rows": null,
      "grid_column": null,
      "grid_gap": null,
      "grid_row": null,
      "grid_template_areas": null,
      "grid_template_columns": null,
      "grid_template_rows": null,
      "height": null,
      "justify_content": null,
      "justify_items": null,
      "left": null,
      "margin": null,
      "max_height": null,
      "max_width": null,
      "min_height": null,
      "min_width": null,
      "object_fit": null,
      "object_position": null,
      "order": null,
      "overflow": null,
      "overflow_x": null,
      "overflow_y": null,
      "padding": null,
      "right": null,
      "top": null,
      "visibility": null,
      "width": null
     }
    },
    "efd0bf8a581c4d91bfaa4eeff285192e": {
     "model_module": "@jupyter-widgets/base",
     "model_name": "LayoutModel",
     "state": {
      "_model_module": "@jupyter-widgets/base",
      "_model_module_version": "1.2.0",
      "_model_name": "LayoutModel",
      "_view_count": null,
      "_view_module": "@jupyter-widgets/base",
      "_view_module_version": "1.2.0",
      "_view_name": "LayoutView",
      "align_content": null,
      "align_items": null,
      "align_self": null,
      "border": null,
      "bottom": null,
      "display": null,
      "flex": null,
      "flex_flow": null,
      "grid_area": null,
      "grid_auto_columns": null,
      "grid_auto_flow": null,
      "grid_auto_rows": null,
      "grid_column": null,
      "grid_gap": null,
      "grid_row": null,
      "grid_template_areas": null,
      "grid_template_columns": null,
      "grid_template_rows": null,
      "height": null,
      "justify_content": null,
      "justify_items": null,
      "left": null,
      "margin": null,
      "max_height": null,
      "max_width": null,
      "min_height": null,
      "min_width": null,
      "object_fit": null,
      "object_position": null,
      "order": null,
      "overflow": null,
      "overflow_x": null,
      "overflow_y": null,
      "padding": null,
      "right": null,
      "top": null,
      "visibility": null,
      "width": null
     }
    },
    "f568611162a94a76a82e1f38baff67ee": {
     "model_module": "@jupyter-widgets/base",
     "model_name": "LayoutModel",
     "state": {
      "_model_module": "@jupyter-widgets/base",
      "_model_module_version": "1.2.0",
      "_model_name": "LayoutModel",
      "_view_count": null,
      "_view_module": "@jupyter-widgets/base",
      "_view_module_version": "1.2.0",
      "_view_name": "LayoutView",
      "align_content": null,
      "align_items": null,
      "align_self": null,
      "border": null,
      "bottom": null,
      "display": null,
      "flex": null,
      "flex_flow": null,
      "grid_area": null,
      "grid_auto_columns": null,
      "grid_auto_flow": null,
      "grid_auto_rows": null,
      "grid_column": null,
      "grid_gap": null,
      "grid_row": null,
      "grid_template_areas": null,
      "grid_template_columns": null,
      "grid_template_rows": null,
      "height": null,
      "justify_content": null,
      "justify_items": null,
      "left": null,
      "margin": null,
      "max_height": null,
      "max_width": null,
      "min_height": null,
      "min_width": null,
      "object_fit": null,
      "object_position": null,
      "order": null,
      "overflow": null,
      "overflow_x": null,
      "overflow_y": null,
      "padding": null,
      "right": null,
      "top": null,
      "visibility": null,
      "width": null
     }
    },
    "f5ff05507d75481e9bdbdb1509fee56d": {
     "model_module": "@jupyter-widgets/controls",
     "model_name": "HBoxModel",
     "state": {
      "_dom_classes": [],
      "_model_module": "@jupyter-widgets/controls",
      "_model_module_version": "1.5.0",
      "_model_name": "HBoxModel",
      "_view_count": null,
      "_view_module": "@jupyter-widgets/controls",
      "_view_module_version": "1.5.0",
      "_view_name": "HBoxView",
      "box_style": "",
      "children": [
       "IPY_MODEL_934f3d8d3d3a46269c1ca5e959684541",
       "IPY_MODEL_7acbb1ae83f945c294c1a6b3756372ec"
      ],
      "layout": "IPY_MODEL_6d0a0b86c64547c98d70b8953585dbcd"
     }
    },
    "f6a17d185bce4d598be962ed078226b9": {
     "model_module": "@jupyter-widgets/controls",
     "model_name": "HBoxModel",
     "state": {
      "_dom_classes": [],
      "_model_module": "@jupyter-widgets/controls",
      "_model_module_version": "1.5.0",
      "_model_name": "HBoxModel",
      "_view_count": null,
      "_view_module": "@jupyter-widgets/controls",
      "_view_module_version": "1.5.0",
      "_view_name": "HBoxView",
      "box_style": "",
      "children": [
       "IPY_MODEL_3f15d200580e487c83f4e4a3455309fd",
       "IPY_MODEL_bb5b13fc791048f6b5afafdd9dd563ce"
      ],
      "layout": "IPY_MODEL_b2859297efca41f0b72edfe2c90f0fe0"
     }
    },
    "fe3da25ac5f64fb6bb96f6eb247c4cc8": {
     "model_module": "@jupyter-widgets/base",
     "model_name": "LayoutModel",
     "state": {
      "_model_module": "@jupyter-widgets/base",
      "_model_module_version": "1.2.0",
      "_model_name": "LayoutModel",
      "_view_count": null,
      "_view_module": "@jupyter-widgets/base",
      "_view_module_version": "1.2.0",
      "_view_name": "LayoutView",
      "align_content": null,
      "align_items": null,
      "align_self": null,
      "border": null,
      "bottom": null,
      "display": null,
      "flex": null,
      "flex_flow": null,
      "grid_area": null,
      "grid_auto_columns": null,
      "grid_auto_flow": null,
      "grid_auto_rows": null,
      "grid_column": null,
      "grid_gap": null,
      "grid_row": null,
      "grid_template_areas": null,
      "grid_template_columns": null,
      "grid_template_rows": null,
      "height": null,
      "justify_content": null,
      "justify_items": null,
      "left": null,
      "margin": null,
      "max_height": null,
      "max_width": null,
      "min_height": null,
      "min_width": null,
      "object_fit": null,
      "object_position": null,
      "order": null,
      "overflow": null,
      "overflow_x": null,
      "overflow_y": null,
      "padding": null,
      "right": null,
      "top": null,
      "visibility": null,
      "width": null
     }
    }
   }
  }
 },
 "nbformat": 4,
 "nbformat_minor": 1
}
